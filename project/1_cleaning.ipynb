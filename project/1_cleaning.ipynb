{
 "cells": [
  {
   "attachments": {},
   "cell_type": "markdown",
   "metadata": {},
   "source": [
    "# **General Objectives**\n",
    "\n",
    "---"
   ]
  },
  {
   "attachments": {},
   "cell_type": "markdown",
   "metadata": {},
   "source": [
    "The general objective of this project is to analyze data from a [Kaggle Dataset](https://www.kaggle.com/datasets/arsalanrehman/movies-dataset-from-piracy-website) that has been gathered from a pirated website that has a user base of around 2M visitors per month. This data contains more than 20,000+ movies from all industries such as Hollywood, Bollywood, Anime, etc. \n",
    "\n",
    "The goal is to describe the data the best as possible, utilizing data science methods, statistical aproaches to the data and the creation of a very detailed report.\n",
    "\n",
    "As this project will be large, to avoid a single notebook with 10K+ lines of code and markdown cells and a very busy, \"filled to the brim with information\" notebook, we will work in four diferent jupyter notebook reports, each one holding a step in our EDA.\n",
    "\n",
    "The steps for the creation of the reports are as follows:\n",
    "\n",
    "**Notebook 1:**\n",
    "- Collect and Understanding of the Data.\n",
    "\n",
    "- Data Prep and Transformation.\n",
    "\n",
    "**Notebook 2:**\n",
    "- Univariate Analysis.\n",
    "\n",
    "**Notebook 3:**\n",
    "- Multivariate Analysis.\n",
    "\n",
    "**Notebook 4:**\n",
    "- Questions, Insights and Answers."
   ]
  },
  {
   "attachments": {},
   "cell_type": "markdown",
   "metadata": {},
   "source": [
    "# **Importing Packages and Collecting the Dataset**\n",
    "\n",
    "---"
   ]
  },
  {
   "cell_type": "code",
   "execution_count": 78,
   "metadata": {},
   "outputs": [
    {
     "name": "stdout",
     "output_type": "stream",
     "text": [
      "Packages collected!\n"
     ]
    }
   ],
   "source": [
    "# Importing libraries needed for the first step of the analysis:\n",
    "import pandas as pd\n",
    "import numpy as np\n",
    "import warnings\n",
    "import re\n",
    "\n",
    "# Filtering out warnings:\n",
    "warnings.filterwarnings('ignore')\n",
    "\n",
    "# Setting pandas dataframe visualization parameters:\n",
    "pd.set_option('display.max_columns', 100)\n",
    "\n",
    "print('Packages collected!')"
   ]
  },
  {
   "cell_type": "code",
   "execution_count": 79,
   "metadata": {},
   "outputs": [],
   "source": [
    "# Creating the Dataframe with original data:\n",
    "data = pd.read_csv('data/movies_dataset.csv', sep=',')"
   ]
  },
  {
   "attachments": {},
   "cell_type": "markdown",
   "metadata": {},
   "source": [
    "- First rows:"
   ]
  },
  {
   "cell_type": "code",
   "execution_count": 80,
   "metadata": {},
   "outputs": [
    {
     "data": {
      "text/html": [
       "<div>\n",
       "<style scoped>\n",
       "    .dataframe tbody tr th:only-of-type {\n",
       "        vertical-align: middle;\n",
       "    }\n",
       "\n",
       "    .dataframe tbody tr th {\n",
       "        vertical-align: top;\n",
       "    }\n",
       "\n",
       "    .dataframe thead th {\n",
       "        text-align: right;\n",
       "    }\n",
       "</style>\n",
       "<table border=\"1\" class=\"dataframe\">\n",
       "  <thead>\n",
       "    <tr style=\"text-align: right;\">\n",
       "      <th></th>\n",
       "      <th>Unnamed: 0</th>\n",
       "      <th>IMDb-rating</th>\n",
       "      <th>appropriate_for</th>\n",
       "      <th>director</th>\n",
       "      <th>downloads</th>\n",
       "      <th>id</th>\n",
       "      <th>industry</th>\n",
       "      <th>language</th>\n",
       "      <th>posted_date</th>\n",
       "      <th>release_date</th>\n",
       "      <th>run_time</th>\n",
       "      <th>storyline</th>\n",
       "      <th>title</th>\n",
       "      <th>views</th>\n",
       "      <th>writer</th>\n",
       "    </tr>\n",
       "  </thead>\n",
       "  <tbody>\n",
       "    <tr>\n",
       "      <th>0</th>\n",
       "      <td>0</td>\n",
       "      <td>4.8</td>\n",
       "      <td>R</td>\n",
       "      <td>John Swab</td>\n",
       "      <td>304</td>\n",
       "      <td>372092</td>\n",
       "      <td>Hollywood / English</td>\n",
       "      <td>English</td>\n",
       "      <td>20 Feb, 2023</td>\n",
       "      <td>Jan 28 2023</td>\n",
       "      <td>105</td>\n",
       "      <td>Doc\\r\\n facilitates a fragile truce between th...</td>\n",
       "      <td>Little Dixie</td>\n",
       "      <td>2,794</td>\n",
       "      <td>John Swab</td>\n",
       "    </tr>\n",
       "    <tr>\n",
       "      <th>1</th>\n",
       "      <td>1</td>\n",
       "      <td>6.4</td>\n",
       "      <td>TV-PG</td>\n",
       "      <td>Paul Ziller</td>\n",
       "      <td>73</td>\n",
       "      <td>372091</td>\n",
       "      <td>Hollywood / English</td>\n",
       "      <td>English</td>\n",
       "      <td>20 Feb, 2023</td>\n",
       "      <td>Feb 05 2023</td>\n",
       "      <td>84</td>\n",
       "      <td>Caterer\\r\\n Goldy Berry reunites with detectiv...</td>\n",
       "      <td>Grilling Season: A Curious Caterer Mystery</td>\n",
       "      <td>1,002</td>\n",
       "      <td>John Christian Plummer</td>\n",
       "    </tr>\n",
       "    <tr>\n",
       "      <th>2</th>\n",
       "      <td>2</td>\n",
       "      <td>5.2</td>\n",
       "      <td>R</td>\n",
       "      <td>Ben Wheatley</td>\n",
       "      <td>1,427</td>\n",
       "      <td>343381</td>\n",
       "      <td>Hollywood / English</td>\n",
       "      <td>English,Hindi</td>\n",
       "      <td>20 Apr, 2021</td>\n",
       "      <td>Jun 18 2021</td>\n",
       "      <td>1h 47min</td>\n",
       "      <td>As the world searches for a cure to a disastro...</td>\n",
       "      <td>In the Earth</td>\n",
       "      <td>14,419</td>\n",
       "      <td>Ben Wheatley</td>\n",
       "    </tr>\n",
       "    <tr>\n",
       "      <th>3</th>\n",
       "      <td>3</td>\n",
       "      <td>8.1</td>\n",
       "      <td>NaN</td>\n",
       "      <td>Venky Atluri</td>\n",
       "      <td>1,549</td>\n",
       "      <td>372090</td>\n",
       "      <td>Tollywood</td>\n",
       "      <td>Hindi</td>\n",
       "      <td>20 Feb, 2023</td>\n",
       "      <td>Feb 17 2023</td>\n",
       "      <td>139</td>\n",
       "      <td>The life of a young man and his struggles agai...</td>\n",
       "      <td>Vaathi</td>\n",
       "      <td>4,878</td>\n",
       "      <td>Venky Atluri</td>\n",
       "    </tr>\n",
       "    <tr>\n",
       "      <th>4</th>\n",
       "      <td>4</td>\n",
       "      <td>4.6</td>\n",
       "      <td>NaN</td>\n",
       "      <td>Shaji Kailas</td>\n",
       "      <td>657</td>\n",
       "      <td>372089</td>\n",
       "      <td>Tollywood</td>\n",
       "      <td>Hindi</td>\n",
       "      <td>20 Feb, 2023</td>\n",
       "      <td>Jan 26 2023</td>\n",
       "      <td>122</td>\n",
       "      <td>A man named Kalidas gets stranded due to the p...</td>\n",
       "      <td>Alone</td>\n",
       "      <td>2,438</td>\n",
       "      <td>Rajesh Jayaraman</td>\n",
       "    </tr>\n",
       "  </tbody>\n",
       "</table>\n",
       "</div>"
      ],
      "text/plain": [
       "   Unnamed: 0  IMDb-rating appropriate_for      director downloads      id  \\\n",
       "0           0          4.8               R     John Swab       304  372092   \n",
       "1           1          6.4           TV-PG   Paul Ziller        73  372091   \n",
       "2           2          5.2               R  Ben Wheatley     1,427  343381   \n",
       "3           3          8.1             NaN  Venky Atluri     1,549  372090   \n",
       "4           4          4.6             NaN  Shaji Kailas       657  372089   \n",
       "\n",
       "              industry       language   posted_date release_date  run_time  \\\n",
       "0  Hollywood / English        English  20 Feb, 2023  Jan 28 2023       105   \n",
       "1  Hollywood / English        English  20 Feb, 2023  Feb 05 2023        84   \n",
       "2  Hollywood / English  English,Hindi  20 Apr, 2021  Jun 18 2021  1h 47min   \n",
       "3            Tollywood          Hindi  20 Feb, 2023  Feb 17 2023       139   \n",
       "4            Tollywood          Hindi  20 Feb, 2023  Jan 26 2023       122   \n",
       "\n",
       "                                           storyline  \\\n",
       "0  Doc\\r\\n facilitates a fragile truce between th...   \n",
       "1  Caterer\\r\\n Goldy Berry reunites with detectiv...   \n",
       "2  As the world searches for a cure to a disastro...   \n",
       "3  The life of a young man and his struggles agai...   \n",
       "4  A man named Kalidas gets stranded due to the p...   \n",
       "\n",
       "                                        title   views                  writer  \n",
       "0                                Little Dixie   2,794               John Swab  \n",
       "1  Grilling Season: A Curious Caterer Mystery   1,002  John Christian Plummer  \n",
       "2                                In the Earth  14,419            Ben Wheatley  \n",
       "3                                      Vaathi   4,878            Venky Atluri  \n",
       "4                                       Alone   2,438        Rajesh Jayaraman  "
      ]
     },
     "execution_count": 80,
     "metadata": {},
     "output_type": "execute_result"
    }
   ],
   "source": [
    "data.head()"
   ]
  },
  {
   "attachments": {},
   "cell_type": "markdown",
   "metadata": {},
   "source": [
    "- Sample rows:"
   ]
  },
  {
   "cell_type": "code",
   "execution_count": 81,
   "metadata": {},
   "outputs": [
    {
     "data": {
      "text/html": [
       "<div>\n",
       "<style scoped>\n",
       "    .dataframe tbody tr th:only-of-type {\n",
       "        vertical-align: middle;\n",
       "    }\n",
       "\n",
       "    .dataframe tbody tr th {\n",
       "        vertical-align: top;\n",
       "    }\n",
       "\n",
       "    .dataframe thead th {\n",
       "        text-align: right;\n",
       "    }\n",
       "</style>\n",
       "<table border=\"1\" class=\"dataframe\">\n",
       "  <thead>\n",
       "    <tr style=\"text-align: right;\">\n",
       "      <th></th>\n",
       "      <th>Unnamed: 0</th>\n",
       "      <th>IMDb-rating</th>\n",
       "      <th>appropriate_for</th>\n",
       "      <th>director</th>\n",
       "      <th>downloads</th>\n",
       "      <th>id</th>\n",
       "      <th>industry</th>\n",
       "      <th>language</th>\n",
       "      <th>posted_date</th>\n",
       "      <th>release_date</th>\n",
       "      <th>run_time</th>\n",
       "      <th>storyline</th>\n",
       "      <th>title</th>\n",
       "      <th>views</th>\n",
       "      <th>writer</th>\n",
       "    </tr>\n",
       "  </thead>\n",
       "  <tbody>\n",
       "    <tr>\n",
       "      <th>4986</th>\n",
       "      <td>4986</td>\n",
       "      <td>5.1</td>\n",
       "      <td>NaN</td>\n",
       "      <td>NaN</td>\n",
       "      <td>901</td>\n",
       "      <td>331119</td>\n",
       "      <td>Anime / Kids</td>\n",
       "      <td>French</td>\n",
       "      <td>18 Jul, 2020</td>\n",
       "      <td>Feb 05 2020</td>\n",
       "      <td>1h 17min</td>\n",
       "      <td>SamSam appears to have it all: his own flying ...</td>\n",
       "      <td>SamSam</td>\n",
       "      <td>7,386</td>\n",
       "      <td>NaN</td>\n",
       "    </tr>\n",
       "    <tr>\n",
       "      <th>9457</th>\n",
       "      <td>9457</td>\n",
       "      <td>7.1</td>\n",
       "      <td>R</td>\n",
       "      <td>Elegance Bratton</td>\n",
       "      <td>468</td>\n",
       "      <td>371991</td>\n",
       "      <td>Hollywood / English</td>\n",
       "      <td>English</td>\n",
       "      <td>17 Feb, 2023</td>\n",
       "      <td>Dec 02 2022</td>\n",
       "      <td>95</td>\n",
       "      <td>A\\r\\n young, gay Black man, rejected by his mo...</td>\n",
       "      <td>The Inspection</td>\n",
       "      <td>5,828</td>\n",
       "      <td>Elegance Bratton</td>\n",
       "    </tr>\n",
       "    <tr>\n",
       "      <th>9855</th>\n",
       "      <td>9855</td>\n",
       "      <td>8.8</td>\n",
       "      <td>NaN</td>\n",
       "      <td>Xavier Manrique</td>\n",
       "      <td>75</td>\n",
       "      <td>371744</td>\n",
       "      <td>Hollywood / English</td>\n",
       "      <td>English</td>\n",
       "      <td>13 Feb, 2023</td>\n",
       "      <td>Feb 03 2023</td>\n",
       "      <td>101</td>\n",
       "      <td>Follows\\r\\n a New York City family hiding out ...</td>\n",
       "      <td>Who Invited Charlie?</td>\n",
       "      <td>1,905</td>\n",
       "      <td>Nicholas Schutt</td>\n",
       "    </tr>\n",
       "    <tr>\n",
       "      <th>5603</th>\n",
       "      <td>5603</td>\n",
       "      <td>5.5</td>\n",
       "      <td>PG</td>\n",
       "      <td>Lasse Hallström, Joe Johnston</td>\n",
       "      <td>21,899</td>\n",
       "      <td>281292</td>\n",
       "      <td>Hollywood / English</td>\n",
       "      <td>English,French</td>\n",
       "      <td>03 Nov, 2018</td>\n",
       "      <td>Nov 02 2018</td>\n",
       "      <td>99</td>\n",
       "      <td>A young girl is transported into a magical wor...</td>\n",
       "      <td>The Nutcracker and the Four Realms</td>\n",
       "      <td>91,660</td>\n",
       "      <td>Ashleigh Powell, E.T.A. Hoffmann, Marius Petipa</td>\n",
       "    </tr>\n",
       "    <tr>\n",
       "      <th>12903</th>\n",
       "      <td>12903</td>\n",
       "      <td>5.1</td>\n",
       "      <td>NaN</td>\n",
       "      <td>Nick Willing</td>\n",
       "      <td>5,058</td>\n",
       "      <td>121188</td>\n",
       "      <td>Hollywood / English</td>\n",
       "      <td>English</td>\n",
       "      <td>19 Feb, 2015</td>\n",
       "      <td>Dec 27 2014</td>\n",
       "      <td>89 min</td>\n",
       "      <td>The Hamilton family move into a large country ...</td>\n",
       "      <td>Altar</td>\n",
       "      <td>19,640</td>\n",
       "      <td>Nick Willing</td>\n",
       "    </tr>\n",
       "  </tbody>\n",
       "</table>\n",
       "</div>"
      ],
      "text/plain": [
       "       Unnamed: 0  IMDb-rating appropriate_for                       director  \\\n",
       "4986         4986          5.1             NaN                            NaN   \n",
       "9457         9457          7.1               R               Elegance Bratton   \n",
       "9855         9855          8.8             NaN                Xavier Manrique   \n",
       "5603         5603          5.5              PG  Lasse Hallström, Joe Johnston   \n",
       "12903       12903          5.1             NaN                   Nick Willing   \n",
       "\n",
       "      downloads      id             industry        language   posted_date  \\\n",
       "4986        901  331119         Anime / Kids          French  18 Jul, 2020   \n",
       "9457        468  371991  Hollywood / English         English  17 Feb, 2023   \n",
       "9855         75  371744  Hollywood / English         English  13 Feb, 2023   \n",
       "5603     21,899  281292  Hollywood / English  English,French  03 Nov, 2018   \n",
       "12903     5,058  121188  Hollywood / English         English  19 Feb, 2015   \n",
       "\n",
       "      release_date  run_time  \\\n",
       "4986   Feb 05 2020  1h 17min   \n",
       "9457   Dec 02 2022        95   \n",
       "9855   Feb 03 2023       101   \n",
       "5603   Nov 02 2018        99   \n",
       "12903  Dec 27 2014    89 min   \n",
       "\n",
       "                                               storyline  \\\n",
       "4986   SamSam appears to have it all: his own flying ...   \n",
       "9457   A\\r\\n young, gay Black man, rejected by his mo...   \n",
       "9855   Follows\\r\\n a New York City family hiding out ...   \n",
       "5603   A young girl is transported into a magical wor...   \n",
       "12903  The Hamilton family move into a large country ...   \n",
       "\n",
       "                                    title   views  \\\n",
       "4986                               SamSam   7,386   \n",
       "9457                       The Inspection   5,828   \n",
       "9855                 Who Invited Charlie?   1,905   \n",
       "5603   The Nutcracker and the Four Realms  91,660   \n",
       "12903                               Altar  19,640   \n",
       "\n",
       "                                                writer  \n",
       "4986                                               NaN  \n",
       "9457                                  Elegance Bratton  \n",
       "9855                                   Nicholas Schutt  \n",
       "5603   Ashleigh Powell, E.T.A. Hoffmann, Marius Petipa  \n",
       "12903                                     Nick Willing  "
      ]
     },
     "execution_count": 81,
     "metadata": {},
     "output_type": "execute_result"
    }
   ],
   "source": [
    "data.sample(5)"
   ]
  },
  {
   "attachments": {},
   "cell_type": "markdown",
   "metadata": {},
   "source": [
    "# **Understanding the Dataset**\n",
    "\n",
    "---"
   ]
  },
  {
   "attachments": {},
   "cell_type": "markdown",
   "metadata": {},
   "source": [
    "Before we can start describing and analyzing the Data, it's important to comprehend what variables are present in the Dataset and the values they hold. For that, we will use a simple markdown table explaining the contents of the Dataset:\n",
    "\n",
    "**Table 1.1: Variable Dictionary and Analysis**\n",
    "\n",
    "| Variable Name             | Variable Contents                 | Variable Importance for Analysis             | Comments About Variable                                                                        |\n",
    "|---------------------------|-----------------------------------|----------------------------------------------|------------------------------------------------------------------------------------------------|\n",
    "| **`Unnamed:0`**           | Row id native to the Dataset      | 🔴 Irrelevant                                 | Not needed since Pandas Dataframes already comes with a Id column                              |\n",
    "| **`IMDB-rating`**         | Rating of the movie on IMDB       | 🟢 High                                       | None                                                                                           |\n",
    "| **`appropriate_for`**     | Movie classification rating       | 🟡 Medium                                     | Interesting possibilities for analysis. Be careful with the amount of different rating systems |\n",
    "| **`director`**            | Name of movie director            | 🟡 Medium                                     | None                                                                                           |\n",
    "| **`dowloads`**            | Number of dowloads per movie      | 🟢 High                                       | None                                                                                           |\n",
    "| **`id`**                  | Unique Id per movie               | 🔴 Irrelevant                                 | Same motive as the first variable                                                              |\n",
    "| **`industry`**            | Industry that produced the movie  | 🟢 High                                       | None                                                                                           |\n",
    "| **`language`**            | Available languages for the movie | 🟠 Low                                         | Not much important for the analysis as a hole, but not totally irrelevant                      |\n",
    "| **`posted_date`**         | When the movie was posted on the platform | 🟢 High                                | Very important metric for the analysis                                                         |\n",
    "| **`released_date`**       | When the movie was released worldwide | 🟢 High                                    | In conjunction with the variable above, opens up lots of analytical possibilities             |\n",
    "| **`run_time`**            | Runtime of the movie (minutes)    | 🟡 Medium                                      | None                                                                                           |\n",
    "| **`storyline`**           | Movie synopsis                    | 🔴 Irrelevant                                  | For the pourposes of this analysis, the movie storyline is not needed                          |\n",
    "| **`title`**               | Movie title                       | 🟢 High                                      | Without a name, there is no movie!                                                             |\n",
    "| **`views`**               | Number of clicks per movie        | 🟢 High                                          | Very important metric alongside with downloads                                                  |\n",
    "| **`writer`**              | List of all the movie writers     | 🟠 Low                                          | None                                                                                           |\n"
   ]
  },
  {
   "attachments": {},
   "cell_type": "markdown",
   "metadata": {},
   "source": [
    "With this table, we can identify the important and the not so important variables of the Dataset, but before we can trasnform or delete this data, we will keep it to still analyse and describe it. For that, we weill begin by checking the Dataset dimensons with the **`.shape`** method:"
   ]
  },
  {
   "cell_type": "code",
   "execution_count": 82,
   "metadata": {},
   "outputs": [
    {
     "name": "stdout",
     "output_type": "stream",
     "text": [
      "Total Variables: 15\n",
      "Total Rows: 20548\n"
     ]
    }
   ],
   "source": [
    "# Checking dataset dimensions:\n",
    "print(f'Total Variables: {data.shape[1]}\\nTotal Rows: {data.shape[0]}')"
   ]
  },
  {
   "attachments": {},
   "cell_type": "markdown",
   "metadata": {},
   "source": [
    "We can see that this is a rather large Dataset, containing more than 20k registry entries. Now, lets use the **`.info()`** method to gather more detailed information about these variables:"
   ]
  },
  {
   "cell_type": "code",
   "execution_count": 83,
   "metadata": {},
   "outputs": [
    {
     "name": "stdout",
     "output_type": "stream",
     "text": [
      "<class 'pandas.core.frame.DataFrame'>\n",
      "RangeIndex: 20548 entries, 0 to 20547\n",
      "Data columns (total 15 columns):\n",
      " #   Column           Non-Null Count  Dtype  \n",
      "---  ------           --------------  -----  \n",
      " 0   Unnamed: 0       20548 non-null  int64  \n",
      " 1   IMDb-rating      19707 non-null  float64\n",
      " 2   appropriate_for  11072 non-null  object \n",
      " 3   director         18610 non-null  object \n",
      " 4   downloads        20547 non-null  object \n",
      " 5   id               20548 non-null  int64  \n",
      " 6   industry         20547 non-null  object \n",
      " 7   language         20006 non-null  object \n",
      " 8   posted_date      20547 non-null  object \n",
      " 9   release_date     20547 non-null  object \n",
      " 10  run_time         18780 non-null  object \n",
      " 11  storyline        18847 non-null  object \n",
      " 12  title            20547 non-null  object \n",
      " 13  views            20547 non-null  object \n",
      " 14  writer           18356 non-null  object \n",
      "dtypes: float64(1), int64(2), object(12)\n",
      "memory usage: 2.4+ MB\n"
     ]
    }
   ],
   "source": [
    "# Cheking general information about the Dataset:\n",
    "data.info()"
   ]
  },
  {
   "attachments": {},
   "cell_type": "markdown",
   "metadata": {},
   "source": [
    "Now we have a lot more information about the specific variables of the Dataset:\n",
    "\n",
    "**Null Values**\n",
    "\n",
    "- We have null values in all columns except the **`id`** variable.\n",
    "\n",
    "**Data Types**\n",
    "\n",
    "- In the Dataset, we have one **`float64`** variable, two **`int64`** variables and twelve **`object`** variables.\n",
    "\n",
    "**Memory Usage**\n",
    "\n",
    "- The Dataset, in it`s current form, consumes over 2.4 MB of memory.\n",
    "\n",
    "**Proposed Changes**\n",
    "\n",
    "- Make an acessement and deal with the null values;\n",
    "\n",
    "- Change most of the Data Types to boost the memory efficiency. Also this is the most important change in this case because most of the variables are not in a apropriate data format, i.e. **`posted_date`** being a object data type instead of datetime and **`runtime`** being a object type instead of float or int.\n",
    "\n",
    "Now, let`s check the exact amout of null values in each column, as well as the percentage that it represents:"
   ]
  },
  {
   "cell_type": "code",
   "execution_count": 84,
   "metadata": {},
   "outputs": [
    {
     "data": {
      "text/plain": [
       "appropriate_for    9476\n",
       "writer             2192\n",
       "director           1938\n",
       "run_time           1768\n",
       "storyline          1701\n",
       "IMDb-rating         841\n",
       "language            542\n",
       "downloads             1\n",
       "industry              1\n",
       "posted_date           1\n",
       "release_date          1\n",
       "title                 1\n",
       "views                 1\n",
       "Unnamed: 0            0\n",
       "id                    0\n",
       "dtype: int64"
      ]
     },
     "execution_count": 84,
     "metadata": {},
     "output_type": "execute_result"
    }
   ],
   "source": [
    "# Checking total null values:\n",
    "null_count = (data\n",
    "              .isna()\n",
    "              .sum()\n",
    "              .sort_values(ascending=False))\n",
    "\n",
    "null_count"
   ]
  },
  {
   "cell_type": "code",
   "execution_count": 85,
   "metadata": {},
   "outputs": [
    {
     "data": {
      "text/plain": [
       "appropriate_for    46.1164\n",
       "writer             10.6677\n",
       "director            9.4316\n",
       "run_time            8.6042\n",
       "storyline           8.2782\n",
       "IMDb-rating         4.0929\n",
       "language            2.6377\n",
       "downloads           0.0049\n",
       "industry            0.0049\n",
       "posted_date         0.0049\n",
       "release_date        0.0049\n",
       "title               0.0049\n",
       "views               0.0049\n",
       "Unnamed: 0          0.0000\n",
       "id                  0.0000\n",
       "dtype: float64"
      ]
     },
     "execution_count": 85,
     "metadata": {},
     "output_type": "execute_result"
    }
   ],
   "source": [
    "# Check percentage of total size:\n",
    "null_percentage = round((data.isna().sum()/data.shape[0]) * 100, 4)\n",
    "\n",
    "null_percentage.sort_values(ascending=False)"
   ]
  },
  {
   "attachments": {},
   "cell_type": "markdown",
   "metadata": {},
   "source": [
    "immediately we can see that the variable **`appropriate_for`** is basically useless for the analysis. With 9.476 missing values representing more than 46% of the total data size, this variable is too empty to be filled in using different methods. For that reason, it will be dropped in the cleaning step.\n",
    "\n",
    "The **`writer`** column also has a good amout of missing values, 2.192 nulls representing more than 10.5% of the total data size. As this variable was already deemed as having a low priority in Table 1.1 previously made, it will also be dropped in the cleaning phase.\n",
    "\n",
    "The same cannot be said about the **`director`** variable, as altough it also has almost the same amount of null values as the **`writer`** column, it has a substancial potencial for analysis, being labeled as High priority in Table 1.1.\n",
    "\n",
    "The **`runtime`** and **`storyline`** variables both have a similar amout of missing values (around 8.5% of the total data). The first of them can and will be filled in using the **`mode()`** of the variable (as this metric is not much affected by the presence of outliers and should maintain the data consistency), the second variable is going to be dropped as stated in Table 1.1.\n",
    "\n",
    "All other variables have little to none Null values and can be easily filled in or dropped (like the **`Unnamed: 0`** column).\n"
   ]
  },
  {
   "attachments": {},
   "cell_type": "markdown",
   "metadata": {},
   "source": [
    "# **Data Prep, Cleaning and Feature Engineering**\n",
    "\n",
    "---"
   ]
  },
  {
   "attachments": {},
   "cell_type": "markdown",
   "metadata": {},
   "source": [
    "Here we will make all of the changes that are needed in the dataset, all of them being described in the section above. For a detailed view of what exactly we will be doing here:\n",
    "\n",
    "- Drop useless or undesirable variables;\n",
    "\n",
    "- Rename the variables if necessary;\n",
    "\n",
    "- Handle missing (null) values;\n",
    "\n",
    "- Change data types;\n",
    "\n",
    "- Handle duplicates, and\n",
    "\n",
    "- Adding new features to the dataset (feature engineering).\n",
    "\n",
    "Let's begin with the dropping of useless variables."
   ]
  },
  {
   "attachments": {},
   "cell_type": "markdown",
   "metadata": {},
   "source": [
    "## **_Dropping Variables_**"
   ]
  },
  {
   "attachments": {},
   "cell_type": "markdown",
   "metadata": {},
   "source": [
    "As indicated by Table 1.1 and our subsequent analysis of null values, we have some variables that will be dropped and some that can be filled to use in the analysis. The following are the variables that will be deleted from the dataset:\n",
    "\n",
    "**Variables to Drop**\n",
    "\n",
    "- **`Unnamed: 0`**\n",
    "\n",
    "- **`id`**\n",
    "\n",
    "- **`storyline`**\n",
    "\n",
    "- **`writer`**\n",
    "\n",
    "- **`appropriate_for`**\n",
    "\n",
    "For the manipulation of the dataset, we will create a copy of the Dataframe:"
   ]
  },
  {
   "cell_type": "code",
   "execution_count": 86,
   "metadata": {},
   "outputs": [],
   "source": [
    "# Creating manipulation copy:\n",
    "pirated_films = data.copy()"
   ]
  },
  {
   "attachments": {},
   "cell_type": "markdown",
   "metadata": {},
   "source": [
    "Now, we can drop the undesirable variables:"
   ]
  },
  {
   "cell_type": "code",
   "execution_count": 87,
   "metadata": {},
   "outputs": [],
   "source": [
    "# Dropping variables:\n",
    "pirated_films = (pirated_films\n",
    "                 .drop(['Unnamed: 0', 'id', 'storyline', 'writer', 'appropriate_for'], \n",
    "                       axis=1))"
   ]
  },
  {
   "cell_type": "code",
   "execution_count": 88,
   "metadata": {},
   "outputs": [
    {
     "data": {
      "text/html": [
       "<div>\n",
       "<style scoped>\n",
       "    .dataframe tbody tr th:only-of-type {\n",
       "        vertical-align: middle;\n",
       "    }\n",
       "\n",
       "    .dataframe tbody tr th {\n",
       "        vertical-align: top;\n",
       "    }\n",
       "\n",
       "    .dataframe thead th {\n",
       "        text-align: right;\n",
       "    }\n",
       "</style>\n",
       "<table border=\"1\" class=\"dataframe\">\n",
       "  <thead>\n",
       "    <tr style=\"text-align: right;\">\n",
       "      <th></th>\n",
       "      <th>IMDb-rating</th>\n",
       "      <th>director</th>\n",
       "      <th>downloads</th>\n",
       "      <th>industry</th>\n",
       "      <th>language</th>\n",
       "      <th>posted_date</th>\n",
       "      <th>release_date</th>\n",
       "      <th>run_time</th>\n",
       "      <th>title</th>\n",
       "      <th>views</th>\n",
       "    </tr>\n",
       "  </thead>\n",
       "  <tbody>\n",
       "    <tr>\n",
       "      <th>0</th>\n",
       "      <td>4.8</td>\n",
       "      <td>John Swab</td>\n",
       "      <td>304</td>\n",
       "      <td>Hollywood / English</td>\n",
       "      <td>English</td>\n",
       "      <td>20 Feb, 2023</td>\n",
       "      <td>Jan 28 2023</td>\n",
       "      <td>105</td>\n",
       "      <td>Little Dixie</td>\n",
       "      <td>2,794</td>\n",
       "    </tr>\n",
       "    <tr>\n",
       "      <th>1</th>\n",
       "      <td>6.4</td>\n",
       "      <td>Paul Ziller</td>\n",
       "      <td>73</td>\n",
       "      <td>Hollywood / English</td>\n",
       "      <td>English</td>\n",
       "      <td>20 Feb, 2023</td>\n",
       "      <td>Feb 05 2023</td>\n",
       "      <td>84</td>\n",
       "      <td>Grilling Season: A Curious Caterer Mystery</td>\n",
       "      <td>1,002</td>\n",
       "    </tr>\n",
       "    <tr>\n",
       "      <th>2</th>\n",
       "      <td>5.2</td>\n",
       "      <td>Ben Wheatley</td>\n",
       "      <td>1,427</td>\n",
       "      <td>Hollywood / English</td>\n",
       "      <td>English,Hindi</td>\n",
       "      <td>20 Apr, 2021</td>\n",
       "      <td>Jun 18 2021</td>\n",
       "      <td>1h 47min</td>\n",
       "      <td>In the Earth</td>\n",
       "      <td>14,419</td>\n",
       "    </tr>\n",
       "    <tr>\n",
       "      <th>3</th>\n",
       "      <td>8.1</td>\n",
       "      <td>Venky Atluri</td>\n",
       "      <td>1,549</td>\n",
       "      <td>Tollywood</td>\n",
       "      <td>Hindi</td>\n",
       "      <td>20 Feb, 2023</td>\n",
       "      <td>Feb 17 2023</td>\n",
       "      <td>139</td>\n",
       "      <td>Vaathi</td>\n",
       "      <td>4,878</td>\n",
       "    </tr>\n",
       "    <tr>\n",
       "      <th>4</th>\n",
       "      <td>4.6</td>\n",
       "      <td>Shaji Kailas</td>\n",
       "      <td>657</td>\n",
       "      <td>Tollywood</td>\n",
       "      <td>Hindi</td>\n",
       "      <td>20 Feb, 2023</td>\n",
       "      <td>Jan 26 2023</td>\n",
       "      <td>122</td>\n",
       "      <td>Alone</td>\n",
       "      <td>2,438</td>\n",
       "    </tr>\n",
       "  </tbody>\n",
       "</table>\n",
       "</div>"
      ],
      "text/plain": [
       "   IMDb-rating      director downloads             industry       language  \\\n",
       "0          4.8     John Swab       304  Hollywood / English        English   \n",
       "1          6.4   Paul Ziller        73  Hollywood / English        English   \n",
       "2          5.2  Ben Wheatley     1,427  Hollywood / English  English,Hindi   \n",
       "3          8.1  Venky Atluri     1,549            Tollywood          Hindi   \n",
       "4          4.6  Shaji Kailas       657            Tollywood          Hindi   \n",
       "\n",
       "    posted_date release_date  run_time  \\\n",
       "0  20 Feb, 2023  Jan 28 2023       105   \n",
       "1  20 Feb, 2023  Feb 05 2023        84   \n",
       "2  20 Apr, 2021  Jun 18 2021  1h 47min   \n",
       "3  20 Feb, 2023  Feb 17 2023       139   \n",
       "4  20 Feb, 2023  Jan 26 2023       122   \n",
       "\n",
       "                                        title   views  \n",
       "0                                Little Dixie   2,794  \n",
       "1  Grilling Season: A Curious Caterer Mystery   1,002  \n",
       "2                                In the Earth  14,419  \n",
       "3                                      Vaathi   4,878  \n",
       "4                                       Alone   2,438  "
      ]
     },
     "execution_count": 88,
     "metadata": {},
     "output_type": "execute_result"
    }
   ],
   "source": [
    "# Cheking new data:\n",
    "pirated_films.head()"
   ]
  },
  {
   "attachments": {},
   "cell_type": "markdown",
   "metadata": {},
   "source": [
    "## **_Renaming Variables_**"
   ]
  },
  {
   "attachments": {},
   "cell_type": "markdown",
   "metadata": {},
   "source": [
    "With only the variables that we want in the dataset, we will change some variable names for the pourpose of standardizing the dataset and to have the best naming convention possible (short and descriptive)."
   ]
  },
  {
   "cell_type": "code",
   "execution_count": 89,
   "metadata": {},
   "outputs": [
    {
     "data": {
      "text/html": [
       "<div>\n",
       "<style scoped>\n",
       "    .dataframe tbody tr th:only-of-type {\n",
       "        vertical-align: middle;\n",
       "    }\n",
       "\n",
       "    .dataframe tbody tr th {\n",
       "        vertical-align: top;\n",
       "    }\n",
       "\n",
       "    .dataframe thead th {\n",
       "        text-align: right;\n",
       "    }\n",
       "</style>\n",
       "<table border=\"1\" class=\"dataframe\">\n",
       "  <thead>\n",
       "    <tr style=\"text-align: right;\">\n",
       "      <th></th>\n",
       "      <th>imdb_user_rating</th>\n",
       "      <th>film_director</th>\n",
       "      <th>downloads</th>\n",
       "      <th>industry</th>\n",
       "      <th>available_langs</th>\n",
       "      <th>platform_post_date</th>\n",
       "      <th>worldwide_release</th>\n",
       "      <th>run_time_min</th>\n",
       "      <th>movie_title</th>\n",
       "      <th>total_views</th>\n",
       "    </tr>\n",
       "  </thead>\n",
       "  <tbody>\n",
       "    <tr>\n",
       "      <th>0</th>\n",
       "      <td>4.8</td>\n",
       "      <td>John Swab</td>\n",
       "      <td>304</td>\n",
       "      <td>Hollywood / English</td>\n",
       "      <td>English</td>\n",
       "      <td>20 Feb, 2023</td>\n",
       "      <td>Jan 28 2023</td>\n",
       "      <td>105</td>\n",
       "      <td>Little Dixie</td>\n",
       "      <td>2,794</td>\n",
       "    </tr>\n",
       "    <tr>\n",
       "      <th>1</th>\n",
       "      <td>6.4</td>\n",
       "      <td>Paul Ziller</td>\n",
       "      <td>73</td>\n",
       "      <td>Hollywood / English</td>\n",
       "      <td>English</td>\n",
       "      <td>20 Feb, 2023</td>\n",
       "      <td>Feb 05 2023</td>\n",
       "      <td>84</td>\n",
       "      <td>Grilling Season: A Curious Caterer Mystery</td>\n",
       "      <td>1,002</td>\n",
       "    </tr>\n",
       "    <tr>\n",
       "      <th>2</th>\n",
       "      <td>5.2</td>\n",
       "      <td>Ben Wheatley</td>\n",
       "      <td>1,427</td>\n",
       "      <td>Hollywood / English</td>\n",
       "      <td>English,Hindi</td>\n",
       "      <td>20 Apr, 2021</td>\n",
       "      <td>Jun 18 2021</td>\n",
       "      <td>1h 47min</td>\n",
       "      <td>In the Earth</td>\n",
       "      <td>14,419</td>\n",
       "    </tr>\n",
       "    <tr>\n",
       "      <th>3</th>\n",
       "      <td>8.1</td>\n",
       "      <td>Venky Atluri</td>\n",
       "      <td>1,549</td>\n",
       "      <td>Tollywood</td>\n",
       "      <td>Hindi</td>\n",
       "      <td>20 Feb, 2023</td>\n",
       "      <td>Feb 17 2023</td>\n",
       "      <td>139</td>\n",
       "      <td>Vaathi</td>\n",
       "      <td>4,878</td>\n",
       "    </tr>\n",
       "    <tr>\n",
       "      <th>4</th>\n",
       "      <td>4.6</td>\n",
       "      <td>Shaji Kailas</td>\n",
       "      <td>657</td>\n",
       "      <td>Tollywood</td>\n",
       "      <td>Hindi</td>\n",
       "      <td>20 Feb, 2023</td>\n",
       "      <td>Jan 26 2023</td>\n",
       "      <td>122</td>\n",
       "      <td>Alone</td>\n",
       "      <td>2,438</td>\n",
       "    </tr>\n",
       "  </tbody>\n",
       "</table>\n",
       "</div>"
      ],
      "text/plain": [
       "   imdb_user_rating film_director downloads             industry  \\\n",
       "0               4.8     John Swab       304  Hollywood / English   \n",
       "1               6.4   Paul Ziller        73  Hollywood / English   \n",
       "2               5.2  Ben Wheatley     1,427  Hollywood / English   \n",
       "3               8.1  Venky Atluri     1,549            Tollywood   \n",
       "4               4.6  Shaji Kailas       657            Tollywood   \n",
       "\n",
       "  available_langs platform_post_date worldwide_release run_time_min  \\\n",
       "0         English       20 Feb, 2023       Jan 28 2023          105   \n",
       "1         English       20 Feb, 2023       Feb 05 2023           84   \n",
       "2   English,Hindi       20 Apr, 2021       Jun 18 2021     1h 47min   \n",
       "3           Hindi       20 Feb, 2023       Feb 17 2023          139   \n",
       "4           Hindi       20 Feb, 2023       Jan 26 2023          122   \n",
       "\n",
       "                                  movie_title total_views  \n",
       "0                                Little Dixie       2,794  \n",
       "1  Grilling Season: A Curious Caterer Mystery       1,002  \n",
       "2                                In the Earth      14,419  \n",
       "3                                      Vaathi       4,878  \n",
       "4                                       Alone       2,438  "
      ]
     },
     "execution_count": 89,
     "metadata": {},
     "output_type": "execute_result"
    }
   ],
   "source": [
    "# Renaming variables:\n",
    "pirated_films = pirated_films.rename(columns={'IMDb-rating': 'imdb_user_rating',\n",
    "                                              'director': 'film_director',\n",
    "                                              'language': 'available_langs',\n",
    "                                              'posted_date': 'platform_post_date',\n",
    "                                              'release_date': 'worldwide_release',\n",
    "                                              'run_time': 'run_time_min',\n",
    "                                              'title': 'movie_title',\n",
    "                                              'views': 'total_views'})\n",
    "\n",
    "# Cheking data:\n",
    "pirated_films.head()"
   ]
  },
  {
   "attachments": {},
   "cell_type": "markdown",
   "metadata": {},
   "source": [
    "## **_Handling Null Values_**"
   ]
  },
  {
   "attachments": {},
   "cell_type": "markdown",
   "metadata": {},
   "source": [
    "Before we can determine the best practices for dealing with null values, let's check the null values of the variables still present in the dataset."
   ]
  },
  {
   "cell_type": "code",
   "execution_count": 90,
   "metadata": {},
   "outputs": [
    {
     "data": {
      "text/plain": [
       "imdb_user_rating      4.0929\n",
       "film_director         9.4316\n",
       "downloads             0.0049\n",
       "industry              0.0049\n",
       "available_langs       2.6377\n",
       "platform_post_date    0.0049\n",
       "worldwide_release     0.0049\n",
       "run_time_min          8.6042\n",
       "movie_title           0.0049\n",
       "total_views           0.0049\n",
       "dtype: float64"
      ]
     },
     "execution_count": 90,
     "metadata": {},
     "output_type": "execute_result"
    }
   ],
   "source": [
    "# Checking null values:\n",
    "round((pirated_films.isna().sum()/pirated_films.shape[0]) * 100, 4)"
   ]
  },
  {
   "attachments": {},
   "cell_type": "markdown",
   "metadata": {},
   "source": [
    "With that information, let's deal with these values, one variable at a time."
   ]
  },
  {
   "attachments": {},
   "cell_type": "markdown",
   "metadata": {},
   "source": [
    "### **`imdb_user_rating`**"
   ]
  },
  {
   "attachments": {},
   "cell_type": "markdown",
   "metadata": {},
   "source": [
    "Let's get a better look at this variable:"
   ]
  },
  {
   "cell_type": "code",
   "execution_count": 91,
   "metadata": {},
   "outputs": [
    {
     "data": {
      "text/plain": [
       "count    19707.000000\n",
       "mean         5.762151\n",
       "std          1.374041\n",
       "min          1.100000\n",
       "25%          4.800000\n",
       "50%          5.700000\n",
       "75%          6.600000\n",
       "max          9.900000\n",
       "Name: imdb_user_rating, dtype: float64"
      ]
     },
     "execution_count": 91,
     "metadata": {},
     "output_type": "execute_result"
    }
   ],
   "source": [
    "pirated_films['imdb_user_rating'].describe()"
   ]
  },
  {
   "attachments": {},
   "cell_type": "markdown",
   "metadata": {},
   "source": [
    "For the fill method, we will use the **mean** of the total values of the variable:"
   ]
  },
  {
   "cell_type": "code",
   "execution_count": 92,
   "metadata": {},
   "outputs": [
    {
     "data": {
      "text/plain": [
       "5.8"
      ]
     },
     "execution_count": 92,
     "metadata": {},
     "output_type": "execute_result"
    }
   ],
   "source": [
    "# Defining mean:\n",
    "mean_ratings = pirated_films['imdb_user_rating'].mean().round(1)\n",
    "\n",
    "mean_ratings"
   ]
  },
  {
   "cell_type": "code",
   "execution_count": 93,
   "metadata": {},
   "outputs": [
    {
     "data": {
      "text/plain": [
       "0"
      ]
     },
     "execution_count": 93,
     "metadata": {},
     "output_type": "execute_result"
    }
   ],
   "source": [
    "# Placing mean in all null values at the variable:\n",
    "pirated_films['imdb_user_rating'] = (pirated_films['imdb_user_rating']\n",
    "                                     .fillna(mean_ratings))\n",
    "\n",
    "pirated_films['imdb_user_rating'].isna().sum()"
   ]
  },
  {
   "cell_type": "code",
   "execution_count": 94,
   "metadata": {},
   "outputs": [
    {
     "data": {
      "text/plain": [
       "count    20548.000000\n",
       "mean         5.763700\n",
       "std          1.345648\n",
       "min          1.100000\n",
       "25%          4.900000\n",
       "50%          5.800000\n",
       "75%          6.600000\n",
       "max          9.900000\n",
       "Name: imdb_user_rating, dtype: float64"
      ]
     },
     "execution_count": 94,
     "metadata": {},
     "output_type": "execute_result"
    }
   ],
   "source": [
    "# Checking statistics:\n",
    "pirated_films['imdb_user_rating'].describe()"
   ]
  },
  {
   "attachments": {},
   "cell_type": "markdown",
   "metadata": {},
   "source": [
    "### **`film_director`**"
   ]
  },
  {
   "attachments": {},
   "cell_type": "markdown",
   "metadata": {},
   "source": [
    "For this variable the procedure will be diferent, that's because it is a categorical (qualitative) variable. For these types of variables, the ideal fill method would be to use the mode of the column, the most recurring value.\n",
    "\n",
    "But this column refers to the film director, in this case, if we assign all the null films to the same director (mode) the data will not be in a good shape. So, the null values will receive a string informing that the director was not informed."
   ]
  },
  {
   "cell_type": "code",
   "execution_count": 95,
   "metadata": {},
   "outputs": [
    {
     "data": {
      "text/plain": [
       "0"
      ]
     },
     "execution_count": 95,
     "metadata": {},
     "output_type": "execute_result"
    }
   ],
   "source": [
    "# Filling nulls with custom string:\n",
    "pirated_films['film_director'] = pirated_films['film_director'].fillna('Not Assigned')\n",
    "\n",
    "pirated_films['film_director'].isna().sum()"
   ]
  },
  {
   "cell_type": "code",
   "execution_count": 96,
   "metadata": {},
   "outputs": [
    {
     "data": {
      "text/plain": [
       "count            20548\n",
       "unique            9673\n",
       "top       Not Assigned\n",
       "freq              1938\n",
       "Name: film_director, dtype: object"
      ]
     },
     "execution_count": 96,
     "metadata": {},
     "output_type": "execute_result"
    }
   ],
   "source": [
    "# Checking variable:\n",
    "pirated_films['film_director'].describe()"
   ]
  },
  {
   "attachments": {},
   "cell_type": "markdown",
   "metadata": {},
   "source": [
    "Here we can already make out a characteristic of the data, in that the majority of films present in the dataset have no Director assigned to them."
   ]
  },
  {
   "attachments": {},
   "cell_type": "markdown",
   "metadata": {},
   "source": [
    "### **`dowloads` and all other 0.0049% null variables**"
   ]
  },
  {
   "attachments": {},
   "cell_type": "markdown",
   "metadata": {},
   "source": [
    "Lets' check exactly how many null values are present in this variable, because, as the total null values check we did at the begining of this section shows, it has only 0.0049% of null values, along with other variables with the same amaout of nulls. Let's have a better look at this:"
   ]
  },
  {
   "cell_type": "code",
   "execution_count": 97,
   "metadata": {},
   "outputs": [
    {
     "data": {
      "text/plain": [
       "1"
      ]
     },
     "execution_count": 97,
     "metadata": {},
     "output_type": "execute_result"
    }
   ],
   "source": [
    "# Checking total values:\n",
    "pirated_films['downloads'].isna().sum()"
   ]
  },
  {
   "attachments": {},
   "cell_type": "markdown",
   "metadata": {},
   "source": [
    "Apparently only one entry is missing the value, so could it be that all other variables that were shown to have only 0.0049% of nulls are in fact the same resigtry? Let's test this by querying the exact entry that has the null value on the `downloads` variable and see if the other ones are empty too:"
   ]
  },
  {
   "cell_type": "code",
   "execution_count": 98,
   "metadata": {},
   "outputs": [
    {
     "data": {
      "text/html": [
       "<div>\n",
       "<style scoped>\n",
       "    .dataframe tbody tr th:only-of-type {\n",
       "        vertical-align: middle;\n",
       "    }\n",
       "\n",
       "    .dataframe tbody tr th {\n",
       "        vertical-align: top;\n",
       "    }\n",
       "\n",
       "    .dataframe thead th {\n",
       "        text-align: right;\n",
       "    }\n",
       "</style>\n",
       "<table border=\"1\" class=\"dataframe\">\n",
       "  <thead>\n",
       "    <tr style=\"text-align: right;\">\n",
       "      <th></th>\n",
       "      <th>imdb_user_rating</th>\n",
       "      <th>film_director</th>\n",
       "      <th>downloads</th>\n",
       "      <th>industry</th>\n",
       "      <th>available_langs</th>\n",
       "      <th>platform_post_date</th>\n",
       "      <th>worldwide_release</th>\n",
       "      <th>run_time_min</th>\n",
       "      <th>movie_title</th>\n",
       "      <th>total_views</th>\n",
       "    </tr>\n",
       "  </thead>\n",
       "  <tbody>\n",
       "    <tr>\n",
       "      <th>149</th>\n",
       "      <td>7.1</td>\n",
       "      <td>Not Assigned</td>\n",
       "      <td>NaN</td>\n",
       "      <td>NaN</td>\n",
       "      <td>NaN</td>\n",
       "      <td>NaN</td>\n",
       "      <td>NaN</td>\n",
       "      <td>NaN</td>\n",
       "      <td>NaN</td>\n",
       "      <td>NaN</td>\n",
       "    </tr>\n",
       "  </tbody>\n",
       "</table>\n",
       "</div>"
      ],
      "text/plain": [
       "     imdb_user_rating film_director downloads industry available_langs  \\\n",
       "149               7.1  Not Assigned       NaN      NaN             NaN   \n",
       "\n",
       "    platform_post_date worldwide_release run_time_min movie_title total_views  \n",
       "149                NaN               NaN          NaN         NaN         NaN  "
      ]
     },
     "execution_count": 98,
     "metadata": {},
     "output_type": "execute_result"
    }
   ],
   "source": [
    "# Checking the null entry:\n",
    "pirated_films.query('downloads.isna()')"
   ]
  },
  {
   "attachments": {},
   "cell_type": "markdown",
   "metadata": {},
   "source": [
    "As we suspected, all of the variables that had 0.0049% of null values are in fact only one entry. As it doesn't even have the movie name, this entry is completely useless for the analysis and it will be dropped."
   ]
  },
  {
   "cell_type": "code",
   "execution_count": 99,
   "metadata": {},
   "outputs": [],
   "source": [
    "# Grabbing the index of the null registry:\n",
    "drop_index = pirated_films.loc[(pirated_films['downloads'].isna())].index\n",
    "\n",
    "# Dropping the entry:\n",
    "pirated_films = pirated_films.drop(drop_index)"
   ]
  },
  {
   "cell_type": "code",
   "execution_count": 100,
   "metadata": {},
   "outputs": [
    {
     "data": {
      "text/html": [
       "<div>\n",
       "<style scoped>\n",
       "    .dataframe tbody tr th:only-of-type {\n",
       "        vertical-align: middle;\n",
       "    }\n",
       "\n",
       "    .dataframe tbody tr th {\n",
       "        vertical-align: top;\n",
       "    }\n",
       "\n",
       "    .dataframe thead th {\n",
       "        text-align: right;\n",
       "    }\n",
       "</style>\n",
       "<table border=\"1\" class=\"dataframe\">\n",
       "  <thead>\n",
       "    <tr style=\"text-align: right;\">\n",
       "      <th></th>\n",
       "      <th>imdb_user_rating</th>\n",
       "      <th>film_director</th>\n",
       "      <th>downloads</th>\n",
       "      <th>industry</th>\n",
       "      <th>available_langs</th>\n",
       "      <th>platform_post_date</th>\n",
       "      <th>worldwide_release</th>\n",
       "      <th>run_time_min</th>\n",
       "      <th>movie_title</th>\n",
       "      <th>total_views</th>\n",
       "    </tr>\n",
       "  </thead>\n",
       "  <tbody>\n",
       "  </tbody>\n",
       "</table>\n",
       "</div>"
      ],
      "text/plain": [
       "Empty DataFrame\n",
       "Columns: [imdb_user_rating, film_director, downloads, industry, available_langs, platform_post_date, worldwide_release, run_time_min, movie_title, total_views]\n",
       "Index: []"
      ]
     },
     "execution_count": 100,
     "metadata": {},
     "output_type": "execute_result"
    }
   ],
   "source": [
    "# Checking the null entry:\n",
    "pirated_films.query('downloads.isna()')"
   ]
  },
  {
   "attachments": {},
   "cell_type": "markdown",
   "metadata": {},
   "source": [
    "We can also check if all the other variables that had 0.0049% of null values are now at 0%:"
   ]
  },
  {
   "cell_type": "code",
   "execution_count": 101,
   "metadata": {},
   "outputs": [
    {
     "data": {
      "text/plain": [
       "imdb_user_rating      0.0000\n",
       "film_director         0.0000\n",
       "downloads             0.0000\n",
       "industry              0.0000\n",
       "available_langs       2.6330\n",
       "platform_post_date    0.0000\n",
       "worldwide_release     0.0000\n",
       "run_time_min          8.5998\n",
       "movie_title           0.0000\n",
       "total_views           0.0000\n",
       "dtype: float64"
      ]
     },
     "execution_count": 101,
     "metadata": {},
     "output_type": "execute_result"
    }
   ],
   "source": [
    "# Checking total nulls:\n",
    "round((pirated_films.isna().sum()/pirated_films.shape[0]) * 100, 4)"
   ]
  },
  {
   "attachments": {},
   "cell_type": "markdown",
   "metadata": {},
   "source": [
    "Indeed all other 0.0049% null variables are gone."
   ]
  },
  {
   "attachments": {},
   "cell_type": "markdown",
   "metadata": {},
   "source": [
    "### **`available_langs`**"
   ]
  },
  {
   "attachments": {},
   "cell_type": "markdown",
   "metadata": {},
   "source": [
    "Another variable with null values refers to the available languages of the movie. As it is a categorical (qualitative) variable, we will use the mode as the fill method, as in, the most reocurring languages. But first, let's check the variable:"
   ]
  },
  {
   "cell_type": "code",
   "execution_count": 102,
   "metadata": {},
   "outputs": [
    {
     "data": {
      "text/plain": [
       "count       20006\n",
       "unique       1168\n",
       "top       English\n",
       "freq        12657\n",
       "Name: available_langs, dtype: object"
      ]
     },
     "execution_count": 102,
     "metadata": {},
     "output_type": "execute_result"
    }
   ],
   "source": [
    "# Describing variable:\n",
    "pirated_films['available_langs'].describe()"
   ]
  },
  {
   "attachments": {},
   "cell_type": "markdown",
   "metadata": {},
   "source": [
    "As the describe method points to, the most reocurring language in the dataset in English, so this will be the value that will be placed in place of the null entries."
   ]
  },
  {
   "cell_type": "code",
   "execution_count": 103,
   "metadata": {},
   "outputs": [],
   "source": [
    "# Defining mode:\n",
    "mode_fill = pirated_films['available_langs'].mode()[0] # English\n",
    "\n",
    "# Filling the nulls:\n",
    "pirated_films['available_langs'] = pirated_films['available_langs'].fillna(mode_fill)"
   ]
  },
  {
   "cell_type": "code",
   "execution_count": 104,
   "metadata": {},
   "outputs": [
    {
     "data": {
      "text/plain": [
       "imdb_user_rating      0.0000\n",
       "film_director         0.0000\n",
       "downloads             0.0000\n",
       "industry              0.0000\n",
       "available_langs       0.0000\n",
       "platform_post_date    0.0000\n",
       "worldwide_release     0.0000\n",
       "run_time_min          8.5998\n",
       "movie_title           0.0000\n",
       "total_views           0.0000\n",
       "dtype: float64"
      ]
     },
     "execution_count": 104,
     "metadata": {},
     "output_type": "execute_result"
    }
   ],
   "source": [
    "# Checking nulls:\n",
    "round((pirated_films.isna().sum()/pirated_films.shape[0]) * 100, 4)"
   ]
  },
  {
   "attachments": {},
   "cell_type": "markdown",
   "metadata": {},
   "source": [
    "### **`run_time_min`**"
   ]
  },
  {
   "attachments": {},
   "cell_type": "markdown",
   "metadata": {},
   "source": [
    "The last variable with null values, let's get a closer look at it starting with the describe method:"
   ]
  },
  {
   "cell_type": "code",
   "execution_count": 105,
   "metadata": {},
   "outputs": [
    {
     "data": {
      "text/plain": [
       "count     18780\n",
       "unique      415\n",
       "top          93\n",
       "freq        652\n",
       "Name: run_time_min, dtype: object"
      ]
     },
     "execution_count": 105,
     "metadata": {},
     "output_type": "execute_result"
    }
   ],
   "source": [
    "# Describing variable:\n",
    "pirated_films['run_time_min'].describe()"
   ]
  },
  {
   "attachments": {},
   "cell_type": "markdown",
   "metadata": {},
   "source": [
    "This variable will require more work. The current data type is object, but it must be numbers before we can fill the nulls, so, to start let's clean the data and change the data type:"
   ]
  },
  {
   "cell_type": "code",
   "execution_count": 106,
   "metadata": {},
   "outputs": [
    {
     "data": {
      "text/plain": [
       "array(['125', '102', '100', '110', '143', '1h 33min', nan, '83', '197',\n",
       "       '1h 27min', '84', '78', '92', '87', '1h 23min', '97', '104',\n",
       "       '105 min', '109', '124', '96', '101', '1h 37min', '150', '142',\n",
       "       '139'], dtype=object)"
      ]
     },
     "execution_count": 106,
     "metadata": {},
     "output_type": "execute_result"
    }
   ],
   "source": [
    "# Checking values:\n",
    "pirated_films['run_time_min'].sample(30).unique()"
   ]
  },
  {
   "attachments": {},
   "cell_type": "markdown",
   "metadata": {},
   "source": [
    "With us checking a random sample of the data, we can see that it is not in a appropriate format, as the variable name said it should be in minutes, we still have a lot of entries defining hours and, of course, the null values.\n",
    "\n",
    "To clean this variable, a more robust function to do string manipulation is necessary:"
   ]
  },
  {
   "cell_type": "code",
   "execution_count": 107,
   "metadata": {},
   "outputs": [],
   "source": [
    "# Creating function:\n",
    "def convert_runtime(value):\n",
    "    '''\n",
    "    Converts a movie runtime string into only minutes.\n",
    "\n",
    "    Args\n",
    "    -----\n",
    "        value (str): The movie runtime string in different formats of hours and minutes.\n",
    "\n",
    "    Returns\n",
    "    --------\n",
    "        int: The movie runtime in minutes. If the input value is not a string or\n",
    "            does not match the expected format, the original value is returned.\n",
    "\n",
    "    Example\n",
    "    --------\n",
    "        >>> convert_runtime(\"1h 47min\")\n",
    "        107\n",
    "        >>> convert_runtime(\"120 min\")\n",
    "        120\n",
    "        >>> convert_runtime(\"2h 5m\")\n",
    "        125\n",
    "        >>> convert_runtime(\"3h 25 min\")\n",
    "        205\n",
    "    '''\n",
    "    if not isinstance(value, str):\n",
    "        return value\n",
    "    \n",
    "    # Pattern 1: xxh/hours xxm/min\n",
    "    match = re.search(r'(\\d+)\\s*h(?:h|ours)?\\s*(\\d+)\\s*(?:m|min)?', value)\n",
    "    if match:\n",
    "        hours, minutes = map(int, match.groups())\n",
    "        return hours * 60 + minutes\n",
    "\n",
    "    # Pattern 2: xxh/hr xxm/min\n",
    "    match = re.search(r'(\\d+)\\s*(?:h|hr)\\s*(\\d+)\\s*(?:m|min)?', value)\n",
    "    if match:\n",
    "        hours, minutes = map(int, match.groups())\n",
    "        return hours * 60 + minutes\n",
    "\n",
    "    # Pattern 3: xxh/hr xxm\n",
    "    match = re.search(r'(\\d+)\\s*(?:h|hr)\\s*(\\d+)\\s*m', value)\n",
    "    if match:\n",
    "        hours, minutes = map(int, match.groups())\n",
    "        return hours * 60 + minutes\n",
    "\n",
    "    # Pattern 4: xxm/min\n",
    "    match = re.search(r'(\\d+)\\s*(?:m|min)', value)\n",
    "    if match:\n",
    "        return int(match.group(1))\n",
    "\n",
    "    # Pattern 5: xxh/hours\n",
    "    match = re.search(r'(\\d+)\\s*(?:h|hours)', value)\n",
    "    if match:\n",
    "        return int(match.group(1))\n",
    "\n",
    "    return value\n"
   ]
  },
  {
   "cell_type": "code",
   "execution_count": 108,
   "metadata": {},
   "outputs": [],
   "source": [
    "# Applying the function:\n",
    "pirated_films['run_time_min'] = pirated_films['run_time_min'].apply(convert_runtime)"
   ]
  },
  {
   "attachments": {},
   "cell_type": "markdown",
   "metadata": {},
   "source": [
    "Now let's do a quick random check on the variable values:"
   ]
  },
  {
   "cell_type": "code",
   "execution_count": 109,
   "metadata": {},
   "outputs": [
    {
     "data": {
      "text/plain": [
       "13094     97\n",
       "3949      92\n",
       "12888    NaN\n",
       "19545     98\n",
       "10646    105\n",
       "20121    170\n",
       "2515     107\n",
       "1725      87\n",
       "18225    118\n",
       "14357    134\n",
       "Name: run_time_min, dtype: object"
      ]
     },
     "execution_count": 109,
     "metadata": {},
     "output_type": "execute_result"
    }
   ],
   "source": [
    "# Checking results:\n",
    "pirated_films['run_time_min'].sample(10)"
   ]
  },
  {
   "attachments": {},
   "cell_type": "markdown",
   "metadata": {},
   "source": [
    "We can see that the data has been successfully transformed, where we now have all the run times in minutes only.\n",
    "Now, we will fill the null values temporarily with 0 as a string, so we can chance the column data type to int. After that, we will fill the nulls (now the zeros) with the median of the values."
   ]
  },
  {
   "cell_type": "code",
   "execution_count": 110,
   "metadata": {},
   "outputs": [],
   "source": [
    "# Filling with zeros temporarily:\n",
    "pirated_films['run_time_min'] = pirated_films['run_time_min'].fillna('0')"
   ]
  },
  {
   "cell_type": "code",
   "execution_count": 111,
   "metadata": {},
   "outputs": [],
   "source": [
    "# Changing data type:\n",
    "pirated_films['run_time_min'] = pirated_films['run_time_min'].astype('int')"
   ]
  },
  {
   "attachments": {},
   "cell_type": "markdown",
   "metadata": {},
   "source": [
    "Now that the variable is in the right data type, let's fill the nulls (zero values in this case) with the median of the values. The median is a good option here because these data are very likely to have outliers and to be skeewd, and as the median isn't very influenced by these factors, it becomes a good filling method. "
   ]
  },
  {
   "cell_type": "code",
   "execution_count": 112,
   "metadata": {},
   "outputs": [],
   "source": [
    "# Calculating the median value of the variable (ignoring the zeros):\n",
    "median = np.median(pirated_films['run_time_min'][pirated_films['run_time_min'] != 0])\n",
    "\n",
    "# Replacing the zeros with the median value:\n",
    "pirated_films['run_time_min'][pirated_films['run_time_min'] == 0] = median"
   ]
  },
  {
   "attachments": {},
   "cell_type": "markdown",
   "metadata": {},
   "source": [
    "Finally, we can check the null quantity of our final dataset:"
   ]
  },
  {
   "cell_type": "code",
   "execution_count": 113,
   "metadata": {},
   "outputs": [
    {
     "data": {
      "text/plain": [
       "imdb_user_rating      0.0\n",
       "film_director         0.0\n",
       "downloads             0.0\n",
       "industry              0.0\n",
       "available_langs       0.0\n",
       "platform_post_date    0.0\n",
       "worldwide_release     0.0\n",
       "run_time_min          0.0\n",
       "movie_title           0.0\n",
       "total_views           0.0\n",
       "dtype: float64"
      ]
     },
     "execution_count": 113,
     "metadata": {},
     "output_type": "execute_result"
    }
   ],
   "source": [
    "round((pirated_films.isna().sum()/pirated_films.shape[0]) * 100, 4)"
   ]
  },
  {
   "attachments": {},
   "cell_type": "markdown",
   "metadata": {},
   "source": [
    "## **_Changing Data Types_**"
   ]
  },
  {
   "attachments": {},
   "cell_type": "markdown",
   "metadata": {},
   "source": [
    "With our dataset clean from null values and with only the variables we want still present, the next step is to adress the data types of the variables, to make sure they are in the best possible way for the analysis. Let's begin by checking our dtypes:"
   ]
  },
  {
   "cell_type": "code",
   "execution_count": 114,
   "metadata": {},
   "outputs": [
    {
     "name": "stdout",
     "output_type": "stream",
     "text": [
      "<class 'pandas.core.frame.DataFrame'>\n",
      "Int64Index: 20547 entries, 0 to 20547\n",
      "Data columns (total 10 columns):\n",
      " #   Column              Non-Null Count  Dtype  \n",
      "---  ------              --------------  -----  \n",
      " 0   imdb_user_rating    20547 non-null  float64\n",
      " 1   film_director       20547 non-null  object \n",
      " 2   downloads           20547 non-null  object \n",
      " 3   industry            20547 non-null  object \n",
      " 4   available_langs     20547 non-null  object \n",
      " 5   platform_post_date  20547 non-null  object \n",
      " 6   worldwide_release   20547 non-null  object \n",
      " 7   run_time_min        20547 non-null  int32  \n",
      " 8   movie_title         20547 non-null  object \n",
      " 9   total_views         20547 non-null  object \n",
      "dtypes: float64(1), int32(1), object(8)\n",
      "memory usage: 1.6+ MB\n"
     ]
    }
   ],
   "source": [
    "# Checking data types:\n",
    "pirated_films.info()"
   ]
  },
  {
   "attachments": {},
   "cell_type": "markdown",
   "metadata": {},
   "source": [
    "Things to note:\n",
    "\n",
    "**Memory Consumption**\n",
    "\n",
    "- With the current data types, the dataset uses up to 1.6 MB of memory in the system. With the changes we are going to make, this consumption should drop.\n",
    "\n",
    "**Good Data Types**\n",
    "\n",
    "We have some variables that don't require any change:\n",
    "\n",
    "- `imdb_user_rating` in **float64**\n",
    "\n",
    "- `film_director` in **object**\n",
    "\n",
    "- `industry` in **object**\n",
    "\n",
    "- `available_langs` in **object**\n",
    "\n",
    "- `run_time_min` in **int32**\n",
    "\n",
    "- `movie_title` in **object**\n",
    "\n",
    "**Wrong Data Types**\n",
    "\n",
    "For variables that need changes we have:\n",
    "\n",
    "- `downloads` from **object** to **int**\n",
    "\n",
    "- `platform_post_date` from **object** to **datetime**\n",
    "\n",
    "- `worldwide_release` from **object** to **datetime**\n",
    "\n",
    "- `total_views` from **object** to **int**\n",
    "\n",
    "First we will deal with the **datetime** columns alone, as they very straight forward. The other two variables (`downloads` and `total_views`) require a little bit more work."
   ]
  },
  {
   "attachments": {},
   "cell_type": "markdown",
   "metadata": {},
   "source": [
    "### **Altering `platform_post_date` and `worldwide_release`**"
   ]
  },
  {
   "cell_type": "code",
   "execution_count": 115,
   "metadata": {},
   "outputs": [],
   "source": [
    "# Changing Data Types:\n",
    "pirated_films['platform_post_date'] = pd.to_datetime(pirated_films['platform_post_date'])\n",
    "\n",
    "pirated_films['worldwide_release'] = pd.to_datetime(pirated_films['worldwide_release'])"
   ]
  },
  {
   "cell_type": "code",
   "execution_count": 116,
   "metadata": {},
   "outputs": [
    {
     "name": "stdout",
     "output_type": "stream",
     "text": [
      "<class 'pandas.core.frame.DataFrame'>\n",
      "Int64Index: 20547 entries, 0 to 20547\n",
      "Data columns (total 10 columns):\n",
      " #   Column              Non-Null Count  Dtype         \n",
      "---  ------              --------------  -----         \n",
      " 0   imdb_user_rating    20547 non-null  float64       \n",
      " 1   film_director       20547 non-null  object        \n",
      " 2   downloads           20547 non-null  object        \n",
      " 3   industry            20547 non-null  object        \n",
      " 4   available_langs     20547 non-null  object        \n",
      " 5   platform_post_date  20547 non-null  datetime64[ns]\n",
      " 6   worldwide_release   20547 non-null  datetime64[ns]\n",
      " 7   run_time_min        20547 non-null  int32         \n",
      " 8   movie_title         20547 non-null  object        \n",
      " 9   total_views         20547 non-null  object        \n",
      "dtypes: datetime64[ns](2), float64(1), int32(1), object(6)\n",
      "memory usage: 1.6+ MB\n"
     ]
    }
   ],
   "source": [
    "# Checking new data types:\n",
    "pirated_films.info()"
   ]
  },
  {
   "cell_type": "code",
   "execution_count": 117,
   "metadata": {},
   "outputs": [
    {
     "data": {
      "text/html": [
       "<div>\n",
       "<style scoped>\n",
       "    .dataframe tbody tr th:only-of-type {\n",
       "        vertical-align: middle;\n",
       "    }\n",
       "\n",
       "    .dataframe tbody tr th {\n",
       "        vertical-align: top;\n",
       "    }\n",
       "\n",
       "    .dataframe thead th {\n",
       "        text-align: right;\n",
       "    }\n",
       "</style>\n",
       "<table border=\"1\" class=\"dataframe\">\n",
       "  <thead>\n",
       "    <tr style=\"text-align: right;\">\n",
       "      <th></th>\n",
       "      <th>imdb_user_rating</th>\n",
       "      <th>film_director</th>\n",
       "      <th>downloads</th>\n",
       "      <th>industry</th>\n",
       "      <th>available_langs</th>\n",
       "      <th>platform_post_date</th>\n",
       "      <th>worldwide_release</th>\n",
       "      <th>run_time_min</th>\n",
       "      <th>movie_title</th>\n",
       "      <th>total_views</th>\n",
       "    </tr>\n",
       "  </thead>\n",
       "  <tbody>\n",
       "    <tr>\n",
       "      <th>0</th>\n",
       "      <td>4.8</td>\n",
       "      <td>John Swab</td>\n",
       "      <td>304</td>\n",
       "      <td>Hollywood / English</td>\n",
       "      <td>English</td>\n",
       "      <td>2023-02-20</td>\n",
       "      <td>2023-01-28</td>\n",
       "      <td>105</td>\n",
       "      <td>Little Dixie</td>\n",
       "      <td>2,794</td>\n",
       "    </tr>\n",
       "    <tr>\n",
       "      <th>1</th>\n",
       "      <td>6.4</td>\n",
       "      <td>Paul Ziller</td>\n",
       "      <td>73</td>\n",
       "      <td>Hollywood / English</td>\n",
       "      <td>English</td>\n",
       "      <td>2023-02-20</td>\n",
       "      <td>2023-02-05</td>\n",
       "      <td>84</td>\n",
       "      <td>Grilling Season: A Curious Caterer Mystery</td>\n",
       "      <td>1,002</td>\n",
       "    </tr>\n",
       "    <tr>\n",
       "      <th>2</th>\n",
       "      <td>5.2</td>\n",
       "      <td>Ben Wheatley</td>\n",
       "      <td>1,427</td>\n",
       "      <td>Hollywood / English</td>\n",
       "      <td>English,Hindi</td>\n",
       "      <td>2021-04-20</td>\n",
       "      <td>2021-06-18</td>\n",
       "      <td>107</td>\n",
       "      <td>In the Earth</td>\n",
       "      <td>14,419</td>\n",
       "    </tr>\n",
       "    <tr>\n",
       "      <th>3</th>\n",
       "      <td>8.1</td>\n",
       "      <td>Venky Atluri</td>\n",
       "      <td>1,549</td>\n",
       "      <td>Tollywood</td>\n",
       "      <td>Hindi</td>\n",
       "      <td>2023-02-20</td>\n",
       "      <td>2023-02-17</td>\n",
       "      <td>139</td>\n",
       "      <td>Vaathi</td>\n",
       "      <td>4,878</td>\n",
       "    </tr>\n",
       "    <tr>\n",
       "      <th>4</th>\n",
       "      <td>4.6</td>\n",
       "      <td>Shaji Kailas</td>\n",
       "      <td>657</td>\n",
       "      <td>Tollywood</td>\n",
       "      <td>Hindi</td>\n",
       "      <td>2023-02-20</td>\n",
       "      <td>2023-01-26</td>\n",
       "      <td>122</td>\n",
       "      <td>Alone</td>\n",
       "      <td>2,438</td>\n",
       "    </tr>\n",
       "  </tbody>\n",
       "</table>\n",
       "</div>"
      ],
      "text/plain": [
       "   imdb_user_rating film_director downloads             industry  \\\n",
       "0               4.8     John Swab       304  Hollywood / English   \n",
       "1               6.4   Paul Ziller        73  Hollywood / English   \n",
       "2               5.2  Ben Wheatley     1,427  Hollywood / English   \n",
       "3               8.1  Venky Atluri     1,549            Tollywood   \n",
       "4               4.6  Shaji Kailas       657            Tollywood   \n",
       "\n",
       "  available_langs platform_post_date worldwide_release  run_time_min  \\\n",
       "0         English         2023-02-20        2023-01-28           105   \n",
       "1         English         2023-02-20        2023-02-05            84   \n",
       "2   English,Hindi         2021-04-20        2021-06-18           107   \n",
       "3           Hindi         2023-02-20        2023-02-17           139   \n",
       "4           Hindi         2023-02-20        2023-01-26           122   \n",
       "\n",
       "                                  movie_title total_views  \n",
       "0                                Little Dixie       2,794  \n",
       "1  Grilling Season: A Curious Caterer Mystery       1,002  \n",
       "2                                In the Earth      14,419  \n",
       "3                                      Vaathi       4,878  \n",
       "4                                       Alone       2,438  "
      ]
     },
     "execution_count": 117,
     "metadata": {},
     "output_type": "execute_result"
    }
   ],
   "source": [
    "# Checking format:\n",
    "pirated_films.head()"
   ]
  },
  {
   "attachments": {},
   "cell_type": "markdown",
   "metadata": {},
   "source": [
    "### **Altering `downloads` and `total_views`**"
   ]
  },
  {
   "attachments": {},
   "cell_type": "markdown",
   "metadata": {},
   "source": [
    "Before we can change the data type of this variable, we need to clean it from any special characters like commas and dots. Let's do a quick check on them:"
   ]
  },
  {
   "cell_type": "code",
   "execution_count": 118,
   "metadata": {},
   "outputs": [
    {
     "data": {
      "text/plain": [
       "0        304\n",
       "1         73\n",
       "2      1,427\n",
       "3      1,549\n",
       "4        657\n",
       "5        746\n",
       "6      5,332\n",
       "7      1,781\n",
       "8        458\n",
       "9      1,965\n",
       "10       742\n",
       "11    12,954\n",
       "12     2,253\n",
       "13    14,867\n",
       "14       463\n",
       "Name: downloads, dtype: object"
      ]
     },
     "execution_count": 118,
     "metadata": {},
     "output_type": "execute_result"
    }
   ],
   "source": [
    "# Checking values:\n",
    "pirated_films['downloads'].head(15)"
   ]
  },
  {
   "cell_type": "code",
   "execution_count": 119,
   "metadata": {},
   "outputs": [
    {
     "data": {
      "text/plain": [
       "0      2,794\n",
       "1      1,002\n",
       "2     14,419\n",
       "3      4,878\n",
       "4      2,438\n",
       "5      2,940\n",
       "6     11,978\n",
       "7     18,225\n",
       "8      6,912\n",
       "9      9,710\n",
       "10     4,618\n",
       "11    35,831\n",
       "12     5,468\n",
       "13    39,399\n",
       "14     5,763\n",
       "Name: total_views, dtype: object"
      ]
     },
     "execution_count": 119,
     "metadata": {},
     "output_type": "execute_result"
    }
   ],
   "source": [
    "# Checking more values from the other variable:\n",
    "pirated_films['total_views'].head(15)"
   ]
  },
  {
   "attachments": {},
   "cell_type": "markdown",
   "metadata": {},
   "source": [
    "We can see that yes, both variables have special characters and require cleaning before we can change the data types. Let's create a general cleaning function that can be applied to both variables to clean them."
   ]
  },
  {
   "cell_type": "code",
   "execution_count": 120,
   "metadata": {},
   "outputs": [],
   "source": [
    "# Creating cleaning function:\n",
    "def number_extractor(data: pd.DataFrame):\n",
    "    '''\n",
    "    Applies a regular expression to remove all non-numeric characters from the 'total_views' and 'downloads'\n",
    "    columns of a given pandas DataFrame.\n",
    "\n",
    "    Parameters:\n",
    "    -----------\n",
    "    data : pandas DataFrame\n",
    "        The input DataFrame to process. The DataFrame must contain the 'total_views' and 'downloads' columns.\n",
    "\n",
    "    Returns:\n",
    "    --------\n",
    "    pandas DataFrame:\n",
    "        A copy of the input DataFrame where the 'total_views' and 'downloads' columns have been modified to\n",
    "        only contain numeric characters.\n",
    "    '''\n",
    "    chars_to_remove = r'[^0-9]+'\n",
    "\n",
    "    data['total_views'] = data['total_views'].apply(\n",
    "        lambda clean_values:\n",
    "            re.sub(chars_to_remove, '', str(clean_values))\n",
    "    )\n",
    "\n",
    "    data['downloads'] = data['downloads'].apply(\n",
    "        lambda clean_values:\n",
    "            re.sub(chars_to_remove, '', str(clean_values))\n",
    "    )\n",
    "\n",
    "    return data"
   ]
  },
  {
   "cell_type": "code",
   "execution_count": 121,
   "metadata": {},
   "outputs": [
    {
     "data": {
      "text/plain": [
       "0     2794\n",
       "1     1002\n",
       "2    14419\n",
       "3     4878\n",
       "4     2438\n",
       "Name: total_views, dtype: object"
      ]
     },
     "execution_count": 121,
     "metadata": {},
     "output_type": "execute_result"
    }
   ],
   "source": [
    "# Applying the function:\n",
    "pirated_films = number_extractor(pirated_films)\n",
    "\n",
    "# Checking results:\n",
    "pirated_films['total_views'].head()"
   ]
  },
  {
   "cell_type": "code",
   "execution_count": 122,
   "metadata": {},
   "outputs": [
    {
     "data": {
      "text/plain": [
       "0     304\n",
       "1      73\n",
       "2    1427\n",
       "3    1549\n",
       "4     657\n",
       "Name: downloads, dtype: object"
      ]
     },
     "execution_count": 122,
     "metadata": {},
     "output_type": "execute_result"
    }
   ],
   "source": [
    "# Checking results:\n",
    "pirated_films['downloads'].head()"
   ]
  },
  {
   "attachments": {},
   "cell_type": "markdown",
   "metadata": {},
   "source": [
    "With the variables clean, we can pass them to int:"
   ]
  },
  {
   "cell_type": "code",
   "execution_count": 123,
   "metadata": {},
   "outputs": [],
   "source": [
    "# Changing data types:\n",
    "pirated_films = pirated_films.astype({'downloads': 'int',\n",
    "                                      'total_views': 'int'})"
   ]
  },
  {
   "cell_type": "code",
   "execution_count": 124,
   "metadata": {},
   "outputs": [
    {
     "name": "stdout",
     "output_type": "stream",
     "text": [
      "<class 'pandas.core.frame.DataFrame'>\n",
      "Int64Index: 20547 entries, 0 to 20547\n",
      "Data columns (total 10 columns):\n",
      " #   Column              Non-Null Count  Dtype         \n",
      "---  ------              --------------  -----         \n",
      " 0   imdb_user_rating    20547 non-null  float64       \n",
      " 1   film_director       20547 non-null  object        \n",
      " 2   downloads           20547 non-null  int32         \n",
      " 3   industry            20547 non-null  object        \n",
      " 4   available_langs     20547 non-null  object        \n",
      " 5   platform_post_date  20547 non-null  datetime64[ns]\n",
      " 6   worldwide_release   20547 non-null  datetime64[ns]\n",
      " 7   run_time_min        20547 non-null  int32         \n",
      " 8   movie_title         20547 non-null  object        \n",
      " 9   total_views         20547 non-null  int32         \n",
      "dtypes: datetime64[ns](2), float64(1), int32(3), object(4)\n",
      "memory usage: 1.5+ MB\n"
     ]
    }
   ],
   "source": [
    "# Checking new data:\n",
    "pirated_films.info()"
   ]
  },
  {
   "attachments": {},
   "cell_type": "markdown",
   "metadata": {},
   "source": [
    "With all corrections needed made to the dataset, we can check for duplicates in the data:"
   ]
  },
  {
   "cell_type": "code",
   "execution_count": 125,
   "metadata": {},
   "outputs": [
    {
     "data": {
      "text/html": [
       "<div>\n",
       "<style scoped>\n",
       "    .dataframe tbody tr th:only-of-type {\n",
       "        vertical-align: middle;\n",
       "    }\n",
       "\n",
       "    .dataframe tbody tr th {\n",
       "        vertical-align: top;\n",
       "    }\n",
       "\n",
       "    .dataframe thead th {\n",
       "        text-align: right;\n",
       "    }\n",
       "</style>\n",
       "<table border=\"1\" class=\"dataframe\">\n",
       "  <thead>\n",
       "    <tr style=\"text-align: right;\">\n",
       "      <th></th>\n",
       "      <th>imdb_user_rating</th>\n",
       "      <th>film_director</th>\n",
       "      <th>downloads</th>\n",
       "      <th>industry</th>\n",
       "      <th>available_langs</th>\n",
       "      <th>platform_post_date</th>\n",
       "      <th>worldwide_release</th>\n",
       "      <th>run_time_min</th>\n",
       "      <th>movie_title</th>\n",
       "      <th>total_views</th>\n",
       "    </tr>\n",
       "  </thead>\n",
       "  <tbody>\n",
       "  </tbody>\n",
       "</table>\n",
       "</div>"
      ],
      "text/plain": [
       "Empty DataFrame\n",
       "Columns: [imdb_user_rating, film_director, downloads, industry, available_langs, platform_post_date, worldwide_release, run_time_min, movie_title, total_views]\n",
       "Index: []"
      ]
     },
     "execution_count": 125,
     "metadata": {},
     "output_type": "execute_result"
    }
   ],
   "source": [
    "# Checking duplicates:\n",
    "pirated_films[pirated_films.duplicated()]"
   ]
  },
  {
   "attachments": {},
   "cell_type": "markdown",
   "metadata": {},
   "source": [
    "We see that we don't have any duplicate values in our data. With that, we can move to our next step: Adding new features to our dataset!"
   ]
  },
  {
   "attachments": {},
   "cell_type": "markdown",
   "metadata": {},
   "source": [
    "## **_Feature Engineering_**"
   ]
  },
  {
   "attachments": {},
   "cell_type": "markdown",
   "metadata": {},
   "source": [
    "To define what additional features our dataset can have to boost our analysis capabilities, let's take a look at it's variables:"
   ]
  },
  {
   "cell_type": "code",
   "execution_count": 126,
   "metadata": {},
   "outputs": [
    {
     "data": {
      "text/html": [
       "<div>\n",
       "<style scoped>\n",
       "    .dataframe tbody tr th:only-of-type {\n",
       "        vertical-align: middle;\n",
       "    }\n",
       "\n",
       "    .dataframe tbody tr th {\n",
       "        vertical-align: top;\n",
       "    }\n",
       "\n",
       "    .dataframe thead th {\n",
       "        text-align: right;\n",
       "    }\n",
       "</style>\n",
       "<table border=\"1\" class=\"dataframe\">\n",
       "  <thead>\n",
       "    <tr style=\"text-align: right;\">\n",
       "      <th></th>\n",
       "      <th>imdb_user_rating</th>\n",
       "      <th>film_director</th>\n",
       "      <th>downloads</th>\n",
       "      <th>industry</th>\n",
       "      <th>available_langs</th>\n",
       "      <th>platform_post_date</th>\n",
       "      <th>worldwide_release</th>\n",
       "      <th>run_time_min</th>\n",
       "      <th>movie_title</th>\n",
       "      <th>total_views</th>\n",
       "    </tr>\n",
       "  </thead>\n",
       "  <tbody>\n",
       "    <tr>\n",
       "      <th>0</th>\n",
       "      <td>4.8</td>\n",
       "      <td>John Swab</td>\n",
       "      <td>304</td>\n",
       "      <td>Hollywood / English</td>\n",
       "      <td>English</td>\n",
       "      <td>2023-02-20</td>\n",
       "      <td>2023-01-28</td>\n",
       "      <td>105</td>\n",
       "      <td>Little Dixie</td>\n",
       "      <td>2794</td>\n",
       "    </tr>\n",
       "    <tr>\n",
       "      <th>1</th>\n",
       "      <td>6.4</td>\n",
       "      <td>Paul Ziller</td>\n",
       "      <td>73</td>\n",
       "      <td>Hollywood / English</td>\n",
       "      <td>English</td>\n",
       "      <td>2023-02-20</td>\n",
       "      <td>2023-02-05</td>\n",
       "      <td>84</td>\n",
       "      <td>Grilling Season: A Curious Caterer Mystery</td>\n",
       "      <td>1002</td>\n",
       "    </tr>\n",
       "    <tr>\n",
       "      <th>2</th>\n",
       "      <td>5.2</td>\n",
       "      <td>Ben Wheatley</td>\n",
       "      <td>1427</td>\n",
       "      <td>Hollywood / English</td>\n",
       "      <td>English,Hindi</td>\n",
       "      <td>2021-04-20</td>\n",
       "      <td>2021-06-18</td>\n",
       "      <td>107</td>\n",
       "      <td>In the Earth</td>\n",
       "      <td>14419</td>\n",
       "    </tr>\n",
       "    <tr>\n",
       "      <th>3</th>\n",
       "      <td>8.1</td>\n",
       "      <td>Venky Atluri</td>\n",
       "      <td>1549</td>\n",
       "      <td>Tollywood</td>\n",
       "      <td>Hindi</td>\n",
       "      <td>2023-02-20</td>\n",
       "      <td>2023-02-17</td>\n",
       "      <td>139</td>\n",
       "      <td>Vaathi</td>\n",
       "      <td>4878</td>\n",
       "    </tr>\n",
       "    <tr>\n",
       "      <th>4</th>\n",
       "      <td>4.6</td>\n",
       "      <td>Shaji Kailas</td>\n",
       "      <td>657</td>\n",
       "      <td>Tollywood</td>\n",
       "      <td>Hindi</td>\n",
       "      <td>2023-02-20</td>\n",
       "      <td>2023-01-26</td>\n",
       "      <td>122</td>\n",
       "      <td>Alone</td>\n",
       "      <td>2438</td>\n",
       "    </tr>\n",
       "  </tbody>\n",
       "</table>\n",
       "</div>"
      ],
      "text/plain": [
       "   imdb_user_rating film_director  downloads             industry  \\\n",
       "0               4.8     John Swab        304  Hollywood / English   \n",
       "1               6.4   Paul Ziller         73  Hollywood / English   \n",
       "2               5.2  Ben Wheatley       1427  Hollywood / English   \n",
       "3               8.1  Venky Atluri       1549            Tollywood   \n",
       "4               4.6  Shaji Kailas        657            Tollywood   \n",
       "\n",
       "  available_langs platform_post_date worldwide_release  run_time_min  \\\n",
       "0         English         2023-02-20        2023-01-28           105   \n",
       "1         English         2023-02-20        2023-02-05            84   \n",
       "2   English,Hindi         2021-04-20        2021-06-18           107   \n",
       "3           Hindi         2023-02-20        2023-02-17           139   \n",
       "4           Hindi         2023-02-20        2023-01-26           122   \n",
       "\n",
       "                                  movie_title  total_views  \n",
       "0                                Little Dixie         2794  \n",
       "1  Grilling Season: A Curious Caterer Mystery         1002  \n",
       "2                                In the Earth        14419  \n",
       "3                                      Vaathi         4878  \n",
       "4                                       Alone         2438  "
      ]
     },
     "execution_count": 126,
     "metadata": {},
     "output_type": "execute_result"
    }
   ],
   "source": [
    "# Checking dataset:\n",
    "pirated_films.head()"
   ]
  },
  {
   "attachments": {},
   "cell_type": "markdown",
   "metadata": {},
   "source": [
    "Some additional features that we can add to the dataset are:\n",
    "\n",
    "- `days_to_piracy`: A quantitative variable that contains the difference in days between the film release date and the date it was posted on the piracy site.\n",
    "\n",
    "- `avg_views_per_download`: The total number of views divided by the total number of downloads, indicating how many people viewed the movie for each download.\n",
    "\n",
    "- `avg_downloads_per_day`: A new feature that calculates the average number of downloads per day since the movie was posted on the piracy website. This could help us understand the popularity of the movie among pirates over time."
   ]
  },
  {
   "attachments": {},
   "cell_type": "markdown",
   "metadata": {},
   "source": [
    "### **Creating Variable: `days_to_piracy`**"
   ]
  },
  {
   "attachments": {},
   "cell_type": "markdown",
   "metadata": {},
   "source": [
    "This variable will lead to intresting possibilities of analysis, allowing us to understand better the timing between a movie release and it's pirated version being available for download. This variable will also play a role in creating the `popularity_score` variable later.\n",
    "\n",
    "To create this variable, we will subtract the day of the worldwide release and the day that the movie got launched in the piracy site."
   ]
  },
  {
   "cell_type": "code",
   "execution_count": 127,
   "metadata": {},
   "outputs": [],
   "source": [
    "# Creating new variable to store the difference in days.\n",
    "# This variable is temporary, it will be used to create the oficial variable:\n",
    "pirated_films['days_temp'] = pirated_films['platform_post_date'] - pirated_films['worldwide_release']"
   ]
  },
  {
   "cell_type": "code",
   "execution_count": 128,
   "metadata": {},
   "outputs": [
    {
     "data": {
      "text/plain": [
       "0    23 days\n",
       "1    15 days\n",
       "2   -59 days\n",
       "3     3 days\n",
       "4    25 days\n",
       "Name: days_temp, dtype: timedelta64[ns]"
      ]
     },
     "execution_count": 128,
     "metadata": {},
     "output_type": "execute_result"
    }
   ],
   "source": [
    "# Checking variable:\n",
    "pirated_films['days_temp'].head()"
   ]
  },
  {
   "attachments": {},
   "cell_type": "markdown",
   "metadata": {},
   "source": [
    "Now that we have this variable, we will use it to grab only the number of days:"
   ]
  },
  {
   "cell_type": "code",
   "execution_count": 129,
   "metadata": {},
   "outputs": [],
   "source": [
    "# Creating the oficial variable and deleting the temporary one:\n",
    "pirated_films['days_to_piracy'] = pirated_films['days_temp'].dt.days\n",
    "\n",
    "# Dropping temporary variable:\n",
    "pirated_films = pirated_films.drop('days_temp', axis=1)"
   ]
  },
  {
   "cell_type": "code",
   "execution_count": 130,
   "metadata": {},
   "outputs": [
    {
     "data": {
      "text/html": [
       "<div>\n",
       "<style scoped>\n",
       "    .dataframe tbody tr th:only-of-type {\n",
       "        vertical-align: middle;\n",
       "    }\n",
       "\n",
       "    .dataframe tbody tr th {\n",
       "        vertical-align: top;\n",
       "    }\n",
       "\n",
       "    .dataframe thead th {\n",
       "        text-align: right;\n",
       "    }\n",
       "</style>\n",
       "<table border=\"1\" class=\"dataframe\">\n",
       "  <thead>\n",
       "    <tr style=\"text-align: right;\">\n",
       "      <th></th>\n",
       "      <th>imdb_user_rating</th>\n",
       "      <th>film_director</th>\n",
       "      <th>downloads</th>\n",
       "      <th>industry</th>\n",
       "      <th>available_langs</th>\n",
       "      <th>platform_post_date</th>\n",
       "      <th>worldwide_release</th>\n",
       "      <th>run_time_min</th>\n",
       "      <th>movie_title</th>\n",
       "      <th>total_views</th>\n",
       "      <th>days_to_piracy</th>\n",
       "    </tr>\n",
       "  </thead>\n",
       "  <tbody>\n",
       "    <tr>\n",
       "      <th>0</th>\n",
       "      <td>4.8</td>\n",
       "      <td>John Swab</td>\n",
       "      <td>304</td>\n",
       "      <td>Hollywood / English</td>\n",
       "      <td>English</td>\n",
       "      <td>2023-02-20</td>\n",
       "      <td>2023-01-28</td>\n",
       "      <td>105</td>\n",
       "      <td>Little Dixie</td>\n",
       "      <td>2794</td>\n",
       "      <td>23</td>\n",
       "    </tr>\n",
       "    <tr>\n",
       "      <th>1</th>\n",
       "      <td>6.4</td>\n",
       "      <td>Paul Ziller</td>\n",
       "      <td>73</td>\n",
       "      <td>Hollywood / English</td>\n",
       "      <td>English</td>\n",
       "      <td>2023-02-20</td>\n",
       "      <td>2023-02-05</td>\n",
       "      <td>84</td>\n",
       "      <td>Grilling Season: A Curious Caterer Mystery</td>\n",
       "      <td>1002</td>\n",
       "      <td>15</td>\n",
       "    </tr>\n",
       "    <tr>\n",
       "      <th>2</th>\n",
       "      <td>5.2</td>\n",
       "      <td>Ben Wheatley</td>\n",
       "      <td>1427</td>\n",
       "      <td>Hollywood / English</td>\n",
       "      <td>English,Hindi</td>\n",
       "      <td>2021-04-20</td>\n",
       "      <td>2021-06-18</td>\n",
       "      <td>107</td>\n",
       "      <td>In the Earth</td>\n",
       "      <td>14419</td>\n",
       "      <td>-59</td>\n",
       "    </tr>\n",
       "    <tr>\n",
       "      <th>3</th>\n",
       "      <td>8.1</td>\n",
       "      <td>Venky Atluri</td>\n",
       "      <td>1549</td>\n",
       "      <td>Tollywood</td>\n",
       "      <td>Hindi</td>\n",
       "      <td>2023-02-20</td>\n",
       "      <td>2023-02-17</td>\n",
       "      <td>139</td>\n",
       "      <td>Vaathi</td>\n",
       "      <td>4878</td>\n",
       "      <td>3</td>\n",
       "    </tr>\n",
       "    <tr>\n",
       "      <th>4</th>\n",
       "      <td>4.6</td>\n",
       "      <td>Shaji Kailas</td>\n",
       "      <td>657</td>\n",
       "      <td>Tollywood</td>\n",
       "      <td>Hindi</td>\n",
       "      <td>2023-02-20</td>\n",
       "      <td>2023-01-26</td>\n",
       "      <td>122</td>\n",
       "      <td>Alone</td>\n",
       "      <td>2438</td>\n",
       "      <td>25</td>\n",
       "    </tr>\n",
       "  </tbody>\n",
       "</table>\n",
       "</div>"
      ],
      "text/plain": [
       "   imdb_user_rating film_director  downloads             industry  \\\n",
       "0               4.8     John Swab        304  Hollywood / English   \n",
       "1               6.4   Paul Ziller         73  Hollywood / English   \n",
       "2               5.2  Ben Wheatley       1427  Hollywood / English   \n",
       "3               8.1  Venky Atluri       1549            Tollywood   \n",
       "4               4.6  Shaji Kailas        657            Tollywood   \n",
       "\n",
       "  available_langs platform_post_date worldwide_release  run_time_min  \\\n",
       "0         English         2023-02-20        2023-01-28           105   \n",
       "1         English         2023-02-20        2023-02-05            84   \n",
       "2   English,Hindi         2021-04-20        2021-06-18           107   \n",
       "3           Hindi         2023-02-20        2023-02-17           139   \n",
       "4           Hindi         2023-02-20        2023-01-26           122   \n",
       "\n",
       "                                  movie_title  total_views  days_to_piracy  \n",
       "0                                Little Dixie         2794              23  \n",
       "1  Grilling Season: A Curious Caterer Mystery         1002              15  \n",
       "2                                In the Earth        14419             -59  \n",
       "3                                      Vaathi         4878               3  \n",
       "4                                       Alone         2438              25  "
      ]
     },
     "execution_count": 130,
     "metadata": {},
     "output_type": "execute_result"
    }
   ],
   "source": [
    "# Checking results:\n",
    "pirated_films.head()"
   ]
  },
  {
   "attachments": {},
   "cell_type": "markdown",
   "metadata": {},
   "source": [
    "Just by looking at the first values of the new variable we can see that it gives very helpfull information abaout the films, such as the third entry in the dataset that says that the movie was already pirated and available in the piracy web site 59 days before even launching worldwide.\n",
    "\n",
    "Let's check the data type of the variable:"
   ]
  },
  {
   "cell_type": "code",
   "execution_count": 131,
   "metadata": {},
   "outputs": [
    {
     "data": {
      "text/plain": [
       "dtype('int64')"
      ]
     },
     "execution_count": 131,
     "metadata": {},
     "output_type": "execute_result"
    }
   ],
   "source": [
    "# Checking data type:\n",
    "pirated_films['days_to_piracy'].dtype"
   ]
  },
  {
   "attachments": {},
   "cell_type": "markdown",
   "metadata": {},
   "source": [
    "The variable came in the int64 data type. To give it the best data type possible, let's see if we can change it to int32:"
   ]
  },
  {
   "cell_type": "code",
   "execution_count": 132,
   "metadata": {},
   "outputs": [
    {
     "name": "stdout",
     "output_type": "stream",
     "text": [
      "Max value: 32863\n",
      "Min value: -4298\n"
     ]
    }
   ],
   "source": [
    "# Checking min and max values of the new variable:\n",
    "print(f'Max value: {pirated_films[\"days_to_piracy\"].max()}')\n",
    "print(f'Min value: {pirated_films[\"days_to_piracy\"].min()}')"
   ]
  },
  {
   "attachments": {},
   "cell_type": "markdown",
   "metadata": {},
   "source": [
    "We almost can change it to int16! The limit of int16 is 32767 and in the data we have values up to 32863, close, but enough to be necessary the implementation of int32."
   ]
  },
  {
   "cell_type": "code",
   "execution_count": 133,
   "metadata": {},
   "outputs": [],
   "source": [
    "# Changing data type to int32:\n",
    "pirated_films = pirated_films.astype({'days_to_piracy': 'int32'})"
   ]
  },
  {
   "cell_type": "code",
   "execution_count": 134,
   "metadata": {},
   "outputs": [
    {
     "data": {
      "text/plain": [
       "dtype('int32')"
      ]
     },
     "execution_count": 134,
     "metadata": {},
     "output_type": "execute_result"
    }
   ],
   "source": [
    "# Checking final data types:\n",
    "pirated_films['days_to_piracy'].dtype"
   ]
  },
  {
   "attachments": {},
   "cell_type": "markdown",
   "metadata": {},
   "source": [
    "### **Creating Variable: `avg_views_per_download`**"
   ]
  },
  {
   "attachments": {},
   "cell_type": "markdown",
   "metadata": {},
   "source": [
    "This variable, togheter with the next one, will make it possible for us to understand the relevance and popularity of each movie pirated on the website, more specicaly this variable allow us to beter understand how frequently pirates watch the movies they download."
   ]
  },
  {
   "cell_type": "code",
   "execution_count": 135,
   "metadata": {},
   "outputs": [
    {
     "data": {
      "text/html": [
       "<div>\n",
       "<style scoped>\n",
       "    .dataframe tbody tr th:only-of-type {\n",
       "        vertical-align: middle;\n",
       "    }\n",
       "\n",
       "    .dataframe tbody tr th {\n",
       "        vertical-align: top;\n",
       "    }\n",
       "\n",
       "    .dataframe thead th {\n",
       "        text-align: right;\n",
       "    }\n",
       "</style>\n",
       "<table border=\"1\" class=\"dataframe\">\n",
       "  <thead>\n",
       "    <tr style=\"text-align: right;\">\n",
       "      <th></th>\n",
       "      <th>imdb_user_rating</th>\n",
       "      <th>film_director</th>\n",
       "      <th>downloads</th>\n",
       "      <th>industry</th>\n",
       "      <th>available_langs</th>\n",
       "      <th>platform_post_date</th>\n",
       "      <th>worldwide_release</th>\n",
       "      <th>run_time_min</th>\n",
       "      <th>movie_title</th>\n",
       "      <th>total_views</th>\n",
       "      <th>days_to_piracy</th>\n",
       "      <th>avg_views_per_download</th>\n",
       "    </tr>\n",
       "  </thead>\n",
       "  <tbody>\n",
       "    <tr>\n",
       "      <th>0</th>\n",
       "      <td>4.8</td>\n",
       "      <td>John Swab</td>\n",
       "      <td>304</td>\n",
       "      <td>Hollywood / English</td>\n",
       "      <td>English</td>\n",
       "      <td>2023-02-20</td>\n",
       "      <td>2023-01-28</td>\n",
       "      <td>105</td>\n",
       "      <td>Little Dixie</td>\n",
       "      <td>2794</td>\n",
       "      <td>23</td>\n",
       "      <td>9.190789</td>\n",
       "    </tr>\n",
       "    <tr>\n",
       "      <th>1</th>\n",
       "      <td>6.4</td>\n",
       "      <td>Paul Ziller</td>\n",
       "      <td>73</td>\n",
       "      <td>Hollywood / English</td>\n",
       "      <td>English</td>\n",
       "      <td>2023-02-20</td>\n",
       "      <td>2023-02-05</td>\n",
       "      <td>84</td>\n",
       "      <td>Grilling Season: A Curious Caterer Mystery</td>\n",
       "      <td>1002</td>\n",
       "      <td>15</td>\n",
       "      <td>13.726027</td>\n",
       "    </tr>\n",
       "    <tr>\n",
       "      <th>2</th>\n",
       "      <td>5.2</td>\n",
       "      <td>Ben Wheatley</td>\n",
       "      <td>1427</td>\n",
       "      <td>Hollywood / English</td>\n",
       "      <td>English,Hindi</td>\n",
       "      <td>2021-04-20</td>\n",
       "      <td>2021-06-18</td>\n",
       "      <td>107</td>\n",
       "      <td>In the Earth</td>\n",
       "      <td>14419</td>\n",
       "      <td>-59</td>\n",
       "      <td>10.104415</td>\n",
       "    </tr>\n",
       "    <tr>\n",
       "      <th>3</th>\n",
       "      <td>8.1</td>\n",
       "      <td>Venky Atluri</td>\n",
       "      <td>1549</td>\n",
       "      <td>Tollywood</td>\n",
       "      <td>Hindi</td>\n",
       "      <td>2023-02-20</td>\n",
       "      <td>2023-02-17</td>\n",
       "      <td>139</td>\n",
       "      <td>Vaathi</td>\n",
       "      <td>4878</td>\n",
       "      <td>3</td>\n",
       "      <td>3.149128</td>\n",
       "    </tr>\n",
       "    <tr>\n",
       "      <th>4</th>\n",
       "      <td>4.6</td>\n",
       "      <td>Shaji Kailas</td>\n",
       "      <td>657</td>\n",
       "      <td>Tollywood</td>\n",
       "      <td>Hindi</td>\n",
       "      <td>2023-02-20</td>\n",
       "      <td>2023-01-26</td>\n",
       "      <td>122</td>\n",
       "      <td>Alone</td>\n",
       "      <td>2438</td>\n",
       "      <td>25</td>\n",
       "      <td>3.710807</td>\n",
       "    </tr>\n",
       "  </tbody>\n",
       "</table>\n",
       "</div>"
      ],
      "text/plain": [
       "   imdb_user_rating film_director  downloads             industry  \\\n",
       "0               4.8     John Swab        304  Hollywood / English   \n",
       "1               6.4   Paul Ziller         73  Hollywood / English   \n",
       "2               5.2  Ben Wheatley       1427  Hollywood / English   \n",
       "3               8.1  Venky Atluri       1549            Tollywood   \n",
       "4               4.6  Shaji Kailas        657            Tollywood   \n",
       "\n",
       "  available_langs platform_post_date worldwide_release  run_time_min  \\\n",
       "0         English         2023-02-20        2023-01-28           105   \n",
       "1         English         2023-02-20        2023-02-05            84   \n",
       "2   English,Hindi         2021-04-20        2021-06-18           107   \n",
       "3           Hindi         2023-02-20        2023-02-17           139   \n",
       "4           Hindi         2023-02-20        2023-01-26           122   \n",
       "\n",
       "                                  movie_title  total_views  days_to_piracy  \\\n",
       "0                                Little Dixie         2794              23   \n",
       "1  Grilling Season: A Curious Caterer Mystery         1002              15   \n",
       "2                                In the Earth        14419             -59   \n",
       "3                                      Vaathi         4878               3   \n",
       "4                                       Alone         2438              25   \n",
       "\n",
       "   avg_views_per_download  \n",
       "0                9.190789  \n",
       "1               13.726027  \n",
       "2               10.104415  \n",
       "3                3.149128  \n",
       "4                3.710807  "
      ]
     },
     "execution_count": 135,
     "metadata": {},
     "output_type": "execute_result"
    }
   ],
   "source": [
    "# Creating new variable:\n",
    "pirated_films['avg_views_per_download'] = pirated_films['total_views'] / pirated_films['downloads']\n",
    "\n",
    "# Visualizing data:\n",
    "pirated_films.head()"
   ]
  },
  {
   "attachments": {},
   "cell_type": "markdown",
   "metadata": {},
   "source": [
    "As we will use this variable to further analysis, we won't round the values, instead we will keep them with the full precision of the values."
   ]
  },
  {
   "attachments": {},
   "cell_type": "markdown",
   "metadata": {},
   "source": [
    "### **Creating Variable: `avg_downloads_per_day`**"
   ]
  },
  {
   "attachments": {},
   "cell_type": "markdown",
   "metadata": {},
   "source": [
    "In junction with the `avg_views_per_download` variable, this column will allow us to beter understand the popularity and preference of movies in the piracy platform.\n",
    "\n",
    "One thing we must remember is that we have movies that got pirated the same day it was released worldwide. That means that our calculation could give a \"inf\" value, since we could be dividing by 0 (number of days), to avoid tis, let's fill the inf values with the number of dowloads."
   ]
  },
  {
   "cell_type": "code",
   "execution_count": 136,
   "metadata": {},
   "outputs": [],
   "source": [
    "# Define function:\n",
    "def add_downloads_per_day(df):\n",
    "    # calculate downloads per day\n",
    "    downloads_per_day = df['downloads'] / df['days_to_piracy']\n",
    "\n",
    "    # Checks if days_to_piracy is equal to 0 and replaces the corresponding values in \n",
    "    # downloads_per_day with the downloads values to avoid division by zero.\n",
    "    downloads_per_day[df['days_to_piracy'] == 0] = df['downloads'][df['days_to_piracy'] == 0]\n",
    "\n",
    "    # add new column to DataFrame\n",
    "    df['avg_downloads_per_day'] = np.abs(downloads_per_day)\n",
    "\n",
    "    return df"
   ]
  },
  {
   "cell_type": "code",
   "execution_count": 137,
   "metadata": {},
   "outputs": [
    {
     "data": {
      "text/html": [
       "<div>\n",
       "<style scoped>\n",
       "    .dataframe tbody tr th:only-of-type {\n",
       "        vertical-align: middle;\n",
       "    }\n",
       "\n",
       "    .dataframe tbody tr th {\n",
       "        vertical-align: top;\n",
       "    }\n",
       "\n",
       "    .dataframe thead th {\n",
       "        text-align: right;\n",
       "    }\n",
       "</style>\n",
       "<table border=\"1\" class=\"dataframe\">\n",
       "  <thead>\n",
       "    <tr style=\"text-align: right;\">\n",
       "      <th></th>\n",
       "      <th>imdb_user_rating</th>\n",
       "      <th>film_director</th>\n",
       "      <th>downloads</th>\n",
       "      <th>industry</th>\n",
       "      <th>available_langs</th>\n",
       "      <th>platform_post_date</th>\n",
       "      <th>worldwide_release</th>\n",
       "      <th>run_time_min</th>\n",
       "      <th>movie_title</th>\n",
       "      <th>total_views</th>\n",
       "      <th>days_to_piracy</th>\n",
       "      <th>avg_views_per_download</th>\n",
       "      <th>avg_downloads_per_day</th>\n",
       "    </tr>\n",
       "  </thead>\n",
       "  <tbody>\n",
       "    <tr>\n",
       "      <th>0</th>\n",
       "      <td>4.8</td>\n",
       "      <td>John Swab</td>\n",
       "      <td>304</td>\n",
       "      <td>Hollywood / English</td>\n",
       "      <td>English</td>\n",
       "      <td>2023-02-20</td>\n",
       "      <td>2023-01-28</td>\n",
       "      <td>105</td>\n",
       "      <td>Little Dixie</td>\n",
       "      <td>2794</td>\n",
       "      <td>23</td>\n",
       "      <td>9.190789</td>\n",
       "      <td>13.217391</td>\n",
       "    </tr>\n",
       "    <tr>\n",
       "      <th>1</th>\n",
       "      <td>6.4</td>\n",
       "      <td>Paul Ziller</td>\n",
       "      <td>73</td>\n",
       "      <td>Hollywood / English</td>\n",
       "      <td>English</td>\n",
       "      <td>2023-02-20</td>\n",
       "      <td>2023-02-05</td>\n",
       "      <td>84</td>\n",
       "      <td>Grilling Season: A Curious Caterer Mystery</td>\n",
       "      <td>1002</td>\n",
       "      <td>15</td>\n",
       "      <td>13.726027</td>\n",
       "      <td>4.866667</td>\n",
       "    </tr>\n",
       "    <tr>\n",
       "      <th>2</th>\n",
       "      <td>5.2</td>\n",
       "      <td>Ben Wheatley</td>\n",
       "      <td>1427</td>\n",
       "      <td>Hollywood / English</td>\n",
       "      <td>English,Hindi</td>\n",
       "      <td>2021-04-20</td>\n",
       "      <td>2021-06-18</td>\n",
       "      <td>107</td>\n",
       "      <td>In the Earth</td>\n",
       "      <td>14419</td>\n",
       "      <td>-59</td>\n",
       "      <td>10.104415</td>\n",
       "      <td>24.186441</td>\n",
       "    </tr>\n",
       "    <tr>\n",
       "      <th>3</th>\n",
       "      <td>8.1</td>\n",
       "      <td>Venky Atluri</td>\n",
       "      <td>1549</td>\n",
       "      <td>Tollywood</td>\n",
       "      <td>Hindi</td>\n",
       "      <td>2023-02-20</td>\n",
       "      <td>2023-02-17</td>\n",
       "      <td>139</td>\n",
       "      <td>Vaathi</td>\n",
       "      <td>4878</td>\n",
       "      <td>3</td>\n",
       "      <td>3.149128</td>\n",
       "      <td>516.333333</td>\n",
       "    </tr>\n",
       "    <tr>\n",
       "      <th>4</th>\n",
       "      <td>4.6</td>\n",
       "      <td>Shaji Kailas</td>\n",
       "      <td>657</td>\n",
       "      <td>Tollywood</td>\n",
       "      <td>Hindi</td>\n",
       "      <td>2023-02-20</td>\n",
       "      <td>2023-01-26</td>\n",
       "      <td>122</td>\n",
       "      <td>Alone</td>\n",
       "      <td>2438</td>\n",
       "      <td>25</td>\n",
       "      <td>3.710807</td>\n",
       "      <td>26.280000</td>\n",
       "    </tr>\n",
       "  </tbody>\n",
       "</table>\n",
       "</div>"
      ],
      "text/plain": [
       "   imdb_user_rating film_director  downloads             industry  \\\n",
       "0               4.8     John Swab        304  Hollywood / English   \n",
       "1               6.4   Paul Ziller         73  Hollywood / English   \n",
       "2               5.2  Ben Wheatley       1427  Hollywood / English   \n",
       "3               8.1  Venky Atluri       1549            Tollywood   \n",
       "4               4.6  Shaji Kailas        657            Tollywood   \n",
       "\n",
       "  available_langs platform_post_date worldwide_release  run_time_min  \\\n",
       "0         English         2023-02-20        2023-01-28           105   \n",
       "1         English         2023-02-20        2023-02-05            84   \n",
       "2   English,Hindi         2021-04-20        2021-06-18           107   \n",
       "3           Hindi         2023-02-20        2023-02-17           139   \n",
       "4           Hindi         2023-02-20        2023-01-26           122   \n",
       "\n",
       "                                  movie_title  total_views  days_to_piracy  \\\n",
       "0                                Little Dixie         2794              23   \n",
       "1  Grilling Season: A Curious Caterer Mystery         1002              15   \n",
       "2                                In the Earth        14419             -59   \n",
       "3                                      Vaathi         4878               3   \n",
       "4                                       Alone         2438              25   \n",
       "\n",
       "   avg_views_per_download  avg_downloads_per_day  \n",
       "0                9.190789              13.217391  \n",
       "1               13.726027               4.866667  \n",
       "2               10.104415              24.186441  \n",
       "3                3.149128             516.333333  \n",
       "4                3.710807              26.280000  "
      ]
     },
     "execution_count": 137,
     "metadata": {},
     "output_type": "execute_result"
    }
   ],
   "source": [
    "# Aplying the function:\n",
    "pirated_films = add_downloads_per_day(pirated_films)\n",
    "\n",
    "# Checking values:\n",
    "pirated_films.head()"
   ]
  },
  {
   "cell_type": "code",
   "execution_count": 138,
   "metadata": {},
   "outputs": [
    {
     "data": {
      "text/plain": [
       "dtype('float64')"
      ]
     },
     "execution_count": 138,
     "metadata": {},
     "output_type": "execute_result"
    }
   ],
   "source": [
    "# Checking datatype:\n",
    "pirated_films['avg_downloads_per_day'].dtype"
   ]
  },
  {
   "attachments": {},
   "cell_type": "markdown",
   "metadata": {},
   "source": [
    "## **_Rearranging Variables_**"
   ]
  },
  {
   "attachments": {},
   "cell_type": "markdown",
   "metadata": {},
   "source": [
    "With our variables cleaned, sorted and with our new variables created, we can rearrange the sequence of the columns to get a better order of visualization."
   ]
  },
  {
   "cell_type": "code",
   "execution_count": 139,
   "metadata": {},
   "outputs": [
    {
     "data": {
      "text/html": [
       "<div>\n",
       "<style scoped>\n",
       "    .dataframe tbody tr th:only-of-type {\n",
       "        vertical-align: middle;\n",
       "    }\n",
       "\n",
       "    .dataframe tbody tr th {\n",
       "        vertical-align: top;\n",
       "    }\n",
       "\n",
       "    .dataframe thead th {\n",
       "        text-align: right;\n",
       "    }\n",
       "</style>\n",
       "<table border=\"1\" class=\"dataframe\">\n",
       "  <thead>\n",
       "    <tr style=\"text-align: right;\">\n",
       "      <th></th>\n",
       "      <th>movie_title</th>\n",
       "      <th>film_director</th>\n",
       "      <th>industry</th>\n",
       "      <th>available_langs</th>\n",
       "      <th>run_time_min</th>\n",
       "      <th>imdb_user_rating</th>\n",
       "      <th>worldwide_release</th>\n",
       "      <th>platform_post_date</th>\n",
       "      <th>days_to_piracy</th>\n",
       "      <th>avg_views_per_download</th>\n",
       "      <th>avg_downloads_per_day</th>\n",
       "      <th>downloads</th>\n",
       "      <th>total_views</th>\n",
       "    </tr>\n",
       "  </thead>\n",
       "  <tbody>\n",
       "    <tr>\n",
       "      <th>0</th>\n",
       "      <td>Little Dixie</td>\n",
       "      <td>John Swab</td>\n",
       "      <td>Hollywood / English</td>\n",
       "      <td>English</td>\n",
       "      <td>105</td>\n",
       "      <td>4.8</td>\n",
       "      <td>2023-01-28</td>\n",
       "      <td>2023-02-20</td>\n",
       "      <td>23</td>\n",
       "      <td>9.190789</td>\n",
       "      <td>13.217391</td>\n",
       "      <td>304</td>\n",
       "      <td>2794</td>\n",
       "    </tr>\n",
       "    <tr>\n",
       "      <th>1</th>\n",
       "      <td>Grilling Season: A Curious Caterer Mystery</td>\n",
       "      <td>Paul Ziller</td>\n",
       "      <td>Hollywood / English</td>\n",
       "      <td>English</td>\n",
       "      <td>84</td>\n",
       "      <td>6.4</td>\n",
       "      <td>2023-02-05</td>\n",
       "      <td>2023-02-20</td>\n",
       "      <td>15</td>\n",
       "      <td>13.726027</td>\n",
       "      <td>4.866667</td>\n",
       "      <td>73</td>\n",
       "      <td>1002</td>\n",
       "    </tr>\n",
       "    <tr>\n",
       "      <th>2</th>\n",
       "      <td>In the Earth</td>\n",
       "      <td>Ben Wheatley</td>\n",
       "      <td>Hollywood / English</td>\n",
       "      <td>English,Hindi</td>\n",
       "      <td>107</td>\n",
       "      <td>5.2</td>\n",
       "      <td>2021-06-18</td>\n",
       "      <td>2021-04-20</td>\n",
       "      <td>-59</td>\n",
       "      <td>10.104415</td>\n",
       "      <td>24.186441</td>\n",
       "      <td>1427</td>\n",
       "      <td>14419</td>\n",
       "    </tr>\n",
       "    <tr>\n",
       "      <th>3</th>\n",
       "      <td>Vaathi</td>\n",
       "      <td>Venky Atluri</td>\n",
       "      <td>Tollywood</td>\n",
       "      <td>Hindi</td>\n",
       "      <td>139</td>\n",
       "      <td>8.1</td>\n",
       "      <td>2023-02-17</td>\n",
       "      <td>2023-02-20</td>\n",
       "      <td>3</td>\n",
       "      <td>3.149128</td>\n",
       "      <td>516.333333</td>\n",
       "      <td>1549</td>\n",
       "      <td>4878</td>\n",
       "    </tr>\n",
       "    <tr>\n",
       "      <th>4</th>\n",
       "      <td>Alone</td>\n",
       "      <td>Shaji Kailas</td>\n",
       "      <td>Tollywood</td>\n",
       "      <td>Hindi</td>\n",
       "      <td>122</td>\n",
       "      <td>4.6</td>\n",
       "      <td>2023-01-26</td>\n",
       "      <td>2023-02-20</td>\n",
       "      <td>25</td>\n",
       "      <td>3.710807</td>\n",
       "      <td>26.280000</td>\n",
       "      <td>657</td>\n",
       "      <td>2438</td>\n",
       "    </tr>\n",
       "    <tr>\n",
       "      <th>5</th>\n",
       "      <td>Anubhavinchu Raja</td>\n",
       "      <td>Srinivas Gavireddy</td>\n",
       "      <td>Tollywood</td>\n",
       "      <td>Hindi</td>\n",
       "      <td>131</td>\n",
       "      <td>5.4</td>\n",
       "      <td>2021-11-26</td>\n",
       "      <td>2023-02-20</td>\n",
       "      <td>451</td>\n",
       "      <td>3.941019</td>\n",
       "      <td>1.654102</td>\n",
       "      <td>746</td>\n",
       "      <td>2940</td>\n",
       "    </tr>\n",
       "    <tr>\n",
       "      <th>6</th>\n",
       "      <td>WWE Elimination Chamber</td>\n",
       "      <td>Not Assigned</td>\n",
       "      <td>Wrestling</td>\n",
       "      <td>English</td>\n",
       "      <td>200</td>\n",
       "      <td>5.8</td>\n",
       "      <td>2023-02-18</td>\n",
       "      <td>2023-02-19</td>\n",
       "      <td>1</td>\n",
       "      <td>2.246437</td>\n",
       "      <td>5332.000000</td>\n",
       "      <td>5332</td>\n",
       "      <td>11978</td>\n",
       "    </tr>\n",
       "    <tr>\n",
       "      <th>7</th>\n",
       "      <td>Sharper</td>\n",
       "      <td>Benjamin Caron</td>\n",
       "      <td>Hollywood / English</td>\n",
       "      <td>English</td>\n",
       "      <td>116</td>\n",
       "      <td>6.5</td>\n",
       "      <td>2023-02-17</td>\n",
       "      <td>2023-02-13</td>\n",
       "      <td>-4</td>\n",
       "      <td>10.233015</td>\n",
       "      <td>445.250000</td>\n",
       "      <td>1781</td>\n",
       "      <td>18225</td>\n",
       "    </tr>\n",
       "    <tr>\n",
       "      <th>8</th>\n",
       "      <td>Four Samosas</td>\n",
       "      <td>Ravi Kapoor</td>\n",
       "      <td>Hollywood / English</td>\n",
       "      <td>English</td>\n",
       "      <td>80</td>\n",
       "      <td>6.9</td>\n",
       "      <td>2022-12-02</td>\n",
       "      <td>2023-02-18</td>\n",
       "      <td>78</td>\n",
       "      <td>15.091703</td>\n",
       "      <td>5.871795</td>\n",
       "      <td>458</td>\n",
       "      <td>6912</td>\n",
       "    </tr>\n",
       "    <tr>\n",
       "      <th>9</th>\n",
       "      <td>Blood Harvest</td>\n",
       "      <td>Danny LeGare</td>\n",
       "      <td>Hollywood / English</td>\n",
       "      <td>English</td>\n",
       "      <td>80</td>\n",
       "      <td>4.2</td>\n",
       "      <td>2023-02-07</td>\n",
       "      <td>2023-02-18</td>\n",
       "      <td>11</td>\n",
       "      <td>4.941476</td>\n",
       "      <td>178.636364</td>\n",
       "      <td>1965</td>\n",
       "      <td>9710</td>\n",
       "    </tr>\n",
       "  </tbody>\n",
       "</table>\n",
       "</div>"
      ],
      "text/plain": [
       "                                  movie_title       film_director  \\\n",
       "0                                Little Dixie           John Swab   \n",
       "1  Grilling Season: A Curious Caterer Mystery         Paul Ziller   \n",
       "2                                In the Earth        Ben Wheatley   \n",
       "3                                      Vaathi        Venky Atluri   \n",
       "4                                       Alone        Shaji Kailas   \n",
       "5                           Anubhavinchu Raja  Srinivas Gavireddy   \n",
       "6                     WWE Elimination Chamber        Not Assigned   \n",
       "7                                     Sharper      Benjamin Caron   \n",
       "8                                Four Samosas         Ravi Kapoor   \n",
       "9                               Blood Harvest        Danny LeGare   \n",
       "\n",
       "              industry available_langs  run_time_min  imdb_user_rating  \\\n",
       "0  Hollywood / English         English           105               4.8   \n",
       "1  Hollywood / English         English            84               6.4   \n",
       "2  Hollywood / English   English,Hindi           107               5.2   \n",
       "3            Tollywood           Hindi           139               8.1   \n",
       "4            Tollywood           Hindi           122               4.6   \n",
       "5            Tollywood           Hindi           131               5.4   \n",
       "6            Wrestling         English           200               5.8   \n",
       "7  Hollywood / English         English           116               6.5   \n",
       "8  Hollywood / English         English            80               6.9   \n",
       "9  Hollywood / English         English            80               4.2   \n",
       "\n",
       "  worldwide_release platform_post_date  days_to_piracy  \\\n",
       "0        2023-01-28         2023-02-20              23   \n",
       "1        2023-02-05         2023-02-20              15   \n",
       "2        2021-06-18         2021-04-20             -59   \n",
       "3        2023-02-17         2023-02-20               3   \n",
       "4        2023-01-26         2023-02-20              25   \n",
       "5        2021-11-26         2023-02-20             451   \n",
       "6        2023-02-18         2023-02-19               1   \n",
       "7        2023-02-17         2023-02-13              -4   \n",
       "8        2022-12-02         2023-02-18              78   \n",
       "9        2023-02-07         2023-02-18              11   \n",
       "\n",
       "   avg_views_per_download  avg_downloads_per_day  downloads  total_views  \n",
       "0                9.190789              13.217391        304         2794  \n",
       "1               13.726027               4.866667         73         1002  \n",
       "2               10.104415              24.186441       1427        14419  \n",
       "3                3.149128             516.333333       1549         4878  \n",
       "4                3.710807              26.280000        657         2438  \n",
       "5                3.941019               1.654102        746         2940  \n",
       "6                2.246437            5332.000000       5332        11978  \n",
       "7               10.233015             445.250000       1781        18225  \n",
       "8               15.091703               5.871795        458         6912  \n",
       "9                4.941476             178.636364       1965         9710  "
      ]
     },
     "execution_count": 139,
     "metadata": {},
     "output_type": "execute_result"
    }
   ],
   "source": [
    "# Rearranging variables:\n",
    "new_order = ['movie_title', 'film_director', 'industry', 'available_langs', \n",
    "             'run_time_min', 'imdb_user_rating', 'worldwide_release', \n",
    "             'platform_post_date', 'days_to_piracy', 'avg_views_per_download', \n",
    "             'avg_downloads_per_day', 'downloads', 'total_views']\n",
    "\n",
    "# Defining the order:\n",
    "pirated_films = pirated_films.reindex(columns=new_order)\n",
    "\n",
    "# Checking final dataset:\n",
    "pirated_films.head(10)"
   ]
  },
  {
   "attachments": {},
   "cell_type": "markdown",
   "metadata": {},
   "source": [
    "With our dataset ready for analysis, we will create a new Notebook that will hold the Univariate Analysis for the project. This will be done for a couple of reasons:\n",
    "\n",
    "- If we were to do the entire EDA on a single notebook, it would end up to large, that would make it harder and more tedious to navigate the document and find the information you want.\n",
    "\n",
    "- With multiple notebooks for each step of the project as large as this one, it makes very simple and easy to understand where certain parts of the EDA are. Want to see the cleaning phase? this is the notebook, want to see the plots and analysis? that is the notebook, etc.\n",
    "\n",
    "So to continue on to the next notebook, let's save our dataset as a new CSV."
   ]
  },
  {
   "cell_type": "code",
   "execution_count": 140,
   "metadata": {},
   "outputs": [],
   "source": [
    "# Creating a new clean CSV:\n",
    "pirated_films.to_csv('data/pirated_films.csv', index=False, sep=',')"
   ]
  }
 ],
 "metadata": {
  "kernelspec": {
   "display_name": "pirate_venv",
   "language": "python",
   "name": "python3"
  },
  "language_info": {
   "codemirror_mode": {
    "name": "ipython",
    "version": 3
   },
   "file_extension": ".py",
   "mimetype": "text/x-python",
   "name": "python",
   "nbconvert_exporter": "python",
   "pygments_lexer": "ipython3",
   "version": "3.10.9"
  },
  "orig_nbformat": 4,
  "vscode": {
   "interpreter": {
    "hash": "0b9a7b68d25f51425ba4ce154b66734d4f59374869df646bbb4a0e0976e0cdd5"
   }
  }
 },
 "nbformat": 4,
 "nbformat_minor": 2
}
