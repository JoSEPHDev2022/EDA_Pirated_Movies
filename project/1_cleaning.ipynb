{
 "cells": [
  {
   "attachments": {},
   "cell_type": "markdown",
   "metadata": {},
   "source": [
    "# **Objective**\n",
    "\n",
    "---"
   ]
  },
  {
   "attachments": {},
   "cell_type": "markdown",
   "metadata": {},
   "source": [
    "The main objective of this project is to analyze data from a [Kaggle Dataset](https://www.kaggle.com/datasets/arsalanrehman/movies-dataset-from-piracy-website) that was obtained from a website with a user base of around 2 million visitors per month, despite being a pirated website. The dataset contains over 20,000 movies from various industries, including Hollywood, Bollywood, Anime, and others.\n",
    "\n",
    "The goal is to provide the best possible description of the data, utilizing data science methods, statistical approaches, and creating a detailed report.\n",
    "\n",
    "Due to the project's large size, to avoid a single notebook with 10,000+ lines of code and markdown cells, and to create a notebook that is easy to understand and navigate, we will work on four different Jupyter notebook reports, each holding a step in our EDA.\n",
    "\n",
    "The steps for creating the reports are as follows:\n",
    "\n",
    "**Notebook 1:**\n",
    "\n",
    "- Collecting and Understanding the Data.\n",
    "\n",
    "- Data Preparation and Transformation.\n",
    "\n",
    "**Notebook 2:**\n",
    "\n",
    "- Univariate Analysis.\n",
    "\n",
    "**Notebook 3:**\n",
    "\n",
    "- Multivariate Analysis.\n",
    "\n",
    "**Notebook 4:**\n",
    "\n",
    "- Questions, Insights, and Answers."
   ]
  },
  {
   "attachments": {},
   "cell_type": "markdown",
   "metadata": {},
   "source": [
    "# **Importing Packages and Collecting the Dataset**\n",
    "\n",
    "---"
   ]
  },
  {
   "cell_type": "code",
   "execution_count": 2,
   "metadata": {},
   "outputs": [
    {
     "name": "stdout",
     "output_type": "stream",
     "text": [
      "Packages collected!\n"
     ]
    }
   ],
   "source": [
    "# Importing the required libraries for the first step of the project:\n",
    "import pandas as pd\n",
    "import numpy as np\n",
    "import warnings\n",
    "import re\n",
    "\n",
    "# Filtering out warnings:\n",
    "warnings.filterwarnings('ignore')\n",
    "\n",
    "# Setting pandas dataframe visualization parameters:\n",
    "pd.set_option('display.max_columns', 100)\n",
    "\n",
    "print('Packages collected!')"
   ]
  },
  {
   "cell_type": "code",
   "execution_count": 3,
   "metadata": {},
   "outputs": [],
   "source": [
    "# Creating the Dataframe with original data:\n",
    "data = pd.read_csv('data/movies_dataset.csv', sep=',')"
   ]
  },
  {
   "attachments": {},
   "cell_type": "markdown",
   "metadata": {},
   "source": [
    "- First rows:"
   ]
  },
  {
   "cell_type": "code",
   "execution_count": 4,
   "metadata": {},
   "outputs": [
    {
     "data": {
      "text/html": [
       "<div>\n",
       "<style scoped>\n",
       "    .dataframe tbody tr th:only-of-type {\n",
       "        vertical-align: middle;\n",
       "    }\n",
       "\n",
       "    .dataframe tbody tr th {\n",
       "        vertical-align: top;\n",
       "    }\n",
       "\n",
       "    .dataframe thead th {\n",
       "        text-align: right;\n",
       "    }\n",
       "</style>\n",
       "<table border=\"1\" class=\"dataframe\">\n",
       "  <thead>\n",
       "    <tr style=\"text-align: right;\">\n",
       "      <th></th>\n",
       "      <th>Unnamed: 0</th>\n",
       "      <th>IMDb-rating</th>\n",
       "      <th>appropriate_for</th>\n",
       "      <th>director</th>\n",
       "      <th>downloads</th>\n",
       "      <th>id</th>\n",
       "      <th>industry</th>\n",
       "      <th>language</th>\n",
       "      <th>posted_date</th>\n",
       "      <th>release_date</th>\n",
       "      <th>run_time</th>\n",
       "      <th>storyline</th>\n",
       "      <th>title</th>\n",
       "      <th>views</th>\n",
       "      <th>writer</th>\n",
       "    </tr>\n",
       "  </thead>\n",
       "  <tbody>\n",
       "    <tr>\n",
       "      <th>0</th>\n",
       "      <td>0</td>\n",
       "      <td>4.8</td>\n",
       "      <td>R</td>\n",
       "      <td>John Swab</td>\n",
       "      <td>304</td>\n",
       "      <td>372092</td>\n",
       "      <td>Hollywood / English</td>\n",
       "      <td>English</td>\n",
       "      <td>20 Feb, 2023</td>\n",
       "      <td>Jan 28 2023</td>\n",
       "      <td>105</td>\n",
       "      <td>Doc\\r\\n facilitates a fragile truce between th...</td>\n",
       "      <td>Little Dixie</td>\n",
       "      <td>2,794</td>\n",
       "      <td>John Swab</td>\n",
       "    </tr>\n",
       "    <tr>\n",
       "      <th>1</th>\n",
       "      <td>1</td>\n",
       "      <td>6.4</td>\n",
       "      <td>TV-PG</td>\n",
       "      <td>Paul Ziller</td>\n",
       "      <td>73</td>\n",
       "      <td>372091</td>\n",
       "      <td>Hollywood / English</td>\n",
       "      <td>English</td>\n",
       "      <td>20 Feb, 2023</td>\n",
       "      <td>Feb 05 2023</td>\n",
       "      <td>84</td>\n",
       "      <td>Caterer\\r\\n Goldy Berry reunites with detectiv...</td>\n",
       "      <td>Grilling Season: A Curious Caterer Mystery</td>\n",
       "      <td>1,002</td>\n",
       "      <td>John Christian Plummer</td>\n",
       "    </tr>\n",
       "    <tr>\n",
       "      <th>2</th>\n",
       "      <td>2</td>\n",
       "      <td>5.2</td>\n",
       "      <td>R</td>\n",
       "      <td>Ben Wheatley</td>\n",
       "      <td>1,427</td>\n",
       "      <td>343381</td>\n",
       "      <td>Hollywood / English</td>\n",
       "      <td>English,Hindi</td>\n",
       "      <td>20 Apr, 2021</td>\n",
       "      <td>Jun 18 2021</td>\n",
       "      <td>1h 47min</td>\n",
       "      <td>As the world searches for a cure to a disastro...</td>\n",
       "      <td>In the Earth</td>\n",
       "      <td>14,419</td>\n",
       "      <td>Ben Wheatley</td>\n",
       "    </tr>\n",
       "    <tr>\n",
       "      <th>3</th>\n",
       "      <td>3</td>\n",
       "      <td>8.1</td>\n",
       "      <td>NaN</td>\n",
       "      <td>Venky Atluri</td>\n",
       "      <td>1,549</td>\n",
       "      <td>372090</td>\n",
       "      <td>Tollywood</td>\n",
       "      <td>Hindi</td>\n",
       "      <td>20 Feb, 2023</td>\n",
       "      <td>Feb 17 2023</td>\n",
       "      <td>139</td>\n",
       "      <td>The life of a young man and his struggles agai...</td>\n",
       "      <td>Vaathi</td>\n",
       "      <td>4,878</td>\n",
       "      <td>Venky Atluri</td>\n",
       "    </tr>\n",
       "    <tr>\n",
       "      <th>4</th>\n",
       "      <td>4</td>\n",
       "      <td>4.6</td>\n",
       "      <td>NaN</td>\n",
       "      <td>Shaji Kailas</td>\n",
       "      <td>657</td>\n",
       "      <td>372089</td>\n",
       "      <td>Tollywood</td>\n",
       "      <td>Hindi</td>\n",
       "      <td>20 Feb, 2023</td>\n",
       "      <td>Jan 26 2023</td>\n",
       "      <td>122</td>\n",
       "      <td>A man named Kalidas gets stranded due to the p...</td>\n",
       "      <td>Alone</td>\n",
       "      <td>2,438</td>\n",
       "      <td>Rajesh Jayaraman</td>\n",
       "    </tr>\n",
       "  </tbody>\n",
       "</table>\n",
       "</div>"
      ],
      "text/plain": [
       "   Unnamed: 0  IMDb-rating appropriate_for      director downloads      id  \\\n",
       "0           0          4.8               R     John Swab       304  372092   \n",
       "1           1          6.4           TV-PG   Paul Ziller        73  372091   \n",
       "2           2          5.2               R  Ben Wheatley     1,427  343381   \n",
       "3           3          8.1             NaN  Venky Atluri     1,549  372090   \n",
       "4           4          4.6             NaN  Shaji Kailas       657  372089   \n",
       "\n",
       "              industry       language   posted_date release_date  run_time  \\\n",
       "0  Hollywood / English        English  20 Feb, 2023  Jan 28 2023       105   \n",
       "1  Hollywood / English        English  20 Feb, 2023  Feb 05 2023        84   \n",
       "2  Hollywood / English  English,Hindi  20 Apr, 2021  Jun 18 2021  1h 47min   \n",
       "3            Tollywood          Hindi  20 Feb, 2023  Feb 17 2023       139   \n",
       "4            Tollywood          Hindi  20 Feb, 2023  Jan 26 2023       122   \n",
       "\n",
       "                                           storyline  \\\n",
       "0  Doc\\r\\n facilitates a fragile truce between th...   \n",
       "1  Caterer\\r\\n Goldy Berry reunites with detectiv...   \n",
       "2  As the world searches for a cure to a disastro...   \n",
       "3  The life of a young man and his struggles agai...   \n",
       "4  A man named Kalidas gets stranded due to the p...   \n",
       "\n",
       "                                        title   views                  writer  \n",
       "0                                Little Dixie   2,794               John Swab  \n",
       "1  Grilling Season: A Curious Caterer Mystery   1,002  John Christian Plummer  \n",
       "2                                In the Earth  14,419            Ben Wheatley  \n",
       "3                                      Vaathi   4,878            Venky Atluri  \n",
       "4                                       Alone   2,438        Rajesh Jayaraman  "
      ]
     },
     "execution_count": 4,
     "metadata": {},
     "output_type": "execute_result"
    }
   ],
   "source": [
    "data.head()"
   ]
  },
  {
   "attachments": {},
   "cell_type": "markdown",
   "metadata": {},
   "source": [
    "- Sample rows:"
   ]
  },
  {
   "cell_type": "code",
   "execution_count": 5,
   "metadata": {},
   "outputs": [
    {
     "data": {
      "text/html": [
       "<div>\n",
       "<style scoped>\n",
       "    .dataframe tbody tr th:only-of-type {\n",
       "        vertical-align: middle;\n",
       "    }\n",
       "\n",
       "    .dataframe tbody tr th {\n",
       "        vertical-align: top;\n",
       "    }\n",
       "\n",
       "    .dataframe thead th {\n",
       "        text-align: right;\n",
       "    }\n",
       "</style>\n",
       "<table border=\"1\" class=\"dataframe\">\n",
       "  <thead>\n",
       "    <tr style=\"text-align: right;\">\n",
       "      <th></th>\n",
       "      <th>Unnamed: 0</th>\n",
       "      <th>IMDb-rating</th>\n",
       "      <th>appropriate_for</th>\n",
       "      <th>director</th>\n",
       "      <th>downloads</th>\n",
       "      <th>id</th>\n",
       "      <th>industry</th>\n",
       "      <th>language</th>\n",
       "      <th>posted_date</th>\n",
       "      <th>release_date</th>\n",
       "      <th>run_time</th>\n",
       "      <th>storyline</th>\n",
       "      <th>title</th>\n",
       "      <th>views</th>\n",
       "      <th>writer</th>\n",
       "    </tr>\n",
       "  </thead>\n",
       "  <tbody>\n",
       "    <tr>\n",
       "      <th>13749</th>\n",
       "      <td>13749</td>\n",
       "      <td>6.6</td>\n",
       "      <td>PG-13</td>\n",
       "      <td>Roger Donaldson</td>\n",
       "      <td>3,937</td>\n",
       "      <td>121064</td>\n",
       "      <td>Hollywood / English</td>\n",
       "      <td>English,Persian,Russian</td>\n",
       "      <td>18 Feb, 2015</td>\n",
       "      <td>Jan 31 2003</td>\n",
       "      <td>1h 55min</td>\n",
       "      <td>In an era when the country's first line of def...</td>\n",
       "      <td>The Recruit</td>\n",
       "      <td>13,763</td>\n",
       "      <td>Roger Towne, Kurt Wimmer</td>\n",
       "    </tr>\n",
       "    <tr>\n",
       "      <th>11750</th>\n",
       "      <td>11750</td>\n",
       "      <td>5.5</td>\n",
       "      <td>R</td>\n",
       "      <td>Ben Wheatley</td>\n",
       "      <td>3,742</td>\n",
       "      <td>175075</td>\n",
       "      <td>Hollywood / English</td>\n",
       "      <td>English</td>\n",
       "      <td>30 Apr, 2016</td>\n",
       "      <td>Mar 18 2016</td>\n",
       "      <td>119</td>\n",
       "      <td>Life for the residents of a tower block begins...</td>\n",
       "      <td>High-Rise</td>\n",
       "      <td>27,447</td>\n",
       "      <td>Amy Jump, J.G. Ballard</td>\n",
       "    </tr>\n",
       "    <tr>\n",
       "      <th>4914</th>\n",
       "      <td>4914</td>\n",
       "      <td>6.1</td>\n",
       "      <td>NaN</td>\n",
       "      <td>Anu Menon</td>\n",
       "      <td>16,029</td>\n",
       "      <td>331661</td>\n",
       "      <td>Bollywood / Indian</td>\n",
       "      <td>Hindi</td>\n",
       "      <td>02 Aug, 2020</td>\n",
       "      <td>Jul 31 2020</td>\n",
       "      <td>127</td>\n",
       "      <td>The extraordinary story of Shakuntala Devi, th...</td>\n",
       "      <td>Shakuntala Devi</td>\n",
       "      <td>60,514</td>\n",
       "      <td>Anu Menon, Nayanika Mahtani, Ishita Moitra</td>\n",
       "    </tr>\n",
       "    <tr>\n",
       "      <th>873</th>\n",
       "      <td>873</td>\n",
       "      <td>4.7</td>\n",
       "      <td>NaN</td>\n",
       "      <td>Sean Lahiff</td>\n",
       "      <td>1,455</td>\n",
       "      <td>371943</td>\n",
       "      <td>Hollywood / English</td>\n",
       "      <td>English</td>\n",
       "      <td>16 Feb, 2023</td>\n",
       "      <td>Dec 01 2022</td>\n",
       "      <td>93</td>\n",
       "      <td>An\\r\\n aspiring documentarian and two conserva...</td>\n",
       "      <td>Carnifex</td>\n",
       "      <td>11,653</td>\n",
       "      <td>Shanti Gudgeon</td>\n",
       "    </tr>\n",
       "    <tr>\n",
       "      <th>4074</th>\n",
       "      <td>4074</td>\n",
       "      <td>5.4</td>\n",
       "      <td>NaN</td>\n",
       "      <td>Haroula Rose</td>\n",
       "      <td>267</td>\n",
       "      <td>338840</td>\n",
       "      <td>Hollywood / English</td>\n",
       "      <td>English</td>\n",
       "      <td>14 Jan, 2021</td>\n",
       "      <td>May 10 2019</td>\n",
       "      <td>1h 32min</td>\n",
       "      <td>Margo Crane's odyssey on the Stark River intro...</td>\n",
       "      <td>Once Upon a River</td>\n",
       "      <td>3,723</td>\n",
       "      <td>Bonnie Jo Campbell, Haroula Rose</td>\n",
       "    </tr>\n",
       "  </tbody>\n",
       "</table>\n",
       "</div>"
      ],
      "text/plain": [
       "       Unnamed: 0  IMDb-rating appropriate_for         director downloads  \\\n",
       "13749       13749          6.6           PG-13  Roger Donaldson     3,937   \n",
       "11750       11750          5.5               R     Ben Wheatley     3,742   \n",
       "4914         4914          6.1             NaN        Anu Menon    16,029   \n",
       "873           873          4.7             NaN      Sean Lahiff     1,455   \n",
       "4074         4074          5.4             NaN     Haroula Rose       267   \n",
       "\n",
       "           id             industry                 language   posted_date  \\\n",
       "13749  121064  Hollywood / English  English,Persian,Russian  18 Feb, 2015   \n",
       "11750  175075  Hollywood / English                  English  30 Apr, 2016   \n",
       "4914   331661   Bollywood / Indian                    Hindi  02 Aug, 2020   \n",
       "873    371943  Hollywood / English                  English  16 Feb, 2023   \n",
       "4074   338840  Hollywood / English                  English  14 Jan, 2021   \n",
       "\n",
       "      release_date  run_time  \\\n",
       "13749  Jan 31 2003  1h 55min   \n",
       "11750  Mar 18 2016       119   \n",
       "4914   Jul 31 2020       127   \n",
       "873    Dec 01 2022        93   \n",
       "4074   May 10 2019  1h 32min   \n",
       "\n",
       "                                               storyline              title  \\\n",
       "13749  In an era when the country's first line of def...        The Recruit   \n",
       "11750  Life for the residents of a tower block begins...          High-Rise   \n",
       "4914   The extraordinary story of Shakuntala Devi, th...    Shakuntala Devi   \n",
       "873    An\\r\\n aspiring documentarian and two conserva...           Carnifex   \n",
       "4074   Margo Crane's odyssey on the Stark River intro...  Once Upon a River   \n",
       "\n",
       "        views                                      writer  \n",
       "13749  13,763                    Roger Towne, Kurt Wimmer  \n",
       "11750  27,447                      Amy Jump, J.G. Ballard  \n",
       "4914   60,514  Anu Menon, Nayanika Mahtani, Ishita Moitra  \n",
       "873    11,653                              Shanti Gudgeon  \n",
       "4074    3,723            Bonnie Jo Campbell, Haroula Rose  "
      ]
     },
     "execution_count": 5,
     "metadata": {},
     "output_type": "execute_result"
    }
   ],
   "source": [
    "data.sample(5)"
   ]
  },
  {
   "attachments": {},
   "cell_type": "markdown",
   "metadata": {},
   "source": [
    "# **Understanding the Dataset**\n",
    "\n",
    "---"
   ]
  },
  {
   "attachments": {},
   "cell_type": "markdown",
   "metadata": {},
   "source": [
    "Before we can begin describing and analyzing the data, it is important to understand what variables are present in the dataset and the values they contain. To accomplish this, we will create a simple markdown table that explains the contents of the dataset.\n",
    "\n",
    "**Table 1.1: Variable Dictionary and Analysis**\n",
    "\n",
    "| Variable Name             | Variable Contents                 | Variable Importance for Analysis             | Comments About Variable                                                                        |\n",
    "|---------------------------|-----------------------------------|----------------------------------------------|------------------------------------------------------------------------------------------------|\n",
    "| **`Unnamed:0`**           | Row id native to the Dataset      | 🔴 Irrelevant                                 | Not needed since Pandas Dataframes already comes with a Id column                              |\n",
    "| **`IMDB-rating`**         | Rating of the movie on IMDB       | 🟢 High                                       | None                                                                                           |\n",
    "| **`appropriate_for`**     | Movie classification rating       | 🟡 Medium                                     | Interesting possibilities for analysis. Be careful with the amount of different rating systems |\n",
    "| **`director`**            | Name of movie director            | 🟡 Medium                                     | None                                                                                           |\n",
    "| **`dowloads`**            | Number of dowloads per movie      | 🟢 High                                       | None                                                                                           |\n",
    "| **`id`**                  | Unique Id per movie               | 🔴 Irrelevant                                 | Same motive as the first variable                                                              |\n",
    "| **`industry`**            | Industry that produced the movie  | 🟢 High                                       | None                                                                                           |\n",
    "| **`language`**            | Available languages for the movie | 🟠 Low                                         | Not much important for the analysis as a hole, but not totally irrelevant                      |\n",
    "| **`posted_date`**         | When the movie was posted on the platform | 🟢 High                                | Very important metric for the analysis                                                         |\n",
    "| **`released_date`**       | When the movie was released worldwide | 🟢 High                                    | In conjunction with the variable above, opens up lots of analytical possibilities             |\n",
    "| **`run_time`**            | Runtime of the movie (minutes)    | 🟡 Medium                                      | None                                                                                           |\n",
    "| **`storyline`**           | Movie synopsis                    | 🔴 Irrelevant                                  | For the pourposes of this analysis, the movie storyline is not needed                          |\n",
    "| **`title`**               | Movie title                       | 🟢 High                                      | Without a name, there is no movie!                                                             |\n",
    "| **`views`**               | Number of clicks per movie        | 🟢 High                                          | Very important metric alongside with downloads                                                  |\n",
    "| **`writer`**              | List of all the movie writers     | 🟠 Low                                          | None                                                                                           |\n"
   ]
  },
  {
   "attachments": {},
   "cell_type": "markdown",
   "metadata": {},
   "source": [
    "With this table, we can identify the important and less important variables in the dataset. However, before we can transform or delete any data, we will keep it to perform further analysis and description. To begin, we will check the dimensions of the dataset using the **`.shape`** method."
   ]
  },
  {
   "cell_type": "code",
   "execution_count": 6,
   "metadata": {},
   "outputs": [
    {
     "name": "stdout",
     "output_type": "stream",
     "text": [
      "Total Variables: 15\n",
      "Total Rows: 20548\n"
     ]
    }
   ],
   "source": [
    "# Checking dataset dimensions:\n",
    "print(f'Total Variables: {data.shape[1]}\\nTotal Rows: {data.shape[0]}')"
   ]
  },
  {
   "attachments": {},
   "cell_type": "markdown",
   "metadata": {},
   "source": [
    "We can observe that this is a considerably large dataset, with over **20,000 registry entries**. Now, let's use the **`.info()`** method to obtain more detailed information about these variables."
   ]
  },
  {
   "cell_type": "code",
   "execution_count": 7,
   "metadata": {},
   "outputs": [
    {
     "name": "stdout",
     "output_type": "stream",
     "text": [
      "<class 'pandas.core.frame.DataFrame'>\n",
      "RangeIndex: 20548 entries, 0 to 20547\n",
      "Data columns (total 15 columns):\n",
      " #   Column           Non-Null Count  Dtype  \n",
      "---  ------           --------------  -----  \n",
      " 0   Unnamed: 0       20548 non-null  int64  \n",
      " 1   IMDb-rating      19707 non-null  float64\n",
      " 2   appropriate_for  11072 non-null  object \n",
      " 3   director         18610 non-null  object \n",
      " 4   downloads        20547 non-null  object \n",
      " 5   id               20548 non-null  int64  \n",
      " 6   industry         20547 non-null  object \n",
      " 7   language         20006 non-null  object \n",
      " 8   posted_date      20547 non-null  object \n",
      " 9   release_date     20547 non-null  object \n",
      " 10  run_time         18780 non-null  object \n",
      " 11  storyline        18847 non-null  object \n",
      " 12  title            20547 non-null  object \n",
      " 13  views            20547 non-null  object \n",
      " 14  writer           18356 non-null  object \n",
      "dtypes: float64(1), int64(2), object(12)\n",
      "memory usage: 2.4+ MB\n"
     ]
    }
   ],
   "source": [
    "# Cheking general information about the Dataset:\n",
    "data.info()"
   ]
  },
  {
   "attachments": {},
   "cell_type": "markdown",
   "metadata": {},
   "source": [
    "Now we have more detailed information about the specific variables in the Dataset:\n",
    "\n",
    "**Null Values**\n",
    "\n",
    "- All columns except the `id` variable contain null values.\n",
    "\n",
    "**Data Types**\n",
    "\n",
    "- The Dataset has one `float64` variable, two `int64` variables, and twelve `object` variables.\n",
    "\n",
    "**Memory Usage**\n",
    "\n",
    "- The Dataset, in its current form, consumes over **2.4 MB** of memory.\n",
    "\n",
    "**Proposed Changes**\n",
    "\n",
    "- Assess and deal with the null values.\n",
    "\n",
    "- Change most of the data types to improve memory efficiency. This is the most important change in this case because most of the variables are not in an appropriate data format, e.g., `posted_date` is an object data type instead of datetime and `runtime` is an object type instead of float or int.\n",
    "\n",
    "Now, let's check the exact amount and percentage of null values in each column:"
   ]
  },
  {
   "cell_type": "code",
   "execution_count": 8,
   "metadata": {},
   "outputs": [
    {
     "data": {
      "text/plain": [
       "appropriate_for    9476\n",
       "writer             2192\n",
       "director           1938\n",
       "run_time           1768\n",
       "storyline          1701\n",
       "IMDb-rating         841\n",
       "language            542\n",
       "downloads             1\n",
       "industry              1\n",
       "posted_date           1\n",
       "release_date          1\n",
       "title                 1\n",
       "views                 1\n",
       "Unnamed: 0            0\n",
       "id                    0\n",
       "dtype: int64"
      ]
     },
     "execution_count": 8,
     "metadata": {},
     "output_type": "execute_result"
    }
   ],
   "source": [
    "# Checking total null values:\n",
    "null_count = (data\n",
    "              .isna()\n",
    "              .sum()\n",
    "              .sort_values(ascending=False))\n",
    "\n",
    "null_count"
   ]
  },
  {
   "cell_type": "code",
   "execution_count": 9,
   "metadata": {},
   "outputs": [
    {
     "data": {
      "text/plain": [
       "appropriate_for    46.1164\n",
       "writer             10.6677\n",
       "director            9.4316\n",
       "run_time            8.6042\n",
       "storyline           8.2782\n",
       "IMDb-rating         4.0929\n",
       "language            2.6377\n",
       "downloads           0.0049\n",
       "industry            0.0049\n",
       "posted_date         0.0049\n",
       "release_date        0.0049\n",
       "title               0.0049\n",
       "views               0.0049\n",
       "Unnamed: 0          0.0000\n",
       "id                  0.0000\n",
       "dtype: float64"
      ]
     },
     "execution_count": 9,
     "metadata": {},
     "output_type": "execute_result"
    }
   ],
   "source": [
    "# Checking percentage of total size:\n",
    "null_percentage = round((data.isna().sum()/data.shape[0]) * 100, 4)\n",
    "\n",
    "null_percentage.sort_values(ascending=False)"
   ]
  },
  {
   "attachments": {},
   "cell_type": "markdown",
   "metadata": {},
   "source": [
    "Upon immediate inspection, it is apparent that the `appropriate_for` variable is almost useless for analysis as it contains **9,476 missing values**, which represents more than **46%** of the total dataset size. Due to its lack of significance, this variable will be dropped during the cleaning phase.\n",
    "\n",
    "Similarly, the `writer` column has **2,192 null values**, representing more than **10.5%** of the total data size, and has already been considered low priority in Table 1.1. Therefore, it will also be dropped during the cleaning phase.\n",
    "\n",
    "However, the `director` variable has the potential for substantial analysis, even though it has almost the same number of null values as the `writer` column. Thus, it has been labeled as high priority in Table 1.1.\n",
    "\n",
    "The `runtime` and `storyline` variables both have a similar amount of missing values, accounting for around **8.5%** of the total data. The former can be filled in using the `mode()` of the variable, as this metric is not significantly affected by the presence of outliers and should maintain the data consistency. On the other hand, the latter variable will be dropped, as indicated in Table 1.1.\n",
    "\n",
    "All other variables have few or no null values and can be easily filled or dropped, such as the `Unnamed: 0` column.\n"
   ]
  },
  {
   "attachments": {},
   "cell_type": "markdown",
   "metadata": {},
   "source": [
    "# **Data Preparation and Cleaning**\n",
    "\n",
    "---"
   ]
  },
  {
   "attachments": {},
   "cell_type": "markdown",
   "metadata": {},
   "source": [
    "In this section, we will make all the necessary changes to the dataset as described in the previous section. To summarize, we will:\n",
    "\n",
    "- Drop unnecessary or undesirable variables;\n",
    "\n",
    "- Rename variables if necessary;\n",
    "\n",
    "- Handle missing (null) values;\n",
    "\n",
    "- Change data types;\n",
    "\n",
    "- Handle duplicates;\n",
    "\n",
    "- Add new features to the dataset (feature engineering).\n",
    "\n",
    "We will start by dropping the useless variables."
   ]
  },
  {
   "attachments": {},
   "cell_type": "markdown",
   "metadata": {},
   "source": [
    "## **_Dropping Variables_**"
   ]
  },
  {
   "attachments": {},
   "cell_type": "markdown",
   "metadata": {},
   "source": [
    "As indicated by Table 1.1 and our subsequent analysis of null values, there are some variables that will be dropped and some that can be filled to be used in the analysis. The following variables will be deleted from the dataset:\n",
    "\n",
    "**Variables to Drop**\n",
    "\n",
    "- **`Unnamed: 0`**\n",
    "\n",
    "- **`id`**\n",
    "\n",
    "- **`storyline`**\n",
    "\n",
    "- **`writer`**\n",
    "\n",
    "- **`appropriate_for`**\n",
    "\n",
    "To manipulate the dataset, we will create a copy of the dataframe by using the `copy()` method. This is important to prevent modifying the original dataset and to have a backup in case we need to compare the changes made."
   ]
  },
  {
   "cell_type": "code",
   "execution_count": 10,
   "metadata": {},
   "outputs": [],
   "source": [
    "# Creating copy:\n",
    "pirated_films = data.copy()"
   ]
  },
  {
   "attachments": {},
   "cell_type": "markdown",
   "metadata": {},
   "source": [
    "Now, we can drop the undesirable variables:"
   ]
  },
  {
   "cell_type": "code",
   "execution_count": 11,
   "metadata": {},
   "outputs": [],
   "source": [
    "# Dropping undesirable variables\n",
    "pirated_films = (pirated_films\n",
    "                 .drop(['Unnamed: 0', 'id', 'storyline', 'writer', 'appropriate_for'], \n",
    "                       axis=1))"
   ]
  },
  {
   "cell_type": "code",
   "execution_count": 12,
   "metadata": {},
   "outputs": [
    {
     "data": {
      "text/html": [
       "<div>\n",
       "<style scoped>\n",
       "    .dataframe tbody tr th:only-of-type {\n",
       "        vertical-align: middle;\n",
       "    }\n",
       "\n",
       "    .dataframe tbody tr th {\n",
       "        vertical-align: top;\n",
       "    }\n",
       "\n",
       "    .dataframe thead th {\n",
       "        text-align: right;\n",
       "    }\n",
       "</style>\n",
       "<table border=\"1\" class=\"dataframe\">\n",
       "  <thead>\n",
       "    <tr style=\"text-align: right;\">\n",
       "      <th></th>\n",
       "      <th>IMDb-rating</th>\n",
       "      <th>director</th>\n",
       "      <th>downloads</th>\n",
       "      <th>industry</th>\n",
       "      <th>language</th>\n",
       "      <th>posted_date</th>\n",
       "      <th>release_date</th>\n",
       "      <th>run_time</th>\n",
       "      <th>title</th>\n",
       "      <th>views</th>\n",
       "    </tr>\n",
       "  </thead>\n",
       "  <tbody>\n",
       "    <tr>\n",
       "      <th>0</th>\n",
       "      <td>4.8</td>\n",
       "      <td>John Swab</td>\n",
       "      <td>304</td>\n",
       "      <td>Hollywood / English</td>\n",
       "      <td>English</td>\n",
       "      <td>20 Feb, 2023</td>\n",
       "      <td>Jan 28 2023</td>\n",
       "      <td>105</td>\n",
       "      <td>Little Dixie</td>\n",
       "      <td>2,794</td>\n",
       "    </tr>\n",
       "    <tr>\n",
       "      <th>1</th>\n",
       "      <td>6.4</td>\n",
       "      <td>Paul Ziller</td>\n",
       "      <td>73</td>\n",
       "      <td>Hollywood / English</td>\n",
       "      <td>English</td>\n",
       "      <td>20 Feb, 2023</td>\n",
       "      <td>Feb 05 2023</td>\n",
       "      <td>84</td>\n",
       "      <td>Grilling Season: A Curious Caterer Mystery</td>\n",
       "      <td>1,002</td>\n",
       "    </tr>\n",
       "    <tr>\n",
       "      <th>2</th>\n",
       "      <td>5.2</td>\n",
       "      <td>Ben Wheatley</td>\n",
       "      <td>1,427</td>\n",
       "      <td>Hollywood / English</td>\n",
       "      <td>English,Hindi</td>\n",
       "      <td>20 Apr, 2021</td>\n",
       "      <td>Jun 18 2021</td>\n",
       "      <td>1h 47min</td>\n",
       "      <td>In the Earth</td>\n",
       "      <td>14,419</td>\n",
       "    </tr>\n",
       "    <tr>\n",
       "      <th>3</th>\n",
       "      <td>8.1</td>\n",
       "      <td>Venky Atluri</td>\n",
       "      <td>1,549</td>\n",
       "      <td>Tollywood</td>\n",
       "      <td>Hindi</td>\n",
       "      <td>20 Feb, 2023</td>\n",
       "      <td>Feb 17 2023</td>\n",
       "      <td>139</td>\n",
       "      <td>Vaathi</td>\n",
       "      <td>4,878</td>\n",
       "    </tr>\n",
       "    <tr>\n",
       "      <th>4</th>\n",
       "      <td>4.6</td>\n",
       "      <td>Shaji Kailas</td>\n",
       "      <td>657</td>\n",
       "      <td>Tollywood</td>\n",
       "      <td>Hindi</td>\n",
       "      <td>20 Feb, 2023</td>\n",
       "      <td>Jan 26 2023</td>\n",
       "      <td>122</td>\n",
       "      <td>Alone</td>\n",
       "      <td>2,438</td>\n",
       "    </tr>\n",
       "  </tbody>\n",
       "</table>\n",
       "</div>"
      ],
      "text/plain": [
       "   IMDb-rating      director downloads             industry       language  \\\n",
       "0          4.8     John Swab       304  Hollywood / English        English   \n",
       "1          6.4   Paul Ziller        73  Hollywood / English        English   \n",
       "2          5.2  Ben Wheatley     1,427  Hollywood / English  English,Hindi   \n",
       "3          8.1  Venky Atluri     1,549            Tollywood          Hindi   \n",
       "4          4.6  Shaji Kailas       657            Tollywood          Hindi   \n",
       "\n",
       "    posted_date release_date  run_time  \\\n",
       "0  20 Feb, 2023  Jan 28 2023       105   \n",
       "1  20 Feb, 2023  Feb 05 2023        84   \n",
       "2  20 Apr, 2021  Jun 18 2021  1h 47min   \n",
       "3  20 Feb, 2023  Feb 17 2023       139   \n",
       "4  20 Feb, 2023  Jan 26 2023       122   \n",
       "\n",
       "                                        title   views  \n",
       "0                                Little Dixie   2,794  \n",
       "1  Grilling Season: A Curious Caterer Mystery   1,002  \n",
       "2                                In the Earth  14,419  \n",
       "3                                      Vaathi   4,878  \n",
       "4                                       Alone   2,438  "
      ]
     },
     "execution_count": 12,
     "metadata": {},
     "output_type": "execute_result"
    }
   ],
   "source": [
    "# Cheking new data:\n",
    "pirated_films.head()"
   ]
  },
  {
   "attachments": {},
   "cell_type": "markdown",
   "metadata": {},
   "source": [
    "## **_Renaming Variables_**"
   ]
  },
  {
   "attachments": {},
   "cell_type": "markdown",
   "metadata": {},
   "source": [
    "Now that we have only the desired variables in the dataset, we will change some variable names to standardize the dataset and have the best naming convention possible, using short and descriptive names."
   ]
  },
  {
   "cell_type": "code",
   "execution_count": 13,
   "metadata": {},
   "outputs": [
    {
     "data": {
      "text/html": [
       "<div>\n",
       "<style scoped>\n",
       "    .dataframe tbody tr th:only-of-type {\n",
       "        vertical-align: middle;\n",
       "    }\n",
       "\n",
       "    .dataframe tbody tr th {\n",
       "        vertical-align: top;\n",
       "    }\n",
       "\n",
       "    .dataframe thead th {\n",
       "        text-align: right;\n",
       "    }\n",
       "</style>\n",
       "<table border=\"1\" class=\"dataframe\">\n",
       "  <thead>\n",
       "    <tr style=\"text-align: right;\">\n",
       "      <th></th>\n",
       "      <th>imdb_user_rating</th>\n",
       "      <th>film_director</th>\n",
       "      <th>downloads</th>\n",
       "      <th>industry</th>\n",
       "      <th>available_langs</th>\n",
       "      <th>platform_post_date</th>\n",
       "      <th>worldwide_release</th>\n",
       "      <th>run_time_min</th>\n",
       "      <th>movie_title</th>\n",
       "      <th>total_views</th>\n",
       "    </tr>\n",
       "  </thead>\n",
       "  <tbody>\n",
       "    <tr>\n",
       "      <th>0</th>\n",
       "      <td>4.8</td>\n",
       "      <td>John Swab</td>\n",
       "      <td>304</td>\n",
       "      <td>Hollywood / English</td>\n",
       "      <td>English</td>\n",
       "      <td>20 Feb, 2023</td>\n",
       "      <td>Jan 28 2023</td>\n",
       "      <td>105</td>\n",
       "      <td>Little Dixie</td>\n",
       "      <td>2,794</td>\n",
       "    </tr>\n",
       "    <tr>\n",
       "      <th>1</th>\n",
       "      <td>6.4</td>\n",
       "      <td>Paul Ziller</td>\n",
       "      <td>73</td>\n",
       "      <td>Hollywood / English</td>\n",
       "      <td>English</td>\n",
       "      <td>20 Feb, 2023</td>\n",
       "      <td>Feb 05 2023</td>\n",
       "      <td>84</td>\n",
       "      <td>Grilling Season: A Curious Caterer Mystery</td>\n",
       "      <td>1,002</td>\n",
       "    </tr>\n",
       "    <tr>\n",
       "      <th>2</th>\n",
       "      <td>5.2</td>\n",
       "      <td>Ben Wheatley</td>\n",
       "      <td>1,427</td>\n",
       "      <td>Hollywood / English</td>\n",
       "      <td>English,Hindi</td>\n",
       "      <td>20 Apr, 2021</td>\n",
       "      <td>Jun 18 2021</td>\n",
       "      <td>1h 47min</td>\n",
       "      <td>In the Earth</td>\n",
       "      <td>14,419</td>\n",
       "    </tr>\n",
       "    <tr>\n",
       "      <th>3</th>\n",
       "      <td>8.1</td>\n",
       "      <td>Venky Atluri</td>\n",
       "      <td>1,549</td>\n",
       "      <td>Tollywood</td>\n",
       "      <td>Hindi</td>\n",
       "      <td>20 Feb, 2023</td>\n",
       "      <td>Feb 17 2023</td>\n",
       "      <td>139</td>\n",
       "      <td>Vaathi</td>\n",
       "      <td>4,878</td>\n",
       "    </tr>\n",
       "    <tr>\n",
       "      <th>4</th>\n",
       "      <td>4.6</td>\n",
       "      <td>Shaji Kailas</td>\n",
       "      <td>657</td>\n",
       "      <td>Tollywood</td>\n",
       "      <td>Hindi</td>\n",
       "      <td>20 Feb, 2023</td>\n",
       "      <td>Jan 26 2023</td>\n",
       "      <td>122</td>\n",
       "      <td>Alone</td>\n",
       "      <td>2,438</td>\n",
       "    </tr>\n",
       "  </tbody>\n",
       "</table>\n",
       "</div>"
      ],
      "text/plain": [
       "   imdb_user_rating film_director downloads             industry  \\\n",
       "0               4.8     John Swab       304  Hollywood / English   \n",
       "1               6.4   Paul Ziller        73  Hollywood / English   \n",
       "2               5.2  Ben Wheatley     1,427  Hollywood / English   \n",
       "3               8.1  Venky Atluri     1,549            Tollywood   \n",
       "4               4.6  Shaji Kailas       657            Tollywood   \n",
       "\n",
       "  available_langs platform_post_date worldwide_release run_time_min  \\\n",
       "0         English       20 Feb, 2023       Jan 28 2023          105   \n",
       "1         English       20 Feb, 2023       Feb 05 2023           84   \n",
       "2   English,Hindi       20 Apr, 2021       Jun 18 2021     1h 47min   \n",
       "3           Hindi       20 Feb, 2023       Feb 17 2023          139   \n",
       "4           Hindi       20 Feb, 2023       Jan 26 2023          122   \n",
       "\n",
       "                                  movie_title total_views  \n",
       "0                                Little Dixie       2,794  \n",
       "1  Grilling Season: A Curious Caterer Mystery       1,002  \n",
       "2                                In the Earth      14,419  \n",
       "3                                      Vaathi       4,878  \n",
       "4                                       Alone       2,438  "
      ]
     },
     "execution_count": 13,
     "metadata": {},
     "output_type": "execute_result"
    }
   ],
   "source": [
    "# Renaming variables:\n",
    "pirated_films = pirated_films.rename(columns={'IMDb-rating': 'imdb_user_rating',\n",
    "                                              'director': 'film_director',\n",
    "                                              'language': 'available_langs',\n",
    "                                              'posted_date': 'platform_post_date',\n",
    "                                              'release_date': 'worldwide_release',\n",
    "                                              'run_time': 'run_time_min',\n",
    "                                              'title': 'movie_title',\n",
    "                                              'views': 'total_views'})\n",
    "\n",
    "# Cheking data:\n",
    "pirated_films.head()"
   ]
  },
  {
   "attachments": {},
   "cell_type": "markdown",
   "metadata": {},
   "source": [
    "## **_Handling Null Values_**"
   ]
  },
  {
   "attachments": {},
   "cell_type": "markdown",
   "metadata": {},
   "source": [
    "Before determining the best approach to deal with null values, let's first check the null values present in the remaining variables of the dataset."
   ]
  },
  {
   "cell_type": "code",
   "execution_count": 14,
   "metadata": {},
   "outputs": [
    {
     "data": {
      "text/plain": [
       "imdb_user_rating      4.0929\n",
       "film_director         9.4316\n",
       "downloads             0.0049\n",
       "industry              0.0049\n",
       "available_langs       2.6377\n",
       "platform_post_date    0.0049\n",
       "worldwide_release     0.0049\n",
       "run_time_min          8.6042\n",
       "movie_title           0.0049\n",
       "total_views           0.0049\n",
       "dtype: float64"
      ]
     },
     "execution_count": 14,
     "metadata": {},
     "output_type": "execute_result"
    }
   ],
   "source": [
    "# Checking null values:\n",
    "round((pirated_films.isna().sum()/pirated_films.shape[0]) * 100, 4)"
   ]
  },
  {
   "attachments": {},
   "cell_type": "markdown",
   "metadata": {},
   "source": [
    "With this information, we can now proceed to handle the null values in the dataset, one variable at a time"
   ]
  },
  {
   "attachments": {},
   "cell_type": "markdown",
   "metadata": {},
   "source": [
    "### **Dealing with Nulls: `imdb_user_rating`**"
   ]
  },
  {
   "attachments": {},
   "cell_type": "markdown",
   "metadata": {},
   "source": [
    "Let's get a better look at this variable:"
   ]
  },
  {
   "cell_type": "code",
   "execution_count": 15,
   "metadata": {},
   "outputs": [
    {
     "data": {
      "text/plain": [
       "count    19707.000000\n",
       "mean         5.762151\n",
       "std          1.374041\n",
       "min          1.100000\n",
       "25%          4.800000\n",
       "50%          5.700000\n",
       "75%          6.600000\n",
       "max          9.900000\n",
       "Name: imdb_user_rating, dtype: float64"
      ]
     },
     "execution_count": 15,
     "metadata": {},
     "output_type": "execute_result"
    }
   ],
   "source": [
    "pirated_films['imdb_user_rating'].describe()"
   ]
  },
  {
   "attachments": {},
   "cell_type": "markdown",
   "metadata": {},
   "source": [
    "For the fill method, we will use the **mean** of the total values of the variable:"
   ]
  },
  {
   "cell_type": "code",
   "execution_count": 16,
   "metadata": {},
   "outputs": [
    {
     "data": {
      "text/plain": [
       "5.8"
      ]
     },
     "execution_count": 16,
     "metadata": {},
     "output_type": "execute_result"
    }
   ],
   "source": [
    "# Defining mean:\n",
    "mean_ratings = pirated_films['imdb_user_rating'].mean().round(1)\n",
    "\n",
    "mean_ratings"
   ]
  },
  {
   "cell_type": "code",
   "execution_count": 17,
   "metadata": {},
   "outputs": [
    {
     "data": {
      "text/plain": [
       "0"
      ]
     },
     "execution_count": 17,
     "metadata": {},
     "output_type": "execute_result"
    }
   ],
   "source": [
    "# Placing mean in all null values at the variable:\n",
    "pirated_films['imdb_user_rating'] = (pirated_films['imdb_user_rating']\n",
    "                                     .fillna(mean_ratings))\n",
    "\n",
    "pirated_films['imdb_user_rating'].isna().sum()"
   ]
  },
  {
   "cell_type": "code",
   "execution_count": 18,
   "metadata": {},
   "outputs": [
    {
     "data": {
      "text/plain": [
       "count    20548.000000\n",
       "mean         5.763700\n",
       "std          1.345648\n",
       "min          1.100000\n",
       "25%          4.900000\n",
       "50%          5.800000\n",
       "75%          6.600000\n",
       "max          9.900000\n",
       "Name: imdb_user_rating, dtype: float64"
      ]
     },
     "execution_count": 18,
     "metadata": {},
     "output_type": "execute_result"
    }
   ],
   "source": [
    "# Checking statistics:\n",
    "pirated_films['imdb_user_rating'].describe()"
   ]
  },
  {
   "attachments": {},
   "cell_type": "markdown",
   "metadata": {},
   "source": [
    "### **Dealing with Nulls: `film_director`**"
   ]
  },
  {
   "attachments": {},
   "cell_type": "markdown",
   "metadata": {},
   "source": [
    "When dealing with categorical variables like the `director` column, the ideal method to fill in missing values is to use the **mode**, which represents the most frequent category. \n",
    "\n",
    "However, for this column specifically, assigning all null values to the same director would not be a good approach. Instead, we will fill in the missing values with a string indicating that the director information was not provided."
   ]
  },
  {
   "cell_type": "code",
   "execution_count": 19,
   "metadata": {},
   "outputs": [
    {
     "data": {
      "text/plain": [
       "0"
      ]
     },
     "execution_count": 19,
     "metadata": {},
     "output_type": "execute_result"
    }
   ],
   "source": [
    "# Filling nulls with custom string:\n",
    "pirated_films['film_director'] = pirated_films['film_director'].fillna('Not Assigned')\n",
    "\n",
    "# Checking nulls:\n",
    "pirated_films['film_director'].isna().sum()"
   ]
  },
  {
   "cell_type": "code",
   "execution_count": 20,
   "metadata": {},
   "outputs": [
    {
     "data": {
      "text/plain": [
       "count            20548\n",
       "unique            9673\n",
       "top       Not Assigned\n",
       "freq              1938\n",
       "Name: film_director, dtype: object"
      ]
     },
     "execution_count": 20,
     "metadata": {},
     "output_type": "execute_result"
    }
   ],
   "source": [
    "# Checking variable:\n",
    "pirated_films['film_director'].describe()"
   ]
  },
  {
   "attachments": {},
   "cell_type": "markdown",
   "metadata": {},
   "source": [
    "Here, we can observe a trend in the data, where most of the films in the dataset do not have a Director assigned to them."
   ]
  },
  {
   "attachments": {},
   "cell_type": "markdown",
   "metadata": {},
   "source": [
    "### **Dealing with Nulls: `dowloads` and all other 0.0049% null variables**"
   ]
  },
  {
   "attachments": {},
   "cell_type": "markdown",
   "metadata": {},
   "source": [
    "Let's examine the number of null values present in this variable more closely, as the initial null value check we performed for all variables in the dataset showed that it has only **0.0049%** of null values, along with other variables with the same amount of nulls."
   ]
  },
  {
   "cell_type": "code",
   "execution_count": 21,
   "metadata": {},
   "outputs": [
    {
     "data": {
      "text/plain": [
       "1"
      ]
     },
     "execution_count": 21,
     "metadata": {},
     "output_type": "execute_result"
    }
   ],
   "source": [
    "# Checking total values:\n",
    "pirated_films['downloads'].isna().sum()"
   ]
  },
  {
   "attachments": {},
   "cell_type": "markdown",
   "metadata": {},
   "source": [
    "It seems that only one record is missing the value for the `downloads` variable. Could it be possible that all other variables that were shown to have only 0.0049% of nulls are actually referring to the same record? To test this hypothesis, we can query the exact entry that has the null value for the `downloads` variable and see if the other variables are also null for that same record."
   ]
  },
  {
   "cell_type": "code",
   "execution_count": 22,
   "metadata": {},
   "outputs": [
    {
     "data": {
      "text/html": [
       "<div>\n",
       "<style scoped>\n",
       "    .dataframe tbody tr th:only-of-type {\n",
       "        vertical-align: middle;\n",
       "    }\n",
       "\n",
       "    .dataframe tbody tr th {\n",
       "        vertical-align: top;\n",
       "    }\n",
       "\n",
       "    .dataframe thead th {\n",
       "        text-align: right;\n",
       "    }\n",
       "</style>\n",
       "<table border=\"1\" class=\"dataframe\">\n",
       "  <thead>\n",
       "    <tr style=\"text-align: right;\">\n",
       "      <th></th>\n",
       "      <th>imdb_user_rating</th>\n",
       "      <th>film_director</th>\n",
       "      <th>downloads</th>\n",
       "      <th>industry</th>\n",
       "      <th>available_langs</th>\n",
       "      <th>platform_post_date</th>\n",
       "      <th>worldwide_release</th>\n",
       "      <th>run_time_min</th>\n",
       "      <th>movie_title</th>\n",
       "      <th>total_views</th>\n",
       "    </tr>\n",
       "  </thead>\n",
       "  <tbody>\n",
       "    <tr>\n",
       "      <th>149</th>\n",
       "      <td>7.1</td>\n",
       "      <td>Not Assigned</td>\n",
       "      <td>NaN</td>\n",
       "      <td>NaN</td>\n",
       "      <td>NaN</td>\n",
       "      <td>NaN</td>\n",
       "      <td>NaN</td>\n",
       "      <td>NaN</td>\n",
       "      <td>NaN</td>\n",
       "      <td>NaN</td>\n",
       "    </tr>\n",
       "  </tbody>\n",
       "</table>\n",
       "</div>"
      ],
      "text/plain": [
       "     imdb_user_rating film_director downloads industry available_langs  \\\n",
       "149               7.1  Not Assigned       NaN      NaN             NaN   \n",
       "\n",
       "    platform_post_date worldwide_release run_time_min movie_title total_views  \n",
       "149                NaN               NaN          NaN         NaN         NaN  "
      ]
     },
     "execution_count": 22,
     "metadata": {},
     "output_type": "execute_result"
    }
   ],
   "source": [
    "# Checking the null record:\n",
    "pirated_films.query('downloads.isna()')"
   ]
  },
  {
   "attachments": {},
   "cell_type": "markdown",
   "metadata": {},
   "source": [
    "As suspected, all the variables that had 0.0049% of null values are actually from only one entry. Moreover, this entry does not even have the movie name, making it completely useless for analysis. Therefore, it will be dropped from the dataset."
   ]
  },
  {
   "cell_type": "code",
   "execution_count": 23,
   "metadata": {},
   "outputs": [],
   "source": [
    "# Grabbing the index of the null record:\n",
    "drop_index = pirated_films.loc[(pirated_films['downloads'].isna())].index\n",
    "\n",
    "# Dropping the entry:\n",
    "pirated_films = pirated_films.drop(drop_index)"
   ]
  },
  {
   "cell_type": "code",
   "execution_count": 24,
   "metadata": {},
   "outputs": [
    {
     "data": {
      "text/html": [
       "<div>\n",
       "<style scoped>\n",
       "    .dataframe tbody tr th:only-of-type {\n",
       "        vertical-align: middle;\n",
       "    }\n",
       "\n",
       "    .dataframe tbody tr th {\n",
       "        vertical-align: top;\n",
       "    }\n",
       "\n",
       "    .dataframe thead th {\n",
       "        text-align: right;\n",
       "    }\n",
       "</style>\n",
       "<table border=\"1\" class=\"dataframe\">\n",
       "  <thead>\n",
       "    <tr style=\"text-align: right;\">\n",
       "      <th></th>\n",
       "      <th>imdb_user_rating</th>\n",
       "      <th>film_director</th>\n",
       "      <th>downloads</th>\n",
       "      <th>industry</th>\n",
       "      <th>available_langs</th>\n",
       "      <th>platform_post_date</th>\n",
       "      <th>worldwide_release</th>\n",
       "      <th>run_time_min</th>\n",
       "      <th>movie_title</th>\n",
       "      <th>total_views</th>\n",
       "    </tr>\n",
       "  </thead>\n",
       "  <tbody>\n",
       "  </tbody>\n",
       "</table>\n",
       "</div>"
      ],
      "text/plain": [
       "Empty DataFrame\n",
       "Columns: [imdb_user_rating, film_director, downloads, industry, available_langs, platform_post_date, worldwide_release, run_time_min, movie_title, total_views]\n",
       "Index: []"
      ]
     },
     "execution_count": 24,
     "metadata": {},
     "output_type": "execute_result"
    }
   ],
   "source": [
    "# Checking the null entry:\n",
    "pirated_films.query('downloads.isna()')"
   ]
  },
  {
   "attachments": {},
   "cell_type": "markdown",
   "metadata": {},
   "source": [
    "We can also check if all the other variables that had 0.0049% of null values are now at 0%:"
   ]
  },
  {
   "cell_type": "code",
   "execution_count": 25,
   "metadata": {},
   "outputs": [
    {
     "data": {
      "text/plain": [
       "imdb_user_rating      0.0000\n",
       "film_director         0.0000\n",
       "downloads             0.0000\n",
       "industry              0.0000\n",
       "available_langs       2.6330\n",
       "platform_post_date    0.0000\n",
       "worldwide_release     0.0000\n",
       "run_time_min          8.5998\n",
       "movie_title           0.0000\n",
       "total_views           0.0000\n",
       "dtype: float64"
      ]
     },
     "execution_count": 25,
     "metadata": {},
     "output_type": "execute_result"
    }
   ],
   "source": [
    "# Checking total nulls:\n",
    "round((pirated_films.isna().sum()/pirated_films.shape[0]) * 100, 4)"
   ]
  },
  {
   "attachments": {},
   "cell_type": "markdown",
   "metadata": {},
   "source": [
    "Indeed all other 0.0049% null variables are gone."
   ]
  },
  {
   "attachments": {},
   "cell_type": "markdown",
   "metadata": {},
   "source": [
    "### **Dealing with Nulls: `available_langs`**"
   ]
  },
  {
   "attachments": {},
   "cell_type": "markdown",
   "metadata": {},
   "source": [
    "Another variable in the dataset contains null values and refers to the available languages of the movie. Since this is a categorical (qualitative) variable, we will fill in the missing values with the mode, which is the most frequently occurring language. But before we do that, let's take a closer look at the variable."
   ]
  },
  {
   "cell_type": "code",
   "execution_count": 26,
   "metadata": {},
   "outputs": [
    {
     "data": {
      "text/plain": [
       "count       20006\n",
       "unique       1168\n",
       "top       English\n",
       "freq        12657\n",
       "Name: available_langs, dtype: object"
      ]
     },
     "execution_count": 26,
     "metadata": {},
     "output_type": "execute_result"
    }
   ],
   "source": [
    "# Describing variable:\n",
    "pirated_films['available_langs'].describe()"
   ]
  },
  {
   "attachments": {},
   "cell_type": "markdown",
   "metadata": {},
   "source": [
    "The `describe` method shows that **English** is the most frequently occurring language in the dataset. Therefore, we will replace the null entries with the value 'English'."
   ]
  },
  {
   "cell_type": "code",
   "execution_count": 27,
   "metadata": {},
   "outputs": [],
   "source": [
    "# Defining mode:\n",
    "mode_fill = pirated_films['available_langs'].mode()[0] # English\n",
    "\n",
    "# Filling the nulls:\n",
    "pirated_films['available_langs'] = pirated_films['available_langs'].fillna(mode_fill)"
   ]
  },
  {
   "cell_type": "code",
   "execution_count": 28,
   "metadata": {},
   "outputs": [
    {
     "data": {
      "text/plain": [
       "imdb_user_rating      0.0000\n",
       "film_director         0.0000\n",
       "downloads             0.0000\n",
       "industry              0.0000\n",
       "available_langs       0.0000\n",
       "platform_post_date    0.0000\n",
       "worldwide_release     0.0000\n",
       "run_time_min          8.5998\n",
       "movie_title           0.0000\n",
       "total_views           0.0000\n",
       "dtype: float64"
      ]
     },
     "execution_count": 28,
     "metadata": {},
     "output_type": "execute_result"
    }
   ],
   "source": [
    "# Checking nulls:\n",
    "round((pirated_films.isna().sum()/pirated_films.shape[0]) * 100, 4)"
   ]
  },
  {
   "attachments": {},
   "cell_type": "markdown",
   "metadata": {},
   "source": [
    "### **Dealing with Nulls: `run_time_min`**"
   ]
  },
  {
   "attachments": {},
   "cell_type": "markdown",
   "metadata": {},
   "source": [
    "Let's take a closer look at the last variable with null values. We can start by using the `describe` method:"
   ]
  },
  {
   "cell_type": "code",
   "execution_count": 29,
   "metadata": {},
   "outputs": [
    {
     "data": {
      "text/plain": [
       "count     18780\n",
       "unique      415\n",
       "top          93\n",
       "freq        652\n",
       "Name: run_time_min, dtype: object"
      ]
     },
     "execution_count": 29,
     "metadata": {},
     "output_type": "execute_result"
    }
   ],
   "source": [
    "# Describing variable:\n",
    "pirated_films['run_time_min'].describe()"
   ]
  },
  {
   "attachments": {},
   "cell_type": "markdown",
   "metadata": {},
   "source": [
    "This variable needs more work as the current data type is an **object**. We need to convert it to numeric type before filling the null values. Therefore, to start with, we need to clean the data and convert the data type to numeric."
   ]
  },
  {
   "cell_type": "code",
   "execution_count": 30,
   "metadata": {},
   "outputs": [
    {
     "data": {
      "text/plain": [
       "array([nan, '139', '109', '120 min', '1h 31min', '101', '112', '87',\n",
       "       '1h 22min', '91 min', '1h 48min', '150', '1h 33min', '100', '93',\n",
       "       '140', '126', '115', '1h 32min', '80', '49min', '81 min',\n",
       "       '1h 41min', '1h 26min'], dtype=object)"
      ]
     },
     "execution_count": 30,
     "metadata": {},
     "output_type": "execute_result"
    }
   ],
   "source": [
    "# Checking values:\n",
    "pirated_films['run_time_min'].sample(30).unique()"
   ]
  },
  {
   "attachments": {},
   "cell_type": "markdown",
   "metadata": {},
   "source": [
    "After checking a random sample of the data, it appears that the variable is not in an appropriate format. Although the variable name indicates that it should be in minutes, there are still many entries that define it in hours and, of course, there are null values.\n",
    "\n",
    "To clean this variable, a more robust function for string manipulation will be necessary:"
   ]
  },
  {
   "cell_type": "code",
   "execution_count": 31,
   "metadata": {},
   "outputs": [],
   "source": [
    "# Creating function:\n",
    "def convert_runtime(value):\n",
    "    '''\n",
    "    Converts a movie runtime string into only minutes.\n",
    "\n",
    "    Args\n",
    "    -----\n",
    "        value (str): The movie runtime string in different formats of hours and minutes.\n",
    "\n",
    "    Returns\n",
    "    --------\n",
    "        int: The movie runtime in minutes. If the input value is not a string or\n",
    "            does not match the expected format, the original value is returned.\n",
    "\n",
    "    Example\n",
    "    --------\n",
    "        >>> convert_runtime(\"1h 47min\")\n",
    "        107\n",
    "        >>> convert_runtime(\"120 min\")\n",
    "        120\n",
    "        >>> convert_runtime(\"2h 5m\")\n",
    "        125\n",
    "        >>> convert_runtime(\"3h 25 min\")\n",
    "        205\n",
    "    '''\n",
    "    if not isinstance(value, str):\n",
    "        return value\n",
    "    \n",
    "    # Pattern 1: xxh/hours xxm/min\n",
    "    match = re.search(r'(\\d+)\\s*h(?:h|ours)?\\s*(\\d+)\\s*(?:m|min)?', value)\n",
    "    if match:\n",
    "        hours, minutes = map(int, match.groups())\n",
    "        return hours * 60 + minutes\n",
    "\n",
    "    # Pattern 2: xxh/hr xxm/min\n",
    "    match = re.search(r'(\\d+)\\s*(?:h|hr)\\s*(\\d+)\\s*(?:m|min)?', value)\n",
    "    if match:\n",
    "        hours, minutes = map(int, match.groups())\n",
    "        return hours * 60 + minutes\n",
    "\n",
    "    # Pattern 3: xxh/hr xxm\n",
    "    match = re.search(r'(\\d+)\\s*(?:h|hr)\\s*(\\d+)\\s*m', value)\n",
    "    if match:\n",
    "        hours, minutes = map(int, match.groups())\n",
    "        return hours * 60 + minutes\n",
    "\n",
    "    # Pattern 4: xxm/min\n",
    "    match = re.search(r'(\\d+)\\s*(?:m|min)', value)\n",
    "    if match:\n",
    "        return int(match.group(1))\n",
    "\n",
    "    # Pattern 5: xxh/hours\n",
    "    match = re.search(r'(\\d+)\\s*(?:h|hours)', value)\n",
    "    if match:\n",
    "        return int(match.group(1))\n",
    "\n",
    "    return value\n"
   ]
  },
  {
   "cell_type": "code",
   "execution_count": 32,
   "metadata": {},
   "outputs": [],
   "source": [
    "# Applying the function:\n",
    "pirated_films['run_time_min'] = pirated_films['run_time_min'].apply(convert_runtime)"
   ]
  },
  {
   "attachments": {},
   "cell_type": "markdown",
   "metadata": {},
   "source": [
    "Now let's do a quick check on a sample from the variable values:"
   ]
  },
  {
   "cell_type": "code",
   "execution_count": 33,
   "metadata": {},
   "outputs": [
    {
     "data": {
      "text/plain": [
       "20492    NaN\n",
       "11308    110\n",
       "17208     90\n",
       "12705     86\n",
       "11536    147\n",
       "19988     86\n",
       "17057    NaN\n",
       "9351     134\n",
       "12898     89\n",
       "19105     98\n",
       "Name: run_time_min, dtype: object"
      ]
     },
     "execution_count": 33,
     "metadata": {},
     "output_type": "execute_result"
    }
   ],
   "source": [
    "# Checking results:\n",
    "pirated_films['run_time_min'].sample(10)"
   ]
  },
  {
   "attachments": {},
   "cell_type": "markdown",
   "metadata": {},
   "source": [
    "We have successfully transformed the data, where all the run times are now in minutes. We will temporarily fill the null values with '0' as a string, so that we can change the data type of the column to integer. After that, we will replace the nulls (now zeros) with the median value of the non-null entries."
   ]
  },
  {
   "cell_type": "code",
   "execution_count": 34,
   "metadata": {},
   "outputs": [],
   "source": [
    "# Filling with zeros temporarily:\n",
    "pirated_films['run_time_min'] = pirated_films['run_time_min'].fillna('0')"
   ]
  },
  {
   "cell_type": "code",
   "execution_count": 35,
   "metadata": {},
   "outputs": [],
   "source": [
    "# Changing data type:\n",
    "pirated_films['run_time_min'] = pirated_films['run_time_min'].astype('int')"
   ]
  },
  {
   "attachments": {},
   "cell_type": "markdown",
   "metadata": {},
   "source": [
    "Here, as the variable is now in the appropriate data type, we can fill the nulls (zeros) with the **median** of the values. The median is a suitable option here because this data is likely to have outliers and skewness. As the median is not heavily influenced by such factors, it becomes a good filling method."
   ]
  },
  {
   "cell_type": "code",
   "execution_count": 36,
   "metadata": {},
   "outputs": [],
   "source": [
    "# Calculating the median value of the variable (ignoring zeros):\n",
    "median = np.median(pirated_films['run_time_min'][pirated_films['run_time_min'] != 0])\n",
    "\n",
    "# Replacing the zeros with the median value:\n",
    "pirated_films['run_time_min'][pirated_films['run_time_min'] == 0] = median"
   ]
  },
  {
   "attachments": {},
   "cell_type": "markdown",
   "metadata": {},
   "source": [
    "Finally, we can check the null quantity of our final dataset:"
   ]
  },
  {
   "cell_type": "code",
   "execution_count": 37,
   "metadata": {},
   "outputs": [
    {
     "data": {
      "text/plain": [
       "imdb_user_rating      0.0\n",
       "film_director         0.0\n",
       "downloads             0.0\n",
       "industry              0.0\n",
       "available_langs       0.0\n",
       "platform_post_date    0.0\n",
       "worldwide_release     0.0\n",
       "run_time_min          0.0\n",
       "movie_title           0.0\n",
       "total_views           0.0\n",
       "dtype: float64"
      ]
     },
     "execution_count": 37,
     "metadata": {},
     "output_type": "execute_result"
    }
   ],
   "source": [
    "round((pirated_films.isna().sum()/pirated_films.shape[0]) * 100, 4)"
   ]
  },
  {
   "attachments": {},
   "cell_type": "markdown",
   "metadata": {},
   "source": [
    "## **_Changing Data Types_**"
   ]
  },
  {
   "attachments": {},
   "cell_type": "markdown",
   "metadata": {},
   "source": [
    "Now that we have a dataset that is clean from null values and has only the variables we want, the next step is to address the data types of the variables to make sure they are in the best possible way for the analysis. Let's start by checking the data types of our variables using the `info` method:"
   ]
  },
  {
   "cell_type": "code",
   "execution_count": 38,
   "metadata": {},
   "outputs": [
    {
     "name": "stdout",
     "output_type": "stream",
     "text": [
      "<class 'pandas.core.frame.DataFrame'>\n",
      "Int64Index: 20547 entries, 0 to 20547\n",
      "Data columns (total 10 columns):\n",
      " #   Column              Non-Null Count  Dtype  \n",
      "---  ------              --------------  -----  \n",
      " 0   imdb_user_rating    20547 non-null  float64\n",
      " 1   film_director       20547 non-null  object \n",
      " 2   downloads           20547 non-null  object \n",
      " 3   industry            20547 non-null  object \n",
      " 4   available_langs     20547 non-null  object \n",
      " 5   platform_post_date  20547 non-null  object \n",
      " 6   worldwide_release   20547 non-null  object \n",
      " 7   run_time_min        20547 non-null  int32  \n",
      " 8   movie_title         20547 non-null  object \n",
      " 9   total_views         20547 non-null  object \n",
      "dtypes: float64(1), int32(1), object(8)\n",
      "memory usage: 1.6+ MB\n"
     ]
    }
   ],
   "source": [
    "# Checking data types:\n",
    "pirated_films.info()"
   ]
  },
  {
   "attachments": {},
   "cell_type": "markdown",
   "metadata": {},
   "source": [
    "Things to note:\n",
    "\n",
    "**Memory Consumption**\n",
    "\n",
    "- With the current data types, the dataset uses up to 1.6 MB of memory in the system. With the changes we are going to make, this consumption should drop.\n",
    "\n",
    "**Good Data Types**\n",
    "\n",
    "We have some variables that don't require any change:\n",
    "\n",
    "- `imdb_user_rating` in **float64**\n",
    "\n",
    "- `film_director` in **object**\n",
    "\n",
    "- `industry` in **object**\n",
    "\n",
    "- `available_langs` in **object**\n",
    "\n",
    "- `run_time_min` in **int32**\n",
    "\n",
    "- `movie_title` in **object**\n",
    "\n",
    "**Wrong Data Types**\n",
    "\n",
    "For variables that need changes we have:\n",
    "\n",
    "- `downloads` from **object** to **int**\n",
    "\n",
    "- `platform_post_date` from **object** to **datetime**\n",
    "\n",
    "- `worldwide_release` from **object** to **datetime**\n",
    "\n",
    "- `total_views` from **object** to **int**\n",
    "\n",
    "First we will deal with the **datetime** columns alone, as they very straight forward. The other two variables (`downloads` and `total_views`) require a little bit more work."
   ]
  },
  {
   "attachments": {},
   "cell_type": "markdown",
   "metadata": {},
   "source": [
    "### **Altering `platform_post_date` and `worldwide_release`**"
   ]
  },
  {
   "cell_type": "code",
   "execution_count": 39,
   "metadata": {},
   "outputs": [],
   "source": [
    "# Changing Data Types:\n",
    "pirated_films['platform_post_date'] = pd.to_datetime(pirated_films['platform_post_date'])\n",
    "\n",
    "pirated_films['worldwide_release'] = pd.to_datetime(pirated_films['worldwide_release'])"
   ]
  },
  {
   "cell_type": "code",
   "execution_count": 40,
   "metadata": {},
   "outputs": [
    {
     "name": "stdout",
     "output_type": "stream",
     "text": [
      "<class 'pandas.core.frame.DataFrame'>\n",
      "Int64Index: 20547 entries, 0 to 20547\n",
      "Data columns (total 10 columns):\n",
      " #   Column              Non-Null Count  Dtype         \n",
      "---  ------              --------------  -----         \n",
      " 0   imdb_user_rating    20547 non-null  float64       \n",
      " 1   film_director       20547 non-null  object        \n",
      " 2   downloads           20547 non-null  object        \n",
      " 3   industry            20547 non-null  object        \n",
      " 4   available_langs     20547 non-null  object        \n",
      " 5   platform_post_date  20547 non-null  datetime64[ns]\n",
      " 6   worldwide_release   20547 non-null  datetime64[ns]\n",
      " 7   run_time_min        20547 non-null  int32         \n",
      " 8   movie_title         20547 non-null  object        \n",
      " 9   total_views         20547 non-null  object        \n",
      "dtypes: datetime64[ns](2), float64(1), int32(1), object(6)\n",
      "memory usage: 1.6+ MB\n"
     ]
    }
   ],
   "source": [
    "# Checking new data types:\n",
    "pirated_films.info()"
   ]
  },
  {
   "cell_type": "code",
   "execution_count": 41,
   "metadata": {},
   "outputs": [
    {
     "data": {
      "text/html": [
       "<div>\n",
       "<style scoped>\n",
       "    .dataframe tbody tr th:only-of-type {\n",
       "        vertical-align: middle;\n",
       "    }\n",
       "\n",
       "    .dataframe tbody tr th {\n",
       "        vertical-align: top;\n",
       "    }\n",
       "\n",
       "    .dataframe thead th {\n",
       "        text-align: right;\n",
       "    }\n",
       "</style>\n",
       "<table border=\"1\" class=\"dataframe\">\n",
       "  <thead>\n",
       "    <tr style=\"text-align: right;\">\n",
       "      <th></th>\n",
       "      <th>imdb_user_rating</th>\n",
       "      <th>film_director</th>\n",
       "      <th>downloads</th>\n",
       "      <th>industry</th>\n",
       "      <th>available_langs</th>\n",
       "      <th>platform_post_date</th>\n",
       "      <th>worldwide_release</th>\n",
       "      <th>run_time_min</th>\n",
       "      <th>movie_title</th>\n",
       "      <th>total_views</th>\n",
       "    </tr>\n",
       "  </thead>\n",
       "  <tbody>\n",
       "    <tr>\n",
       "      <th>0</th>\n",
       "      <td>4.8</td>\n",
       "      <td>John Swab</td>\n",
       "      <td>304</td>\n",
       "      <td>Hollywood / English</td>\n",
       "      <td>English</td>\n",
       "      <td>2023-02-20</td>\n",
       "      <td>2023-01-28</td>\n",
       "      <td>105</td>\n",
       "      <td>Little Dixie</td>\n",
       "      <td>2,794</td>\n",
       "    </tr>\n",
       "    <tr>\n",
       "      <th>1</th>\n",
       "      <td>6.4</td>\n",
       "      <td>Paul Ziller</td>\n",
       "      <td>73</td>\n",
       "      <td>Hollywood / English</td>\n",
       "      <td>English</td>\n",
       "      <td>2023-02-20</td>\n",
       "      <td>2023-02-05</td>\n",
       "      <td>84</td>\n",
       "      <td>Grilling Season: A Curious Caterer Mystery</td>\n",
       "      <td>1,002</td>\n",
       "    </tr>\n",
       "    <tr>\n",
       "      <th>2</th>\n",
       "      <td>5.2</td>\n",
       "      <td>Ben Wheatley</td>\n",
       "      <td>1,427</td>\n",
       "      <td>Hollywood / English</td>\n",
       "      <td>English,Hindi</td>\n",
       "      <td>2021-04-20</td>\n",
       "      <td>2021-06-18</td>\n",
       "      <td>107</td>\n",
       "      <td>In the Earth</td>\n",
       "      <td>14,419</td>\n",
       "    </tr>\n",
       "    <tr>\n",
       "      <th>3</th>\n",
       "      <td>8.1</td>\n",
       "      <td>Venky Atluri</td>\n",
       "      <td>1,549</td>\n",
       "      <td>Tollywood</td>\n",
       "      <td>Hindi</td>\n",
       "      <td>2023-02-20</td>\n",
       "      <td>2023-02-17</td>\n",
       "      <td>139</td>\n",
       "      <td>Vaathi</td>\n",
       "      <td>4,878</td>\n",
       "    </tr>\n",
       "    <tr>\n",
       "      <th>4</th>\n",
       "      <td>4.6</td>\n",
       "      <td>Shaji Kailas</td>\n",
       "      <td>657</td>\n",
       "      <td>Tollywood</td>\n",
       "      <td>Hindi</td>\n",
       "      <td>2023-02-20</td>\n",
       "      <td>2023-01-26</td>\n",
       "      <td>122</td>\n",
       "      <td>Alone</td>\n",
       "      <td>2,438</td>\n",
       "    </tr>\n",
       "  </tbody>\n",
       "</table>\n",
       "</div>"
      ],
      "text/plain": [
       "   imdb_user_rating film_director downloads             industry  \\\n",
       "0               4.8     John Swab       304  Hollywood / English   \n",
       "1               6.4   Paul Ziller        73  Hollywood / English   \n",
       "2               5.2  Ben Wheatley     1,427  Hollywood / English   \n",
       "3               8.1  Venky Atluri     1,549            Tollywood   \n",
       "4               4.6  Shaji Kailas       657            Tollywood   \n",
       "\n",
       "  available_langs platform_post_date worldwide_release  run_time_min  \\\n",
       "0         English         2023-02-20        2023-01-28           105   \n",
       "1         English         2023-02-20        2023-02-05            84   \n",
       "2   English,Hindi         2021-04-20        2021-06-18           107   \n",
       "3           Hindi         2023-02-20        2023-02-17           139   \n",
       "4           Hindi         2023-02-20        2023-01-26           122   \n",
       "\n",
       "                                  movie_title total_views  \n",
       "0                                Little Dixie       2,794  \n",
       "1  Grilling Season: A Curious Caterer Mystery       1,002  \n",
       "2                                In the Earth      14,419  \n",
       "3                                      Vaathi       4,878  \n",
       "4                                       Alone       2,438  "
      ]
     },
     "execution_count": 41,
     "metadata": {},
     "output_type": "execute_result"
    }
   ],
   "source": [
    "# Checking format:\n",
    "pirated_films.head()"
   ]
  },
  {
   "attachments": {},
   "cell_type": "markdown",
   "metadata": {},
   "source": [
    "### **Altering `downloads` and `total_views`**"
   ]
  },
  {
   "attachments": {},
   "cell_type": "markdown",
   "metadata": {},
   "source": [
    "Before we can change the data type of this variable, we need to clean it from any special characters like commas and dots. Let's do a quick check on them:"
   ]
  },
  {
   "cell_type": "code",
   "execution_count": 42,
   "metadata": {},
   "outputs": [
    {
     "data": {
      "text/plain": [
       "0        304\n",
       "1         73\n",
       "2      1,427\n",
       "3      1,549\n",
       "4        657\n",
       "5        746\n",
       "6      5,332\n",
       "7      1,781\n",
       "8        458\n",
       "9      1,965\n",
       "10       742\n",
       "11    12,954\n",
       "12     2,253\n",
       "13    14,867\n",
       "14       463\n",
       "Name: downloads, dtype: object"
      ]
     },
     "execution_count": 42,
     "metadata": {},
     "output_type": "execute_result"
    }
   ],
   "source": [
    "# Checking values:\n",
    "pirated_films['downloads'].head(15)"
   ]
  },
  {
   "cell_type": "code",
   "execution_count": 43,
   "metadata": {},
   "outputs": [
    {
     "data": {
      "text/plain": [
       "0      2,794\n",
       "1      1,002\n",
       "2     14,419\n",
       "3      4,878\n",
       "4      2,438\n",
       "5      2,940\n",
       "6     11,978\n",
       "7     18,225\n",
       "8      6,912\n",
       "9      9,710\n",
       "10     4,618\n",
       "11    35,831\n",
       "12     5,468\n",
       "13    39,399\n",
       "14     5,763\n",
       "Name: total_views, dtype: object"
      ]
     },
     "execution_count": 43,
     "metadata": {},
     "output_type": "execute_result"
    }
   ],
   "source": [
    "# Checking more values from the other variable:\n",
    "pirated_films['total_views'].head(15)"
   ]
  },
  {
   "attachments": {},
   "cell_type": "markdown",
   "metadata": {},
   "source": [
    "We can see that yes, both variables have special characters and require cleaning before we can change the data types. Let's create a general cleaning function that can be applied to both variables to clean them."
   ]
  },
  {
   "cell_type": "code",
   "execution_count": 44,
   "metadata": {},
   "outputs": [],
   "source": [
    "# Creating cleaning function:\n",
    "def number_extractor(data: pd.DataFrame):\n",
    "    '''\n",
    "    Applies a regular expression to remove all non-numeric characters from the 'total_views' and 'downloads'\n",
    "    columns of a given pandas DataFrame.\n",
    "\n",
    "    Parameters:\n",
    "    -----------\n",
    "    data : pandas DataFrame\n",
    "        The input DataFrame to process. The DataFrame must contain the 'total_views' and 'downloads' columns.\n",
    "\n",
    "    Returns:\n",
    "    --------\n",
    "    pandas DataFrame:\n",
    "        A copy of the input DataFrame where the 'total_views' and 'downloads' columns have been modified to\n",
    "        only contain numeric characters.\n",
    "    '''\n",
    "    chars_to_remove = r'[^0-9]+'\n",
    "\n",
    "    data['total_views'] = data['total_views'].apply(\n",
    "        lambda clean_values:\n",
    "            re.sub(chars_to_remove, '', str(clean_values))\n",
    "        )\n",
    "\n",
    "    data['downloads'] = data['downloads'].apply(\n",
    "        lambda clean_values:\n",
    "            re.sub(chars_to_remove, '', str(clean_values))\n",
    "        )\n",
    "\n",
    "    return data"
   ]
  },
  {
   "cell_type": "code",
   "execution_count": 45,
   "metadata": {},
   "outputs": [
    {
     "data": {
      "text/plain": [
       "0     2794\n",
       "1     1002\n",
       "2    14419\n",
       "3     4878\n",
       "4     2438\n",
       "Name: total_views, dtype: object"
      ]
     },
     "execution_count": 45,
     "metadata": {},
     "output_type": "execute_result"
    }
   ],
   "source": [
    "# Applying the function:\n",
    "pirated_films = number_extractor(pirated_films)\n",
    "\n",
    "# Checking results:\n",
    "pirated_films['total_views'].head()"
   ]
  },
  {
   "cell_type": "code",
   "execution_count": 46,
   "metadata": {},
   "outputs": [
    {
     "data": {
      "text/plain": [
       "0     304\n",
       "1      73\n",
       "2    1427\n",
       "3    1549\n",
       "4     657\n",
       "Name: downloads, dtype: object"
      ]
     },
     "execution_count": 46,
     "metadata": {},
     "output_type": "execute_result"
    }
   ],
   "source": [
    "# Checking results:\n",
    "pirated_films['downloads'].head()"
   ]
  },
  {
   "attachments": {},
   "cell_type": "markdown",
   "metadata": {},
   "source": [
    "With the variables clean, we can pass them to int:"
   ]
  },
  {
   "cell_type": "code",
   "execution_count": 47,
   "metadata": {},
   "outputs": [],
   "source": [
    "# Changing data types:\n",
    "pirated_films = pirated_films.astype({'downloads': 'int',\n",
    "                                      'total_views': 'int'})"
   ]
  },
  {
   "cell_type": "code",
   "execution_count": 48,
   "metadata": {},
   "outputs": [
    {
     "name": "stdout",
     "output_type": "stream",
     "text": [
      "<class 'pandas.core.frame.DataFrame'>\n",
      "Int64Index: 20547 entries, 0 to 20547\n",
      "Data columns (total 10 columns):\n",
      " #   Column              Non-Null Count  Dtype         \n",
      "---  ------              --------------  -----         \n",
      " 0   imdb_user_rating    20547 non-null  float64       \n",
      " 1   film_director       20547 non-null  object        \n",
      " 2   downloads           20547 non-null  int32         \n",
      " 3   industry            20547 non-null  object        \n",
      " 4   available_langs     20547 non-null  object        \n",
      " 5   platform_post_date  20547 non-null  datetime64[ns]\n",
      " 6   worldwide_release   20547 non-null  datetime64[ns]\n",
      " 7   run_time_min        20547 non-null  int32         \n",
      " 8   movie_title         20547 non-null  object        \n",
      " 9   total_views         20547 non-null  int32         \n",
      "dtypes: datetime64[ns](2), float64(1), int32(3), object(4)\n",
      "memory usage: 1.5+ MB\n"
     ]
    }
   ],
   "source": [
    "# Checking new data:\n",
    "pirated_films.info()"
   ]
  },
  {
   "attachments": {},
   "cell_type": "markdown",
   "metadata": {},
   "source": [
    "With all corrections needed made to the dataset, we can check for duplicates in the data:"
   ]
  },
  {
   "cell_type": "code",
   "execution_count": 49,
   "metadata": {},
   "outputs": [
    {
     "data": {
      "text/html": [
       "<div>\n",
       "<style scoped>\n",
       "    .dataframe tbody tr th:only-of-type {\n",
       "        vertical-align: middle;\n",
       "    }\n",
       "\n",
       "    .dataframe tbody tr th {\n",
       "        vertical-align: top;\n",
       "    }\n",
       "\n",
       "    .dataframe thead th {\n",
       "        text-align: right;\n",
       "    }\n",
       "</style>\n",
       "<table border=\"1\" class=\"dataframe\">\n",
       "  <thead>\n",
       "    <tr style=\"text-align: right;\">\n",
       "      <th></th>\n",
       "      <th>imdb_user_rating</th>\n",
       "      <th>film_director</th>\n",
       "      <th>downloads</th>\n",
       "      <th>industry</th>\n",
       "      <th>available_langs</th>\n",
       "      <th>platform_post_date</th>\n",
       "      <th>worldwide_release</th>\n",
       "      <th>run_time_min</th>\n",
       "      <th>movie_title</th>\n",
       "      <th>total_views</th>\n",
       "    </tr>\n",
       "  </thead>\n",
       "  <tbody>\n",
       "  </tbody>\n",
       "</table>\n",
       "</div>"
      ],
      "text/plain": [
       "Empty DataFrame\n",
       "Columns: [imdb_user_rating, film_director, downloads, industry, available_langs, platform_post_date, worldwide_release, run_time_min, movie_title, total_views]\n",
       "Index: []"
      ]
     },
     "execution_count": 49,
     "metadata": {},
     "output_type": "execute_result"
    }
   ],
   "source": [
    "# Checking duplicates:\n",
    "pirated_films[pirated_films.duplicated()]"
   ]
  },
  {
   "attachments": {},
   "cell_type": "markdown",
   "metadata": {},
   "source": [
    "We see that we don't have any duplicate values in our data. With that, we can move to our next step: Adding new features to our dataset!"
   ]
  },
  {
   "attachments": {},
   "cell_type": "markdown",
   "metadata": {},
   "source": [
    "# **Feature Engineering**\n",
    "\n",
    "---"
   ]
  },
  {
   "attachments": {},
   "cell_type": "markdown",
   "metadata": {},
   "source": [
    "To define what additional features our dataset can have to boost our analysis capabilities, let's take a look at it's variables:"
   ]
  },
  {
   "cell_type": "code",
   "execution_count": 50,
   "metadata": {},
   "outputs": [
    {
     "data": {
      "text/html": [
       "<div>\n",
       "<style scoped>\n",
       "    .dataframe tbody tr th:only-of-type {\n",
       "        vertical-align: middle;\n",
       "    }\n",
       "\n",
       "    .dataframe tbody tr th {\n",
       "        vertical-align: top;\n",
       "    }\n",
       "\n",
       "    .dataframe thead th {\n",
       "        text-align: right;\n",
       "    }\n",
       "</style>\n",
       "<table border=\"1\" class=\"dataframe\">\n",
       "  <thead>\n",
       "    <tr style=\"text-align: right;\">\n",
       "      <th></th>\n",
       "      <th>imdb_user_rating</th>\n",
       "      <th>film_director</th>\n",
       "      <th>downloads</th>\n",
       "      <th>industry</th>\n",
       "      <th>available_langs</th>\n",
       "      <th>platform_post_date</th>\n",
       "      <th>worldwide_release</th>\n",
       "      <th>run_time_min</th>\n",
       "      <th>movie_title</th>\n",
       "      <th>total_views</th>\n",
       "    </tr>\n",
       "  </thead>\n",
       "  <tbody>\n",
       "    <tr>\n",
       "      <th>0</th>\n",
       "      <td>4.8</td>\n",
       "      <td>John Swab</td>\n",
       "      <td>304</td>\n",
       "      <td>Hollywood / English</td>\n",
       "      <td>English</td>\n",
       "      <td>2023-02-20</td>\n",
       "      <td>2023-01-28</td>\n",
       "      <td>105</td>\n",
       "      <td>Little Dixie</td>\n",
       "      <td>2794</td>\n",
       "    </tr>\n",
       "    <tr>\n",
       "      <th>1</th>\n",
       "      <td>6.4</td>\n",
       "      <td>Paul Ziller</td>\n",
       "      <td>73</td>\n",
       "      <td>Hollywood / English</td>\n",
       "      <td>English</td>\n",
       "      <td>2023-02-20</td>\n",
       "      <td>2023-02-05</td>\n",
       "      <td>84</td>\n",
       "      <td>Grilling Season: A Curious Caterer Mystery</td>\n",
       "      <td>1002</td>\n",
       "    </tr>\n",
       "    <tr>\n",
       "      <th>2</th>\n",
       "      <td>5.2</td>\n",
       "      <td>Ben Wheatley</td>\n",
       "      <td>1427</td>\n",
       "      <td>Hollywood / English</td>\n",
       "      <td>English,Hindi</td>\n",
       "      <td>2021-04-20</td>\n",
       "      <td>2021-06-18</td>\n",
       "      <td>107</td>\n",
       "      <td>In the Earth</td>\n",
       "      <td>14419</td>\n",
       "    </tr>\n",
       "    <tr>\n",
       "      <th>3</th>\n",
       "      <td>8.1</td>\n",
       "      <td>Venky Atluri</td>\n",
       "      <td>1549</td>\n",
       "      <td>Tollywood</td>\n",
       "      <td>Hindi</td>\n",
       "      <td>2023-02-20</td>\n",
       "      <td>2023-02-17</td>\n",
       "      <td>139</td>\n",
       "      <td>Vaathi</td>\n",
       "      <td>4878</td>\n",
       "    </tr>\n",
       "    <tr>\n",
       "      <th>4</th>\n",
       "      <td>4.6</td>\n",
       "      <td>Shaji Kailas</td>\n",
       "      <td>657</td>\n",
       "      <td>Tollywood</td>\n",
       "      <td>Hindi</td>\n",
       "      <td>2023-02-20</td>\n",
       "      <td>2023-01-26</td>\n",
       "      <td>122</td>\n",
       "      <td>Alone</td>\n",
       "      <td>2438</td>\n",
       "    </tr>\n",
       "  </tbody>\n",
       "</table>\n",
       "</div>"
      ],
      "text/plain": [
       "   imdb_user_rating film_director  downloads             industry  \\\n",
       "0               4.8     John Swab        304  Hollywood / English   \n",
       "1               6.4   Paul Ziller         73  Hollywood / English   \n",
       "2               5.2  Ben Wheatley       1427  Hollywood / English   \n",
       "3               8.1  Venky Atluri       1549            Tollywood   \n",
       "4               4.6  Shaji Kailas        657            Tollywood   \n",
       "\n",
       "  available_langs platform_post_date worldwide_release  run_time_min  \\\n",
       "0         English         2023-02-20        2023-01-28           105   \n",
       "1         English         2023-02-20        2023-02-05            84   \n",
       "2   English,Hindi         2021-04-20        2021-06-18           107   \n",
       "3           Hindi         2023-02-20        2023-02-17           139   \n",
       "4           Hindi         2023-02-20        2023-01-26           122   \n",
       "\n",
       "                                  movie_title  total_views  \n",
       "0                                Little Dixie         2794  \n",
       "1  Grilling Season: A Curious Caterer Mystery         1002  \n",
       "2                                In the Earth        14419  \n",
       "3                                      Vaathi         4878  \n",
       "4                                       Alone         2438  "
      ]
     },
     "execution_count": 50,
     "metadata": {},
     "output_type": "execute_result"
    }
   ],
   "source": [
    "# Checking dataset:\n",
    "pirated_films.head()"
   ]
  },
  {
   "attachments": {},
   "cell_type": "markdown",
   "metadata": {},
   "source": [
    "Some additional features that we can add to the dataset are:\n",
    "\n",
    "- `days_to_piracy`: A quantitative variable that contains the difference in days between the film release date and the date it was posted on the piracy site.\n",
    "\n",
    "- `avg_views_per_download`: The total number of views divided by the total number of downloads, indicating how many people viewed the movie for each download.\n",
    "\n",
    "- `avg_downloads_per_day`: A new feature that calculates the average number of downloads per day since the movie was posted on the piracy website. This could help us understand the popularity of the movie among pirates over time."
   ]
  },
  {
   "attachments": {},
   "cell_type": "markdown",
   "metadata": {},
   "source": [
    "### **Creating Variable: `days_to_piracy`**"
   ]
  },
  {
   "attachments": {},
   "cell_type": "markdown",
   "metadata": {},
   "source": [
    "The mentioned variable seems to offer interesting analysis possibilities, as it can help understand the timing between a movie release and its pirated version being available for download. \n",
    "\n",
    "To create it, we will subtract the date of worldwide release from the date the movie was launched on piracy sites."
   ]
  },
  {
   "cell_type": "code",
   "execution_count": 51,
   "metadata": {},
   "outputs": [],
   "source": [
    "# Creating new variable to store the difference in days.\n",
    "# This variable is temporary, it will be used to create the oficial variable:\n",
    "pirated_films['days_temp'] = pirated_films['platform_post_date'] - pirated_films['worldwide_release']"
   ]
  },
  {
   "cell_type": "code",
   "execution_count": 52,
   "metadata": {},
   "outputs": [
    {
     "data": {
      "text/plain": [
       "0    23 days\n",
       "1    15 days\n",
       "2   -59 days\n",
       "3     3 days\n",
       "4    25 days\n",
       "Name: days_temp, dtype: timedelta64[ns]"
      ]
     },
     "execution_count": 52,
     "metadata": {},
     "output_type": "execute_result"
    }
   ],
   "source": [
    "# Checking variable:\n",
    "pirated_films['days_temp'].head()"
   ]
  },
  {
   "attachments": {},
   "cell_type": "markdown",
   "metadata": {},
   "source": [
    "Now that we have this variable, we will use it to grab only the number of days:"
   ]
  },
  {
   "cell_type": "code",
   "execution_count": 53,
   "metadata": {},
   "outputs": [],
   "source": [
    "# Creating the oficial variable and deleting the temporary one:\n",
    "pirated_films['days_to_piracy'] = pirated_films['days_temp'].dt.days\n",
    "\n",
    "# Dropping temporary variable:\n",
    "pirated_films = pirated_films.drop('days_temp', axis=1)"
   ]
  },
  {
   "cell_type": "code",
   "execution_count": 54,
   "metadata": {},
   "outputs": [
    {
     "data": {
      "text/html": [
       "<div>\n",
       "<style scoped>\n",
       "    .dataframe tbody tr th:only-of-type {\n",
       "        vertical-align: middle;\n",
       "    }\n",
       "\n",
       "    .dataframe tbody tr th {\n",
       "        vertical-align: top;\n",
       "    }\n",
       "\n",
       "    .dataframe thead th {\n",
       "        text-align: right;\n",
       "    }\n",
       "</style>\n",
       "<table border=\"1\" class=\"dataframe\">\n",
       "  <thead>\n",
       "    <tr style=\"text-align: right;\">\n",
       "      <th></th>\n",
       "      <th>imdb_user_rating</th>\n",
       "      <th>film_director</th>\n",
       "      <th>downloads</th>\n",
       "      <th>industry</th>\n",
       "      <th>available_langs</th>\n",
       "      <th>platform_post_date</th>\n",
       "      <th>worldwide_release</th>\n",
       "      <th>run_time_min</th>\n",
       "      <th>movie_title</th>\n",
       "      <th>total_views</th>\n",
       "      <th>days_to_piracy</th>\n",
       "    </tr>\n",
       "  </thead>\n",
       "  <tbody>\n",
       "    <tr>\n",
       "      <th>0</th>\n",
       "      <td>4.8</td>\n",
       "      <td>John Swab</td>\n",
       "      <td>304</td>\n",
       "      <td>Hollywood / English</td>\n",
       "      <td>English</td>\n",
       "      <td>2023-02-20</td>\n",
       "      <td>2023-01-28</td>\n",
       "      <td>105</td>\n",
       "      <td>Little Dixie</td>\n",
       "      <td>2794</td>\n",
       "      <td>23</td>\n",
       "    </tr>\n",
       "    <tr>\n",
       "      <th>1</th>\n",
       "      <td>6.4</td>\n",
       "      <td>Paul Ziller</td>\n",
       "      <td>73</td>\n",
       "      <td>Hollywood / English</td>\n",
       "      <td>English</td>\n",
       "      <td>2023-02-20</td>\n",
       "      <td>2023-02-05</td>\n",
       "      <td>84</td>\n",
       "      <td>Grilling Season: A Curious Caterer Mystery</td>\n",
       "      <td>1002</td>\n",
       "      <td>15</td>\n",
       "    </tr>\n",
       "    <tr>\n",
       "      <th>2</th>\n",
       "      <td>5.2</td>\n",
       "      <td>Ben Wheatley</td>\n",
       "      <td>1427</td>\n",
       "      <td>Hollywood / English</td>\n",
       "      <td>English,Hindi</td>\n",
       "      <td>2021-04-20</td>\n",
       "      <td>2021-06-18</td>\n",
       "      <td>107</td>\n",
       "      <td>In the Earth</td>\n",
       "      <td>14419</td>\n",
       "      <td>-59</td>\n",
       "    </tr>\n",
       "    <tr>\n",
       "      <th>3</th>\n",
       "      <td>8.1</td>\n",
       "      <td>Venky Atluri</td>\n",
       "      <td>1549</td>\n",
       "      <td>Tollywood</td>\n",
       "      <td>Hindi</td>\n",
       "      <td>2023-02-20</td>\n",
       "      <td>2023-02-17</td>\n",
       "      <td>139</td>\n",
       "      <td>Vaathi</td>\n",
       "      <td>4878</td>\n",
       "      <td>3</td>\n",
       "    </tr>\n",
       "    <tr>\n",
       "      <th>4</th>\n",
       "      <td>4.6</td>\n",
       "      <td>Shaji Kailas</td>\n",
       "      <td>657</td>\n",
       "      <td>Tollywood</td>\n",
       "      <td>Hindi</td>\n",
       "      <td>2023-02-20</td>\n",
       "      <td>2023-01-26</td>\n",
       "      <td>122</td>\n",
       "      <td>Alone</td>\n",
       "      <td>2438</td>\n",
       "      <td>25</td>\n",
       "    </tr>\n",
       "  </tbody>\n",
       "</table>\n",
       "</div>"
      ],
      "text/plain": [
       "   imdb_user_rating film_director  downloads             industry  \\\n",
       "0               4.8     John Swab        304  Hollywood / English   \n",
       "1               6.4   Paul Ziller         73  Hollywood / English   \n",
       "2               5.2  Ben Wheatley       1427  Hollywood / English   \n",
       "3               8.1  Venky Atluri       1549            Tollywood   \n",
       "4               4.6  Shaji Kailas        657            Tollywood   \n",
       "\n",
       "  available_langs platform_post_date worldwide_release  run_time_min  \\\n",
       "0         English         2023-02-20        2023-01-28           105   \n",
       "1         English         2023-02-20        2023-02-05            84   \n",
       "2   English,Hindi         2021-04-20        2021-06-18           107   \n",
       "3           Hindi         2023-02-20        2023-02-17           139   \n",
       "4           Hindi         2023-02-20        2023-01-26           122   \n",
       "\n",
       "                                  movie_title  total_views  days_to_piracy  \n",
       "0                                Little Dixie         2794              23  \n",
       "1  Grilling Season: A Curious Caterer Mystery         1002              15  \n",
       "2                                In the Earth        14419             -59  \n",
       "3                                      Vaathi         4878               3  \n",
       "4                                       Alone         2438              25  "
      ]
     },
     "execution_count": 54,
     "metadata": {},
     "output_type": "execute_result"
    }
   ],
   "source": [
    "# Checking results:\n",
    "pirated_films.head()"
   ]
  },
  {
   "attachments": {},
   "cell_type": "markdown",
   "metadata": {},
   "source": [
    "After creating the new variable, we can observe that it provides useful information about the films, such as the third entry in the dataset indicating that the movie was pirated and available on piracy websites 59 days before its worldwide release.\n",
    "\n",
    "Let's check the data type of the new variable:"
   ]
  },
  {
   "cell_type": "code",
   "execution_count": 55,
   "metadata": {},
   "outputs": [
    {
     "data": {
      "text/plain": [
       "dtype('int64')"
      ]
     },
     "execution_count": 55,
     "metadata": {},
     "output_type": "execute_result"
    }
   ],
   "source": [
    "# Checking data type:\n",
    "pirated_films['days_to_piracy'].dtype"
   ]
  },
  {
   "attachments": {},
   "cell_type": "markdown",
   "metadata": {},
   "source": [
    "The variable came in the `int64` data type. To give it the best data type possible, let's see if we can change it to int32:"
   ]
  },
  {
   "cell_type": "code",
   "execution_count": 56,
   "metadata": {},
   "outputs": [
    {
     "name": "stdout",
     "output_type": "stream",
     "text": [
      "Max value: 32863\n",
      "Min value: -4298\n"
     ]
    }
   ],
   "source": [
    "# Checking min and max values of the new variable:\n",
    "print(f'Max value: {pirated_films[\"days_to_piracy\"].max()}')\n",
    "print(f'Min value: {pirated_films[\"days_to_piracy\"].min()}')"
   ]
  },
  {
   "attachments": {},
   "cell_type": "markdown",
   "metadata": {},
   "source": [
    "We almost can change it to int16! The limit of int16 is 32.767 and in the data we have values up to 32.863, close, but enough to be necessary the implementation of int32."
   ]
  },
  {
   "cell_type": "code",
   "execution_count": 57,
   "metadata": {},
   "outputs": [],
   "source": [
    "# Changing data type to int32:\n",
    "pirated_films = pirated_films.astype({'days_to_piracy': 'int32'})"
   ]
  },
  {
   "cell_type": "code",
   "execution_count": 58,
   "metadata": {},
   "outputs": [
    {
     "data": {
      "text/plain": [
       "dtype('int32')"
      ]
     },
     "execution_count": 58,
     "metadata": {},
     "output_type": "execute_result"
    }
   ],
   "source": [
    "# Checking final data types:\n",
    "pirated_films['days_to_piracy'].dtype"
   ]
  },
  {
   "attachments": {},
   "cell_type": "markdown",
   "metadata": {},
   "source": [
    "### **Creating Variable: `avg_views_per_download`**"
   ]
  },
  {
   "attachments": {},
   "cell_type": "markdown",
   "metadata": {},
   "source": [
    "This variable, togheter with the next one, will make it possible for us to understand the relevance and popularity of each movie pirated on the website, more specicaly this variable allow us to beter understand how frequently pirates watch the movies they download."
   ]
  },
  {
   "cell_type": "code",
   "execution_count": 59,
   "metadata": {},
   "outputs": [
    {
     "data": {
      "text/html": [
       "<div>\n",
       "<style scoped>\n",
       "    .dataframe tbody tr th:only-of-type {\n",
       "        vertical-align: middle;\n",
       "    }\n",
       "\n",
       "    .dataframe tbody tr th {\n",
       "        vertical-align: top;\n",
       "    }\n",
       "\n",
       "    .dataframe thead th {\n",
       "        text-align: right;\n",
       "    }\n",
       "</style>\n",
       "<table border=\"1\" class=\"dataframe\">\n",
       "  <thead>\n",
       "    <tr style=\"text-align: right;\">\n",
       "      <th></th>\n",
       "      <th>imdb_user_rating</th>\n",
       "      <th>film_director</th>\n",
       "      <th>downloads</th>\n",
       "      <th>industry</th>\n",
       "      <th>available_langs</th>\n",
       "      <th>platform_post_date</th>\n",
       "      <th>worldwide_release</th>\n",
       "      <th>run_time_min</th>\n",
       "      <th>movie_title</th>\n",
       "      <th>total_views</th>\n",
       "      <th>days_to_piracy</th>\n",
       "      <th>avg_views_per_download</th>\n",
       "    </tr>\n",
       "  </thead>\n",
       "  <tbody>\n",
       "    <tr>\n",
       "      <th>0</th>\n",
       "      <td>4.8</td>\n",
       "      <td>John Swab</td>\n",
       "      <td>304</td>\n",
       "      <td>Hollywood / English</td>\n",
       "      <td>English</td>\n",
       "      <td>2023-02-20</td>\n",
       "      <td>2023-01-28</td>\n",
       "      <td>105</td>\n",
       "      <td>Little Dixie</td>\n",
       "      <td>2794</td>\n",
       "      <td>23</td>\n",
       "      <td>9.190789</td>\n",
       "    </tr>\n",
       "    <tr>\n",
       "      <th>1</th>\n",
       "      <td>6.4</td>\n",
       "      <td>Paul Ziller</td>\n",
       "      <td>73</td>\n",
       "      <td>Hollywood / English</td>\n",
       "      <td>English</td>\n",
       "      <td>2023-02-20</td>\n",
       "      <td>2023-02-05</td>\n",
       "      <td>84</td>\n",
       "      <td>Grilling Season: A Curious Caterer Mystery</td>\n",
       "      <td>1002</td>\n",
       "      <td>15</td>\n",
       "      <td>13.726027</td>\n",
       "    </tr>\n",
       "    <tr>\n",
       "      <th>2</th>\n",
       "      <td>5.2</td>\n",
       "      <td>Ben Wheatley</td>\n",
       "      <td>1427</td>\n",
       "      <td>Hollywood / English</td>\n",
       "      <td>English,Hindi</td>\n",
       "      <td>2021-04-20</td>\n",
       "      <td>2021-06-18</td>\n",
       "      <td>107</td>\n",
       "      <td>In the Earth</td>\n",
       "      <td>14419</td>\n",
       "      <td>-59</td>\n",
       "      <td>10.104415</td>\n",
       "    </tr>\n",
       "    <tr>\n",
       "      <th>3</th>\n",
       "      <td>8.1</td>\n",
       "      <td>Venky Atluri</td>\n",
       "      <td>1549</td>\n",
       "      <td>Tollywood</td>\n",
       "      <td>Hindi</td>\n",
       "      <td>2023-02-20</td>\n",
       "      <td>2023-02-17</td>\n",
       "      <td>139</td>\n",
       "      <td>Vaathi</td>\n",
       "      <td>4878</td>\n",
       "      <td>3</td>\n",
       "      <td>3.149128</td>\n",
       "    </tr>\n",
       "    <tr>\n",
       "      <th>4</th>\n",
       "      <td>4.6</td>\n",
       "      <td>Shaji Kailas</td>\n",
       "      <td>657</td>\n",
       "      <td>Tollywood</td>\n",
       "      <td>Hindi</td>\n",
       "      <td>2023-02-20</td>\n",
       "      <td>2023-01-26</td>\n",
       "      <td>122</td>\n",
       "      <td>Alone</td>\n",
       "      <td>2438</td>\n",
       "      <td>25</td>\n",
       "      <td>3.710807</td>\n",
       "    </tr>\n",
       "  </tbody>\n",
       "</table>\n",
       "</div>"
      ],
      "text/plain": [
       "   imdb_user_rating film_director  downloads             industry  \\\n",
       "0               4.8     John Swab        304  Hollywood / English   \n",
       "1               6.4   Paul Ziller         73  Hollywood / English   \n",
       "2               5.2  Ben Wheatley       1427  Hollywood / English   \n",
       "3               8.1  Venky Atluri       1549            Tollywood   \n",
       "4               4.6  Shaji Kailas        657            Tollywood   \n",
       "\n",
       "  available_langs platform_post_date worldwide_release  run_time_min  \\\n",
       "0         English         2023-02-20        2023-01-28           105   \n",
       "1         English         2023-02-20        2023-02-05            84   \n",
       "2   English,Hindi         2021-04-20        2021-06-18           107   \n",
       "3           Hindi         2023-02-20        2023-02-17           139   \n",
       "4           Hindi         2023-02-20        2023-01-26           122   \n",
       "\n",
       "                                  movie_title  total_views  days_to_piracy  \\\n",
       "0                                Little Dixie         2794              23   \n",
       "1  Grilling Season: A Curious Caterer Mystery         1002              15   \n",
       "2                                In the Earth        14419             -59   \n",
       "3                                      Vaathi         4878               3   \n",
       "4                                       Alone         2438              25   \n",
       "\n",
       "   avg_views_per_download  \n",
       "0                9.190789  \n",
       "1               13.726027  \n",
       "2               10.104415  \n",
       "3                3.149128  \n",
       "4                3.710807  "
      ]
     },
     "execution_count": 59,
     "metadata": {},
     "output_type": "execute_result"
    }
   ],
   "source": [
    "# Creating new variable:\n",
    "pirated_films['avg_views_per_download'] = pirated_films['total_views'] / pirated_films['downloads']\n",
    "\n",
    "# Visualizing data:\n",
    "pirated_films.head()"
   ]
  },
  {
   "attachments": {},
   "cell_type": "markdown",
   "metadata": {},
   "source": [
    "As we will use this variable to further analysis, we won't round the values, instead we will keep them with the full precision of the values."
   ]
  },
  {
   "attachments": {},
   "cell_type": "markdown",
   "metadata": {},
   "source": [
    "### **Creating Variable: `avg_downloads_per_day`**"
   ]
  },
  {
   "attachments": {},
   "cell_type": "markdown",
   "metadata": {},
   "source": [
    "In junction with the `avg_views_per_download` variable, this column will allow us to beter understand the popularity and preference of movies in the piracy platform.\n",
    "\n",
    "One thing we must remember is that we have movies that got pirated the same day it was released worldwide. That means that our calculation could give a \"inf\" value, since we could be dividing by 0 (number of days), to avoid tis, let's fill the inf values with the number of dowloads."
   ]
  },
  {
   "cell_type": "code",
   "execution_count": 60,
   "metadata": {},
   "outputs": [],
   "source": [
    "# Define function:\n",
    "def add_downloads_per_day(df):\n",
    "    '''\n",
    "    This function adds a new column to a given DataFrame that represents the average number of downloads per day for each movie in the dataset.\n",
    "\n",
    "    Parameters\n",
    "    -----------\n",
    "        df: pandas DataFrame\n",
    "            The DataFrame containing the data.\n",
    "            \n",
    "    Returns\n",
    "    ---------\n",
    "        df: pandas DataFrame\n",
    "            The DataFrame with the new column added.\n",
    "    '''\n",
    "    # calculate downloads per day\n",
    "    downloads_per_day = df['downloads'] / df['days_to_piracy']\n",
    "\n",
    "    # Checks if days_to_piracy is equal to 0 and replaces the corresponding values in \n",
    "    # downloads_per_day with the downloads values to avoid division by zero.\n",
    "    downloads_per_day[df['days_to_piracy'] == 0] = df['downloads'][df['days_to_piracy'] == 0]\n",
    "\n",
    "    # add new column to DataFrame\n",
    "    df['avg_downloads_per_day'] = np.abs(downloads_per_day)\n",
    "\n",
    "    return df"
   ]
  },
  {
   "cell_type": "code",
   "execution_count": 61,
   "metadata": {},
   "outputs": [
    {
     "data": {
      "text/html": [
       "<div>\n",
       "<style scoped>\n",
       "    .dataframe tbody tr th:only-of-type {\n",
       "        vertical-align: middle;\n",
       "    }\n",
       "\n",
       "    .dataframe tbody tr th {\n",
       "        vertical-align: top;\n",
       "    }\n",
       "\n",
       "    .dataframe thead th {\n",
       "        text-align: right;\n",
       "    }\n",
       "</style>\n",
       "<table border=\"1\" class=\"dataframe\">\n",
       "  <thead>\n",
       "    <tr style=\"text-align: right;\">\n",
       "      <th></th>\n",
       "      <th>imdb_user_rating</th>\n",
       "      <th>film_director</th>\n",
       "      <th>downloads</th>\n",
       "      <th>industry</th>\n",
       "      <th>available_langs</th>\n",
       "      <th>platform_post_date</th>\n",
       "      <th>worldwide_release</th>\n",
       "      <th>run_time_min</th>\n",
       "      <th>movie_title</th>\n",
       "      <th>total_views</th>\n",
       "      <th>days_to_piracy</th>\n",
       "      <th>avg_views_per_download</th>\n",
       "      <th>avg_downloads_per_day</th>\n",
       "    </tr>\n",
       "  </thead>\n",
       "  <tbody>\n",
       "    <tr>\n",
       "      <th>0</th>\n",
       "      <td>4.8</td>\n",
       "      <td>John Swab</td>\n",
       "      <td>304</td>\n",
       "      <td>Hollywood / English</td>\n",
       "      <td>English</td>\n",
       "      <td>2023-02-20</td>\n",
       "      <td>2023-01-28</td>\n",
       "      <td>105</td>\n",
       "      <td>Little Dixie</td>\n",
       "      <td>2794</td>\n",
       "      <td>23</td>\n",
       "      <td>9.190789</td>\n",
       "      <td>13.217391</td>\n",
       "    </tr>\n",
       "    <tr>\n",
       "      <th>1</th>\n",
       "      <td>6.4</td>\n",
       "      <td>Paul Ziller</td>\n",
       "      <td>73</td>\n",
       "      <td>Hollywood / English</td>\n",
       "      <td>English</td>\n",
       "      <td>2023-02-20</td>\n",
       "      <td>2023-02-05</td>\n",
       "      <td>84</td>\n",
       "      <td>Grilling Season: A Curious Caterer Mystery</td>\n",
       "      <td>1002</td>\n",
       "      <td>15</td>\n",
       "      <td>13.726027</td>\n",
       "      <td>4.866667</td>\n",
       "    </tr>\n",
       "    <tr>\n",
       "      <th>2</th>\n",
       "      <td>5.2</td>\n",
       "      <td>Ben Wheatley</td>\n",
       "      <td>1427</td>\n",
       "      <td>Hollywood / English</td>\n",
       "      <td>English,Hindi</td>\n",
       "      <td>2021-04-20</td>\n",
       "      <td>2021-06-18</td>\n",
       "      <td>107</td>\n",
       "      <td>In the Earth</td>\n",
       "      <td>14419</td>\n",
       "      <td>-59</td>\n",
       "      <td>10.104415</td>\n",
       "      <td>24.186441</td>\n",
       "    </tr>\n",
       "    <tr>\n",
       "      <th>3</th>\n",
       "      <td>8.1</td>\n",
       "      <td>Venky Atluri</td>\n",
       "      <td>1549</td>\n",
       "      <td>Tollywood</td>\n",
       "      <td>Hindi</td>\n",
       "      <td>2023-02-20</td>\n",
       "      <td>2023-02-17</td>\n",
       "      <td>139</td>\n",
       "      <td>Vaathi</td>\n",
       "      <td>4878</td>\n",
       "      <td>3</td>\n",
       "      <td>3.149128</td>\n",
       "      <td>516.333333</td>\n",
       "    </tr>\n",
       "    <tr>\n",
       "      <th>4</th>\n",
       "      <td>4.6</td>\n",
       "      <td>Shaji Kailas</td>\n",
       "      <td>657</td>\n",
       "      <td>Tollywood</td>\n",
       "      <td>Hindi</td>\n",
       "      <td>2023-02-20</td>\n",
       "      <td>2023-01-26</td>\n",
       "      <td>122</td>\n",
       "      <td>Alone</td>\n",
       "      <td>2438</td>\n",
       "      <td>25</td>\n",
       "      <td>3.710807</td>\n",
       "      <td>26.280000</td>\n",
       "    </tr>\n",
       "  </tbody>\n",
       "</table>\n",
       "</div>"
      ],
      "text/plain": [
       "   imdb_user_rating film_director  downloads             industry  \\\n",
       "0               4.8     John Swab        304  Hollywood / English   \n",
       "1               6.4   Paul Ziller         73  Hollywood / English   \n",
       "2               5.2  Ben Wheatley       1427  Hollywood / English   \n",
       "3               8.1  Venky Atluri       1549            Tollywood   \n",
       "4               4.6  Shaji Kailas        657            Tollywood   \n",
       "\n",
       "  available_langs platform_post_date worldwide_release  run_time_min  \\\n",
       "0         English         2023-02-20        2023-01-28           105   \n",
       "1         English         2023-02-20        2023-02-05            84   \n",
       "2   English,Hindi         2021-04-20        2021-06-18           107   \n",
       "3           Hindi         2023-02-20        2023-02-17           139   \n",
       "4           Hindi         2023-02-20        2023-01-26           122   \n",
       "\n",
       "                                  movie_title  total_views  days_to_piracy  \\\n",
       "0                                Little Dixie         2794              23   \n",
       "1  Grilling Season: A Curious Caterer Mystery         1002              15   \n",
       "2                                In the Earth        14419             -59   \n",
       "3                                      Vaathi         4878               3   \n",
       "4                                       Alone         2438              25   \n",
       "\n",
       "   avg_views_per_download  avg_downloads_per_day  \n",
       "0                9.190789              13.217391  \n",
       "1               13.726027               4.866667  \n",
       "2               10.104415              24.186441  \n",
       "3                3.149128             516.333333  \n",
       "4                3.710807              26.280000  "
      ]
     },
     "execution_count": 61,
     "metadata": {},
     "output_type": "execute_result"
    }
   ],
   "source": [
    "# Applying the function:\n",
    "pirated_films = add_downloads_per_day(pirated_films)\n",
    "\n",
    "# Checking values:\n",
    "pirated_films.head()"
   ]
  },
  {
   "cell_type": "code",
   "execution_count": 62,
   "metadata": {},
   "outputs": [
    {
     "data": {
      "text/plain": [
       "dtype('float64')"
      ]
     },
     "execution_count": 62,
     "metadata": {},
     "output_type": "execute_result"
    }
   ],
   "source": [
    "# Checking datatype:\n",
    "pirated_films['avg_downloads_per_day'].dtype"
   ]
  },
  {
   "attachments": {},
   "cell_type": "markdown",
   "metadata": {},
   "source": [
    "## **_Rearranging Variables_**"
   ]
  },
  {
   "attachments": {},
   "cell_type": "markdown",
   "metadata": {},
   "source": [
    "With our variables cleaned, sorted and with our new variables created, we can rearrange the sequence of the columns to get a better order of visualization."
   ]
  },
  {
   "cell_type": "code",
   "execution_count": 63,
   "metadata": {},
   "outputs": [
    {
     "data": {
      "text/html": [
       "<div>\n",
       "<style scoped>\n",
       "    .dataframe tbody tr th:only-of-type {\n",
       "        vertical-align: middle;\n",
       "    }\n",
       "\n",
       "    .dataframe tbody tr th {\n",
       "        vertical-align: top;\n",
       "    }\n",
       "\n",
       "    .dataframe thead th {\n",
       "        text-align: right;\n",
       "    }\n",
       "</style>\n",
       "<table border=\"1\" class=\"dataframe\">\n",
       "  <thead>\n",
       "    <tr style=\"text-align: right;\">\n",
       "      <th></th>\n",
       "      <th>movie_title</th>\n",
       "      <th>film_director</th>\n",
       "      <th>industry</th>\n",
       "      <th>available_langs</th>\n",
       "      <th>run_time_min</th>\n",
       "      <th>imdb_user_rating</th>\n",
       "      <th>worldwide_release</th>\n",
       "      <th>platform_post_date</th>\n",
       "      <th>days_to_piracy</th>\n",
       "      <th>avg_views_per_download</th>\n",
       "      <th>avg_downloads_per_day</th>\n",
       "      <th>downloads</th>\n",
       "      <th>total_views</th>\n",
       "    </tr>\n",
       "  </thead>\n",
       "  <tbody>\n",
       "    <tr>\n",
       "      <th>0</th>\n",
       "      <td>Little Dixie</td>\n",
       "      <td>John Swab</td>\n",
       "      <td>Hollywood / English</td>\n",
       "      <td>English</td>\n",
       "      <td>105</td>\n",
       "      <td>4.8</td>\n",
       "      <td>2023-01-28</td>\n",
       "      <td>2023-02-20</td>\n",
       "      <td>23</td>\n",
       "      <td>9.190789</td>\n",
       "      <td>13.217391</td>\n",
       "      <td>304</td>\n",
       "      <td>2794</td>\n",
       "    </tr>\n",
       "    <tr>\n",
       "      <th>1</th>\n",
       "      <td>Grilling Season: A Curious Caterer Mystery</td>\n",
       "      <td>Paul Ziller</td>\n",
       "      <td>Hollywood / English</td>\n",
       "      <td>English</td>\n",
       "      <td>84</td>\n",
       "      <td>6.4</td>\n",
       "      <td>2023-02-05</td>\n",
       "      <td>2023-02-20</td>\n",
       "      <td>15</td>\n",
       "      <td>13.726027</td>\n",
       "      <td>4.866667</td>\n",
       "      <td>73</td>\n",
       "      <td>1002</td>\n",
       "    </tr>\n",
       "    <tr>\n",
       "      <th>2</th>\n",
       "      <td>In the Earth</td>\n",
       "      <td>Ben Wheatley</td>\n",
       "      <td>Hollywood / English</td>\n",
       "      <td>English,Hindi</td>\n",
       "      <td>107</td>\n",
       "      <td>5.2</td>\n",
       "      <td>2021-06-18</td>\n",
       "      <td>2021-04-20</td>\n",
       "      <td>-59</td>\n",
       "      <td>10.104415</td>\n",
       "      <td>24.186441</td>\n",
       "      <td>1427</td>\n",
       "      <td>14419</td>\n",
       "    </tr>\n",
       "    <tr>\n",
       "      <th>3</th>\n",
       "      <td>Vaathi</td>\n",
       "      <td>Venky Atluri</td>\n",
       "      <td>Tollywood</td>\n",
       "      <td>Hindi</td>\n",
       "      <td>139</td>\n",
       "      <td>8.1</td>\n",
       "      <td>2023-02-17</td>\n",
       "      <td>2023-02-20</td>\n",
       "      <td>3</td>\n",
       "      <td>3.149128</td>\n",
       "      <td>516.333333</td>\n",
       "      <td>1549</td>\n",
       "      <td>4878</td>\n",
       "    </tr>\n",
       "    <tr>\n",
       "      <th>4</th>\n",
       "      <td>Alone</td>\n",
       "      <td>Shaji Kailas</td>\n",
       "      <td>Tollywood</td>\n",
       "      <td>Hindi</td>\n",
       "      <td>122</td>\n",
       "      <td>4.6</td>\n",
       "      <td>2023-01-26</td>\n",
       "      <td>2023-02-20</td>\n",
       "      <td>25</td>\n",
       "      <td>3.710807</td>\n",
       "      <td>26.280000</td>\n",
       "      <td>657</td>\n",
       "      <td>2438</td>\n",
       "    </tr>\n",
       "    <tr>\n",
       "      <th>5</th>\n",
       "      <td>Anubhavinchu Raja</td>\n",
       "      <td>Srinivas Gavireddy</td>\n",
       "      <td>Tollywood</td>\n",
       "      <td>Hindi</td>\n",
       "      <td>131</td>\n",
       "      <td>5.4</td>\n",
       "      <td>2021-11-26</td>\n",
       "      <td>2023-02-20</td>\n",
       "      <td>451</td>\n",
       "      <td>3.941019</td>\n",
       "      <td>1.654102</td>\n",
       "      <td>746</td>\n",
       "      <td>2940</td>\n",
       "    </tr>\n",
       "    <tr>\n",
       "      <th>6</th>\n",
       "      <td>WWE Elimination Chamber</td>\n",
       "      <td>Not Assigned</td>\n",
       "      <td>Wrestling</td>\n",
       "      <td>English</td>\n",
       "      <td>200</td>\n",
       "      <td>5.8</td>\n",
       "      <td>2023-02-18</td>\n",
       "      <td>2023-02-19</td>\n",
       "      <td>1</td>\n",
       "      <td>2.246437</td>\n",
       "      <td>5332.000000</td>\n",
       "      <td>5332</td>\n",
       "      <td>11978</td>\n",
       "    </tr>\n",
       "    <tr>\n",
       "      <th>7</th>\n",
       "      <td>Sharper</td>\n",
       "      <td>Benjamin Caron</td>\n",
       "      <td>Hollywood / English</td>\n",
       "      <td>English</td>\n",
       "      <td>116</td>\n",
       "      <td>6.5</td>\n",
       "      <td>2023-02-17</td>\n",
       "      <td>2023-02-13</td>\n",
       "      <td>-4</td>\n",
       "      <td>10.233015</td>\n",
       "      <td>445.250000</td>\n",
       "      <td>1781</td>\n",
       "      <td>18225</td>\n",
       "    </tr>\n",
       "    <tr>\n",
       "      <th>8</th>\n",
       "      <td>Four Samosas</td>\n",
       "      <td>Ravi Kapoor</td>\n",
       "      <td>Hollywood / English</td>\n",
       "      <td>English</td>\n",
       "      <td>80</td>\n",
       "      <td>6.9</td>\n",
       "      <td>2022-12-02</td>\n",
       "      <td>2023-02-18</td>\n",
       "      <td>78</td>\n",
       "      <td>15.091703</td>\n",
       "      <td>5.871795</td>\n",
       "      <td>458</td>\n",
       "      <td>6912</td>\n",
       "    </tr>\n",
       "    <tr>\n",
       "      <th>9</th>\n",
       "      <td>Blood Harvest</td>\n",
       "      <td>Danny LeGare</td>\n",
       "      <td>Hollywood / English</td>\n",
       "      <td>English</td>\n",
       "      <td>80</td>\n",
       "      <td>4.2</td>\n",
       "      <td>2023-02-07</td>\n",
       "      <td>2023-02-18</td>\n",
       "      <td>11</td>\n",
       "      <td>4.941476</td>\n",
       "      <td>178.636364</td>\n",
       "      <td>1965</td>\n",
       "      <td>9710</td>\n",
       "    </tr>\n",
       "  </tbody>\n",
       "</table>\n",
       "</div>"
      ],
      "text/plain": [
       "                                  movie_title       film_director  \\\n",
       "0                                Little Dixie           John Swab   \n",
       "1  Grilling Season: A Curious Caterer Mystery         Paul Ziller   \n",
       "2                                In the Earth        Ben Wheatley   \n",
       "3                                      Vaathi        Venky Atluri   \n",
       "4                                       Alone        Shaji Kailas   \n",
       "5                           Anubhavinchu Raja  Srinivas Gavireddy   \n",
       "6                     WWE Elimination Chamber        Not Assigned   \n",
       "7                                     Sharper      Benjamin Caron   \n",
       "8                                Four Samosas         Ravi Kapoor   \n",
       "9                               Blood Harvest        Danny LeGare   \n",
       "\n",
       "              industry available_langs  run_time_min  imdb_user_rating  \\\n",
       "0  Hollywood / English         English           105               4.8   \n",
       "1  Hollywood / English         English            84               6.4   \n",
       "2  Hollywood / English   English,Hindi           107               5.2   \n",
       "3            Tollywood           Hindi           139               8.1   \n",
       "4            Tollywood           Hindi           122               4.6   \n",
       "5            Tollywood           Hindi           131               5.4   \n",
       "6            Wrestling         English           200               5.8   \n",
       "7  Hollywood / English         English           116               6.5   \n",
       "8  Hollywood / English         English            80               6.9   \n",
       "9  Hollywood / English         English            80               4.2   \n",
       "\n",
       "  worldwide_release platform_post_date  days_to_piracy  \\\n",
       "0        2023-01-28         2023-02-20              23   \n",
       "1        2023-02-05         2023-02-20              15   \n",
       "2        2021-06-18         2021-04-20             -59   \n",
       "3        2023-02-17         2023-02-20               3   \n",
       "4        2023-01-26         2023-02-20              25   \n",
       "5        2021-11-26         2023-02-20             451   \n",
       "6        2023-02-18         2023-02-19               1   \n",
       "7        2023-02-17         2023-02-13              -4   \n",
       "8        2022-12-02         2023-02-18              78   \n",
       "9        2023-02-07         2023-02-18              11   \n",
       "\n",
       "   avg_views_per_download  avg_downloads_per_day  downloads  total_views  \n",
       "0                9.190789              13.217391        304         2794  \n",
       "1               13.726027               4.866667         73         1002  \n",
       "2               10.104415              24.186441       1427        14419  \n",
       "3                3.149128             516.333333       1549         4878  \n",
       "4                3.710807              26.280000        657         2438  \n",
       "5                3.941019               1.654102        746         2940  \n",
       "6                2.246437            5332.000000       5332        11978  \n",
       "7               10.233015             445.250000       1781        18225  \n",
       "8               15.091703               5.871795        458         6912  \n",
       "9                4.941476             178.636364       1965         9710  "
      ]
     },
     "execution_count": 63,
     "metadata": {},
     "output_type": "execute_result"
    }
   ],
   "source": [
    "# Rearranging variables:\n",
    "new_order = ['movie_title', 'film_director', 'industry', 'available_langs', \n",
    "             'run_time_min', 'imdb_user_rating', 'worldwide_release', \n",
    "             'platform_post_date', 'days_to_piracy', 'avg_views_per_download', \n",
    "             'avg_downloads_per_day', 'downloads', 'total_views']\n",
    "\n",
    "# Defining the order:\n",
    "pirated_films = pirated_films.reindex(columns=new_order)\n",
    "\n",
    "# Checking final dataset:\n",
    "pirated_films.head(10)"
   ]
  },
  {
   "attachments": {},
   "cell_type": "markdown",
   "metadata": {},
   "source": [
    "We will create a new Notebook specifically for Univariate Analysis in our project. This will be done for several reasons:\n",
    "\n",
    "- If we were to perform the entire Exploratory Data Analysis (EDA) in a single notebook, it would become too large and difficult to navigate, making it more tedious to find the information we need.\n",
    "\n",
    "- With multiple notebooks for each step of the project, as large as this one, it is much easier to understand where specific parts of the EDA are located. For example, if we want to see the cleaning phase, we can refer to one notebook, and if we want to see the plots and analysis, we can refer to another notebook.\n",
    "\n",
    "Therefore, to proceed to the next notebook, we need to save our cleaned dataset as a new CSV file."
   ]
  },
  {
   "cell_type": "code",
   "execution_count": 64,
   "metadata": {},
   "outputs": [],
   "source": [
    "# Creating a new clean CSV:\n",
    "pirated_films.to_csv('data/pirated_films.csv', index=False, sep=',')"
   ]
  },
  {
   "attachments": {},
   "cell_type": "markdown",
   "metadata": {},
   "source": [
    "To the next part ot the EDA, reffer to the second notebook titled:\n",
    "\n",
    "- **2_univariate_analysis.ipynb**"
   ]
  }
 ],
 "metadata": {
  "kernelspec": {
   "display_name": "pirate_venv",
   "language": "python",
   "name": "python3"
  },
  "language_info": {
   "codemirror_mode": {
    "name": "ipython",
    "version": 3
   },
   "file_extension": ".py",
   "mimetype": "text/x-python",
   "name": "python",
   "nbconvert_exporter": "python",
   "pygments_lexer": "ipython3",
   "version": "3.10.9"
  },
  "orig_nbformat": 4,
  "vscode": {
   "interpreter": {
    "hash": "0b9a7b68d25f51425ba4ce154b66734d4f59374869df646bbb4a0e0976e0cdd5"
   }
  }
 },
 "nbformat": 4,
 "nbformat_minor": 2
}
