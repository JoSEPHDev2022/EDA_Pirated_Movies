{
 "cells": [
  {
   "attachments": {},
   "cell_type": "markdown",
   "metadata": {},
   "source": [
    "# **General Objectives**\n",
    "\n",
    "---"
   ]
  },
  {
   "attachments": {},
   "cell_type": "markdown",
   "metadata": {},
   "source": [
    "The general objective of this project is to analyze data from a [Kaggle Dataset](https://www.kaggle.com/datasets/arsalanrehman/movies-dataset-from-piracy-website) that has been gathered from a pirated website that has a user base of around 2M visitors per month. This data contains more than 20,000+ movies from all industries such as Hollywood, Bollywood, Anime, etc. The goal is to to describe the data the best as possible, utilizing data science methods, statistical aproaches to the data and the creation of a detailed report.\n",
    "\n",
    "The steps for the creation of the report are as follows:\n",
    "\n",
    "- Collect and Understanding of the Data.\n",
    "\n",
    "- Data Prep and Transformation.\n",
    "- Univariate Analysis.\n",
    "- Multivariate Analysis.\n",
    "- Questions, Insights and Answers.\n",
    "\n",
    "The purpose of the analysis is to be as detailed as possible, so expect a big and lenghty report."
   ]
  },
  {
   "attachments": {},
   "cell_type": "markdown",
   "metadata": {},
   "source": [
    "# **Importing Packages and Collecting the Dataset**\n",
    "\n",
    "---"
   ]
  },
  {
   "cell_type": "code",
   "execution_count": 1,
   "metadata": {},
   "outputs": [
    {
     "name": "stdout",
     "output_type": "stream",
     "text": [
      "Packages collected!\n"
     ]
    }
   ],
   "source": [
    "# Importing libraries needed for the project:\n",
    "import pandas as pd\n",
    "import numpy as np\n",
    "import seaborn as sns\n",
    "import warnings\n",
    "import matplotlib.pyplot as plt\n",
    "import re\n",
    "from matplotlib.pyplot import MaxNLocator, FuncFormatter\n",
    "from matplotlib.font_manager import FontProperties\n",
    "\n",
    "# Setting seaborn plot parameters:\n",
    "sns.set_theme(context='notebook', style='darkgrid')\n",
    "\n",
    "# Filtering out warnings:\n",
    "warnings.filterwarnings('ignore')\n",
    "\n",
    "# Setting pandas dataframe visualization parameters:\n",
    "pd.set_option('display.max_columns', 100)\n",
    "\n",
    "print('Packages collected!')"
   ]
  },
  {
   "cell_type": "code",
   "execution_count": 2,
   "metadata": {},
   "outputs": [],
   "source": [
    "# Creating the Dataframe with original data:\n",
    "data = pd.read_csv('data\\movies_dataset.csv', sep=',')"
   ]
  },
  {
   "attachments": {},
   "cell_type": "markdown",
   "metadata": {},
   "source": [
    "- First rows:"
   ]
  },
  {
   "cell_type": "code",
   "execution_count": 3,
   "metadata": {},
   "outputs": [
    {
     "data": {
      "text/html": [
       "<div>\n",
       "<style scoped>\n",
       "    .dataframe tbody tr th:only-of-type {\n",
       "        vertical-align: middle;\n",
       "    }\n",
       "\n",
       "    .dataframe tbody tr th {\n",
       "        vertical-align: top;\n",
       "    }\n",
       "\n",
       "    .dataframe thead th {\n",
       "        text-align: right;\n",
       "    }\n",
       "</style>\n",
       "<table border=\"1\" class=\"dataframe\">\n",
       "  <thead>\n",
       "    <tr style=\"text-align: right;\">\n",
       "      <th></th>\n",
       "      <th>Unnamed: 0</th>\n",
       "      <th>IMDb-rating</th>\n",
       "      <th>appropriate_for</th>\n",
       "      <th>director</th>\n",
       "      <th>downloads</th>\n",
       "      <th>id</th>\n",
       "      <th>industry</th>\n",
       "      <th>language</th>\n",
       "      <th>posted_date</th>\n",
       "      <th>release_date</th>\n",
       "      <th>run_time</th>\n",
       "      <th>storyline</th>\n",
       "      <th>title</th>\n",
       "      <th>views</th>\n",
       "      <th>writer</th>\n",
       "    </tr>\n",
       "  </thead>\n",
       "  <tbody>\n",
       "    <tr>\n",
       "      <th>0</th>\n",
       "      <td>0</td>\n",
       "      <td>4.8</td>\n",
       "      <td>R</td>\n",
       "      <td>John Swab</td>\n",
       "      <td>304</td>\n",
       "      <td>372092</td>\n",
       "      <td>Hollywood / English</td>\n",
       "      <td>English</td>\n",
       "      <td>20 Feb, 2023</td>\n",
       "      <td>Jan 28 2023</td>\n",
       "      <td>105</td>\n",
       "      <td>Doc\\r\\n facilitates a fragile truce between th...</td>\n",
       "      <td>Little Dixie</td>\n",
       "      <td>2,794</td>\n",
       "      <td>John Swab</td>\n",
       "    </tr>\n",
       "    <tr>\n",
       "      <th>1</th>\n",
       "      <td>1</td>\n",
       "      <td>6.4</td>\n",
       "      <td>TV-PG</td>\n",
       "      <td>Paul Ziller</td>\n",
       "      <td>73</td>\n",
       "      <td>372091</td>\n",
       "      <td>Hollywood / English</td>\n",
       "      <td>English</td>\n",
       "      <td>20 Feb, 2023</td>\n",
       "      <td>Feb 05 2023</td>\n",
       "      <td>84</td>\n",
       "      <td>Caterer\\r\\n Goldy Berry reunites with detectiv...</td>\n",
       "      <td>Grilling Season: A Curious Caterer Mystery</td>\n",
       "      <td>1,002</td>\n",
       "      <td>John Christian Plummer</td>\n",
       "    </tr>\n",
       "    <tr>\n",
       "      <th>2</th>\n",
       "      <td>2</td>\n",
       "      <td>5.2</td>\n",
       "      <td>R</td>\n",
       "      <td>Ben Wheatley</td>\n",
       "      <td>1,427</td>\n",
       "      <td>343381</td>\n",
       "      <td>Hollywood / English</td>\n",
       "      <td>English,Hindi</td>\n",
       "      <td>20 Apr, 2021</td>\n",
       "      <td>Jun 18 2021</td>\n",
       "      <td>1h 47min</td>\n",
       "      <td>As the world searches for a cure to a disastro...</td>\n",
       "      <td>In the Earth</td>\n",
       "      <td>14,419</td>\n",
       "      <td>Ben Wheatley</td>\n",
       "    </tr>\n",
       "    <tr>\n",
       "      <th>3</th>\n",
       "      <td>3</td>\n",
       "      <td>8.1</td>\n",
       "      <td>NaN</td>\n",
       "      <td>Venky Atluri</td>\n",
       "      <td>1,549</td>\n",
       "      <td>372090</td>\n",
       "      <td>Tollywood</td>\n",
       "      <td>Hindi</td>\n",
       "      <td>20 Feb, 2023</td>\n",
       "      <td>Feb 17 2023</td>\n",
       "      <td>139</td>\n",
       "      <td>The life of a young man and his struggles agai...</td>\n",
       "      <td>Vaathi</td>\n",
       "      <td>4,878</td>\n",
       "      <td>Venky Atluri</td>\n",
       "    </tr>\n",
       "    <tr>\n",
       "      <th>4</th>\n",
       "      <td>4</td>\n",
       "      <td>4.6</td>\n",
       "      <td>NaN</td>\n",
       "      <td>Shaji Kailas</td>\n",
       "      <td>657</td>\n",
       "      <td>372089</td>\n",
       "      <td>Tollywood</td>\n",
       "      <td>Hindi</td>\n",
       "      <td>20 Feb, 2023</td>\n",
       "      <td>Jan 26 2023</td>\n",
       "      <td>122</td>\n",
       "      <td>A man named Kalidas gets stranded due to the p...</td>\n",
       "      <td>Alone</td>\n",
       "      <td>2,438</td>\n",
       "      <td>Rajesh Jayaraman</td>\n",
       "    </tr>\n",
       "  </tbody>\n",
       "</table>\n",
       "</div>"
      ],
      "text/plain": [
       "   Unnamed: 0  IMDb-rating appropriate_for      director downloads      id  \\\n",
       "0           0          4.8               R     John Swab       304  372092   \n",
       "1           1          6.4           TV-PG   Paul Ziller        73  372091   \n",
       "2           2          5.2               R  Ben Wheatley     1,427  343381   \n",
       "3           3          8.1             NaN  Venky Atluri     1,549  372090   \n",
       "4           4          4.6             NaN  Shaji Kailas       657  372089   \n",
       "\n",
       "              industry       language   posted_date release_date  run_time  \\\n",
       "0  Hollywood / English        English  20 Feb, 2023  Jan 28 2023       105   \n",
       "1  Hollywood / English        English  20 Feb, 2023  Feb 05 2023        84   \n",
       "2  Hollywood / English  English,Hindi  20 Apr, 2021  Jun 18 2021  1h 47min   \n",
       "3            Tollywood          Hindi  20 Feb, 2023  Feb 17 2023       139   \n",
       "4            Tollywood          Hindi  20 Feb, 2023  Jan 26 2023       122   \n",
       "\n",
       "                                           storyline  \\\n",
       "0  Doc\\r\\n facilitates a fragile truce between th...   \n",
       "1  Caterer\\r\\n Goldy Berry reunites with detectiv...   \n",
       "2  As the world searches for a cure to a disastro...   \n",
       "3  The life of a young man and his struggles agai...   \n",
       "4  A man named Kalidas gets stranded due to the p...   \n",
       "\n",
       "                                        title   views                  writer  \n",
       "0                                Little Dixie   2,794               John Swab  \n",
       "1  Grilling Season: A Curious Caterer Mystery   1,002  John Christian Plummer  \n",
       "2                                In the Earth  14,419            Ben Wheatley  \n",
       "3                                      Vaathi   4,878            Venky Atluri  \n",
       "4                                       Alone   2,438        Rajesh Jayaraman  "
      ]
     },
     "execution_count": 3,
     "metadata": {},
     "output_type": "execute_result"
    }
   ],
   "source": [
    "data.head()"
   ]
  },
  {
   "attachments": {},
   "cell_type": "markdown",
   "metadata": {},
   "source": [
    "- Sample rows:"
   ]
  },
  {
   "cell_type": "code",
   "execution_count": 4,
   "metadata": {},
   "outputs": [
    {
     "data": {
      "text/html": [
       "<div>\n",
       "<style scoped>\n",
       "    .dataframe tbody tr th:only-of-type {\n",
       "        vertical-align: middle;\n",
       "    }\n",
       "\n",
       "    .dataframe tbody tr th {\n",
       "        vertical-align: top;\n",
       "    }\n",
       "\n",
       "    .dataframe thead th {\n",
       "        text-align: right;\n",
       "    }\n",
       "</style>\n",
       "<table border=\"1\" class=\"dataframe\">\n",
       "  <thead>\n",
       "    <tr style=\"text-align: right;\">\n",
       "      <th></th>\n",
       "      <th>Unnamed: 0</th>\n",
       "      <th>IMDb-rating</th>\n",
       "      <th>appropriate_for</th>\n",
       "      <th>director</th>\n",
       "      <th>downloads</th>\n",
       "      <th>id</th>\n",
       "      <th>industry</th>\n",
       "      <th>language</th>\n",
       "      <th>posted_date</th>\n",
       "      <th>release_date</th>\n",
       "      <th>run_time</th>\n",
       "      <th>storyline</th>\n",
       "      <th>title</th>\n",
       "      <th>views</th>\n",
       "      <th>writer</th>\n",
       "    </tr>\n",
       "  </thead>\n",
       "  <tbody>\n",
       "    <tr>\n",
       "      <th>5582</th>\n",
       "      <td>5582</td>\n",
       "      <td>8.1</td>\n",
       "      <td>NaN</td>\n",
       "      <td>Venky Atluri</td>\n",
       "      <td>1,805</td>\n",
       "      <td>372090</td>\n",
       "      <td>Tollywood</td>\n",
       "      <td>Hindi</td>\n",
       "      <td>20 Feb, 2023</td>\n",
       "      <td>Feb 17 2023</td>\n",
       "      <td>139</td>\n",
       "      <td>The life of a young man and his struggles agai...</td>\n",
       "      <td>Vaathi</td>\n",
       "      <td>5,793</td>\n",
       "      <td>Venky Atluri</td>\n",
       "    </tr>\n",
       "    <tr>\n",
       "      <th>15875</th>\n",
       "      <td>15875</td>\n",
       "      <td>6.7</td>\n",
       "      <td>NaN</td>\n",
       "      <td>A. Bhimsingh</td>\n",
       "      <td>7,419</td>\n",
       "      <td>82925</td>\n",
       "      <td>Bollywood / Indian</td>\n",
       "      <td>Hindi</td>\n",
       "      <td>20 Nov, 2013</td>\n",
       "      <td>Apr 12 1968</td>\n",
       "      <td>2h 35min</td>\n",
       "      <td>Kind-hearted yet naive Bajrang (Mehmood) drive...</td>\n",
       "      <td>Sadhu Aur Shaitaan</td>\n",
       "      <td>10,702</td>\n",
       "      <td>A. Bhimsingh, Rajendra Krishan</td>\n",
       "    </tr>\n",
       "    <tr>\n",
       "      <th>5833</th>\n",
       "      <td>5833</td>\n",
       "      <td>5.9</td>\n",
       "      <td>PG</td>\n",
       "      <td>Carmel Winters</td>\n",
       "      <td>710</td>\n",
       "      <td>323345</td>\n",
       "      <td>Hollywood / English</td>\n",
       "      <td>English</td>\n",
       "      <td>29 Jan, 2020</td>\n",
       "      <td>May 10 2019</td>\n",
       "      <td>1h 41min</td>\n",
       "      <td>From the producers of Once and Sing Street, Fl...</td>\n",
       "      <td>Float Like a Butterfly</td>\n",
       "      <td>11,980</td>\n",
       "      <td>Carmel Winters</td>\n",
       "    </tr>\n",
       "    <tr>\n",
       "      <th>10906</th>\n",
       "      <td>10906</td>\n",
       "      <td>5.5</td>\n",
       "      <td>NaN</td>\n",
       "      <td>Nadira Amrani</td>\n",
       "      <td>378</td>\n",
       "      <td>371671</td>\n",
       "      <td>Hollywood / English</td>\n",
       "      <td>English</td>\n",
       "      <td>10 Feb, 2023</td>\n",
       "      <td>Feb 07 2023</td>\n",
       "      <td>NaN</td>\n",
       "      <td>Bold\\r\\n and authentic drama set at an elite s...</td>\n",
       "      <td>Consent</td>\n",
       "      <td>4,317</td>\n",
       "      <td>Emma Dennis-Edwards</td>\n",
       "    </tr>\n",
       "    <tr>\n",
       "      <th>10079</th>\n",
       "      <td>10079</td>\n",
       "      <td>5.6</td>\n",
       "      <td>R</td>\n",
       "      <td>Jonathan Mostow</td>\n",
       "      <td>4,396</td>\n",
       "      <td>224610</td>\n",
       "      <td>Hollywood / English</td>\n",
       "      <td>English,German,French</td>\n",
       "      <td>10 May, 2017</td>\n",
       "      <td>Jun 01 2017</td>\n",
       "      <td>91</td>\n",
       "      <td>An assassin helps a young woman avenge the dea...</td>\n",
       "      <td>Hunter's Prayer</td>\n",
       "      <td>22,813</td>\n",
       "      <td>John Brancato, Michael Ferris, Kevin Wignall</td>\n",
       "    </tr>\n",
       "  </tbody>\n",
       "</table>\n",
       "</div>"
      ],
      "text/plain": [
       "       Unnamed: 0  IMDb-rating appropriate_for         director downloads  \\\n",
       "5582         5582          8.1             NaN     Venky Atluri     1,805   \n",
       "15875       15875          6.7             NaN     A. Bhimsingh     7,419   \n",
       "5833         5833          5.9              PG   Carmel Winters       710   \n",
       "10906       10906          5.5             NaN    Nadira Amrani       378   \n",
       "10079       10079          5.6               R  Jonathan Mostow     4,396   \n",
       "\n",
       "           id             industry               language   posted_date  \\\n",
       "5582   372090            Tollywood                  Hindi  20 Feb, 2023   \n",
       "15875   82925   Bollywood / Indian                  Hindi  20 Nov, 2013   \n",
       "5833   323345  Hollywood / English                English  29 Jan, 2020   \n",
       "10906  371671  Hollywood / English                English  10 Feb, 2023   \n",
       "10079  224610  Hollywood / English  English,German,French  10 May, 2017   \n",
       "\n",
       "      release_date  run_time  \\\n",
       "5582   Feb 17 2023       139   \n",
       "15875  Apr 12 1968  2h 35min   \n",
       "5833   May 10 2019  1h 41min   \n",
       "10906  Feb 07 2023       NaN   \n",
       "10079  Jun 01 2017        91   \n",
       "\n",
       "                                               storyline  \\\n",
       "5582   The life of a young man and his struggles agai...   \n",
       "15875  Kind-hearted yet naive Bajrang (Mehmood) drive...   \n",
       "5833   From the producers of Once and Sing Street, Fl...   \n",
       "10906  Bold\\r\\n and authentic drama set at an elite s...   \n",
       "10079  An assassin helps a young woman avenge the dea...   \n",
       "\n",
       "                        title   views  \\\n",
       "5582                   Vaathi   5,793   \n",
       "15875      Sadhu Aur Shaitaan  10,702   \n",
       "5833   Float Like a Butterfly  11,980   \n",
       "10906                 Consent   4,317   \n",
       "10079         Hunter's Prayer  22,813   \n",
       "\n",
       "                                             writer  \n",
       "5582                                   Venky Atluri  \n",
       "15875                A. Bhimsingh, Rajendra Krishan  \n",
       "5833                                 Carmel Winters  \n",
       "10906                           Emma Dennis-Edwards  \n",
       "10079  John Brancato, Michael Ferris, Kevin Wignall  "
      ]
     },
     "execution_count": 4,
     "metadata": {},
     "output_type": "execute_result"
    }
   ],
   "source": [
    "data.sample(5)"
   ]
  },
  {
   "attachments": {},
   "cell_type": "markdown",
   "metadata": {},
   "source": [
    "# **Understanding the Dataset**\n",
    "\n",
    "---"
   ]
  },
  {
   "attachments": {},
   "cell_type": "markdown",
   "metadata": {},
   "source": [
    "Before we can start describing and analyzing the Data, it's important to comprehend what variables are present in the Dataset and the values they hold. For that, we will use a simple markdown table explaining the contents of the Dataset:\n",
    "\n",
    "**Table 1.1: Variable Dictionary and Analysis**\n",
    "\n",
    "| Variable Name             | Variable Contents                 | Variable Importance for Analysis             | Comments About Variable                                                                        |\n",
    "|---------------------------|-----------------------------------|----------------------------------------------|------------------------------------------------------------------------------------------------|\n",
    "| **`Unnamed:0`**           | Row id native to the Dataset      | 🔴 Irrelevant                                 | Not needed since Pandas Dataframes already comes with a Id column                              |\n",
    "| **`IMDB-rating`**         | Rating of the movie on IMDB       | 🟢 High                                       | None                                                                                           |\n",
    "| **`appropriate_for`**     | Movie classification rating       | 🟡 Medium                                     | Interesting possibilities for analysis. Be careful with the amount of different rating systems |\n",
    "| **`director`**            | Name of movie director            | 🟡 Medium                                     | None                                                                                           |\n",
    "| **`dowloads`**            | Number of dowloads per movie      | 🟢 High                                       | None                                                                                           |\n",
    "| **`id`**                  | Unique Id per movie               | 🔴 Irrelevant                                 | Same motive as the first variable                                                              |\n",
    "| **`industry`**            | Industry that produced the movie  | 🟢 High                                       | None                                                                                           |\n",
    "| **`language`**            | Available languages for the movie | 🟠 Low                                         | Not much important for the analysis as a hole, but not totally irrelevant                      |\n",
    "| **`posted_date`**         | When the movie was posted on the platform | 🟢 High                                | Very important metric for the analysis                                                         |\n",
    "| **`released_date`**       | When the movie was released worldwide | 🟢 High                                    | In conjunction with the variable above, opens up lots of analytical possibilities             |\n",
    "| **`run_time`**            | Runtime of the movie (minutes)    | 🟡 Medium                                      | None                                                                                           |\n",
    "| **`storyline`**           | Movie synopsis                    | 🔴 Irrelevant                                  | For the pourposes of this analysis, the movie storyline is not needed                          |\n",
    "| **`title`**               | Movie title                       | 🟢 High                                      | Without a name, there is no movie!                                                             |\n",
    "| **`views`**               | Number of clicks per movie        | 🟢 High                                          | Very important metric alongside with downloads                                                  |\n",
    "| **`writer`**              | List of all the movie writers     | 🟠 Low                                          | None                                                                                           |\n"
   ]
  },
  {
   "attachments": {},
   "cell_type": "markdown",
   "metadata": {},
   "source": [
    "With this table, we can identify the important and the not so important variables of the Dataset, but before we can trasnform or delete this data, we will keep it to still analyse and describe it. For that, we weill begin by checking the Dataset dimensons with the **`.shape`** method:"
   ]
  },
  {
   "cell_type": "code",
   "execution_count": 5,
   "metadata": {},
   "outputs": [
    {
     "name": "stdout",
     "output_type": "stream",
     "text": [
      "Total Variables: 15\n",
      "Total Rows: 20548\n"
     ]
    }
   ],
   "source": [
    "# Checking dataset dimensions:\n",
    "print(f'Total Variables: {data.shape[1]}\\nTotal Rows: {data.shape[0]}')"
   ]
  },
  {
   "attachments": {},
   "cell_type": "markdown",
   "metadata": {},
   "source": [
    "We can see that this is a rather large Dataset, containing more than 20k registry entries. Now, lets use the **`.info()`** method to gather more detailed information about these variables:"
   ]
  },
  {
   "cell_type": "code",
   "execution_count": 6,
   "metadata": {},
   "outputs": [
    {
     "name": "stdout",
     "output_type": "stream",
     "text": [
      "<class 'pandas.core.frame.DataFrame'>\n",
      "RangeIndex: 20548 entries, 0 to 20547\n",
      "Data columns (total 15 columns):\n",
      " #   Column           Non-Null Count  Dtype  \n",
      "---  ------           --------------  -----  \n",
      " 0   Unnamed: 0       20548 non-null  int64  \n",
      " 1   IMDb-rating      19707 non-null  float64\n",
      " 2   appropriate_for  11072 non-null  object \n",
      " 3   director         18610 non-null  object \n",
      " 4   downloads        20547 non-null  object \n",
      " 5   id               20548 non-null  int64  \n",
      " 6   industry         20547 non-null  object \n",
      " 7   language         20006 non-null  object \n",
      " 8   posted_date      20547 non-null  object \n",
      " 9   release_date     20547 non-null  object \n",
      " 10  run_time         18780 non-null  object \n",
      " 11  storyline        18847 non-null  object \n",
      " 12  title            20547 non-null  object \n",
      " 13  views            20547 non-null  object \n",
      " 14  writer           18356 non-null  object \n",
      "dtypes: float64(1), int64(2), object(12)\n",
      "memory usage: 2.4+ MB\n"
     ]
    }
   ],
   "source": [
    "# Cheking general information about the Dataset:\n",
    "data.info()"
   ]
  },
  {
   "attachments": {},
   "cell_type": "markdown",
   "metadata": {},
   "source": [
    "Now we have a lot more information about the specific variables of the Dataset:\n",
    "\n",
    "**Null Values**\n",
    "\n",
    "- We have null values in all columns except the **`id`** variable.\n",
    "\n",
    "**Data Types**\n",
    "\n",
    "- In the Dataset, we have one **`float64`** variable, two **`int64`** variables and twelve **`object`** variables.\n",
    "\n",
    "**Memory Usage**\n",
    "\n",
    "- The Dataset, in it`s current form, consumes over 2.4 MB of memory.\n",
    "\n",
    "**Proposed Changes**\n",
    "\n",
    "- Make an acessement and deal with the null values;\n",
    "\n",
    "- Change most of the Data Types to boost the memory efficiency. Also this is the most important change in this case because most of the variables are not in a apropriate data format, i.e. **`posted_date`** being a object data type instead of datetime and **`runtime`** being a object type instead of float or int.\n",
    "\n",
    "Now, let`s check the exact amout of null values in each column, as well as the percentage that it represents:"
   ]
  },
  {
   "cell_type": "code",
   "execution_count": 7,
   "metadata": {},
   "outputs": [
    {
     "data": {
      "text/plain": [
       "appropriate_for    9476\n",
       "writer             2192\n",
       "director           1938\n",
       "run_time           1768\n",
       "storyline          1701\n",
       "IMDb-rating         841\n",
       "language            542\n",
       "downloads             1\n",
       "industry              1\n",
       "posted_date           1\n",
       "release_date          1\n",
       "title                 1\n",
       "views                 1\n",
       "Unnamed: 0            0\n",
       "id                    0\n",
       "dtype: int64"
      ]
     },
     "execution_count": 7,
     "metadata": {},
     "output_type": "execute_result"
    }
   ],
   "source": [
    "# Checking total null values:\n",
    "null_count = (data\n",
    "              .isna()\n",
    "              .sum()\n",
    "              .sort_values(ascending=False))\n",
    "\n",
    "null_count"
   ]
  },
  {
   "cell_type": "code",
   "execution_count": 8,
   "metadata": {},
   "outputs": [
    {
     "data": {
      "text/plain": [
       "appropriate_for    46.1164\n",
       "writer             10.6677\n",
       "director            9.4316\n",
       "run_time            8.6042\n",
       "storyline           8.2782\n",
       "IMDb-rating         4.0929\n",
       "language            2.6377\n",
       "downloads           0.0049\n",
       "industry            0.0049\n",
       "posted_date         0.0049\n",
       "release_date        0.0049\n",
       "title               0.0049\n",
       "views               0.0049\n",
       "Unnamed: 0          0.0000\n",
       "id                  0.0000\n",
       "dtype: float64"
      ]
     },
     "execution_count": 8,
     "metadata": {},
     "output_type": "execute_result"
    }
   ],
   "source": [
    "# Check percentage of total size:\n",
    "null_percentage = round((data.isna().sum()/data.shape[0]) * 100, 4)\n",
    "\n",
    "null_percentage.sort_values(ascending=False)"
   ]
  },
  {
   "attachments": {},
   "cell_type": "markdown",
   "metadata": {},
   "source": [
    "immediately we can see that the variable **`appropriate_for`** is basically useless for the analysis. With 9.476 missing values representing more than 46% of the total data size, this variable is too empty to be filled in using different methods. For that reason, it will be dropped in the cleaning step.\n",
    "\n",
    "The **`writer`** column also has a good amout of missing values, 2.192 nulls representing more than 10.5% of the total data size. As this variable was already deemed as having a low priority in Table 1.1 previously made, it will also be dropped in the cleaning phase.\n",
    "\n",
    "The same cannot be said about the **`director`** variable, as altough it also has almost the same amount of null values as the **`writer`** column, it has a substancial potencial for analysis, being labeled as High priority in Table 1.1.\n",
    "\n",
    "The **`runtime`** and **`storyline`** variables both have a similar amout of missing values (around 8.5% of the total data). The first of them can and will be filled in using the **`mode()`** of the variable (as this metric is not much affected by the presence of outliers and should maintain the data consistency), the second variable is going to be dropped as stated in Table 1.1.\n",
    "\n",
    "All other variables have little to none Null values and can be easily filled in or dropped (like the **`Unnamed: 0`** column).\n"
   ]
  },
  {
   "attachments": {},
   "cell_type": "markdown",
   "metadata": {},
   "source": [
    "# **Data Prep, Cleaning and Feature Engineering**\n",
    "\n",
    "---"
   ]
  },
  {
   "attachments": {},
   "cell_type": "markdown",
   "metadata": {},
   "source": [
    "Here we will make all of the changes that are needed in the dataset, all of them being described in the section above. For a detailed view of what exactly we will be doing here:\n",
    "\n",
    "- Drop useless or undesirable variables;\n",
    "\n",
    "- Rename the variables if necessary;\n",
    "\n",
    "- Handle missing (null) values;\n",
    "\n",
    "- Change data types;\n",
    "\n",
    "- Handle duplicates, and\n",
    "\n",
    "- Adding new features to the dataset (feature engineering).\n",
    "\n",
    "Let's begin with the dropping of useless variables."
   ]
  },
  {
   "attachments": {},
   "cell_type": "markdown",
   "metadata": {},
   "source": [
    "## **_Dropping Variables_**"
   ]
  },
  {
   "attachments": {},
   "cell_type": "markdown",
   "metadata": {},
   "source": [
    "As indicated by Table 1.1 and our subsequent analysis of null values, we have some variables that will be dropped and some that can be filled to use in the analysis. The following are the variables that will be deleted from the dataset:\n",
    "\n",
    "**Variables to Drop**\n",
    "\n",
    "- **`Unnamed: 0`**\n",
    "\n",
    "- **`id`**\n",
    "\n",
    "- **`storyline`**\n",
    "\n",
    "- **`writer`**\n",
    "\n",
    "- **`appropriate_for`**\n",
    "\n",
    "For the manipulation of the dataset, we will create a copy of the Dataframe:"
   ]
  },
  {
   "cell_type": "code",
   "execution_count": 9,
   "metadata": {},
   "outputs": [],
   "source": [
    "# Creating manipulation copy:\n",
    "pirated_films = data.copy()"
   ]
  },
  {
   "attachments": {},
   "cell_type": "markdown",
   "metadata": {},
   "source": [
    "Now, we can drop the undesirable variables:"
   ]
  },
  {
   "cell_type": "code",
   "execution_count": 10,
   "metadata": {},
   "outputs": [],
   "source": [
    "# Dropping variables:\n",
    "pirated_films = (pirated_films\n",
    "                 .drop(['Unnamed: 0', 'id', 'storyline', 'writer', 'appropriate_for'], \n",
    "                       axis=1))"
   ]
  },
  {
   "cell_type": "code",
   "execution_count": 11,
   "metadata": {},
   "outputs": [
    {
     "data": {
      "text/html": [
       "<div>\n",
       "<style scoped>\n",
       "    .dataframe tbody tr th:only-of-type {\n",
       "        vertical-align: middle;\n",
       "    }\n",
       "\n",
       "    .dataframe tbody tr th {\n",
       "        vertical-align: top;\n",
       "    }\n",
       "\n",
       "    .dataframe thead th {\n",
       "        text-align: right;\n",
       "    }\n",
       "</style>\n",
       "<table border=\"1\" class=\"dataframe\">\n",
       "  <thead>\n",
       "    <tr style=\"text-align: right;\">\n",
       "      <th></th>\n",
       "      <th>IMDb-rating</th>\n",
       "      <th>director</th>\n",
       "      <th>downloads</th>\n",
       "      <th>industry</th>\n",
       "      <th>language</th>\n",
       "      <th>posted_date</th>\n",
       "      <th>release_date</th>\n",
       "      <th>run_time</th>\n",
       "      <th>title</th>\n",
       "      <th>views</th>\n",
       "    </tr>\n",
       "  </thead>\n",
       "  <tbody>\n",
       "    <tr>\n",
       "      <th>0</th>\n",
       "      <td>4.8</td>\n",
       "      <td>John Swab</td>\n",
       "      <td>304</td>\n",
       "      <td>Hollywood / English</td>\n",
       "      <td>English</td>\n",
       "      <td>20 Feb, 2023</td>\n",
       "      <td>Jan 28 2023</td>\n",
       "      <td>105</td>\n",
       "      <td>Little Dixie</td>\n",
       "      <td>2,794</td>\n",
       "    </tr>\n",
       "    <tr>\n",
       "      <th>1</th>\n",
       "      <td>6.4</td>\n",
       "      <td>Paul Ziller</td>\n",
       "      <td>73</td>\n",
       "      <td>Hollywood / English</td>\n",
       "      <td>English</td>\n",
       "      <td>20 Feb, 2023</td>\n",
       "      <td>Feb 05 2023</td>\n",
       "      <td>84</td>\n",
       "      <td>Grilling Season: A Curious Caterer Mystery</td>\n",
       "      <td>1,002</td>\n",
       "    </tr>\n",
       "    <tr>\n",
       "      <th>2</th>\n",
       "      <td>5.2</td>\n",
       "      <td>Ben Wheatley</td>\n",
       "      <td>1,427</td>\n",
       "      <td>Hollywood / English</td>\n",
       "      <td>English,Hindi</td>\n",
       "      <td>20 Apr, 2021</td>\n",
       "      <td>Jun 18 2021</td>\n",
       "      <td>1h 47min</td>\n",
       "      <td>In the Earth</td>\n",
       "      <td>14,419</td>\n",
       "    </tr>\n",
       "    <tr>\n",
       "      <th>3</th>\n",
       "      <td>8.1</td>\n",
       "      <td>Venky Atluri</td>\n",
       "      <td>1,549</td>\n",
       "      <td>Tollywood</td>\n",
       "      <td>Hindi</td>\n",
       "      <td>20 Feb, 2023</td>\n",
       "      <td>Feb 17 2023</td>\n",
       "      <td>139</td>\n",
       "      <td>Vaathi</td>\n",
       "      <td>4,878</td>\n",
       "    </tr>\n",
       "    <tr>\n",
       "      <th>4</th>\n",
       "      <td>4.6</td>\n",
       "      <td>Shaji Kailas</td>\n",
       "      <td>657</td>\n",
       "      <td>Tollywood</td>\n",
       "      <td>Hindi</td>\n",
       "      <td>20 Feb, 2023</td>\n",
       "      <td>Jan 26 2023</td>\n",
       "      <td>122</td>\n",
       "      <td>Alone</td>\n",
       "      <td>2,438</td>\n",
       "    </tr>\n",
       "  </tbody>\n",
       "</table>\n",
       "</div>"
      ],
      "text/plain": [
       "   IMDb-rating      director downloads             industry       language  \\\n",
       "0          4.8     John Swab       304  Hollywood / English        English   \n",
       "1          6.4   Paul Ziller        73  Hollywood / English        English   \n",
       "2          5.2  Ben Wheatley     1,427  Hollywood / English  English,Hindi   \n",
       "3          8.1  Venky Atluri     1,549            Tollywood          Hindi   \n",
       "4          4.6  Shaji Kailas       657            Tollywood          Hindi   \n",
       "\n",
       "    posted_date release_date  run_time  \\\n",
       "0  20 Feb, 2023  Jan 28 2023       105   \n",
       "1  20 Feb, 2023  Feb 05 2023        84   \n",
       "2  20 Apr, 2021  Jun 18 2021  1h 47min   \n",
       "3  20 Feb, 2023  Feb 17 2023       139   \n",
       "4  20 Feb, 2023  Jan 26 2023       122   \n",
       "\n",
       "                                        title   views  \n",
       "0                                Little Dixie   2,794  \n",
       "1  Grilling Season: A Curious Caterer Mystery   1,002  \n",
       "2                                In the Earth  14,419  \n",
       "3                                      Vaathi   4,878  \n",
       "4                                       Alone   2,438  "
      ]
     },
     "execution_count": 11,
     "metadata": {},
     "output_type": "execute_result"
    }
   ],
   "source": [
    "# Cheking new data:\n",
    "pirated_films.head()"
   ]
  },
  {
   "attachments": {},
   "cell_type": "markdown",
   "metadata": {},
   "source": [
    "## **_Renaming Variables_**"
   ]
  },
  {
   "attachments": {},
   "cell_type": "markdown",
   "metadata": {},
   "source": [
    "With only the variables that we want in the dataset, we will change some variable names for the pourpose of standardizing the dataset and to have the best naming convention possible (short and descriptive)."
   ]
  },
  {
   "cell_type": "code",
   "execution_count": 12,
   "metadata": {},
   "outputs": [
    {
     "data": {
      "text/html": [
       "<div>\n",
       "<style scoped>\n",
       "    .dataframe tbody tr th:only-of-type {\n",
       "        vertical-align: middle;\n",
       "    }\n",
       "\n",
       "    .dataframe tbody tr th {\n",
       "        vertical-align: top;\n",
       "    }\n",
       "\n",
       "    .dataframe thead th {\n",
       "        text-align: right;\n",
       "    }\n",
       "</style>\n",
       "<table border=\"1\" class=\"dataframe\">\n",
       "  <thead>\n",
       "    <tr style=\"text-align: right;\">\n",
       "      <th></th>\n",
       "      <th>imdb_user_rating</th>\n",
       "      <th>film_director</th>\n",
       "      <th>downloads</th>\n",
       "      <th>industry</th>\n",
       "      <th>available_langs</th>\n",
       "      <th>platform_post_date</th>\n",
       "      <th>worldwide_release</th>\n",
       "      <th>run_time_min</th>\n",
       "      <th>movie_title</th>\n",
       "      <th>total_views</th>\n",
       "    </tr>\n",
       "  </thead>\n",
       "  <tbody>\n",
       "    <tr>\n",
       "      <th>0</th>\n",
       "      <td>4.8</td>\n",
       "      <td>John Swab</td>\n",
       "      <td>304</td>\n",
       "      <td>Hollywood / English</td>\n",
       "      <td>English</td>\n",
       "      <td>20 Feb, 2023</td>\n",
       "      <td>Jan 28 2023</td>\n",
       "      <td>105</td>\n",
       "      <td>Little Dixie</td>\n",
       "      <td>2,794</td>\n",
       "    </tr>\n",
       "    <tr>\n",
       "      <th>1</th>\n",
       "      <td>6.4</td>\n",
       "      <td>Paul Ziller</td>\n",
       "      <td>73</td>\n",
       "      <td>Hollywood / English</td>\n",
       "      <td>English</td>\n",
       "      <td>20 Feb, 2023</td>\n",
       "      <td>Feb 05 2023</td>\n",
       "      <td>84</td>\n",
       "      <td>Grilling Season: A Curious Caterer Mystery</td>\n",
       "      <td>1,002</td>\n",
       "    </tr>\n",
       "    <tr>\n",
       "      <th>2</th>\n",
       "      <td>5.2</td>\n",
       "      <td>Ben Wheatley</td>\n",
       "      <td>1,427</td>\n",
       "      <td>Hollywood / English</td>\n",
       "      <td>English,Hindi</td>\n",
       "      <td>20 Apr, 2021</td>\n",
       "      <td>Jun 18 2021</td>\n",
       "      <td>1h 47min</td>\n",
       "      <td>In the Earth</td>\n",
       "      <td>14,419</td>\n",
       "    </tr>\n",
       "    <tr>\n",
       "      <th>3</th>\n",
       "      <td>8.1</td>\n",
       "      <td>Venky Atluri</td>\n",
       "      <td>1,549</td>\n",
       "      <td>Tollywood</td>\n",
       "      <td>Hindi</td>\n",
       "      <td>20 Feb, 2023</td>\n",
       "      <td>Feb 17 2023</td>\n",
       "      <td>139</td>\n",
       "      <td>Vaathi</td>\n",
       "      <td>4,878</td>\n",
       "    </tr>\n",
       "    <tr>\n",
       "      <th>4</th>\n",
       "      <td>4.6</td>\n",
       "      <td>Shaji Kailas</td>\n",
       "      <td>657</td>\n",
       "      <td>Tollywood</td>\n",
       "      <td>Hindi</td>\n",
       "      <td>20 Feb, 2023</td>\n",
       "      <td>Jan 26 2023</td>\n",
       "      <td>122</td>\n",
       "      <td>Alone</td>\n",
       "      <td>2,438</td>\n",
       "    </tr>\n",
       "  </tbody>\n",
       "</table>\n",
       "</div>"
      ],
      "text/plain": [
       "   imdb_user_rating film_director downloads             industry  \\\n",
       "0               4.8     John Swab       304  Hollywood / English   \n",
       "1               6.4   Paul Ziller        73  Hollywood / English   \n",
       "2               5.2  Ben Wheatley     1,427  Hollywood / English   \n",
       "3               8.1  Venky Atluri     1,549            Tollywood   \n",
       "4               4.6  Shaji Kailas       657            Tollywood   \n",
       "\n",
       "  available_langs platform_post_date worldwide_release run_time_min  \\\n",
       "0         English       20 Feb, 2023       Jan 28 2023          105   \n",
       "1         English       20 Feb, 2023       Feb 05 2023           84   \n",
       "2   English,Hindi       20 Apr, 2021       Jun 18 2021     1h 47min   \n",
       "3           Hindi       20 Feb, 2023       Feb 17 2023          139   \n",
       "4           Hindi       20 Feb, 2023       Jan 26 2023          122   \n",
       "\n",
       "                                  movie_title total_views  \n",
       "0                                Little Dixie       2,794  \n",
       "1  Grilling Season: A Curious Caterer Mystery       1,002  \n",
       "2                                In the Earth      14,419  \n",
       "3                                      Vaathi       4,878  \n",
       "4                                       Alone       2,438  "
      ]
     },
     "execution_count": 12,
     "metadata": {},
     "output_type": "execute_result"
    }
   ],
   "source": [
    "# Renaming variables:\n",
    "pirated_films = pirated_films.rename(columns={'IMDb-rating': 'imdb_user_rating',\n",
    "                                              'director': 'film_director',\n",
    "                                              'language': 'available_langs',\n",
    "                                              'posted_date': 'platform_post_date',\n",
    "                                              'release_date': 'worldwide_release',\n",
    "                                              'run_time': 'run_time_min',\n",
    "                                              'title': 'movie_title',\n",
    "                                              'views': 'total_views'})\n",
    "\n",
    "# Cheking data:\n",
    "pirated_films.head()"
   ]
  },
  {
   "attachments": {},
   "cell_type": "markdown",
   "metadata": {},
   "source": [
    "## **_Handling Null Values_**"
   ]
  },
  {
   "attachments": {},
   "cell_type": "markdown",
   "metadata": {},
   "source": [
    "Before we can determine the best practices for dealing with null values, let's check the null values of the variables still present in the dataset."
   ]
  },
  {
   "cell_type": "code",
   "execution_count": 13,
   "metadata": {},
   "outputs": [
    {
     "data": {
      "text/plain": [
       "imdb_user_rating      4.0929\n",
       "film_director         9.4316\n",
       "downloads             0.0049\n",
       "industry              0.0049\n",
       "available_langs       2.6377\n",
       "platform_post_date    0.0049\n",
       "worldwide_release     0.0049\n",
       "run_time_min          8.6042\n",
       "movie_title           0.0049\n",
       "total_views           0.0049\n",
       "dtype: float64"
      ]
     },
     "execution_count": 13,
     "metadata": {},
     "output_type": "execute_result"
    }
   ],
   "source": [
    "# Checking null values:\n",
    "round((pirated_films.isna().sum()/pirated_films.shape[0]) * 100, 4)"
   ]
  },
  {
   "attachments": {},
   "cell_type": "markdown",
   "metadata": {},
   "source": [
    "With that information, let's deal with these values, one variable at a time."
   ]
  },
  {
   "attachments": {},
   "cell_type": "markdown",
   "metadata": {},
   "source": [
    "### **`imdb_user_rating`**"
   ]
  },
  {
   "attachments": {},
   "cell_type": "markdown",
   "metadata": {},
   "source": [
    "Let's get a better look at this variable:"
   ]
  },
  {
   "cell_type": "code",
   "execution_count": 14,
   "metadata": {},
   "outputs": [
    {
     "data": {
      "text/plain": [
       "count    19707.000000\n",
       "mean         5.762151\n",
       "std          1.374041\n",
       "min          1.100000\n",
       "25%          4.800000\n",
       "50%          5.700000\n",
       "75%          6.600000\n",
       "max          9.900000\n",
       "Name: imdb_user_rating, dtype: float64"
      ]
     },
     "execution_count": 14,
     "metadata": {},
     "output_type": "execute_result"
    }
   ],
   "source": [
    "pirated_films['imdb_user_rating'].describe()"
   ]
  },
  {
   "attachments": {},
   "cell_type": "markdown",
   "metadata": {},
   "source": [
    "For the fill method, we will use the **mean** of the total values of the variable:"
   ]
  },
  {
   "cell_type": "code",
   "execution_count": 15,
   "metadata": {},
   "outputs": [
    {
     "data": {
      "text/plain": [
       "5.8"
      ]
     },
     "execution_count": 15,
     "metadata": {},
     "output_type": "execute_result"
    }
   ],
   "source": [
    "# Defining mean:\n",
    "mean_ratings = pirated_films['imdb_user_rating'].mean().round(1)\n",
    "\n",
    "mean_ratings"
   ]
  },
  {
   "cell_type": "code",
   "execution_count": 16,
   "metadata": {},
   "outputs": [
    {
     "data": {
      "text/plain": [
       "0"
      ]
     },
     "execution_count": 16,
     "metadata": {},
     "output_type": "execute_result"
    }
   ],
   "source": [
    "# Placing mean in all null values at the variable:\n",
    "pirated_films['imdb_user_rating'] = (pirated_films['imdb_user_rating']\n",
    "                                     .fillna(mean_ratings))\n",
    "\n",
    "pirated_films['imdb_user_rating'].isna().sum()"
   ]
  },
  {
   "cell_type": "code",
   "execution_count": 17,
   "metadata": {},
   "outputs": [
    {
     "data": {
      "text/plain": [
       "count    20548.000000\n",
       "mean         5.763700\n",
       "std          1.345648\n",
       "min          1.100000\n",
       "25%          4.900000\n",
       "50%          5.800000\n",
       "75%          6.600000\n",
       "max          9.900000\n",
       "Name: imdb_user_rating, dtype: float64"
      ]
     },
     "execution_count": 17,
     "metadata": {},
     "output_type": "execute_result"
    }
   ],
   "source": [
    "# Checking statistics:\n",
    "pirated_films['imdb_user_rating'].describe()"
   ]
  },
  {
   "attachments": {},
   "cell_type": "markdown",
   "metadata": {},
   "source": [
    "### **`film_director`**"
   ]
  },
  {
   "attachments": {},
   "cell_type": "markdown",
   "metadata": {},
   "source": [
    "For this variable the procedure will be diferent, that's because it is a categorical (qualitative) variable. For these types of variables, the ideal fill method would be to use the mode of the column, the most recurring value.\n",
    "\n",
    "But this column refers to the film director, in this case, if we assign all the null films to the same director (mode) the data will not be in a good shape. So, the null values will receive a string informing that the director was not informed."
   ]
  },
  {
   "cell_type": "code",
   "execution_count": 18,
   "metadata": {},
   "outputs": [
    {
     "data": {
      "text/plain": [
       "0"
      ]
     },
     "execution_count": 18,
     "metadata": {},
     "output_type": "execute_result"
    }
   ],
   "source": [
    "# Filling nulls with custom string:\n",
    "pirated_films['film_director'] = pirated_films['film_director'].fillna('Not Assigned')\n",
    "\n",
    "pirated_films['film_director'].isna().sum()"
   ]
  },
  {
   "cell_type": "code",
   "execution_count": 19,
   "metadata": {},
   "outputs": [
    {
     "data": {
      "text/plain": [
       "count            20548\n",
       "unique            9673\n",
       "top       Not Assigned\n",
       "freq              1938\n",
       "Name: film_director, dtype: object"
      ]
     },
     "execution_count": 19,
     "metadata": {},
     "output_type": "execute_result"
    }
   ],
   "source": [
    "# Checking variable:\n",
    "pirated_films['film_director'].describe()"
   ]
  },
  {
   "attachments": {},
   "cell_type": "markdown",
   "metadata": {},
   "source": [
    "Here we can already make out a characteristic of the data, in that the majority of films present in the dataset have no Director assigned to them."
   ]
  },
  {
   "attachments": {},
   "cell_type": "markdown",
   "metadata": {},
   "source": [
    "### **`dowloads` and all other 0.0049% null variables**"
   ]
  },
  {
   "attachments": {},
   "cell_type": "markdown",
   "metadata": {},
   "source": [
    "Lets' check exactly how many null values are present in this variable, because, as the total null values check we did at the begining of this section shows, it has only 0.0049% of null values, along with other variables with the same amaout of nulls. Let's have a better look at this:"
   ]
  },
  {
   "cell_type": "code",
   "execution_count": 20,
   "metadata": {},
   "outputs": [
    {
     "data": {
      "text/plain": [
       "1"
      ]
     },
     "execution_count": 20,
     "metadata": {},
     "output_type": "execute_result"
    }
   ],
   "source": [
    "# Checking total values:\n",
    "pirated_films['downloads'].isna().sum()"
   ]
  },
  {
   "attachments": {},
   "cell_type": "markdown",
   "metadata": {},
   "source": [
    "Apparently only one entry is missing the value, so could it be that all other variables that were shown to have only 0.0049% of nulls are in fact the same resigtry? Let's test this by querying the exact entry that has the null value on the `downloads` variable and see if the other ones are empty too:"
   ]
  },
  {
   "cell_type": "code",
   "execution_count": 21,
   "metadata": {},
   "outputs": [
    {
     "data": {
      "text/html": [
       "<div>\n",
       "<style scoped>\n",
       "    .dataframe tbody tr th:only-of-type {\n",
       "        vertical-align: middle;\n",
       "    }\n",
       "\n",
       "    .dataframe tbody tr th {\n",
       "        vertical-align: top;\n",
       "    }\n",
       "\n",
       "    .dataframe thead th {\n",
       "        text-align: right;\n",
       "    }\n",
       "</style>\n",
       "<table border=\"1\" class=\"dataframe\">\n",
       "  <thead>\n",
       "    <tr style=\"text-align: right;\">\n",
       "      <th></th>\n",
       "      <th>imdb_user_rating</th>\n",
       "      <th>film_director</th>\n",
       "      <th>downloads</th>\n",
       "      <th>industry</th>\n",
       "      <th>available_langs</th>\n",
       "      <th>platform_post_date</th>\n",
       "      <th>worldwide_release</th>\n",
       "      <th>run_time_min</th>\n",
       "      <th>movie_title</th>\n",
       "      <th>total_views</th>\n",
       "    </tr>\n",
       "  </thead>\n",
       "  <tbody>\n",
       "    <tr>\n",
       "      <th>149</th>\n",
       "      <td>7.1</td>\n",
       "      <td>Not Assigned</td>\n",
       "      <td>NaN</td>\n",
       "      <td>NaN</td>\n",
       "      <td>NaN</td>\n",
       "      <td>NaN</td>\n",
       "      <td>NaN</td>\n",
       "      <td>NaN</td>\n",
       "      <td>NaN</td>\n",
       "      <td>NaN</td>\n",
       "    </tr>\n",
       "  </tbody>\n",
       "</table>\n",
       "</div>"
      ],
      "text/plain": [
       "     imdb_user_rating film_director downloads industry available_langs  \\\n",
       "149               7.1  Not Assigned       NaN      NaN             NaN   \n",
       "\n",
       "    platform_post_date worldwide_release run_time_min movie_title total_views  \n",
       "149                NaN               NaN          NaN         NaN         NaN  "
      ]
     },
     "execution_count": 21,
     "metadata": {},
     "output_type": "execute_result"
    }
   ],
   "source": [
    "# Checking the null entry:\n",
    "pirated_films.query('downloads.isna()')"
   ]
  },
  {
   "attachments": {},
   "cell_type": "markdown",
   "metadata": {},
   "source": [
    "As we suspected, all of the variables that had 0.0049% of null values are in fact only one entry. As it doesn't even have the movie name, this entry is completely useless for the analysis and it will be dropped."
   ]
  },
  {
   "cell_type": "code",
   "execution_count": 22,
   "metadata": {},
   "outputs": [],
   "source": [
    "# Grabbing the index of the null registry:\n",
    "drop_index = pirated_films.loc[(pirated_films['downloads'].isna())].index\n",
    "\n",
    "# Dropping the entry:\n",
    "pirated_films = pirated_films.drop(drop_index)"
   ]
  },
  {
   "cell_type": "code",
   "execution_count": 23,
   "metadata": {},
   "outputs": [
    {
     "data": {
      "text/html": [
       "<div>\n",
       "<style scoped>\n",
       "    .dataframe tbody tr th:only-of-type {\n",
       "        vertical-align: middle;\n",
       "    }\n",
       "\n",
       "    .dataframe tbody tr th {\n",
       "        vertical-align: top;\n",
       "    }\n",
       "\n",
       "    .dataframe thead th {\n",
       "        text-align: right;\n",
       "    }\n",
       "</style>\n",
       "<table border=\"1\" class=\"dataframe\">\n",
       "  <thead>\n",
       "    <tr style=\"text-align: right;\">\n",
       "      <th></th>\n",
       "      <th>imdb_user_rating</th>\n",
       "      <th>film_director</th>\n",
       "      <th>downloads</th>\n",
       "      <th>industry</th>\n",
       "      <th>available_langs</th>\n",
       "      <th>platform_post_date</th>\n",
       "      <th>worldwide_release</th>\n",
       "      <th>run_time_min</th>\n",
       "      <th>movie_title</th>\n",
       "      <th>total_views</th>\n",
       "    </tr>\n",
       "  </thead>\n",
       "  <tbody>\n",
       "  </tbody>\n",
       "</table>\n",
       "</div>"
      ],
      "text/plain": [
       "Empty DataFrame\n",
       "Columns: [imdb_user_rating, film_director, downloads, industry, available_langs, platform_post_date, worldwide_release, run_time_min, movie_title, total_views]\n",
       "Index: []"
      ]
     },
     "execution_count": 23,
     "metadata": {},
     "output_type": "execute_result"
    }
   ],
   "source": [
    "# Checking the null entry:\n",
    "pirated_films.query('downloads.isna()')"
   ]
  },
  {
   "attachments": {},
   "cell_type": "markdown",
   "metadata": {},
   "source": [
    "We can also check if all the other variables that had 0.0049% of null values are now at 0%:"
   ]
  },
  {
   "cell_type": "code",
   "execution_count": 24,
   "metadata": {},
   "outputs": [
    {
     "data": {
      "text/plain": [
       "imdb_user_rating      0.0000\n",
       "film_director         0.0000\n",
       "downloads             0.0000\n",
       "industry              0.0000\n",
       "available_langs       2.6330\n",
       "platform_post_date    0.0000\n",
       "worldwide_release     0.0000\n",
       "run_time_min          8.5998\n",
       "movie_title           0.0000\n",
       "total_views           0.0000\n",
       "dtype: float64"
      ]
     },
     "execution_count": 24,
     "metadata": {},
     "output_type": "execute_result"
    }
   ],
   "source": [
    "# Checking total nulls:\n",
    "round((pirated_films.isna().sum()/pirated_films.shape[0]) * 100, 4)"
   ]
  },
  {
   "attachments": {},
   "cell_type": "markdown",
   "metadata": {},
   "source": [
    "Indeed all other 0.0049% null variables are gone."
   ]
  },
  {
   "attachments": {},
   "cell_type": "markdown",
   "metadata": {},
   "source": [
    "### **`available_langs`**"
   ]
  },
  {
   "attachments": {},
   "cell_type": "markdown",
   "metadata": {},
   "source": [
    "Another variable with null values refers to the available languages of the movie. As it is a categorical (qualitative) variable, we will use the mode as the fill method, as in, the most reocurring languages. But first, let's check the variable:"
   ]
  },
  {
   "cell_type": "code",
   "execution_count": 25,
   "metadata": {},
   "outputs": [
    {
     "data": {
      "text/plain": [
       "count       20006\n",
       "unique       1168\n",
       "top       English\n",
       "freq        12657\n",
       "Name: available_langs, dtype: object"
      ]
     },
     "execution_count": 25,
     "metadata": {},
     "output_type": "execute_result"
    }
   ],
   "source": [
    "# Describing variable:\n",
    "pirated_films['available_langs'].describe()"
   ]
  },
  {
   "attachments": {},
   "cell_type": "markdown",
   "metadata": {},
   "source": [
    "As the describe method points to, the most reocurring language in the dataset in English, so this will be the value that will be placed in place of the null entries."
   ]
  },
  {
   "cell_type": "code",
   "execution_count": 26,
   "metadata": {},
   "outputs": [],
   "source": [
    "# Defining mode:\n",
    "mode_fill = pirated_films['available_langs'].mode()[0] # English\n",
    "\n",
    "# Filling the nulls:\n",
    "pirated_films['available_langs'] = pirated_films['available_langs'].fillna(mode_fill)"
   ]
  },
  {
   "cell_type": "code",
   "execution_count": 27,
   "metadata": {},
   "outputs": [
    {
     "data": {
      "text/plain": [
       "imdb_user_rating      0.0000\n",
       "film_director         0.0000\n",
       "downloads             0.0000\n",
       "industry              0.0000\n",
       "available_langs       0.0000\n",
       "platform_post_date    0.0000\n",
       "worldwide_release     0.0000\n",
       "run_time_min          8.5998\n",
       "movie_title           0.0000\n",
       "total_views           0.0000\n",
       "dtype: float64"
      ]
     },
     "execution_count": 27,
     "metadata": {},
     "output_type": "execute_result"
    }
   ],
   "source": [
    "# Checking nulls:\n",
    "round((pirated_films.isna().sum()/pirated_films.shape[0]) * 100, 4)"
   ]
  },
  {
   "attachments": {},
   "cell_type": "markdown",
   "metadata": {},
   "source": [
    "### **`run_time_min`**"
   ]
  },
  {
   "attachments": {},
   "cell_type": "markdown",
   "metadata": {},
   "source": [
    "The last variable with null values, let's get a closer look at it starting with the describe method:"
   ]
  },
  {
   "cell_type": "code",
   "execution_count": 28,
   "metadata": {},
   "outputs": [
    {
     "data": {
      "text/plain": [
       "count     18780\n",
       "unique      415\n",
       "top          93\n",
       "freq        652\n",
       "Name: run_time_min, dtype: object"
      ]
     },
     "execution_count": 28,
     "metadata": {},
     "output_type": "execute_result"
    }
   ],
   "source": [
    "# Describing variable:\n",
    "pirated_films['run_time_min'].describe()"
   ]
  },
  {
   "attachments": {},
   "cell_type": "markdown",
   "metadata": {},
   "source": [
    "This variable will require more work. The current data type is object, but it must be numbers before we can fill the nulls, so, to start let's clean the data and change the data type:"
   ]
  },
  {
   "cell_type": "code",
   "execution_count": 29,
   "metadata": {},
   "outputs": [
    {
     "data": {
      "text/plain": [
       "array(['88', '97', '95', '105', '108', '111', nan, '1h 15min', '139',\n",
       "       '92', '160', '1h 45min', '86', '1h 55min', '1h 18min', '1h 28min',\n",
       "       '1h 25min', '1h 32min', '1h 36min', '93', '109', '94', '1h 30min',\n",
       "       '79'], dtype=object)"
      ]
     },
     "execution_count": 29,
     "metadata": {},
     "output_type": "execute_result"
    }
   ],
   "source": [
    "# Checking values:\n",
    "pirated_films['run_time_min'].sample(30).unique()"
   ]
  },
  {
   "attachments": {},
   "cell_type": "markdown",
   "metadata": {},
   "source": [
    "With us checking a random sample of the data, we can see that it is not in a appropriate format, as the variable name said it should be in minutes, we still have a lot of entries defining hours and, of course, the null values.\n",
    "\n",
    "To clean this variable, a more robust function to do string manipulation is necessary:"
   ]
  },
  {
   "cell_type": "code",
   "execution_count": 30,
   "metadata": {},
   "outputs": [],
   "source": [
    "# Creating function:\n",
    "def convert_runtime(value):\n",
    "    '''\n",
    "    Converts a movie runtime string into only minutes.\n",
    "\n",
    "    Args\n",
    "    -----\n",
    "        value (str): The movie runtime string in different formats of hours and minutes.\n",
    "\n",
    "    Returns\n",
    "    --------\n",
    "        int: The movie runtime in minutes. If the input value is not a string or\n",
    "            does not match the expected format, the original value is returned.\n",
    "\n",
    "    Example\n",
    "    --------\n",
    "        >>> convert_runtime(\"1h 47min\")\n",
    "        107\n",
    "        >>> convert_runtime(\"120 min\")\n",
    "        120\n",
    "        >>> convert_runtime(\"2h 5m\")\n",
    "        125\n",
    "        >>> convert_runtime(\"3h 25 min\")\n",
    "        205\n",
    "    '''\n",
    "    if not isinstance(value, str):\n",
    "        return value\n",
    "    \n",
    "    # Pattern 1: xxh/hours xxm/min\n",
    "    match = re.search(r'(\\d+)\\s*h(?:h|ours)?\\s*(\\d+)\\s*(?:m|min)?', value)\n",
    "    if match:\n",
    "        hours, minutes = map(int, match.groups())\n",
    "        return hours * 60 + minutes\n",
    "\n",
    "    # Pattern 2: xxh/hr xxm/min\n",
    "    match = re.search(r'(\\d+)\\s*(?:h|hr)\\s*(\\d+)\\s*(?:m|min)?', value)\n",
    "    if match:\n",
    "        hours, minutes = map(int, match.groups())\n",
    "        return hours * 60 + minutes\n",
    "\n",
    "    # Pattern 3: xxh/hr xxm\n",
    "    match = re.search(r'(\\d+)\\s*(?:h|hr)\\s*(\\d+)\\s*m', value)\n",
    "    if match:\n",
    "        hours, minutes = map(int, match.groups())\n",
    "        return hours * 60 + minutes\n",
    "\n",
    "    # Pattern 4: xxm/min\n",
    "    match = re.search(r'(\\d+)\\s*(?:m|min)', value)\n",
    "    if match:\n",
    "        return int(match.group(1))\n",
    "\n",
    "    # Pattern 5: xxh/hours\n",
    "    match = re.search(r'(\\d+)\\s*(?:h|hours)', value)\n",
    "    if match:\n",
    "        return int(match.group(1))\n",
    "\n",
    "    return value\n"
   ]
  },
  {
   "cell_type": "code",
   "execution_count": 31,
   "metadata": {},
   "outputs": [],
   "source": [
    "# Applying the function:\n",
    "pirated_films['run_time_min'] = pirated_films['run_time_min'].apply(convert_runtime)"
   ]
  },
  {
   "attachments": {},
   "cell_type": "markdown",
   "metadata": {},
   "source": [
    "Now let's do a quick random check on the variable values:"
   ]
  },
  {
   "cell_type": "code",
   "execution_count": 32,
   "metadata": {},
   "outputs": [
    {
     "data": {
      "text/plain": [
       "12633     90\n",
       "7896      87\n",
       "4879     142\n",
       "16913     82\n",
       "6688      90\n",
       "15115     99\n",
       "11843    105\n",
       "19380    103\n",
       "20028    109\n",
       "16779    133\n",
       "Name: run_time_min, dtype: object"
      ]
     },
     "execution_count": 32,
     "metadata": {},
     "output_type": "execute_result"
    }
   ],
   "source": [
    "# Checking results:\n",
    "pirated_films['run_time_min'].sample(10)"
   ]
  },
  {
   "attachments": {},
   "cell_type": "markdown",
   "metadata": {},
   "source": [
    "We can see that the data has been successfully transformed, where we now have all the run times in minutes only.\n",
    "Now, we will fill the null values temporarily with 0 as a string, so we can chance the column data type to int. After that, we will fill the nulls (now the zeros) with the median of the values."
   ]
  },
  {
   "cell_type": "code",
   "execution_count": 33,
   "metadata": {},
   "outputs": [],
   "source": [
    "# Filling with zeros temporarily:\n",
    "pirated_films['run_time_min'] = pirated_films['run_time_min'].fillna('0')"
   ]
  },
  {
   "cell_type": "code",
   "execution_count": 34,
   "metadata": {},
   "outputs": [],
   "source": [
    "# Changing data type:\n",
    "pirated_films['run_time_min'] = pirated_films['run_time_min'].astype('int')"
   ]
  },
  {
   "attachments": {},
   "cell_type": "markdown",
   "metadata": {},
   "source": [
    "Now that the variable is in the right data type, let's fill the nulls (zero values in this case) with the median of the values. The median is a good option here because these data are very likely to have outliers and to be skeewd, and as the median isn't very influenced by these factors, it becomes a good filling method. "
   ]
  },
  {
   "cell_type": "code",
   "execution_count": 35,
   "metadata": {},
   "outputs": [],
   "source": [
    "# Calculating the median value of the variable (ignoring the zeros):\n",
    "median = np.median(pirated_films['run_time_min'][pirated_films['run_time_min'] != 0])\n",
    "\n",
    "# Replacing the zeros with the median value:\n",
    "pirated_films['run_time_min'][pirated_films['run_time_min'] == 0] = median"
   ]
  },
  {
   "attachments": {},
   "cell_type": "markdown",
   "metadata": {},
   "source": [
    "Finally, we can check the null quantity of our final dataset:"
   ]
  },
  {
   "cell_type": "code",
   "execution_count": 36,
   "metadata": {},
   "outputs": [
    {
     "data": {
      "text/plain": [
       "imdb_user_rating      0.0\n",
       "film_director         0.0\n",
       "downloads             0.0\n",
       "industry              0.0\n",
       "available_langs       0.0\n",
       "platform_post_date    0.0\n",
       "worldwide_release     0.0\n",
       "run_time_min          0.0\n",
       "movie_title           0.0\n",
       "total_views           0.0\n",
       "dtype: float64"
      ]
     },
     "execution_count": 36,
     "metadata": {},
     "output_type": "execute_result"
    }
   ],
   "source": [
    "round((pirated_films.isna().sum()/pirated_films.shape[0]) * 100, 4)"
   ]
  },
  {
   "attachments": {},
   "cell_type": "markdown",
   "metadata": {},
   "source": [
    "## **_Changing Data Types_**"
   ]
  },
  {
   "attachments": {},
   "cell_type": "markdown",
   "metadata": {},
   "source": [
    "With our dataset clean from null values and with only the variables we want still present, the next step is to adress the data types of the variables, to make sure they are in the best possible way for the analysis. Let's begin by checking our dtypes:"
   ]
  },
  {
   "cell_type": "code",
   "execution_count": 37,
   "metadata": {},
   "outputs": [
    {
     "name": "stdout",
     "output_type": "stream",
     "text": [
      "<class 'pandas.core.frame.DataFrame'>\n",
      "Int64Index: 20547 entries, 0 to 20547\n",
      "Data columns (total 10 columns):\n",
      " #   Column              Non-Null Count  Dtype  \n",
      "---  ------              --------------  -----  \n",
      " 0   imdb_user_rating    20547 non-null  float64\n",
      " 1   film_director       20547 non-null  object \n",
      " 2   downloads           20547 non-null  object \n",
      " 3   industry            20547 non-null  object \n",
      " 4   available_langs     20547 non-null  object \n",
      " 5   platform_post_date  20547 non-null  object \n",
      " 6   worldwide_release   20547 non-null  object \n",
      " 7   run_time_min        20547 non-null  int32  \n",
      " 8   movie_title         20547 non-null  object \n",
      " 9   total_views         20547 non-null  object \n",
      "dtypes: float64(1), int32(1), object(8)\n",
      "memory usage: 1.6+ MB\n"
     ]
    }
   ],
   "source": [
    "# Checking data types:\n",
    "pirated_films.info()"
   ]
  },
  {
   "attachments": {},
   "cell_type": "markdown",
   "metadata": {},
   "source": [
    "Things to note:\n",
    "\n",
    "**Memory Consumption**\n",
    "\n",
    "- With the current data types, the dataset uses up to 1.6 MB of memory in the system. With the changes we are going to make, this consumption should drop.\n",
    "\n",
    "**Good Data Types**\n",
    "\n",
    "We have some variables that don't require any change:\n",
    "\n",
    "- `imdb_user_rating` in **float64**\n",
    "\n",
    "- `film_director` in **object**\n",
    "\n",
    "- `industry` in **object**\n",
    "\n",
    "- `available_langs` in **object**\n",
    "\n",
    "- `run_time_min` in **int32**\n",
    "\n",
    "- `movie_title` in **object**\n",
    "\n",
    "**Wrong Data Types**\n",
    "\n",
    "For variables that need changes we have:\n",
    "\n",
    "- `downloads` from **object** to **int**\n",
    "\n",
    "- `platform_post_date` from **object** to **datetime**\n",
    "\n",
    "- `worldwide_release` from **object** to **datetime**\n",
    "\n",
    "- `total_views` from **object** to **int**\n",
    "\n",
    "First we will deal with the **datetime** columns alone, as they very straight forward. The other two variables (`downloads` and `total_views`) require a little bit more work."
   ]
  },
  {
   "attachments": {},
   "cell_type": "markdown",
   "metadata": {},
   "source": [
    "### **Altering `platform_post_date` and `worldwide_release`**"
   ]
  },
  {
   "cell_type": "code",
   "execution_count": 38,
   "metadata": {},
   "outputs": [],
   "source": [
    "# Changing Data Types:\n",
    "pirated_films['platform_post_date'] = pd.to_datetime(pirated_films['platform_post_date'])\n",
    "\n",
    "pirated_films['worldwide_release'] = pd.to_datetime(pirated_films['worldwide_release'])"
   ]
  },
  {
   "cell_type": "code",
   "execution_count": 39,
   "metadata": {},
   "outputs": [
    {
     "name": "stdout",
     "output_type": "stream",
     "text": [
      "<class 'pandas.core.frame.DataFrame'>\n",
      "Int64Index: 20547 entries, 0 to 20547\n",
      "Data columns (total 10 columns):\n",
      " #   Column              Non-Null Count  Dtype         \n",
      "---  ------              --------------  -----         \n",
      " 0   imdb_user_rating    20547 non-null  float64       \n",
      " 1   film_director       20547 non-null  object        \n",
      " 2   downloads           20547 non-null  object        \n",
      " 3   industry            20547 non-null  object        \n",
      " 4   available_langs     20547 non-null  object        \n",
      " 5   platform_post_date  20547 non-null  datetime64[ns]\n",
      " 6   worldwide_release   20547 non-null  datetime64[ns]\n",
      " 7   run_time_min        20547 non-null  int32         \n",
      " 8   movie_title         20547 non-null  object        \n",
      " 9   total_views         20547 non-null  object        \n",
      "dtypes: datetime64[ns](2), float64(1), int32(1), object(6)\n",
      "memory usage: 1.6+ MB\n"
     ]
    }
   ],
   "source": [
    "# Checking new data types:\n",
    "pirated_films.info()"
   ]
  },
  {
   "cell_type": "code",
   "execution_count": 40,
   "metadata": {},
   "outputs": [
    {
     "data": {
      "text/html": [
       "<div>\n",
       "<style scoped>\n",
       "    .dataframe tbody tr th:only-of-type {\n",
       "        vertical-align: middle;\n",
       "    }\n",
       "\n",
       "    .dataframe tbody tr th {\n",
       "        vertical-align: top;\n",
       "    }\n",
       "\n",
       "    .dataframe thead th {\n",
       "        text-align: right;\n",
       "    }\n",
       "</style>\n",
       "<table border=\"1\" class=\"dataframe\">\n",
       "  <thead>\n",
       "    <tr style=\"text-align: right;\">\n",
       "      <th></th>\n",
       "      <th>imdb_user_rating</th>\n",
       "      <th>film_director</th>\n",
       "      <th>downloads</th>\n",
       "      <th>industry</th>\n",
       "      <th>available_langs</th>\n",
       "      <th>platform_post_date</th>\n",
       "      <th>worldwide_release</th>\n",
       "      <th>run_time_min</th>\n",
       "      <th>movie_title</th>\n",
       "      <th>total_views</th>\n",
       "    </tr>\n",
       "  </thead>\n",
       "  <tbody>\n",
       "    <tr>\n",
       "      <th>0</th>\n",
       "      <td>4.8</td>\n",
       "      <td>John Swab</td>\n",
       "      <td>304</td>\n",
       "      <td>Hollywood / English</td>\n",
       "      <td>English</td>\n",
       "      <td>2023-02-20</td>\n",
       "      <td>2023-01-28</td>\n",
       "      <td>105</td>\n",
       "      <td>Little Dixie</td>\n",
       "      <td>2,794</td>\n",
       "    </tr>\n",
       "    <tr>\n",
       "      <th>1</th>\n",
       "      <td>6.4</td>\n",
       "      <td>Paul Ziller</td>\n",
       "      <td>73</td>\n",
       "      <td>Hollywood / English</td>\n",
       "      <td>English</td>\n",
       "      <td>2023-02-20</td>\n",
       "      <td>2023-02-05</td>\n",
       "      <td>84</td>\n",
       "      <td>Grilling Season: A Curious Caterer Mystery</td>\n",
       "      <td>1,002</td>\n",
       "    </tr>\n",
       "    <tr>\n",
       "      <th>2</th>\n",
       "      <td>5.2</td>\n",
       "      <td>Ben Wheatley</td>\n",
       "      <td>1,427</td>\n",
       "      <td>Hollywood / English</td>\n",
       "      <td>English,Hindi</td>\n",
       "      <td>2021-04-20</td>\n",
       "      <td>2021-06-18</td>\n",
       "      <td>107</td>\n",
       "      <td>In the Earth</td>\n",
       "      <td>14,419</td>\n",
       "    </tr>\n",
       "    <tr>\n",
       "      <th>3</th>\n",
       "      <td>8.1</td>\n",
       "      <td>Venky Atluri</td>\n",
       "      <td>1,549</td>\n",
       "      <td>Tollywood</td>\n",
       "      <td>Hindi</td>\n",
       "      <td>2023-02-20</td>\n",
       "      <td>2023-02-17</td>\n",
       "      <td>139</td>\n",
       "      <td>Vaathi</td>\n",
       "      <td>4,878</td>\n",
       "    </tr>\n",
       "    <tr>\n",
       "      <th>4</th>\n",
       "      <td>4.6</td>\n",
       "      <td>Shaji Kailas</td>\n",
       "      <td>657</td>\n",
       "      <td>Tollywood</td>\n",
       "      <td>Hindi</td>\n",
       "      <td>2023-02-20</td>\n",
       "      <td>2023-01-26</td>\n",
       "      <td>122</td>\n",
       "      <td>Alone</td>\n",
       "      <td>2,438</td>\n",
       "    </tr>\n",
       "  </tbody>\n",
       "</table>\n",
       "</div>"
      ],
      "text/plain": [
       "   imdb_user_rating film_director downloads             industry  \\\n",
       "0               4.8     John Swab       304  Hollywood / English   \n",
       "1               6.4   Paul Ziller        73  Hollywood / English   \n",
       "2               5.2  Ben Wheatley     1,427  Hollywood / English   \n",
       "3               8.1  Venky Atluri     1,549            Tollywood   \n",
       "4               4.6  Shaji Kailas       657            Tollywood   \n",
       "\n",
       "  available_langs platform_post_date worldwide_release  run_time_min  \\\n",
       "0         English         2023-02-20        2023-01-28           105   \n",
       "1         English         2023-02-20        2023-02-05            84   \n",
       "2   English,Hindi         2021-04-20        2021-06-18           107   \n",
       "3           Hindi         2023-02-20        2023-02-17           139   \n",
       "4           Hindi         2023-02-20        2023-01-26           122   \n",
       "\n",
       "                                  movie_title total_views  \n",
       "0                                Little Dixie       2,794  \n",
       "1  Grilling Season: A Curious Caterer Mystery       1,002  \n",
       "2                                In the Earth      14,419  \n",
       "3                                      Vaathi       4,878  \n",
       "4                                       Alone       2,438  "
      ]
     },
     "execution_count": 40,
     "metadata": {},
     "output_type": "execute_result"
    }
   ],
   "source": [
    "# Checking format:\n",
    "pirated_films.head()"
   ]
  },
  {
   "attachments": {},
   "cell_type": "markdown",
   "metadata": {},
   "source": [
    "### **Altering `downloads` and `total_views`**"
   ]
  },
  {
   "attachments": {},
   "cell_type": "markdown",
   "metadata": {},
   "source": [
    "Before we can change the data type of this variable, we need to clean it from any special characters like commas and dots. Let's do a quick check on them:"
   ]
  },
  {
   "cell_type": "code",
   "execution_count": 41,
   "metadata": {},
   "outputs": [
    {
     "data": {
      "text/plain": [
       "0        304\n",
       "1         73\n",
       "2      1,427\n",
       "3      1,549\n",
       "4        657\n",
       "5        746\n",
       "6      5,332\n",
       "7      1,781\n",
       "8        458\n",
       "9      1,965\n",
       "10       742\n",
       "11    12,954\n",
       "12     2,253\n",
       "13    14,867\n",
       "14       463\n",
       "Name: downloads, dtype: object"
      ]
     },
     "execution_count": 41,
     "metadata": {},
     "output_type": "execute_result"
    }
   ],
   "source": [
    "# Checking values:\n",
    "pirated_films['downloads'].head(15)"
   ]
  },
  {
   "cell_type": "code",
   "execution_count": 42,
   "metadata": {},
   "outputs": [
    {
     "data": {
      "text/plain": [
       "0      2,794\n",
       "1      1,002\n",
       "2     14,419\n",
       "3      4,878\n",
       "4      2,438\n",
       "5      2,940\n",
       "6     11,978\n",
       "7     18,225\n",
       "8      6,912\n",
       "9      9,710\n",
       "10     4,618\n",
       "11    35,831\n",
       "12     5,468\n",
       "13    39,399\n",
       "14     5,763\n",
       "Name: total_views, dtype: object"
      ]
     },
     "execution_count": 42,
     "metadata": {},
     "output_type": "execute_result"
    }
   ],
   "source": [
    "# Checking more values from the other variable:\n",
    "pirated_films['total_views'].head(15)"
   ]
  },
  {
   "attachments": {},
   "cell_type": "markdown",
   "metadata": {},
   "source": [
    "We can see that yes, both variables have special characters and require cleaning before we can change the data types. Let's create a general cleaning function that can be applied to both variables to clean them."
   ]
  },
  {
   "cell_type": "code",
   "execution_count": 43,
   "metadata": {},
   "outputs": [],
   "source": [
    "# Creating cleaning function:\n",
    "def number_extractor(data: pd.DataFrame):\n",
    "    '''\n",
    "    Applies a regular expression to remove all non-numeric characters from the 'total_views' and 'downloads'\n",
    "    columns of a given pandas DataFrame.\n",
    "\n",
    "    Parameters:\n",
    "    -----------\n",
    "    data : pandas DataFrame\n",
    "        The input DataFrame to process. The DataFrame must contain the 'total_views' and 'downloads' columns.\n",
    "\n",
    "    Returns:\n",
    "    --------\n",
    "    pandas DataFrame:\n",
    "        A copy of the input DataFrame where the 'total_views' and 'downloads' columns have been modified to\n",
    "        only contain numeric characters.\n",
    "    '''\n",
    "    chars_to_remove = r'[^0-9]+'\n",
    "\n",
    "    data['total_views'] = data['total_views'].apply(\n",
    "        lambda clean_values:\n",
    "            re.sub(chars_to_remove, '', str(clean_values))\n",
    "    )\n",
    "\n",
    "    data['downloads'] = data['downloads'].apply(\n",
    "        lambda clean_values:\n",
    "            re.sub(chars_to_remove, '', str(clean_values))\n",
    "    )\n",
    "\n",
    "    return data"
   ]
  },
  {
   "cell_type": "code",
   "execution_count": 44,
   "metadata": {},
   "outputs": [
    {
     "data": {
      "text/plain": [
       "0     2794\n",
       "1     1002\n",
       "2    14419\n",
       "3     4878\n",
       "4     2438\n",
       "Name: total_views, dtype: object"
      ]
     },
     "execution_count": 44,
     "metadata": {},
     "output_type": "execute_result"
    }
   ],
   "source": [
    "# Applying the function:\n",
    "pirated_films = number_extractor(pirated_films)\n",
    "\n",
    "# Checking results:\n",
    "pirated_films['total_views'].head()"
   ]
  },
  {
   "cell_type": "code",
   "execution_count": 45,
   "metadata": {},
   "outputs": [
    {
     "data": {
      "text/plain": [
       "0     304\n",
       "1      73\n",
       "2    1427\n",
       "3    1549\n",
       "4     657\n",
       "Name: downloads, dtype: object"
      ]
     },
     "execution_count": 45,
     "metadata": {},
     "output_type": "execute_result"
    }
   ],
   "source": [
    "# Checking results:\n",
    "pirated_films['downloads'].head()"
   ]
  },
  {
   "attachments": {},
   "cell_type": "markdown",
   "metadata": {},
   "source": [
    "With the variables clean, we can pass them to int:"
   ]
  },
  {
   "cell_type": "code",
   "execution_count": 46,
   "metadata": {},
   "outputs": [],
   "source": [
    "# Changing data types:\n",
    "pirated_films = pirated_films.astype({'downloads': 'int',\n",
    "                                      'total_views': 'int'})"
   ]
  },
  {
   "cell_type": "code",
   "execution_count": 47,
   "metadata": {},
   "outputs": [
    {
     "name": "stdout",
     "output_type": "stream",
     "text": [
      "<class 'pandas.core.frame.DataFrame'>\n",
      "Int64Index: 20547 entries, 0 to 20547\n",
      "Data columns (total 10 columns):\n",
      " #   Column              Non-Null Count  Dtype         \n",
      "---  ------              --------------  -----         \n",
      " 0   imdb_user_rating    20547 non-null  float64       \n",
      " 1   film_director       20547 non-null  object        \n",
      " 2   downloads           20547 non-null  int32         \n",
      " 3   industry            20547 non-null  object        \n",
      " 4   available_langs     20547 non-null  object        \n",
      " 5   platform_post_date  20547 non-null  datetime64[ns]\n",
      " 6   worldwide_release   20547 non-null  datetime64[ns]\n",
      " 7   run_time_min        20547 non-null  int32         \n",
      " 8   movie_title         20547 non-null  object        \n",
      " 9   total_views         20547 non-null  int32         \n",
      "dtypes: datetime64[ns](2), float64(1), int32(3), object(4)\n",
      "memory usage: 1.5+ MB\n"
     ]
    }
   ],
   "source": [
    "# Checking new data:\n",
    "pirated_films.info()"
   ]
  },
  {
   "attachments": {},
   "cell_type": "markdown",
   "metadata": {},
   "source": [
    "With all corrections needed made to the dataset, we can check for duplicates in the data:"
   ]
  },
  {
   "cell_type": "code",
   "execution_count": 48,
   "metadata": {},
   "outputs": [
    {
     "data": {
      "text/html": [
       "<div>\n",
       "<style scoped>\n",
       "    .dataframe tbody tr th:only-of-type {\n",
       "        vertical-align: middle;\n",
       "    }\n",
       "\n",
       "    .dataframe tbody tr th {\n",
       "        vertical-align: top;\n",
       "    }\n",
       "\n",
       "    .dataframe thead th {\n",
       "        text-align: right;\n",
       "    }\n",
       "</style>\n",
       "<table border=\"1\" class=\"dataframe\">\n",
       "  <thead>\n",
       "    <tr style=\"text-align: right;\">\n",
       "      <th></th>\n",
       "      <th>imdb_user_rating</th>\n",
       "      <th>film_director</th>\n",
       "      <th>downloads</th>\n",
       "      <th>industry</th>\n",
       "      <th>available_langs</th>\n",
       "      <th>platform_post_date</th>\n",
       "      <th>worldwide_release</th>\n",
       "      <th>run_time_min</th>\n",
       "      <th>movie_title</th>\n",
       "      <th>total_views</th>\n",
       "    </tr>\n",
       "  </thead>\n",
       "  <tbody>\n",
       "  </tbody>\n",
       "</table>\n",
       "</div>"
      ],
      "text/plain": [
       "Empty DataFrame\n",
       "Columns: [imdb_user_rating, film_director, downloads, industry, available_langs, platform_post_date, worldwide_release, run_time_min, movie_title, total_views]\n",
       "Index: []"
      ]
     },
     "execution_count": 48,
     "metadata": {},
     "output_type": "execute_result"
    }
   ],
   "source": [
    "# Checking duplicates:\n",
    "pirated_films[pirated_films.duplicated()]"
   ]
  },
  {
   "attachments": {},
   "cell_type": "markdown",
   "metadata": {},
   "source": [
    "We see that we don't have any duplicate values in our data. With that, we can move to our next step: Adding new features to our dataset!"
   ]
  },
  {
   "attachments": {},
   "cell_type": "markdown",
   "metadata": {},
   "source": [
    "## **_Feature Engineering_**"
   ]
  },
  {
   "attachments": {},
   "cell_type": "markdown",
   "metadata": {},
   "source": [
    "To define what additional features our dataset can have to boost our analysis capabilities, let's take a look at it's variables:"
   ]
  },
  {
   "cell_type": "code",
   "execution_count": 49,
   "metadata": {},
   "outputs": [
    {
     "data": {
      "text/html": [
       "<div>\n",
       "<style scoped>\n",
       "    .dataframe tbody tr th:only-of-type {\n",
       "        vertical-align: middle;\n",
       "    }\n",
       "\n",
       "    .dataframe tbody tr th {\n",
       "        vertical-align: top;\n",
       "    }\n",
       "\n",
       "    .dataframe thead th {\n",
       "        text-align: right;\n",
       "    }\n",
       "</style>\n",
       "<table border=\"1\" class=\"dataframe\">\n",
       "  <thead>\n",
       "    <tr style=\"text-align: right;\">\n",
       "      <th></th>\n",
       "      <th>imdb_user_rating</th>\n",
       "      <th>film_director</th>\n",
       "      <th>downloads</th>\n",
       "      <th>industry</th>\n",
       "      <th>available_langs</th>\n",
       "      <th>platform_post_date</th>\n",
       "      <th>worldwide_release</th>\n",
       "      <th>run_time_min</th>\n",
       "      <th>movie_title</th>\n",
       "      <th>total_views</th>\n",
       "    </tr>\n",
       "  </thead>\n",
       "  <tbody>\n",
       "    <tr>\n",
       "      <th>0</th>\n",
       "      <td>4.8</td>\n",
       "      <td>John Swab</td>\n",
       "      <td>304</td>\n",
       "      <td>Hollywood / English</td>\n",
       "      <td>English</td>\n",
       "      <td>2023-02-20</td>\n",
       "      <td>2023-01-28</td>\n",
       "      <td>105</td>\n",
       "      <td>Little Dixie</td>\n",
       "      <td>2794</td>\n",
       "    </tr>\n",
       "    <tr>\n",
       "      <th>1</th>\n",
       "      <td>6.4</td>\n",
       "      <td>Paul Ziller</td>\n",
       "      <td>73</td>\n",
       "      <td>Hollywood / English</td>\n",
       "      <td>English</td>\n",
       "      <td>2023-02-20</td>\n",
       "      <td>2023-02-05</td>\n",
       "      <td>84</td>\n",
       "      <td>Grilling Season: A Curious Caterer Mystery</td>\n",
       "      <td>1002</td>\n",
       "    </tr>\n",
       "    <tr>\n",
       "      <th>2</th>\n",
       "      <td>5.2</td>\n",
       "      <td>Ben Wheatley</td>\n",
       "      <td>1427</td>\n",
       "      <td>Hollywood / English</td>\n",
       "      <td>English,Hindi</td>\n",
       "      <td>2021-04-20</td>\n",
       "      <td>2021-06-18</td>\n",
       "      <td>107</td>\n",
       "      <td>In the Earth</td>\n",
       "      <td>14419</td>\n",
       "    </tr>\n",
       "    <tr>\n",
       "      <th>3</th>\n",
       "      <td>8.1</td>\n",
       "      <td>Venky Atluri</td>\n",
       "      <td>1549</td>\n",
       "      <td>Tollywood</td>\n",
       "      <td>Hindi</td>\n",
       "      <td>2023-02-20</td>\n",
       "      <td>2023-02-17</td>\n",
       "      <td>139</td>\n",
       "      <td>Vaathi</td>\n",
       "      <td>4878</td>\n",
       "    </tr>\n",
       "    <tr>\n",
       "      <th>4</th>\n",
       "      <td>4.6</td>\n",
       "      <td>Shaji Kailas</td>\n",
       "      <td>657</td>\n",
       "      <td>Tollywood</td>\n",
       "      <td>Hindi</td>\n",
       "      <td>2023-02-20</td>\n",
       "      <td>2023-01-26</td>\n",
       "      <td>122</td>\n",
       "      <td>Alone</td>\n",
       "      <td>2438</td>\n",
       "    </tr>\n",
       "  </tbody>\n",
       "</table>\n",
       "</div>"
      ],
      "text/plain": [
       "   imdb_user_rating film_director  downloads             industry  \\\n",
       "0               4.8     John Swab        304  Hollywood / English   \n",
       "1               6.4   Paul Ziller         73  Hollywood / English   \n",
       "2               5.2  Ben Wheatley       1427  Hollywood / English   \n",
       "3               8.1  Venky Atluri       1549            Tollywood   \n",
       "4               4.6  Shaji Kailas        657            Tollywood   \n",
       "\n",
       "  available_langs platform_post_date worldwide_release  run_time_min  \\\n",
       "0         English         2023-02-20        2023-01-28           105   \n",
       "1         English         2023-02-20        2023-02-05            84   \n",
       "2   English,Hindi         2021-04-20        2021-06-18           107   \n",
       "3           Hindi         2023-02-20        2023-02-17           139   \n",
       "4           Hindi         2023-02-20        2023-01-26           122   \n",
       "\n",
       "                                  movie_title  total_views  \n",
       "0                                Little Dixie         2794  \n",
       "1  Grilling Season: A Curious Caterer Mystery         1002  \n",
       "2                                In the Earth        14419  \n",
       "3                                      Vaathi         4878  \n",
       "4                                       Alone         2438  "
      ]
     },
     "execution_count": 49,
     "metadata": {},
     "output_type": "execute_result"
    }
   ],
   "source": [
    "# Checking dataset:\n",
    "pirated_films.head()"
   ]
  },
  {
   "attachments": {},
   "cell_type": "markdown",
   "metadata": {},
   "source": [
    "Some additional features that we can add to the dataset are:\n",
    "\n",
    "- `days_to_piracy`: A quantitative variable that contains the difference in days between the film release date and the date it was posted on the piracy site.\n",
    "\n",
    "- `avg_views_per_download`: The total number of views divided by the total number of downloads, indicating how many people viewed the movie for each download.\n",
    "\n",
    "- `avg_downloads_per_day`: A new feature that calculates the average number of downloads per day since the movie was posted on the piracy website. This could help us understand the popularity of the movie among pirates over time."
   ]
  },
  {
   "attachments": {},
   "cell_type": "markdown",
   "metadata": {},
   "source": [
    "### **Creating Variable: `days_to_piracy`**"
   ]
  },
  {
   "attachments": {},
   "cell_type": "markdown",
   "metadata": {},
   "source": [
    "This variable will lead to intresting possibilities of analysis, allowing us to understand better the timing between a movie release and it's pirated version being available for download. This variable will also play a role in creating the `popularity_score` variable later.\n",
    "\n",
    "To create this variable, we will subtract the day of the worldwide release and the day that the movie got launched in the piracy site."
   ]
  },
  {
   "cell_type": "code",
   "execution_count": 50,
   "metadata": {},
   "outputs": [],
   "source": [
    "# Creating new variable to store the difference in days.\n",
    "# This variable is temporary, it will be used to create the oficial variable:\n",
    "pirated_films['days_temp'] = pirated_films['platform_post_date'] - pirated_films['worldwide_release']"
   ]
  },
  {
   "cell_type": "code",
   "execution_count": 51,
   "metadata": {},
   "outputs": [
    {
     "data": {
      "text/plain": [
       "0    23 days\n",
       "1    15 days\n",
       "2   -59 days\n",
       "3     3 days\n",
       "4    25 days\n",
       "Name: days_temp, dtype: timedelta64[ns]"
      ]
     },
     "execution_count": 51,
     "metadata": {},
     "output_type": "execute_result"
    }
   ],
   "source": [
    "# Checking variable:\n",
    "pirated_films['days_temp'].head()"
   ]
  },
  {
   "attachments": {},
   "cell_type": "markdown",
   "metadata": {},
   "source": [
    "Now that we have this variable, we will use it to grab only the number of days:"
   ]
  },
  {
   "cell_type": "code",
   "execution_count": 52,
   "metadata": {},
   "outputs": [],
   "source": [
    "# Creating the oficial variable and deleting the temporary one:\n",
    "pirated_films['days_to_piracy'] = pirated_films['days_temp'].dt.days\n",
    "\n",
    "# Dropping temporary variable:\n",
    "pirated_films = pirated_films.drop('days_temp', axis=1)"
   ]
  },
  {
   "cell_type": "code",
   "execution_count": 53,
   "metadata": {},
   "outputs": [
    {
     "data": {
      "text/html": [
       "<div>\n",
       "<style scoped>\n",
       "    .dataframe tbody tr th:only-of-type {\n",
       "        vertical-align: middle;\n",
       "    }\n",
       "\n",
       "    .dataframe tbody tr th {\n",
       "        vertical-align: top;\n",
       "    }\n",
       "\n",
       "    .dataframe thead th {\n",
       "        text-align: right;\n",
       "    }\n",
       "</style>\n",
       "<table border=\"1\" class=\"dataframe\">\n",
       "  <thead>\n",
       "    <tr style=\"text-align: right;\">\n",
       "      <th></th>\n",
       "      <th>imdb_user_rating</th>\n",
       "      <th>film_director</th>\n",
       "      <th>downloads</th>\n",
       "      <th>industry</th>\n",
       "      <th>available_langs</th>\n",
       "      <th>platform_post_date</th>\n",
       "      <th>worldwide_release</th>\n",
       "      <th>run_time_min</th>\n",
       "      <th>movie_title</th>\n",
       "      <th>total_views</th>\n",
       "      <th>days_to_piracy</th>\n",
       "    </tr>\n",
       "  </thead>\n",
       "  <tbody>\n",
       "    <tr>\n",
       "      <th>0</th>\n",
       "      <td>4.8</td>\n",
       "      <td>John Swab</td>\n",
       "      <td>304</td>\n",
       "      <td>Hollywood / English</td>\n",
       "      <td>English</td>\n",
       "      <td>2023-02-20</td>\n",
       "      <td>2023-01-28</td>\n",
       "      <td>105</td>\n",
       "      <td>Little Dixie</td>\n",
       "      <td>2794</td>\n",
       "      <td>23</td>\n",
       "    </tr>\n",
       "    <tr>\n",
       "      <th>1</th>\n",
       "      <td>6.4</td>\n",
       "      <td>Paul Ziller</td>\n",
       "      <td>73</td>\n",
       "      <td>Hollywood / English</td>\n",
       "      <td>English</td>\n",
       "      <td>2023-02-20</td>\n",
       "      <td>2023-02-05</td>\n",
       "      <td>84</td>\n",
       "      <td>Grilling Season: A Curious Caterer Mystery</td>\n",
       "      <td>1002</td>\n",
       "      <td>15</td>\n",
       "    </tr>\n",
       "    <tr>\n",
       "      <th>2</th>\n",
       "      <td>5.2</td>\n",
       "      <td>Ben Wheatley</td>\n",
       "      <td>1427</td>\n",
       "      <td>Hollywood / English</td>\n",
       "      <td>English,Hindi</td>\n",
       "      <td>2021-04-20</td>\n",
       "      <td>2021-06-18</td>\n",
       "      <td>107</td>\n",
       "      <td>In the Earth</td>\n",
       "      <td>14419</td>\n",
       "      <td>-59</td>\n",
       "    </tr>\n",
       "    <tr>\n",
       "      <th>3</th>\n",
       "      <td>8.1</td>\n",
       "      <td>Venky Atluri</td>\n",
       "      <td>1549</td>\n",
       "      <td>Tollywood</td>\n",
       "      <td>Hindi</td>\n",
       "      <td>2023-02-20</td>\n",
       "      <td>2023-02-17</td>\n",
       "      <td>139</td>\n",
       "      <td>Vaathi</td>\n",
       "      <td>4878</td>\n",
       "      <td>3</td>\n",
       "    </tr>\n",
       "    <tr>\n",
       "      <th>4</th>\n",
       "      <td>4.6</td>\n",
       "      <td>Shaji Kailas</td>\n",
       "      <td>657</td>\n",
       "      <td>Tollywood</td>\n",
       "      <td>Hindi</td>\n",
       "      <td>2023-02-20</td>\n",
       "      <td>2023-01-26</td>\n",
       "      <td>122</td>\n",
       "      <td>Alone</td>\n",
       "      <td>2438</td>\n",
       "      <td>25</td>\n",
       "    </tr>\n",
       "  </tbody>\n",
       "</table>\n",
       "</div>"
      ],
      "text/plain": [
       "   imdb_user_rating film_director  downloads             industry  \\\n",
       "0               4.8     John Swab        304  Hollywood / English   \n",
       "1               6.4   Paul Ziller         73  Hollywood / English   \n",
       "2               5.2  Ben Wheatley       1427  Hollywood / English   \n",
       "3               8.1  Venky Atluri       1549            Tollywood   \n",
       "4               4.6  Shaji Kailas        657            Tollywood   \n",
       "\n",
       "  available_langs platform_post_date worldwide_release  run_time_min  \\\n",
       "0         English         2023-02-20        2023-01-28           105   \n",
       "1         English         2023-02-20        2023-02-05            84   \n",
       "2   English,Hindi         2021-04-20        2021-06-18           107   \n",
       "3           Hindi         2023-02-20        2023-02-17           139   \n",
       "4           Hindi         2023-02-20        2023-01-26           122   \n",
       "\n",
       "                                  movie_title  total_views  days_to_piracy  \n",
       "0                                Little Dixie         2794              23  \n",
       "1  Grilling Season: A Curious Caterer Mystery         1002              15  \n",
       "2                                In the Earth        14419             -59  \n",
       "3                                      Vaathi         4878               3  \n",
       "4                                       Alone         2438              25  "
      ]
     },
     "execution_count": 53,
     "metadata": {},
     "output_type": "execute_result"
    }
   ],
   "source": [
    "# Checking results:\n",
    "pirated_films.head()"
   ]
  },
  {
   "attachments": {},
   "cell_type": "markdown",
   "metadata": {},
   "source": [
    "Just by looking at the first values of the new variable we can see that it gives very helpfull information abaout the films, such as the third entry in the dataset that says that the movie was already pirated and available in the piracy web site 59 days before even launching worldwide.\n",
    "\n",
    "Let's check the data type of the variable:"
   ]
  },
  {
   "cell_type": "code",
   "execution_count": 54,
   "metadata": {},
   "outputs": [
    {
     "data": {
      "text/plain": [
       "dtype('int64')"
      ]
     },
     "execution_count": 54,
     "metadata": {},
     "output_type": "execute_result"
    }
   ],
   "source": [
    "# Checking data type:\n",
    "pirated_films['days_to_piracy'].dtype"
   ]
  },
  {
   "attachments": {},
   "cell_type": "markdown",
   "metadata": {},
   "source": [
    "The variable came in the int64 data type. To give it the best data type possible, let's see if we can change it to int32:"
   ]
  },
  {
   "cell_type": "code",
   "execution_count": 55,
   "metadata": {},
   "outputs": [
    {
     "name": "stdout",
     "output_type": "stream",
     "text": [
      "Max value: 32863\n",
      "Min value: -4298\n"
     ]
    }
   ],
   "source": [
    "# Checking min and max values of the new variable:\n",
    "print(f'Max value: {pirated_films[\"days_to_piracy\"].max()}')\n",
    "print(f'Min value: {pirated_films[\"days_to_piracy\"].min()}')"
   ]
  },
  {
   "attachments": {},
   "cell_type": "markdown",
   "metadata": {},
   "source": [
    "We almost can change it to int16! The limit of int16 is 32767 and in the data we have values up to 32863, close, but enough to be necessary the implementation of int32."
   ]
  },
  {
   "cell_type": "code",
   "execution_count": 56,
   "metadata": {},
   "outputs": [],
   "source": [
    "# Changing data type to int32:\n",
    "pirated_films = pirated_films.astype({'days_to_piracy': 'int32'})"
   ]
  },
  {
   "cell_type": "code",
   "execution_count": 57,
   "metadata": {},
   "outputs": [
    {
     "data": {
      "text/plain": [
       "dtype('int32')"
      ]
     },
     "execution_count": 57,
     "metadata": {},
     "output_type": "execute_result"
    }
   ],
   "source": [
    "# Checking final data types:\n",
    "pirated_films['days_to_piracy'].dtype"
   ]
  },
  {
   "attachments": {},
   "cell_type": "markdown",
   "metadata": {},
   "source": [
    "### **Creating Variable: `avg_views_per_download`**"
   ]
  },
  {
   "attachments": {},
   "cell_type": "markdown",
   "metadata": {},
   "source": [
    "This variable, togheter with the next one, will make it possible for us to understand the relevance and popularity of each movie pirated on the website, more specicaly this variable allow us to beter understand how frequently pirates watch the movies they download."
   ]
  },
  {
   "cell_type": "code",
   "execution_count": 58,
   "metadata": {},
   "outputs": [
    {
     "data": {
      "text/html": [
       "<div>\n",
       "<style scoped>\n",
       "    .dataframe tbody tr th:only-of-type {\n",
       "        vertical-align: middle;\n",
       "    }\n",
       "\n",
       "    .dataframe tbody tr th {\n",
       "        vertical-align: top;\n",
       "    }\n",
       "\n",
       "    .dataframe thead th {\n",
       "        text-align: right;\n",
       "    }\n",
       "</style>\n",
       "<table border=\"1\" class=\"dataframe\">\n",
       "  <thead>\n",
       "    <tr style=\"text-align: right;\">\n",
       "      <th></th>\n",
       "      <th>imdb_user_rating</th>\n",
       "      <th>film_director</th>\n",
       "      <th>downloads</th>\n",
       "      <th>industry</th>\n",
       "      <th>available_langs</th>\n",
       "      <th>platform_post_date</th>\n",
       "      <th>worldwide_release</th>\n",
       "      <th>run_time_min</th>\n",
       "      <th>movie_title</th>\n",
       "      <th>total_views</th>\n",
       "      <th>days_to_piracy</th>\n",
       "      <th>avg_views_per_download</th>\n",
       "    </tr>\n",
       "  </thead>\n",
       "  <tbody>\n",
       "    <tr>\n",
       "      <th>0</th>\n",
       "      <td>4.8</td>\n",
       "      <td>John Swab</td>\n",
       "      <td>304</td>\n",
       "      <td>Hollywood / English</td>\n",
       "      <td>English</td>\n",
       "      <td>2023-02-20</td>\n",
       "      <td>2023-01-28</td>\n",
       "      <td>105</td>\n",
       "      <td>Little Dixie</td>\n",
       "      <td>2794</td>\n",
       "      <td>23</td>\n",
       "      <td>9.190789</td>\n",
       "    </tr>\n",
       "    <tr>\n",
       "      <th>1</th>\n",
       "      <td>6.4</td>\n",
       "      <td>Paul Ziller</td>\n",
       "      <td>73</td>\n",
       "      <td>Hollywood / English</td>\n",
       "      <td>English</td>\n",
       "      <td>2023-02-20</td>\n",
       "      <td>2023-02-05</td>\n",
       "      <td>84</td>\n",
       "      <td>Grilling Season: A Curious Caterer Mystery</td>\n",
       "      <td>1002</td>\n",
       "      <td>15</td>\n",
       "      <td>13.726027</td>\n",
       "    </tr>\n",
       "    <tr>\n",
       "      <th>2</th>\n",
       "      <td>5.2</td>\n",
       "      <td>Ben Wheatley</td>\n",
       "      <td>1427</td>\n",
       "      <td>Hollywood / English</td>\n",
       "      <td>English,Hindi</td>\n",
       "      <td>2021-04-20</td>\n",
       "      <td>2021-06-18</td>\n",
       "      <td>107</td>\n",
       "      <td>In the Earth</td>\n",
       "      <td>14419</td>\n",
       "      <td>-59</td>\n",
       "      <td>10.104415</td>\n",
       "    </tr>\n",
       "    <tr>\n",
       "      <th>3</th>\n",
       "      <td>8.1</td>\n",
       "      <td>Venky Atluri</td>\n",
       "      <td>1549</td>\n",
       "      <td>Tollywood</td>\n",
       "      <td>Hindi</td>\n",
       "      <td>2023-02-20</td>\n",
       "      <td>2023-02-17</td>\n",
       "      <td>139</td>\n",
       "      <td>Vaathi</td>\n",
       "      <td>4878</td>\n",
       "      <td>3</td>\n",
       "      <td>3.149128</td>\n",
       "    </tr>\n",
       "    <tr>\n",
       "      <th>4</th>\n",
       "      <td>4.6</td>\n",
       "      <td>Shaji Kailas</td>\n",
       "      <td>657</td>\n",
       "      <td>Tollywood</td>\n",
       "      <td>Hindi</td>\n",
       "      <td>2023-02-20</td>\n",
       "      <td>2023-01-26</td>\n",
       "      <td>122</td>\n",
       "      <td>Alone</td>\n",
       "      <td>2438</td>\n",
       "      <td>25</td>\n",
       "      <td>3.710807</td>\n",
       "    </tr>\n",
       "  </tbody>\n",
       "</table>\n",
       "</div>"
      ],
      "text/plain": [
       "   imdb_user_rating film_director  downloads             industry  \\\n",
       "0               4.8     John Swab        304  Hollywood / English   \n",
       "1               6.4   Paul Ziller         73  Hollywood / English   \n",
       "2               5.2  Ben Wheatley       1427  Hollywood / English   \n",
       "3               8.1  Venky Atluri       1549            Tollywood   \n",
       "4               4.6  Shaji Kailas        657            Tollywood   \n",
       "\n",
       "  available_langs platform_post_date worldwide_release  run_time_min  \\\n",
       "0         English         2023-02-20        2023-01-28           105   \n",
       "1         English         2023-02-20        2023-02-05            84   \n",
       "2   English,Hindi         2021-04-20        2021-06-18           107   \n",
       "3           Hindi         2023-02-20        2023-02-17           139   \n",
       "4           Hindi         2023-02-20        2023-01-26           122   \n",
       "\n",
       "                                  movie_title  total_views  days_to_piracy  \\\n",
       "0                                Little Dixie         2794              23   \n",
       "1  Grilling Season: A Curious Caterer Mystery         1002              15   \n",
       "2                                In the Earth        14419             -59   \n",
       "3                                      Vaathi         4878               3   \n",
       "4                                       Alone         2438              25   \n",
       "\n",
       "   avg_views_per_download  \n",
       "0                9.190789  \n",
       "1               13.726027  \n",
       "2               10.104415  \n",
       "3                3.149128  \n",
       "4                3.710807  "
      ]
     },
     "execution_count": 58,
     "metadata": {},
     "output_type": "execute_result"
    }
   ],
   "source": [
    "# Creating new variable:\n",
    "pirated_films['avg_views_per_download'] = pirated_films['total_views'] / pirated_films['downloads']\n",
    "\n",
    "# Visualizing data:\n",
    "pirated_films.head()"
   ]
  },
  {
   "attachments": {},
   "cell_type": "markdown",
   "metadata": {},
   "source": [
    "As we will use this variable to further analysis, we won't round the values, instead we will keep them with the full precision of the values."
   ]
  },
  {
   "attachments": {},
   "cell_type": "markdown",
   "metadata": {},
   "source": [
    "### **Creating Variable: `avg_downloads_per_day`**"
   ]
  },
  {
   "attachments": {},
   "cell_type": "markdown",
   "metadata": {},
   "source": [
    "In junction with the `avg_views_per_download` variable, this column will allow us to beter understand the popularity and preference of movies in the piracy platform.\n",
    "\n",
    "One thing we must remember is that we have movies that got pirated the same day it was released worldwide. That means that our calculation could give a \"inf\" value, since we could be dividing by 0 (number of days), to avoid tis, let's fill the inf values with the number of dowloads."
   ]
  },
  {
   "cell_type": "code",
   "execution_count": 59,
   "metadata": {},
   "outputs": [],
   "source": [
    "# Define function:\n",
    "def add_downloads_per_day(df):\n",
    "    # calculate downloads per day\n",
    "    downloads_per_day = df['downloads'] / df['days_to_piracy']\n",
    "\n",
    "    # Checks if days_to_piracy is equal to 0 and replaces the corresponding values in \n",
    "    # downloads_per_day with the downloads values to avoid division by zero.\n",
    "    downloads_per_day[df['days_to_piracy'] == 0] = df['downloads'][df['days_to_piracy'] == 0]\n",
    "\n",
    "    # add new column to DataFrame\n",
    "    df['avg_downloads_per_day'] = np.abs(downloads_per_day)\n",
    "\n",
    "    return df"
   ]
  },
  {
   "cell_type": "code",
   "execution_count": 60,
   "metadata": {},
   "outputs": [
    {
     "data": {
      "text/html": [
       "<div>\n",
       "<style scoped>\n",
       "    .dataframe tbody tr th:only-of-type {\n",
       "        vertical-align: middle;\n",
       "    }\n",
       "\n",
       "    .dataframe tbody tr th {\n",
       "        vertical-align: top;\n",
       "    }\n",
       "\n",
       "    .dataframe thead th {\n",
       "        text-align: right;\n",
       "    }\n",
       "</style>\n",
       "<table border=\"1\" class=\"dataframe\">\n",
       "  <thead>\n",
       "    <tr style=\"text-align: right;\">\n",
       "      <th></th>\n",
       "      <th>imdb_user_rating</th>\n",
       "      <th>film_director</th>\n",
       "      <th>downloads</th>\n",
       "      <th>industry</th>\n",
       "      <th>available_langs</th>\n",
       "      <th>platform_post_date</th>\n",
       "      <th>worldwide_release</th>\n",
       "      <th>run_time_min</th>\n",
       "      <th>movie_title</th>\n",
       "      <th>total_views</th>\n",
       "      <th>days_to_piracy</th>\n",
       "      <th>avg_views_per_download</th>\n",
       "      <th>avg_downloads_per_day</th>\n",
       "    </tr>\n",
       "  </thead>\n",
       "  <tbody>\n",
       "    <tr>\n",
       "      <th>0</th>\n",
       "      <td>4.8</td>\n",
       "      <td>John Swab</td>\n",
       "      <td>304</td>\n",
       "      <td>Hollywood / English</td>\n",
       "      <td>English</td>\n",
       "      <td>2023-02-20</td>\n",
       "      <td>2023-01-28</td>\n",
       "      <td>105</td>\n",
       "      <td>Little Dixie</td>\n",
       "      <td>2794</td>\n",
       "      <td>23</td>\n",
       "      <td>9.190789</td>\n",
       "      <td>13.217391</td>\n",
       "    </tr>\n",
       "    <tr>\n",
       "      <th>1</th>\n",
       "      <td>6.4</td>\n",
       "      <td>Paul Ziller</td>\n",
       "      <td>73</td>\n",
       "      <td>Hollywood / English</td>\n",
       "      <td>English</td>\n",
       "      <td>2023-02-20</td>\n",
       "      <td>2023-02-05</td>\n",
       "      <td>84</td>\n",
       "      <td>Grilling Season: A Curious Caterer Mystery</td>\n",
       "      <td>1002</td>\n",
       "      <td>15</td>\n",
       "      <td>13.726027</td>\n",
       "      <td>4.866667</td>\n",
       "    </tr>\n",
       "    <tr>\n",
       "      <th>2</th>\n",
       "      <td>5.2</td>\n",
       "      <td>Ben Wheatley</td>\n",
       "      <td>1427</td>\n",
       "      <td>Hollywood / English</td>\n",
       "      <td>English,Hindi</td>\n",
       "      <td>2021-04-20</td>\n",
       "      <td>2021-06-18</td>\n",
       "      <td>107</td>\n",
       "      <td>In the Earth</td>\n",
       "      <td>14419</td>\n",
       "      <td>-59</td>\n",
       "      <td>10.104415</td>\n",
       "      <td>24.186441</td>\n",
       "    </tr>\n",
       "    <tr>\n",
       "      <th>3</th>\n",
       "      <td>8.1</td>\n",
       "      <td>Venky Atluri</td>\n",
       "      <td>1549</td>\n",
       "      <td>Tollywood</td>\n",
       "      <td>Hindi</td>\n",
       "      <td>2023-02-20</td>\n",
       "      <td>2023-02-17</td>\n",
       "      <td>139</td>\n",
       "      <td>Vaathi</td>\n",
       "      <td>4878</td>\n",
       "      <td>3</td>\n",
       "      <td>3.149128</td>\n",
       "      <td>516.333333</td>\n",
       "    </tr>\n",
       "    <tr>\n",
       "      <th>4</th>\n",
       "      <td>4.6</td>\n",
       "      <td>Shaji Kailas</td>\n",
       "      <td>657</td>\n",
       "      <td>Tollywood</td>\n",
       "      <td>Hindi</td>\n",
       "      <td>2023-02-20</td>\n",
       "      <td>2023-01-26</td>\n",
       "      <td>122</td>\n",
       "      <td>Alone</td>\n",
       "      <td>2438</td>\n",
       "      <td>25</td>\n",
       "      <td>3.710807</td>\n",
       "      <td>26.280000</td>\n",
       "    </tr>\n",
       "  </tbody>\n",
       "</table>\n",
       "</div>"
      ],
      "text/plain": [
       "   imdb_user_rating film_director  downloads             industry  \\\n",
       "0               4.8     John Swab        304  Hollywood / English   \n",
       "1               6.4   Paul Ziller         73  Hollywood / English   \n",
       "2               5.2  Ben Wheatley       1427  Hollywood / English   \n",
       "3               8.1  Venky Atluri       1549            Tollywood   \n",
       "4               4.6  Shaji Kailas        657            Tollywood   \n",
       "\n",
       "  available_langs platform_post_date worldwide_release  run_time_min  \\\n",
       "0         English         2023-02-20        2023-01-28           105   \n",
       "1         English         2023-02-20        2023-02-05            84   \n",
       "2   English,Hindi         2021-04-20        2021-06-18           107   \n",
       "3           Hindi         2023-02-20        2023-02-17           139   \n",
       "4           Hindi         2023-02-20        2023-01-26           122   \n",
       "\n",
       "                                  movie_title  total_views  days_to_piracy  \\\n",
       "0                                Little Dixie         2794              23   \n",
       "1  Grilling Season: A Curious Caterer Mystery         1002              15   \n",
       "2                                In the Earth        14419             -59   \n",
       "3                                      Vaathi         4878               3   \n",
       "4                                       Alone         2438              25   \n",
       "\n",
       "   avg_views_per_download  avg_downloads_per_day  \n",
       "0                9.190789              13.217391  \n",
       "1               13.726027               4.866667  \n",
       "2               10.104415              24.186441  \n",
       "3                3.149128             516.333333  \n",
       "4                3.710807              26.280000  "
      ]
     },
     "execution_count": 60,
     "metadata": {},
     "output_type": "execute_result"
    }
   ],
   "source": [
    "# Aplying the function:\n",
    "pirated_films = add_downloads_per_day(pirated_films)\n",
    "\n",
    "# Checking values:\n",
    "pirated_films.head()"
   ]
  },
  {
   "cell_type": "code",
   "execution_count": 61,
   "metadata": {},
   "outputs": [
    {
     "data": {
      "text/plain": [
       "dtype('float64')"
      ]
     },
     "execution_count": 61,
     "metadata": {},
     "output_type": "execute_result"
    }
   ],
   "source": [
    "# Checking datatype:\n",
    "pirated_films['avg_downloads_per_day'].dtype"
   ]
  },
  {
   "attachments": {},
   "cell_type": "markdown",
   "metadata": {},
   "source": [
    "## **_Rearranging Variables_**"
   ]
  },
  {
   "attachments": {},
   "cell_type": "markdown",
   "metadata": {},
   "source": [
    "With our variables cleaned, sorted and with our new variables created, we can rearrange the sequence of the columns to get a better order of visualization."
   ]
  },
  {
   "cell_type": "code",
   "execution_count": 62,
   "metadata": {},
   "outputs": [
    {
     "data": {
      "text/html": [
       "<div>\n",
       "<style scoped>\n",
       "    .dataframe tbody tr th:only-of-type {\n",
       "        vertical-align: middle;\n",
       "    }\n",
       "\n",
       "    .dataframe tbody tr th {\n",
       "        vertical-align: top;\n",
       "    }\n",
       "\n",
       "    .dataframe thead th {\n",
       "        text-align: right;\n",
       "    }\n",
       "</style>\n",
       "<table border=\"1\" class=\"dataframe\">\n",
       "  <thead>\n",
       "    <tr style=\"text-align: right;\">\n",
       "      <th></th>\n",
       "      <th>movie_title</th>\n",
       "      <th>film_director</th>\n",
       "      <th>industry</th>\n",
       "      <th>available_langs</th>\n",
       "      <th>run_time_min</th>\n",
       "      <th>imdb_user_rating</th>\n",
       "      <th>worldwide_release</th>\n",
       "      <th>platform_post_date</th>\n",
       "      <th>days_to_piracy</th>\n",
       "      <th>avg_views_per_download</th>\n",
       "      <th>avg_downloads_per_day</th>\n",
       "      <th>downloads</th>\n",
       "      <th>total_views</th>\n",
       "    </tr>\n",
       "  </thead>\n",
       "  <tbody>\n",
       "    <tr>\n",
       "      <th>0</th>\n",
       "      <td>Little Dixie</td>\n",
       "      <td>John Swab</td>\n",
       "      <td>Hollywood / English</td>\n",
       "      <td>English</td>\n",
       "      <td>105</td>\n",
       "      <td>4.8</td>\n",
       "      <td>2023-01-28</td>\n",
       "      <td>2023-02-20</td>\n",
       "      <td>23</td>\n",
       "      <td>9.190789</td>\n",
       "      <td>13.217391</td>\n",
       "      <td>304</td>\n",
       "      <td>2794</td>\n",
       "    </tr>\n",
       "    <tr>\n",
       "      <th>1</th>\n",
       "      <td>Grilling Season: A Curious Caterer Mystery</td>\n",
       "      <td>Paul Ziller</td>\n",
       "      <td>Hollywood / English</td>\n",
       "      <td>English</td>\n",
       "      <td>84</td>\n",
       "      <td>6.4</td>\n",
       "      <td>2023-02-05</td>\n",
       "      <td>2023-02-20</td>\n",
       "      <td>15</td>\n",
       "      <td>13.726027</td>\n",
       "      <td>4.866667</td>\n",
       "      <td>73</td>\n",
       "      <td>1002</td>\n",
       "    </tr>\n",
       "    <tr>\n",
       "      <th>2</th>\n",
       "      <td>In the Earth</td>\n",
       "      <td>Ben Wheatley</td>\n",
       "      <td>Hollywood / English</td>\n",
       "      <td>English,Hindi</td>\n",
       "      <td>107</td>\n",
       "      <td>5.2</td>\n",
       "      <td>2021-06-18</td>\n",
       "      <td>2021-04-20</td>\n",
       "      <td>-59</td>\n",
       "      <td>10.104415</td>\n",
       "      <td>24.186441</td>\n",
       "      <td>1427</td>\n",
       "      <td>14419</td>\n",
       "    </tr>\n",
       "    <tr>\n",
       "      <th>3</th>\n",
       "      <td>Vaathi</td>\n",
       "      <td>Venky Atluri</td>\n",
       "      <td>Tollywood</td>\n",
       "      <td>Hindi</td>\n",
       "      <td>139</td>\n",
       "      <td>8.1</td>\n",
       "      <td>2023-02-17</td>\n",
       "      <td>2023-02-20</td>\n",
       "      <td>3</td>\n",
       "      <td>3.149128</td>\n",
       "      <td>516.333333</td>\n",
       "      <td>1549</td>\n",
       "      <td>4878</td>\n",
       "    </tr>\n",
       "    <tr>\n",
       "      <th>4</th>\n",
       "      <td>Alone</td>\n",
       "      <td>Shaji Kailas</td>\n",
       "      <td>Tollywood</td>\n",
       "      <td>Hindi</td>\n",
       "      <td>122</td>\n",
       "      <td>4.6</td>\n",
       "      <td>2023-01-26</td>\n",
       "      <td>2023-02-20</td>\n",
       "      <td>25</td>\n",
       "      <td>3.710807</td>\n",
       "      <td>26.280000</td>\n",
       "      <td>657</td>\n",
       "      <td>2438</td>\n",
       "    </tr>\n",
       "    <tr>\n",
       "      <th>5</th>\n",
       "      <td>Anubhavinchu Raja</td>\n",
       "      <td>Srinivas Gavireddy</td>\n",
       "      <td>Tollywood</td>\n",
       "      <td>Hindi</td>\n",
       "      <td>131</td>\n",
       "      <td>5.4</td>\n",
       "      <td>2021-11-26</td>\n",
       "      <td>2023-02-20</td>\n",
       "      <td>451</td>\n",
       "      <td>3.941019</td>\n",
       "      <td>1.654102</td>\n",
       "      <td>746</td>\n",
       "      <td>2940</td>\n",
       "    </tr>\n",
       "    <tr>\n",
       "      <th>6</th>\n",
       "      <td>WWE Elimination Chamber</td>\n",
       "      <td>Not Assigned</td>\n",
       "      <td>Wrestling</td>\n",
       "      <td>English</td>\n",
       "      <td>200</td>\n",
       "      <td>5.8</td>\n",
       "      <td>2023-02-18</td>\n",
       "      <td>2023-02-19</td>\n",
       "      <td>1</td>\n",
       "      <td>2.246437</td>\n",
       "      <td>5332.000000</td>\n",
       "      <td>5332</td>\n",
       "      <td>11978</td>\n",
       "    </tr>\n",
       "    <tr>\n",
       "      <th>7</th>\n",
       "      <td>Sharper</td>\n",
       "      <td>Benjamin Caron</td>\n",
       "      <td>Hollywood / English</td>\n",
       "      <td>English</td>\n",
       "      <td>116</td>\n",
       "      <td>6.5</td>\n",
       "      <td>2023-02-17</td>\n",
       "      <td>2023-02-13</td>\n",
       "      <td>-4</td>\n",
       "      <td>10.233015</td>\n",
       "      <td>445.250000</td>\n",
       "      <td>1781</td>\n",
       "      <td>18225</td>\n",
       "    </tr>\n",
       "    <tr>\n",
       "      <th>8</th>\n",
       "      <td>Four Samosas</td>\n",
       "      <td>Ravi Kapoor</td>\n",
       "      <td>Hollywood / English</td>\n",
       "      <td>English</td>\n",
       "      <td>80</td>\n",
       "      <td>6.9</td>\n",
       "      <td>2022-12-02</td>\n",
       "      <td>2023-02-18</td>\n",
       "      <td>78</td>\n",
       "      <td>15.091703</td>\n",
       "      <td>5.871795</td>\n",
       "      <td>458</td>\n",
       "      <td>6912</td>\n",
       "    </tr>\n",
       "    <tr>\n",
       "      <th>9</th>\n",
       "      <td>Blood Harvest</td>\n",
       "      <td>Danny LeGare</td>\n",
       "      <td>Hollywood / English</td>\n",
       "      <td>English</td>\n",
       "      <td>80</td>\n",
       "      <td>4.2</td>\n",
       "      <td>2023-02-07</td>\n",
       "      <td>2023-02-18</td>\n",
       "      <td>11</td>\n",
       "      <td>4.941476</td>\n",
       "      <td>178.636364</td>\n",
       "      <td>1965</td>\n",
       "      <td>9710</td>\n",
       "    </tr>\n",
       "  </tbody>\n",
       "</table>\n",
       "</div>"
      ],
      "text/plain": [
       "                                  movie_title       film_director  \\\n",
       "0                                Little Dixie           John Swab   \n",
       "1  Grilling Season: A Curious Caterer Mystery         Paul Ziller   \n",
       "2                                In the Earth        Ben Wheatley   \n",
       "3                                      Vaathi        Venky Atluri   \n",
       "4                                       Alone        Shaji Kailas   \n",
       "5                           Anubhavinchu Raja  Srinivas Gavireddy   \n",
       "6                     WWE Elimination Chamber        Not Assigned   \n",
       "7                                     Sharper      Benjamin Caron   \n",
       "8                                Four Samosas         Ravi Kapoor   \n",
       "9                               Blood Harvest        Danny LeGare   \n",
       "\n",
       "              industry available_langs  run_time_min  imdb_user_rating  \\\n",
       "0  Hollywood / English         English           105               4.8   \n",
       "1  Hollywood / English         English            84               6.4   \n",
       "2  Hollywood / English   English,Hindi           107               5.2   \n",
       "3            Tollywood           Hindi           139               8.1   \n",
       "4            Tollywood           Hindi           122               4.6   \n",
       "5            Tollywood           Hindi           131               5.4   \n",
       "6            Wrestling         English           200               5.8   \n",
       "7  Hollywood / English         English           116               6.5   \n",
       "8  Hollywood / English         English            80               6.9   \n",
       "9  Hollywood / English         English            80               4.2   \n",
       "\n",
       "  worldwide_release platform_post_date  days_to_piracy  \\\n",
       "0        2023-01-28         2023-02-20              23   \n",
       "1        2023-02-05         2023-02-20              15   \n",
       "2        2021-06-18         2021-04-20             -59   \n",
       "3        2023-02-17         2023-02-20               3   \n",
       "4        2023-01-26         2023-02-20              25   \n",
       "5        2021-11-26         2023-02-20             451   \n",
       "6        2023-02-18         2023-02-19               1   \n",
       "7        2023-02-17         2023-02-13              -4   \n",
       "8        2022-12-02         2023-02-18              78   \n",
       "9        2023-02-07         2023-02-18              11   \n",
       "\n",
       "   avg_views_per_download  avg_downloads_per_day  downloads  total_views  \n",
       "0                9.190789              13.217391        304         2794  \n",
       "1               13.726027               4.866667         73         1002  \n",
       "2               10.104415              24.186441       1427        14419  \n",
       "3                3.149128             516.333333       1549         4878  \n",
       "4                3.710807              26.280000        657         2438  \n",
       "5                3.941019               1.654102        746         2940  \n",
       "6                2.246437            5332.000000       5332        11978  \n",
       "7               10.233015             445.250000       1781        18225  \n",
       "8               15.091703               5.871795        458         6912  \n",
       "9                4.941476             178.636364       1965         9710  "
      ]
     },
     "execution_count": 62,
     "metadata": {},
     "output_type": "execute_result"
    }
   ],
   "source": [
    "# Rearranging variables:\n",
    "new_order = ['movie_title', 'film_director', 'industry', 'available_langs', \n",
    "             'run_time_min', 'imdb_user_rating', 'worldwide_release', \n",
    "             'platform_post_date', 'days_to_piracy', 'avg_views_per_download', \n",
    "             'avg_downloads_per_day', 'downloads', 'total_views']\n",
    "\n",
    "# Defining the order:\n",
    "pirated_films = pirated_films.reindex(columns=new_order)\n",
    "\n",
    "# Checking final dataset:\n",
    "pirated_films.head(10)"
   ]
  },
  {
   "attachments": {},
   "cell_type": "markdown",
   "metadata": {},
   "source": [
    "# **Univariate Analysis**\n",
    "\n",
    "---"
   ]
  },
  {
   "attachments": {},
   "cell_type": "markdown",
   "metadata": {},
   "source": [
    "Univariate Analysis is a statistical technique that is used to examine the distribution and characteristics of a **single variable in isolation**, without considering the relationships between variables.\n",
    "\n",
    "It involves summarizing and visualizing the distribution of a single variable using descriptive statistics such as measures of central tendency (e.g., mean, median, mode) and measures of variability (e.g., range, variance, standard deviation). For visualizing the statistical information, we will use graphical methods such as histograms and box plots.\n",
    "\n",
    "This step is very important because it provides a basic understanding of the data and helps identify any patterns, trends, or outliers in the data.\n",
    "\n",
    "In this EDA, as we mention in the begining of the project, the goal is detail, so to achieve that we will conduct a thorough analysis of each variable in the dataset.\n",
    "\n",
    "**Steps**\n",
    "\n",
    "For each variable, we will analize:\n",
    "\n",
    "- Statistical information using the `describe()` method (categorical and numerical variables);\n",
    "\n",
    "- The distribution of the data using histograms (numerical variables);\n",
    "\n",
    "- The skewness of the data using the `skew()` method (numerical variables);\n",
    "\n",
    "- The kurtosis of the data. using the `kurt()` metho (numerical variables)."
   ]
  },
  {
   "attachments": {},
   "cell_type": "markdown",
   "metadata": {},
   "source": [
    "## **_Univariate Analysis: `movie_title`_**"
   ]
  },
  {
   "attachments": {},
   "cell_type": "markdown",
   "metadata": {},
   "source": [
    "### **Statistical View**"
   ]
  },
  {
   "cell_type": "code",
   "execution_count": 63,
   "metadata": {},
   "outputs": [
    {
     "data": {
      "text/plain": [
       "count                                             20547\n",
       "unique                                            16572\n",
       "top       The Girl Who Escaped: The Kara Robinson Story\n",
       "freq                                                402\n",
       "Name: movie_title, dtype: object"
      ]
     },
     "execution_count": 63,
     "metadata": {},
     "output_type": "execute_result"
    }
   ],
   "source": [
    "# Checking statistics:\n",
    "pirated_films['movie_title'].describe()"
   ]
  },
  {
   "attachments": {},
   "cell_type": "markdown",
   "metadata": {},
   "source": [
    "With the describe method, we can have a first look at the `movie_title` variable and see some statistical information:\n",
    "\n",
    "- Of the 20.547 entries in the dataset, we have **16.572** unique movie titles and 3.975 entries that contains the same movie title;\n",
    "\n",
    "- The data point that is most occuring in this variable, is the movie title for **_The Girl Who Escaped: The Kara Robinson Story_**, showing up 402 times in the dataset.\n",
    "\n",
    "We can check all of these registries containg the same movie title to see what is the reason for that happening:"
   ]
  },
  {
   "cell_type": "code",
   "execution_count": 64,
   "metadata": {},
   "outputs": [
    {
     "data": {
      "text/html": [
       "<div>\n",
       "<style scoped>\n",
       "    .dataframe tbody tr th:only-of-type {\n",
       "        vertical-align: middle;\n",
       "    }\n",
       "\n",
       "    .dataframe tbody tr th {\n",
       "        vertical-align: top;\n",
       "    }\n",
       "\n",
       "    .dataframe thead th {\n",
       "        text-align: right;\n",
       "    }\n",
       "</style>\n",
       "<table border=\"1\" class=\"dataframe\">\n",
       "  <thead>\n",
       "    <tr style=\"text-align: right;\">\n",
       "      <th></th>\n",
       "      <th>movie_title</th>\n",
       "      <th>film_director</th>\n",
       "      <th>industry</th>\n",
       "      <th>available_langs</th>\n",
       "      <th>run_time_min</th>\n",
       "      <th>imdb_user_rating</th>\n",
       "      <th>worldwide_release</th>\n",
       "      <th>platform_post_date</th>\n",
       "      <th>days_to_piracy</th>\n",
       "      <th>avg_views_per_download</th>\n",
       "      <th>avg_downloads_per_day</th>\n",
       "      <th>downloads</th>\n",
       "      <th>total_views</th>\n",
       "    </tr>\n",
       "  </thead>\n",
       "  <tbody>\n",
       "    <tr>\n",
       "      <th>28</th>\n",
       "      <td>The Girl Who Escaped: The Kara Robinson Story</td>\n",
       "      <td>Simone Stock</td>\n",
       "      <td>Hollywood / English</td>\n",
       "      <td>English</td>\n",
       "      <td>88</td>\n",
       "      <td>6.6</td>\n",
       "      <td>2023-02-11</td>\n",
       "      <td>2023-02-15</td>\n",
       "      <td>4</td>\n",
       "      <td>9.776316</td>\n",
       "      <td>190.0</td>\n",
       "      <td>760</td>\n",
       "      <td>7430</td>\n",
       "    </tr>\n",
       "    <tr>\n",
       "      <th>40</th>\n",
       "      <td>The Girl Who Escaped: The Kara Robinson Story</td>\n",
       "      <td>Simone Stock</td>\n",
       "      <td>Hollywood / English</td>\n",
       "      <td>English</td>\n",
       "      <td>88</td>\n",
       "      <td>6.6</td>\n",
       "      <td>2023-02-11</td>\n",
       "      <td>2023-02-15</td>\n",
       "      <td>4</td>\n",
       "      <td>9.777632</td>\n",
       "      <td>190.0</td>\n",
       "      <td>760</td>\n",
       "      <td>7431</td>\n",
       "    </tr>\n",
       "    <tr>\n",
       "      <th>84</th>\n",
       "      <td>The Girl Who Escaped: The Kara Robinson Story</td>\n",
       "      <td>Simone Stock</td>\n",
       "      <td>Hollywood / English</td>\n",
       "      <td>English</td>\n",
       "      <td>88</td>\n",
       "      <td>6.6</td>\n",
       "      <td>2023-02-11</td>\n",
       "      <td>2023-02-15</td>\n",
       "      <td>4</td>\n",
       "      <td>9.778947</td>\n",
       "      <td>190.0</td>\n",
       "      <td>760</td>\n",
       "      <td>7432</td>\n",
       "    </tr>\n",
       "    <tr>\n",
       "      <th>128</th>\n",
       "      <td>The Girl Who Escaped: The Kara Robinson Story</td>\n",
       "      <td>Simone Stock</td>\n",
       "      <td>Hollywood / English</td>\n",
       "      <td>English</td>\n",
       "      <td>88</td>\n",
       "      <td>6.6</td>\n",
       "      <td>2023-02-11</td>\n",
       "      <td>2023-02-15</td>\n",
       "      <td>4</td>\n",
       "      <td>9.780263</td>\n",
       "      <td>190.0</td>\n",
       "      <td>760</td>\n",
       "      <td>7433</td>\n",
       "    </tr>\n",
       "    <tr>\n",
       "      <th>172</th>\n",
       "      <td>The Girl Who Escaped: The Kara Robinson Story</td>\n",
       "      <td>Simone Stock</td>\n",
       "      <td>Hollywood / English</td>\n",
       "      <td>English</td>\n",
       "      <td>88</td>\n",
       "      <td>6.6</td>\n",
       "      <td>2023-02-11</td>\n",
       "      <td>2023-02-15</td>\n",
       "      <td>4</td>\n",
       "      <td>9.781579</td>\n",
       "      <td>190.0</td>\n",
       "      <td>760</td>\n",
       "      <td>7434</td>\n",
       "    </tr>\n",
       "    <tr>\n",
       "      <th>216</th>\n",
       "      <td>The Girl Who Escaped: The Kara Robinson Story</td>\n",
       "      <td>Simone Stock</td>\n",
       "      <td>Hollywood / English</td>\n",
       "      <td>English</td>\n",
       "      <td>88</td>\n",
       "      <td>6.6</td>\n",
       "      <td>2023-02-11</td>\n",
       "      <td>2023-02-15</td>\n",
       "      <td>4</td>\n",
       "      <td>9.784211</td>\n",
       "      <td>190.0</td>\n",
       "      <td>760</td>\n",
       "      <td>7436</td>\n",
       "    </tr>\n",
       "    <tr>\n",
       "      <th>260</th>\n",
       "      <td>The Girl Who Escaped: The Kara Robinson Story</td>\n",
       "      <td>Simone Stock</td>\n",
       "      <td>Hollywood / English</td>\n",
       "      <td>English</td>\n",
       "      <td>88</td>\n",
       "      <td>6.6</td>\n",
       "      <td>2023-02-11</td>\n",
       "      <td>2023-02-15</td>\n",
       "      <td>4</td>\n",
       "      <td>9.785526</td>\n",
       "      <td>190.0</td>\n",
       "      <td>760</td>\n",
       "      <td>7437</td>\n",
       "    </tr>\n",
       "    <tr>\n",
       "      <th>304</th>\n",
       "      <td>The Girl Who Escaped: The Kara Robinson Story</td>\n",
       "      <td>Simone Stock</td>\n",
       "      <td>Hollywood / English</td>\n",
       "      <td>English</td>\n",
       "      <td>88</td>\n",
       "      <td>6.6</td>\n",
       "      <td>2023-02-11</td>\n",
       "      <td>2023-02-15</td>\n",
       "      <td>4</td>\n",
       "      <td>9.786842</td>\n",
       "      <td>190.0</td>\n",
       "      <td>760</td>\n",
       "      <td>7438</td>\n",
       "    </tr>\n",
       "    <tr>\n",
       "      <th>348</th>\n",
       "      <td>The Girl Who Escaped: The Kara Robinson Story</td>\n",
       "      <td>Simone Stock</td>\n",
       "      <td>Hollywood / English</td>\n",
       "      <td>English</td>\n",
       "      <td>88</td>\n",
       "      <td>6.6</td>\n",
       "      <td>2023-02-11</td>\n",
       "      <td>2023-02-15</td>\n",
       "      <td>4</td>\n",
       "      <td>9.789474</td>\n",
       "      <td>190.0</td>\n",
       "      <td>760</td>\n",
       "      <td>7440</td>\n",
       "    </tr>\n",
       "    <tr>\n",
       "      <th>392</th>\n",
       "      <td>The Girl Who Escaped: The Kara Robinson Story</td>\n",
       "      <td>Simone Stock</td>\n",
       "      <td>Hollywood / English</td>\n",
       "      <td>English</td>\n",
       "      <td>88</td>\n",
       "      <td>6.6</td>\n",
       "      <td>2023-02-11</td>\n",
       "      <td>2023-02-15</td>\n",
       "      <td>4</td>\n",
       "      <td>9.790789</td>\n",
       "      <td>190.0</td>\n",
       "      <td>760</td>\n",
       "      <td>7441</td>\n",
       "    </tr>\n",
       "  </tbody>\n",
       "</table>\n",
       "</div>"
      ],
      "text/plain": [
       "                                       movie_title film_director  \\\n",
       "28   The Girl Who Escaped: The Kara Robinson Story  Simone Stock   \n",
       "40   The Girl Who Escaped: The Kara Robinson Story  Simone Stock   \n",
       "84   The Girl Who Escaped: The Kara Robinson Story  Simone Stock   \n",
       "128  The Girl Who Escaped: The Kara Robinson Story  Simone Stock   \n",
       "172  The Girl Who Escaped: The Kara Robinson Story  Simone Stock   \n",
       "216  The Girl Who Escaped: The Kara Robinson Story  Simone Stock   \n",
       "260  The Girl Who Escaped: The Kara Robinson Story  Simone Stock   \n",
       "304  The Girl Who Escaped: The Kara Robinson Story  Simone Stock   \n",
       "348  The Girl Who Escaped: The Kara Robinson Story  Simone Stock   \n",
       "392  The Girl Who Escaped: The Kara Robinson Story  Simone Stock   \n",
       "\n",
       "                industry available_langs  run_time_min  imdb_user_rating  \\\n",
       "28   Hollywood / English         English            88               6.6   \n",
       "40   Hollywood / English         English            88               6.6   \n",
       "84   Hollywood / English         English            88               6.6   \n",
       "128  Hollywood / English         English            88               6.6   \n",
       "172  Hollywood / English         English            88               6.6   \n",
       "216  Hollywood / English         English            88               6.6   \n",
       "260  Hollywood / English         English            88               6.6   \n",
       "304  Hollywood / English         English            88               6.6   \n",
       "348  Hollywood / English         English            88               6.6   \n",
       "392  Hollywood / English         English            88               6.6   \n",
       "\n",
       "    worldwide_release platform_post_date  days_to_piracy  \\\n",
       "28         2023-02-11         2023-02-15               4   \n",
       "40         2023-02-11         2023-02-15               4   \n",
       "84         2023-02-11         2023-02-15               4   \n",
       "128        2023-02-11         2023-02-15               4   \n",
       "172        2023-02-11         2023-02-15               4   \n",
       "216        2023-02-11         2023-02-15               4   \n",
       "260        2023-02-11         2023-02-15               4   \n",
       "304        2023-02-11         2023-02-15               4   \n",
       "348        2023-02-11         2023-02-15               4   \n",
       "392        2023-02-11         2023-02-15               4   \n",
       "\n",
       "     avg_views_per_download  avg_downloads_per_day  downloads  total_views  \n",
       "28                 9.776316                  190.0        760         7430  \n",
       "40                 9.777632                  190.0        760         7431  \n",
       "84                 9.778947                  190.0        760         7432  \n",
       "128                9.780263                  190.0        760         7433  \n",
       "172                9.781579                  190.0        760         7434  \n",
       "216                9.784211                  190.0        760         7436  \n",
       "260                9.785526                  190.0        760         7437  \n",
       "304                9.786842                  190.0        760         7438  \n",
       "348                9.789474                  190.0        760         7440  \n",
       "392                9.790789                  190.0        760         7441  "
      ]
     },
     "execution_count": 64,
     "metadata": {},
     "output_type": "execute_result"
    }
   ],
   "source": [
    "# Checking reocurring movie title:\n",
    "pirated_films.query('movie_title == \"The Girl Who Escaped: The Kara Robinson Story\"').head(10)"
   ]
  },
  {
   "cell_type": "code",
   "execution_count": 65,
   "metadata": {},
   "outputs": [
    {
     "data": {
      "text/html": [
       "<div>\n",
       "<style scoped>\n",
       "    .dataframe tbody tr th:only-of-type {\n",
       "        vertical-align: middle;\n",
       "    }\n",
       "\n",
       "    .dataframe tbody tr th {\n",
       "        vertical-align: top;\n",
       "    }\n",
       "\n",
       "    .dataframe thead th {\n",
       "        text-align: right;\n",
       "    }\n",
       "</style>\n",
       "<table border=\"1\" class=\"dataframe\">\n",
       "  <thead>\n",
       "    <tr style=\"text-align: right;\">\n",
       "      <th></th>\n",
       "      <th>movie_title</th>\n",
       "      <th>film_director</th>\n",
       "      <th>industry</th>\n",
       "      <th>available_langs</th>\n",
       "      <th>run_time_min</th>\n",
       "      <th>imdb_user_rating</th>\n",
       "      <th>worldwide_release</th>\n",
       "      <th>platform_post_date</th>\n",
       "      <th>days_to_piracy</th>\n",
       "      <th>avg_views_per_download</th>\n",
       "      <th>avg_downloads_per_day</th>\n",
       "      <th>downloads</th>\n",
       "      <th>total_views</th>\n",
       "    </tr>\n",
       "  </thead>\n",
       "  <tbody>\n",
       "    <tr>\n",
       "      <th>17240</th>\n",
       "      <td>The Girl Who Escaped: The Kara Robinson Story</td>\n",
       "      <td>Simone Stock</td>\n",
       "      <td>Hollywood / English</td>\n",
       "      <td>English</td>\n",
       "      <td>88</td>\n",
       "      <td>6.6</td>\n",
       "      <td>2023-02-11</td>\n",
       "      <td>2023-02-15</td>\n",
       "      <td>4</td>\n",
       "      <td>10.287206</td>\n",
       "      <td>191.50</td>\n",
       "      <td>766</td>\n",
       "      <td>7880</td>\n",
       "    </tr>\n",
       "    <tr>\n",
       "      <th>17284</th>\n",
       "      <td>The Girl Who Escaped: The Kara Robinson Story</td>\n",
       "      <td>Simone Stock</td>\n",
       "      <td>Hollywood / English</td>\n",
       "      <td>English</td>\n",
       "      <td>88</td>\n",
       "      <td>6.6</td>\n",
       "      <td>2023-02-11</td>\n",
       "      <td>2023-02-15</td>\n",
       "      <td>4</td>\n",
       "      <td>10.288512</td>\n",
       "      <td>191.50</td>\n",
       "      <td>766</td>\n",
       "      <td>7881</td>\n",
       "    </tr>\n",
       "    <tr>\n",
       "      <th>17328</th>\n",
       "      <td>The Girl Who Escaped: The Kara Robinson Story</td>\n",
       "      <td>Simone Stock</td>\n",
       "      <td>Hollywood / English</td>\n",
       "      <td>English</td>\n",
       "      <td>88</td>\n",
       "      <td>6.6</td>\n",
       "      <td>2023-02-11</td>\n",
       "      <td>2023-02-15</td>\n",
       "      <td>4</td>\n",
       "      <td>10.292428</td>\n",
       "      <td>191.50</td>\n",
       "      <td>766</td>\n",
       "      <td>7884</td>\n",
       "    </tr>\n",
       "    <tr>\n",
       "      <th>17372</th>\n",
       "      <td>The Girl Who Escaped: The Kara Robinson Story</td>\n",
       "      <td>Simone Stock</td>\n",
       "      <td>Hollywood / English</td>\n",
       "      <td>English</td>\n",
       "      <td>88</td>\n",
       "      <td>6.6</td>\n",
       "      <td>2023-02-11</td>\n",
       "      <td>2023-02-15</td>\n",
       "      <td>4</td>\n",
       "      <td>10.297650</td>\n",
       "      <td>191.50</td>\n",
       "      <td>766</td>\n",
       "      <td>7888</td>\n",
       "    </tr>\n",
       "    <tr>\n",
       "      <th>17416</th>\n",
       "      <td>The Girl Who Escaped: The Kara Robinson Story</td>\n",
       "      <td>Simone Stock</td>\n",
       "      <td>Hollywood / English</td>\n",
       "      <td>English</td>\n",
       "      <td>88</td>\n",
       "      <td>6.6</td>\n",
       "      <td>2023-02-11</td>\n",
       "      <td>2023-02-15</td>\n",
       "      <td>4</td>\n",
       "      <td>10.298956</td>\n",
       "      <td>191.50</td>\n",
       "      <td>766</td>\n",
       "      <td>7889</td>\n",
       "    </tr>\n",
       "    <tr>\n",
       "      <th>17460</th>\n",
       "      <td>The Girl Who Escaped: The Kara Robinson Story</td>\n",
       "      <td>Simone Stock</td>\n",
       "      <td>Hollywood / English</td>\n",
       "      <td>English</td>\n",
       "      <td>88</td>\n",
       "      <td>6.6</td>\n",
       "      <td>2023-02-11</td>\n",
       "      <td>2023-02-15</td>\n",
       "      <td>4</td>\n",
       "      <td>10.300261</td>\n",
       "      <td>191.50</td>\n",
       "      <td>766</td>\n",
       "      <td>7890</td>\n",
       "    </tr>\n",
       "    <tr>\n",
       "      <th>17504</th>\n",
       "      <td>The Girl Who Escaped: The Kara Robinson Story</td>\n",
       "      <td>Simone Stock</td>\n",
       "      <td>Hollywood / English</td>\n",
       "      <td>English</td>\n",
       "      <td>88</td>\n",
       "      <td>6.6</td>\n",
       "      <td>2023-02-11</td>\n",
       "      <td>2023-02-15</td>\n",
       "      <td>4</td>\n",
       "      <td>10.293351</td>\n",
       "      <td>191.75</td>\n",
       "      <td>767</td>\n",
       "      <td>7895</td>\n",
       "    </tr>\n",
       "    <tr>\n",
       "      <th>17548</th>\n",
       "      <td>The Girl Who Escaped: The Kara Robinson Story</td>\n",
       "      <td>Simone Stock</td>\n",
       "      <td>Hollywood / English</td>\n",
       "      <td>English</td>\n",
       "      <td>88</td>\n",
       "      <td>6.6</td>\n",
       "      <td>2023-02-11</td>\n",
       "      <td>2023-02-15</td>\n",
       "      <td>4</td>\n",
       "      <td>10.295958</td>\n",
       "      <td>191.75</td>\n",
       "      <td>767</td>\n",
       "      <td>7897</td>\n",
       "    </tr>\n",
       "    <tr>\n",
       "      <th>17592</th>\n",
       "      <td>The Girl Who Escaped: The Kara Robinson Story</td>\n",
       "      <td>Simone Stock</td>\n",
       "      <td>Hollywood / English</td>\n",
       "      <td>English</td>\n",
       "      <td>88</td>\n",
       "      <td>6.6</td>\n",
       "      <td>2023-02-11</td>\n",
       "      <td>2023-02-15</td>\n",
       "      <td>4</td>\n",
       "      <td>10.297262</td>\n",
       "      <td>191.75</td>\n",
       "      <td>767</td>\n",
       "      <td>7898</td>\n",
       "    </tr>\n",
       "    <tr>\n",
       "      <th>17636</th>\n",
       "      <td>The Girl Who Escaped: The Kara Robinson Story</td>\n",
       "      <td>Simone Stock</td>\n",
       "      <td>Hollywood / English</td>\n",
       "      <td>English</td>\n",
       "      <td>88</td>\n",
       "      <td>6.6</td>\n",
       "      <td>2023-02-11</td>\n",
       "      <td>2023-02-15</td>\n",
       "      <td>4</td>\n",
       "      <td>10.298566</td>\n",
       "      <td>191.75</td>\n",
       "      <td>767</td>\n",
       "      <td>7899</td>\n",
       "    </tr>\n",
       "  </tbody>\n",
       "</table>\n",
       "</div>"
      ],
      "text/plain": [
       "                                         movie_title film_director  \\\n",
       "17240  The Girl Who Escaped: The Kara Robinson Story  Simone Stock   \n",
       "17284  The Girl Who Escaped: The Kara Robinson Story  Simone Stock   \n",
       "17328  The Girl Who Escaped: The Kara Robinson Story  Simone Stock   \n",
       "17372  The Girl Who Escaped: The Kara Robinson Story  Simone Stock   \n",
       "17416  The Girl Who Escaped: The Kara Robinson Story  Simone Stock   \n",
       "17460  The Girl Who Escaped: The Kara Robinson Story  Simone Stock   \n",
       "17504  The Girl Who Escaped: The Kara Robinson Story  Simone Stock   \n",
       "17548  The Girl Who Escaped: The Kara Robinson Story  Simone Stock   \n",
       "17592  The Girl Who Escaped: The Kara Robinson Story  Simone Stock   \n",
       "17636  The Girl Who Escaped: The Kara Robinson Story  Simone Stock   \n",
       "\n",
       "                  industry available_langs  run_time_min  imdb_user_rating  \\\n",
       "17240  Hollywood / English         English            88               6.6   \n",
       "17284  Hollywood / English         English            88               6.6   \n",
       "17328  Hollywood / English         English            88               6.6   \n",
       "17372  Hollywood / English         English            88               6.6   \n",
       "17416  Hollywood / English         English            88               6.6   \n",
       "17460  Hollywood / English         English            88               6.6   \n",
       "17504  Hollywood / English         English            88               6.6   \n",
       "17548  Hollywood / English         English            88               6.6   \n",
       "17592  Hollywood / English         English            88               6.6   \n",
       "17636  Hollywood / English         English            88               6.6   \n",
       "\n",
       "      worldwide_release platform_post_date  days_to_piracy  \\\n",
       "17240        2023-02-11         2023-02-15               4   \n",
       "17284        2023-02-11         2023-02-15               4   \n",
       "17328        2023-02-11         2023-02-15               4   \n",
       "17372        2023-02-11         2023-02-15               4   \n",
       "17416        2023-02-11         2023-02-15               4   \n",
       "17460        2023-02-11         2023-02-15               4   \n",
       "17504        2023-02-11         2023-02-15               4   \n",
       "17548        2023-02-11         2023-02-15               4   \n",
       "17592        2023-02-11         2023-02-15               4   \n",
       "17636        2023-02-11         2023-02-15               4   \n",
       "\n",
       "       avg_views_per_download  avg_downloads_per_day  downloads  total_views  \n",
       "17240               10.287206                 191.50        766         7880  \n",
       "17284               10.288512                 191.50        766         7881  \n",
       "17328               10.292428                 191.50        766         7884  \n",
       "17372               10.297650                 191.50        766         7888  \n",
       "17416               10.298956                 191.50        766         7889  \n",
       "17460               10.300261                 191.50        766         7890  \n",
       "17504               10.293351                 191.75        767         7895  \n",
       "17548               10.295958                 191.75        767         7897  \n",
       "17592               10.297262                 191.75        767         7898  \n",
       "17636               10.298566                 191.75        767         7899  "
      ]
     },
     "execution_count": 65,
     "metadata": {},
     "output_type": "execute_result"
    }
   ],
   "source": [
    "# Checking the last entries for this film:\n",
    "pirated_films.query('movie_title == \"The Girl Who Escaped: The Kara Robinson Story\"').tail(10)"
   ]
  },
  {
   "attachments": {},
   "cell_type": "markdown",
   "metadata": {},
   "source": [
    "After checking the first and last 10 entries for this movie title, it appears that each time the movie received a new view (sometimes after receiving a few more views, such as 5 or 3), a new entry was registered in the database. \n",
    "\n",
    "This is not ideal, as it will affect all subsequent analyses. We have identified that this is due to a new record being created in the database for each new view. Therefore, we will drop all entries except the last one, which contains the most recent number of total views. This will allow us to continue the analysis using this film and ensure that we are utilizing the most recent data for this record.\n",
    "\n",
    "As we know the latest record of this film contains 7.899 views, we can use this information to drop all other rows except this one."
   ]
  },
  {
   "cell_type": "code",
   "execution_count": 66,
   "metadata": {},
   "outputs": [],
   "source": [
    "# Defining rows to drop:\n",
    "rows_to_drop = pirated_films.query('movie_title == \"The Girl Who Escaped: The Kara Robinson Story\" & total_views != 7899')\n",
    "\n",
    "# Dropping:\n",
    "pirated_films = pirated_films.drop(rows_to_drop.index)"
   ]
  },
  {
   "cell_type": "code",
   "execution_count": 67,
   "metadata": {},
   "outputs": [
    {
     "data": {
      "text/html": [
       "<div>\n",
       "<style scoped>\n",
       "    .dataframe tbody tr th:only-of-type {\n",
       "        vertical-align: middle;\n",
       "    }\n",
       "\n",
       "    .dataframe tbody tr th {\n",
       "        vertical-align: top;\n",
       "    }\n",
       "\n",
       "    .dataframe thead th {\n",
       "        text-align: right;\n",
       "    }\n",
       "</style>\n",
       "<table border=\"1\" class=\"dataframe\">\n",
       "  <thead>\n",
       "    <tr style=\"text-align: right;\">\n",
       "      <th></th>\n",
       "      <th>movie_title</th>\n",
       "      <th>film_director</th>\n",
       "      <th>industry</th>\n",
       "      <th>available_langs</th>\n",
       "      <th>run_time_min</th>\n",
       "      <th>imdb_user_rating</th>\n",
       "      <th>worldwide_release</th>\n",
       "      <th>platform_post_date</th>\n",
       "      <th>days_to_piracy</th>\n",
       "      <th>avg_views_per_download</th>\n",
       "      <th>avg_downloads_per_day</th>\n",
       "      <th>downloads</th>\n",
       "      <th>total_views</th>\n",
       "    </tr>\n",
       "  </thead>\n",
       "  <tbody>\n",
       "    <tr>\n",
       "      <th>17636</th>\n",
       "      <td>The Girl Who Escaped: The Kara Robinson Story</td>\n",
       "      <td>Simone Stock</td>\n",
       "      <td>Hollywood / English</td>\n",
       "      <td>English</td>\n",
       "      <td>88</td>\n",
       "      <td>6.6</td>\n",
       "      <td>2023-02-11</td>\n",
       "      <td>2023-02-15</td>\n",
       "      <td>4</td>\n",
       "      <td>10.298566</td>\n",
       "      <td>191.75</td>\n",
       "      <td>767</td>\n",
       "      <td>7899</td>\n",
       "    </tr>\n",
       "  </tbody>\n",
       "</table>\n",
       "</div>"
      ],
      "text/plain": [
       "                                         movie_title film_director  \\\n",
       "17636  The Girl Who Escaped: The Kara Robinson Story  Simone Stock   \n",
       "\n",
       "                  industry available_langs  run_time_min  imdb_user_rating  \\\n",
       "17636  Hollywood / English         English            88               6.6   \n",
       "\n",
       "      worldwide_release platform_post_date  days_to_piracy  \\\n",
       "17636        2023-02-11         2023-02-15               4   \n",
       "\n",
       "       avg_views_per_download  avg_downloads_per_day  downloads  total_views  \n",
       "17636               10.298566                 191.75        767         7899  "
      ]
     },
     "execution_count": 67,
     "metadata": {},
     "output_type": "execute_result"
    }
   ],
   "source": [
    "# Checking entries for this film:\n",
    "pirated_films.query('movie_title == \"The Girl Who Escaped: The Kara Robinson Story\"')"
   ]
  },
  {
   "attachments": {},
   "cell_type": "markdown",
   "metadata": {},
   "source": [
    "Let's check the statistics again."
   ]
  },
  {
   "cell_type": "code",
   "execution_count": 68,
   "metadata": {},
   "outputs": [
    {
     "data": {
      "text/plain": [
       "count      20146\n",
       "unique     16572\n",
       "top       Vaathi\n",
       "freq         402\n",
       "Name: movie_title, dtype: object"
      ]
     },
     "execution_count": 68,
     "metadata": {},
     "output_type": "execute_result"
    }
   ],
   "source": [
    "# Checking statistics:\n",
    "pirated_films['movie_title'].describe()"
   ]
  },
  {
   "attachments": {},
   "cell_type": "markdown",
   "metadata": {},
   "source": [
    "We can see that we have the same situation happening again, where the same movie is present multiple times in the dataset only changing the number of views. Lets identify all movie titles that show up in our dataset more than 1 time:"
   ]
  },
  {
   "cell_type": "code",
   "execution_count": 69,
   "metadata": {},
   "outputs": [],
   "source": [
    "# group the data by movie_title and count the number of occurrences\n",
    "grouped = (pirated_films\n",
    "           .groupby('movie_title')\n",
    "           .size()\n",
    "           .sort_values(ascending=False))\n",
    "\n",
    "# Creating a new dataframe with the movie_title counts:\n",
    "df = pd.DataFrame({'movie_title': grouped.index, \n",
    "                   'count': grouped.values})"
   ]
  },
  {
   "cell_type": "code",
   "execution_count": 70,
   "metadata": {},
   "outputs": [
    {
     "data": {
      "text/html": [
       "<div>\n",
       "<style scoped>\n",
       "    .dataframe tbody tr th:only-of-type {\n",
       "        vertical-align: middle;\n",
       "    }\n",
       "\n",
       "    .dataframe tbody tr th {\n",
       "        vertical-align: top;\n",
       "    }\n",
       "\n",
       "    .dataframe thead th {\n",
       "        text-align: right;\n",
       "    }\n",
       "</style>\n",
       "<table border=\"1\" class=\"dataframe\">\n",
       "  <thead>\n",
       "    <tr style=\"text-align: right;\">\n",
       "      <th></th>\n",
       "      <th>movie_title</th>\n",
       "      <th>count</th>\n",
       "    </tr>\n",
       "  </thead>\n",
       "  <tbody>\n",
       "    <tr>\n",
       "      <th>0</th>\n",
       "      <td>Who Invited Charlie?</td>\n",
       "      <td>402</td>\n",
       "    </tr>\n",
       "    <tr>\n",
       "      <th>1</th>\n",
       "      <td>Vaathi</td>\n",
       "      <td>402</td>\n",
       "    </tr>\n",
       "    <tr>\n",
       "      <th>2</th>\n",
       "      <td>Consent</td>\n",
       "      <td>202</td>\n",
       "    </tr>\n",
       "    <tr>\n",
       "      <th>3</th>\n",
       "      <td>WWE Smackdown 2023-02-10</td>\n",
       "      <td>202</td>\n",
       "    </tr>\n",
       "    <tr>\n",
       "      <th>4</th>\n",
       "      <td>Vacation Home Nightmare</td>\n",
       "      <td>202</td>\n",
       "    </tr>\n",
       "    <tr>\n",
       "      <th>...</th>\n",
       "      <td>...</td>\n",
       "      <td>...</td>\n",
       "    </tr>\n",
       "    <tr>\n",
       "      <th>539</th>\n",
       "      <td>Trishna</td>\n",
       "      <td>2</td>\n",
       "    </tr>\n",
       "    <tr>\n",
       "      <th>540</th>\n",
       "      <td>Wonder Woman</td>\n",
       "      <td>2</td>\n",
       "    </tr>\n",
       "    <tr>\n",
       "      <th>541</th>\n",
       "      <td>Premature</td>\n",
       "      <td>2</td>\n",
       "    </tr>\n",
       "    <tr>\n",
       "      <th>542</th>\n",
       "      <td>Enemy</td>\n",
       "      <td>2</td>\n",
       "    </tr>\n",
       "    <tr>\n",
       "      <th>543</th>\n",
       "      <td>Don't Look Up</td>\n",
       "      <td>2</td>\n",
       "    </tr>\n",
       "  </tbody>\n",
       "</table>\n",
       "<p>544 rows × 2 columns</p>\n",
       "</div>"
      ],
      "text/plain": [
       "                  movie_title  count\n",
       "0        Who Invited Charlie?    402\n",
       "1                      Vaathi    402\n",
       "2                     Consent    202\n",
       "3    WWE Smackdown 2023-02-10    202\n",
       "4     Vacation Home Nightmare    202\n",
       "..                        ...    ...\n",
       "539                   Trishna      2\n",
       "540              Wonder Woman      2\n",
       "541                 Premature      2\n",
       "542                     Enemy      2\n",
       "543             Don't Look Up      2\n",
       "\n",
       "[544 rows x 2 columns]"
      ]
     },
     "execution_count": 70,
     "metadata": {},
     "output_type": "execute_result"
    }
   ],
   "source": [
    "# Checking:\n",
    "df.query('count > 1')"
   ]
  },
  {
   "attachments": {},
   "cell_type": "markdown",
   "metadata": {},
   "source": [
    "We have 544 titles that show up more than one time in the dataset, considering that some movies contain the same name but are diferent, let's only worry about about the clear ouliers in this case, mainly the movies that show up hundreds of times."
   ]
  },
  {
   "cell_type": "code",
   "execution_count": 71,
   "metadata": {},
   "outputs": [
    {
     "data": {
      "text/html": [
       "<div>\n",
       "<style scoped>\n",
       "    .dataframe tbody tr th:only-of-type {\n",
       "        vertical-align: middle;\n",
       "    }\n",
       "\n",
       "    .dataframe tbody tr th {\n",
       "        vertical-align: top;\n",
       "    }\n",
       "\n",
       "    .dataframe thead th {\n",
       "        text-align: right;\n",
       "    }\n",
       "</style>\n",
       "<table border=\"1\" class=\"dataframe\">\n",
       "  <thead>\n",
       "    <tr style=\"text-align: right;\">\n",
       "      <th></th>\n",
       "      <th>movie_title</th>\n",
       "      <th>count</th>\n",
       "    </tr>\n",
       "  </thead>\n",
       "  <tbody>\n",
       "    <tr>\n",
       "      <th>0</th>\n",
       "      <td>Who Invited Charlie?</td>\n",
       "      <td>402</td>\n",
       "    </tr>\n",
       "    <tr>\n",
       "      <th>1</th>\n",
       "      <td>Vaathi</td>\n",
       "      <td>402</td>\n",
       "    </tr>\n",
       "    <tr>\n",
       "      <th>2</th>\n",
       "      <td>Consent</td>\n",
       "      <td>202</td>\n",
       "    </tr>\n",
       "    <tr>\n",
       "      <th>3</th>\n",
       "      <td>WWE Smackdown 2023-02-10</td>\n",
       "      <td>202</td>\n",
       "    </tr>\n",
       "    <tr>\n",
       "      <th>4</th>\n",
       "      <td>Vacation Home Nightmare</td>\n",
       "      <td>202</td>\n",
       "    </tr>\n",
       "    <tr>\n",
       "      <th>5</th>\n",
       "      <td>Little Dixie</td>\n",
       "      <td>202</td>\n",
       "    </tr>\n",
       "    <tr>\n",
       "      <th>6</th>\n",
       "      <td>The Inspection</td>\n",
       "      <td>202</td>\n",
       "    </tr>\n",
       "    <tr>\n",
       "      <th>7</th>\n",
       "      <td>Marlowe</td>\n",
       "      <td>201</td>\n",
       "    </tr>\n",
       "    <tr>\n",
       "      <th>8</th>\n",
       "      <td>Baby Ruby</td>\n",
       "      <td>201</td>\n",
       "    </tr>\n",
       "    <tr>\n",
       "      <th>9</th>\n",
       "      <td>Shehzada</td>\n",
       "      <td>201</td>\n",
       "    </tr>\n",
       "    <tr>\n",
       "      <th>10</th>\n",
       "      <td>Your Place or Mine</td>\n",
       "      <td>201</td>\n",
       "    </tr>\n",
       "    <tr>\n",
       "      <th>11</th>\n",
       "      <td>Carnifex</td>\n",
       "      <td>201</td>\n",
       "    </tr>\n",
       "    <tr>\n",
       "      <th>12</th>\n",
       "      <td>WWE Raw 2023-02-13</td>\n",
       "      <td>78</td>\n",
       "    </tr>\n",
       "    <tr>\n",
       "      <th>13</th>\n",
       "      <td>TNA.Impact 2023-02-09</td>\n",
       "      <td>78</td>\n",
       "    </tr>\n",
       "  </tbody>\n",
       "</table>\n",
       "</div>"
      ],
      "text/plain": [
       "                 movie_title  count\n",
       "0       Who Invited Charlie?    402\n",
       "1                     Vaathi    402\n",
       "2                    Consent    202\n",
       "3   WWE Smackdown 2023-02-10    202\n",
       "4    Vacation Home Nightmare    202\n",
       "5               Little Dixie    202\n",
       "6             The Inspection    202\n",
       "7                    Marlowe    201\n",
       "8                  Baby Ruby    201\n",
       "9                   Shehzada    201\n",
       "10        Your Place or Mine    201\n",
       "11                  Carnifex    201\n",
       "12        WWE Raw 2023-02-13     78\n",
       "13     TNA.Impact 2023-02-09     78"
      ]
     },
     "execution_count": 71,
     "metadata": {},
     "output_type": "execute_result"
    }
   ],
   "source": [
    "# Checking movies that show up more than 50 times:\n",
    "df.query('count > 50')"
   ]
  },
  {
   "attachments": {},
   "cell_type": "markdown",
   "metadata": {},
   "source": [
    "For all of these titles, we have to do the same procedure as before, excluding all entries except the last one that contains the most updated number of total_views. Luckily there is a pattern that can be easily observed with all this unecessary entries:\n",
    "\n",
    "- All variables contain the same values (are duplicates), except the last 4 variables (`avg_views_per_download`, `avg_downloads_per_day`, `downloads`, `total_views`) that change because each entry adds one or more to the `total_views` variable, wich influences all other 3 variables.\n",
    "\n",
    "Because of this pattern, we can drop all rows were the variables are duplicates and only the last 4 ones change. Basically the same procedure we did above for the ***The Girl Who Escaped: The Kara Robinson Story*** movie, but this time for all of the movie titles that we identified in the list above showing up more than 50 times in the dataset."
   ]
  },
  {
   "cell_type": "code",
   "execution_count": 72,
   "metadata": {},
   "outputs": [],
   "source": [
    "# Sorting dataset by the total_views:\n",
    "pirated_films = pirated_films.sort_values(by=['total_views'], ascending=False)\n",
    "\n",
    "# Dropping duplicates:\n",
    "pirated_films = pirated_films.drop_duplicates(subset=pirated_films.columns[:-4], keep='first')"
   ]
  },
  {
   "attachments": {},
   "cell_type": "markdown",
   "metadata": {},
   "source": [
    "Here we've done the following:\n",
    "\n",
    "- Sorted our dataset by the `total_views` column in Descending order (highest to lowest).\n",
    "\n",
    "- We dropped all entries that contains the same values for all columns except the last 4, we drop all rows and keep only the first that contains the most recent total_views value (the highest, since we sorted the dateset in Descending order).\n",
    "\n",
    "Let's check the shape of the dataset again."
   ]
  },
  {
   "cell_type": "code",
   "execution_count": 73,
   "metadata": {},
   "outputs": [
    {
     "data": {
      "text/plain": [
       "(17084, 13)"
      ]
     },
     "execution_count": 73,
     "metadata": {},
     "output_type": "execute_result"
    }
   ],
   "source": [
    "# Checking new shape:\n",
    "pirated_films.shape"
   ]
  },
  {
   "attachments": {},
   "cell_type": "markdown",
   "metadata": {},
   "source": [
    "We can see that those 3K+ entries we've identified as being duplicated on the dataset in the begining of this section using the describe method, were composed by these unecessary entries, with that, we only should have a couple more unecessary entries in the dataset. Let's do the same check as we did before, were we group the dataset and search for duplicate movie names."
   ]
  },
  {
   "cell_type": "code",
   "execution_count": 74,
   "metadata": {},
   "outputs": [
    {
     "data": {
      "text/html": [
       "<div>\n",
       "<style scoped>\n",
       "    .dataframe tbody tr th:only-of-type {\n",
       "        vertical-align: middle;\n",
       "    }\n",
       "\n",
       "    .dataframe tbody tr th {\n",
       "        vertical-align: top;\n",
       "    }\n",
       "\n",
       "    .dataframe thead th {\n",
       "        text-align: right;\n",
       "    }\n",
       "</style>\n",
       "<table border=\"1\" class=\"dataframe\">\n",
       "  <thead>\n",
       "    <tr style=\"text-align: right;\">\n",
       "      <th></th>\n",
       "      <th>movie_title</th>\n",
       "      <th>count</th>\n",
       "    </tr>\n",
       "  </thead>\n",
       "  <tbody>\n",
       "    <tr>\n",
       "      <th>0</th>\n",
       "      <td>True Justice</td>\n",
       "      <td>5</td>\n",
       "    </tr>\n",
       "    <tr>\n",
       "      <th>1</th>\n",
       "      <td>Alone</td>\n",
       "      <td>5</td>\n",
       "    </tr>\n",
       "    <tr>\n",
       "      <th>2</th>\n",
       "      <td>Pinocchio</td>\n",
       "      <td>5</td>\n",
       "    </tr>\n",
       "    <tr>\n",
       "      <th>3</th>\n",
       "      <td>Sacrifice</td>\n",
       "      <td>5</td>\n",
       "    </tr>\n",
       "    <tr>\n",
       "      <th>4</th>\n",
       "      <td>Don</td>\n",
       "      <td>4</td>\n",
       "    </tr>\n",
       "    <tr>\n",
       "      <th>...</th>\n",
       "      <td>...</td>\n",
       "      <td>...</td>\n",
       "    </tr>\n",
       "    <tr>\n",
       "      <th>444</th>\n",
       "      <td>Sundown</td>\n",
       "      <td>2</td>\n",
       "    </tr>\n",
       "    <tr>\n",
       "      <th>445</th>\n",
       "      <td>Mercenaries</td>\n",
       "      <td>2</td>\n",
       "    </tr>\n",
       "    <tr>\n",
       "      <th>446</th>\n",
       "      <td>Dreamland</td>\n",
       "      <td>2</td>\n",
       "    </tr>\n",
       "    <tr>\n",
       "      <th>447</th>\n",
       "      <td>Love Story</td>\n",
       "      <td>2</td>\n",
       "    </tr>\n",
       "    <tr>\n",
       "      <th>448</th>\n",
       "      <td>Speak No Evil</td>\n",
       "      <td>2</td>\n",
       "    </tr>\n",
       "  </tbody>\n",
       "</table>\n",
       "<p>449 rows × 2 columns</p>\n",
       "</div>"
      ],
      "text/plain": [
       "       movie_title  count\n",
       "0     True Justice      5\n",
       "1            Alone      5\n",
       "2        Pinocchio      5\n",
       "3        Sacrifice      5\n",
       "4              Don      4\n",
       "..             ...    ...\n",
       "444        Sundown      2\n",
       "445    Mercenaries      2\n",
       "446      Dreamland      2\n",
       "447     Love Story      2\n",
       "448  Speak No Evil      2\n",
       "\n",
       "[449 rows x 2 columns]"
      ]
     },
     "execution_count": 74,
     "metadata": {},
     "output_type": "execute_result"
    }
   ],
   "source": [
    "# group the data by movie_title and count the number of occurrences\n",
    "grouped = pirated_films.groupby('movie_title').size().sort_values(ascending=False)\n",
    "\n",
    "# Creating a new dataframe with the movie_title counts:\n",
    "df = pd.DataFrame({'movie_title': grouped.index, 'count': grouped.values})\n",
    "\n",
    "df.query('count > 1')"
   ]
  },
  {
   "attachments": {},
   "cell_type": "markdown",
   "metadata": {},
   "source": [
    "Now we only have up to 5 movie entries that contains the same movie name showing up in the dataset. As this number is very low, the impact on the analysis shouldn't be big, so we will keep the rest of these values in the dataset. \n",
    "\n",
    "With this analysis, we observed:\n",
    "\n",
    "- The way some of the movie titles were inserted on the dataset was not ideal, having a new entry just to account for a new visualization on the piracy website;\n",
    "\n",
    "- Other movies had the data collected correctly, having only one entry in the dataset containg the most up to date number of views.\n",
    "\n",
    "This shows the importance of an Univariate Analysis of all variables of our dataset, with it we can describe our data and also find necessary changes and corrections not found in the cleaning phase, in this case, the presence of multiple duplicate entries changing only on the number of views."
   ]
  },
  {
   "cell_type": "markdown",
   "metadata": {},
   "source": [
    "\n",
    "As this is a categorical variable and we are doing a Univariate Analysis, we don't have many further possibilities of analysis, so let's check the next variable in our dataset."
   ]
  },
  {
   "cell_type": "markdown",
   "metadata": {},
   "source": []
  }
 ],
 "metadata": {
  "kernelspec": {
   "display_name": "pirate_venv",
   "language": "python",
   "name": "python3"
  },
  "language_info": {
   "codemirror_mode": {
    "name": "ipython",
    "version": 3
   },
   "file_extension": ".py",
   "mimetype": "text/x-python",
   "name": "python",
   "nbconvert_exporter": "python",
   "pygments_lexer": "ipython3",
   "version": "3.10.9"
  },
  "orig_nbformat": 4,
  "vscode": {
   "interpreter": {
    "hash": "0b9a7b68d25f51425ba4ce154b66734d4f59374869df646bbb4a0e0976e0cdd5"
   }
  }
 },
 "nbformat": 4,
 "nbformat_minor": 2
}
