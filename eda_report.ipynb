{
 "cells": [
  {
   "attachments": {},
   "cell_type": "markdown",
   "metadata": {},
   "source": [
    "# **Exploratory Data Analysis: Pirated Movies Dataset**\n",
    "\n",
    "---"
   ]
  },
  {
   "attachments": {},
   "cell_type": "markdown",
   "metadata": {},
   "source": [
    "## **General Objectives**\n",
    "\n",
    "---"
   ]
  },
  {
   "attachments": {},
   "cell_type": "markdown",
   "metadata": {},
   "source": [
    "The general objective of this project is to analyze data from a [Kaggle Dataset](https://www.kaggle.com/datasets/arsalanrehman/movies-dataset-from-piracy-website) has been gathered from a pirated website that has a user base of around 2M visitors per month. This data contains more than 20,000+ movies from all industries such as Hollywood, Bollywood, Anime, etc. The goal is to to describe the data the best as possible, utilizing data science methods, statistical aproaches to the data and the creation of a detailed report.\n",
    "\n",
    "The steps for the creation of the report are as follows:\n",
    "\n",
    "- Collect and Understanding of the Data.\n",
    "\n",
    "- Data Prep and Transformation.\n",
    "- Univariate Analysis.\n",
    "- Multivariate Analysis.\n",
    "- Questions, Insights and Answers."
   ]
  },
  {
   "attachments": {},
   "cell_type": "markdown",
   "metadata": {},
   "source": [
    "## **Importing Packages and Collecting the Dataset**\n",
    "\n",
    "---"
   ]
  },
  {
   "cell_type": "code",
   "execution_count": 8,
   "metadata": {},
   "outputs": [
    {
     "name": "stdout",
     "output_type": "stream",
     "text": [
      "Packages collected!\n"
     ]
    }
   ],
   "source": [
    "# Importing libraries needed for the project:\n",
    "import pandas as pd\n",
    "import numpy as np\n",
    "import seaborn as sns\n",
    "import warnings\n",
    "import matplotlib.pyplot as plt\n",
    "from matplotlib.pyplot import MaxNLocator, FuncFormatter\n",
    "from matplotlib.font_manager import FontProperties\n",
    "\n",
    "# Setting seaborn plot parameters:\n",
    "sns.set_theme(context='notebook', style='darkgrid')\n",
    "\n",
    "# Filtering out warnings:\n",
    "warnings.filterwarnings('ignore')\n",
    "\n",
    "# Setting pandas dataframe visualization parameters:\n",
    "pd.set_option('display.max_columns', 100)\n",
    "\n",
    "print('Packages collected!')"
   ]
  },
  {
   "cell_type": "code",
   "execution_count": 9,
   "metadata": {},
   "outputs": [],
   "source": [
    "# Creating the Dataframe with original data:\n",
    "data = pd.read_csv('data\\movies_dataset.csv', sep=',')"
   ]
  },
  {
   "attachments": {},
   "cell_type": "markdown",
   "metadata": {},
   "source": [
    "- First rows:"
   ]
  },
  {
   "cell_type": "code",
   "execution_count": 10,
   "metadata": {},
   "outputs": [
    {
     "data": {
      "text/html": [
       "<div>\n",
       "<style scoped>\n",
       "    .dataframe tbody tr th:only-of-type {\n",
       "        vertical-align: middle;\n",
       "    }\n",
       "\n",
       "    .dataframe tbody tr th {\n",
       "        vertical-align: top;\n",
       "    }\n",
       "\n",
       "    .dataframe thead th {\n",
       "        text-align: right;\n",
       "    }\n",
       "</style>\n",
       "<table border=\"1\" class=\"dataframe\">\n",
       "  <thead>\n",
       "    <tr style=\"text-align: right;\">\n",
       "      <th></th>\n",
       "      <th>Unnamed: 0</th>\n",
       "      <th>IMDb-rating</th>\n",
       "      <th>appropriate_for</th>\n",
       "      <th>director</th>\n",
       "      <th>downloads</th>\n",
       "      <th>id</th>\n",
       "      <th>industry</th>\n",
       "      <th>language</th>\n",
       "      <th>posted_date</th>\n",
       "      <th>release_date</th>\n",
       "      <th>run_time</th>\n",
       "      <th>storyline</th>\n",
       "      <th>title</th>\n",
       "      <th>views</th>\n",
       "      <th>writer</th>\n",
       "    </tr>\n",
       "  </thead>\n",
       "  <tbody>\n",
       "    <tr>\n",
       "      <th>0</th>\n",
       "      <td>0</td>\n",
       "      <td>4.8</td>\n",
       "      <td>R</td>\n",
       "      <td>John Swab</td>\n",
       "      <td>304</td>\n",
       "      <td>372092</td>\n",
       "      <td>Hollywood / English</td>\n",
       "      <td>English</td>\n",
       "      <td>20 Feb, 2023</td>\n",
       "      <td>Jan 28 2023</td>\n",
       "      <td>105</td>\n",
       "      <td>Doc\\r\\n facilitates a fragile truce between th...</td>\n",
       "      <td>Little Dixie</td>\n",
       "      <td>2,794</td>\n",
       "      <td>John Swab</td>\n",
       "    </tr>\n",
       "    <tr>\n",
       "      <th>1</th>\n",
       "      <td>1</td>\n",
       "      <td>6.4</td>\n",
       "      <td>TV-PG</td>\n",
       "      <td>Paul Ziller</td>\n",
       "      <td>73</td>\n",
       "      <td>372091</td>\n",
       "      <td>Hollywood / English</td>\n",
       "      <td>English</td>\n",
       "      <td>20 Feb, 2023</td>\n",
       "      <td>Feb 05 2023</td>\n",
       "      <td>84</td>\n",
       "      <td>Caterer\\r\\n Goldy Berry reunites with detectiv...</td>\n",
       "      <td>Grilling Season: A Curious Caterer Mystery</td>\n",
       "      <td>1,002</td>\n",
       "      <td>John Christian Plummer</td>\n",
       "    </tr>\n",
       "    <tr>\n",
       "      <th>2</th>\n",
       "      <td>2</td>\n",
       "      <td>5.2</td>\n",
       "      <td>R</td>\n",
       "      <td>Ben Wheatley</td>\n",
       "      <td>1,427</td>\n",
       "      <td>343381</td>\n",
       "      <td>Hollywood / English</td>\n",
       "      <td>English,Hindi</td>\n",
       "      <td>20 Apr, 2021</td>\n",
       "      <td>Jun 18 2021</td>\n",
       "      <td>1h 47min</td>\n",
       "      <td>As the world searches for a cure to a disastro...</td>\n",
       "      <td>In the Earth</td>\n",
       "      <td>14,419</td>\n",
       "      <td>Ben Wheatley</td>\n",
       "    </tr>\n",
       "    <tr>\n",
       "      <th>3</th>\n",
       "      <td>3</td>\n",
       "      <td>8.1</td>\n",
       "      <td>NaN</td>\n",
       "      <td>Venky Atluri</td>\n",
       "      <td>1,549</td>\n",
       "      <td>372090</td>\n",
       "      <td>Tollywood</td>\n",
       "      <td>Hindi</td>\n",
       "      <td>20 Feb, 2023</td>\n",
       "      <td>Feb 17 2023</td>\n",
       "      <td>139</td>\n",
       "      <td>The life of a young man and his struggles agai...</td>\n",
       "      <td>Vaathi</td>\n",
       "      <td>4,878</td>\n",
       "      <td>Venky Atluri</td>\n",
       "    </tr>\n",
       "    <tr>\n",
       "      <th>4</th>\n",
       "      <td>4</td>\n",
       "      <td>4.6</td>\n",
       "      <td>NaN</td>\n",
       "      <td>Shaji Kailas</td>\n",
       "      <td>657</td>\n",
       "      <td>372089</td>\n",
       "      <td>Tollywood</td>\n",
       "      <td>Hindi</td>\n",
       "      <td>20 Feb, 2023</td>\n",
       "      <td>Jan 26 2023</td>\n",
       "      <td>122</td>\n",
       "      <td>A man named Kalidas gets stranded due to the p...</td>\n",
       "      <td>Alone</td>\n",
       "      <td>2,438</td>\n",
       "      <td>Rajesh Jayaraman</td>\n",
       "    </tr>\n",
       "  </tbody>\n",
       "</table>\n",
       "</div>"
      ],
      "text/plain": [
       "   Unnamed: 0  IMDb-rating appropriate_for      director downloads      id  \\\n",
       "0           0          4.8               R     John Swab       304  372092   \n",
       "1           1          6.4           TV-PG   Paul Ziller        73  372091   \n",
       "2           2          5.2               R  Ben Wheatley     1,427  343381   \n",
       "3           3          8.1             NaN  Venky Atluri     1,549  372090   \n",
       "4           4          4.6             NaN  Shaji Kailas       657  372089   \n",
       "\n",
       "              industry       language   posted_date release_date  run_time  \\\n",
       "0  Hollywood / English        English  20 Feb, 2023  Jan 28 2023       105   \n",
       "1  Hollywood / English        English  20 Feb, 2023  Feb 05 2023        84   \n",
       "2  Hollywood / English  English,Hindi  20 Apr, 2021  Jun 18 2021  1h 47min   \n",
       "3            Tollywood          Hindi  20 Feb, 2023  Feb 17 2023       139   \n",
       "4            Tollywood          Hindi  20 Feb, 2023  Jan 26 2023       122   \n",
       "\n",
       "                                           storyline  \\\n",
       "0  Doc\\r\\n facilitates a fragile truce between th...   \n",
       "1  Caterer\\r\\n Goldy Berry reunites with detectiv...   \n",
       "2  As the world searches for a cure to a disastro...   \n",
       "3  The life of a young man and his struggles agai...   \n",
       "4  A man named Kalidas gets stranded due to the p...   \n",
       "\n",
       "                                        title   views                  writer  \n",
       "0                                Little Dixie   2,794               John Swab  \n",
       "1  Grilling Season: A Curious Caterer Mystery   1,002  John Christian Plummer  \n",
       "2                                In the Earth  14,419            Ben Wheatley  \n",
       "3                                      Vaathi   4,878            Venky Atluri  \n",
       "4                                       Alone   2,438        Rajesh Jayaraman  "
      ]
     },
     "execution_count": 10,
     "metadata": {},
     "output_type": "execute_result"
    }
   ],
   "source": [
    "data.head()"
   ]
  },
  {
   "attachments": {},
   "cell_type": "markdown",
   "metadata": {},
   "source": [
    "- Sample rows:"
   ]
  },
  {
   "cell_type": "code",
   "execution_count": 11,
   "metadata": {},
   "outputs": [
    {
     "data": {
      "text/html": [
       "<div>\n",
       "<style scoped>\n",
       "    .dataframe tbody tr th:only-of-type {\n",
       "        vertical-align: middle;\n",
       "    }\n",
       "\n",
       "    .dataframe tbody tr th {\n",
       "        vertical-align: top;\n",
       "    }\n",
       "\n",
       "    .dataframe thead th {\n",
       "        text-align: right;\n",
       "    }\n",
       "</style>\n",
       "<table border=\"1\" class=\"dataframe\">\n",
       "  <thead>\n",
       "    <tr style=\"text-align: right;\">\n",
       "      <th></th>\n",
       "      <th>Unnamed: 0</th>\n",
       "      <th>IMDb-rating</th>\n",
       "      <th>appropriate_for</th>\n",
       "      <th>director</th>\n",
       "      <th>downloads</th>\n",
       "      <th>id</th>\n",
       "      <th>industry</th>\n",
       "      <th>language</th>\n",
       "      <th>posted_date</th>\n",
       "      <th>release_date</th>\n",
       "      <th>run_time</th>\n",
       "      <th>storyline</th>\n",
       "      <th>title</th>\n",
       "      <th>views</th>\n",
       "      <th>writer</th>\n",
       "    </tr>\n",
       "  </thead>\n",
       "  <tbody>\n",
       "    <tr>\n",
       "      <th>11875</th>\n",
       "      <td>11875</td>\n",
       "      <td>NaN</td>\n",
       "      <td>NaN</td>\n",
       "      <td>NaN</td>\n",
       "      <td>1,782</td>\n",
       "      <td>371740</td>\n",
       "      <td>Wrestling</td>\n",
       "      <td>English</td>\n",
       "      <td>13 Feb, 2023</td>\n",
       "      <td>Feb 10 2023</td>\n",
       "      <td>NaN</td>\n",
       "      <td>NaN</td>\n",
       "      <td>WWE Smackdown 2023-02-10</td>\n",
       "      <td>4,811</td>\n",
       "      <td>NaN</td>\n",
       "    </tr>\n",
       "    <tr>\n",
       "      <th>3033</th>\n",
       "      <td>3033</td>\n",
       "      <td>8.8</td>\n",
       "      <td>NaN</td>\n",
       "      <td>Xavier Manrique</td>\n",
       "      <td>75</td>\n",
       "      <td>371744</td>\n",
       "      <td>Hollywood / English</td>\n",
       "      <td>English</td>\n",
       "      <td>13 Feb, 2023</td>\n",
       "      <td>Feb 03 2023</td>\n",
       "      <td>101</td>\n",
       "      <td>Follows\\r\\n a New York City family hiding out ...</td>\n",
       "      <td>Who Invited Charlie?</td>\n",
       "      <td>1,746</td>\n",
       "      <td>Nicholas Schutt</td>\n",
       "    </tr>\n",
       "    <tr>\n",
       "      <th>6200</th>\n",
       "      <td>6200</td>\n",
       "      <td>6.6</td>\n",
       "      <td>TV-14</td>\n",
       "      <td>Simone Stock</td>\n",
       "      <td>763</td>\n",
       "      <td>371877</td>\n",
       "      <td>Hollywood / English</td>\n",
       "      <td>English</td>\n",
       "      <td>15 Feb, 2023</td>\n",
       "      <td>Feb 11 2023</td>\n",
       "      <td>88</td>\n",
       "      <td>It follows Kara Robinson as she survives an ab...</td>\n",
       "      <td>The Girl Who Escaped: The Kara Robinson Story</td>\n",
       "      <td>7,587</td>\n",
       "      <td>Haley Harris</td>\n",
       "    </tr>\n",
       "    <tr>\n",
       "      <th>3240</th>\n",
       "      <td>3240</td>\n",
       "      <td>6.0</td>\n",
       "      <td>R</td>\n",
       "      <td>Navot Papushado</td>\n",
       "      <td>1,668</td>\n",
       "      <td>346905</td>\n",
       "      <td>Hollywood / English</td>\n",
       "      <td>English,Russian</td>\n",
       "      <td>15 Jul, 2021</td>\n",
       "      <td>Jul 14 2021</td>\n",
       "      <td>114</td>\n",
       "      <td>Three generations of women fight back against ...</td>\n",
       "      <td>Gunpowder Milkshake</td>\n",
       "      <td>11,285</td>\n",
       "      <td>Navot Papushado, Ehud Lavski</td>\n",
       "    </tr>\n",
       "    <tr>\n",
       "      <th>17069</th>\n",
       "      <td>17069</td>\n",
       "      <td>7.1</td>\n",
       "      <td>R</td>\n",
       "      <td>Elegance Bratton</td>\n",
       "      <td>472</td>\n",
       "      <td>371991</td>\n",
       "      <td>Hollywood / English</td>\n",
       "      <td>English</td>\n",
       "      <td>17 Feb, 2023</td>\n",
       "      <td>Dec 02 2022</td>\n",
       "      <td>95</td>\n",
       "      <td>A\\r\\n young, gay Black man, rejected by his mo...</td>\n",
       "      <td>The Inspection</td>\n",
       "      <td>6,035</td>\n",
       "      <td>Elegance Bratton</td>\n",
       "    </tr>\n",
       "  </tbody>\n",
       "</table>\n",
       "</div>"
      ],
      "text/plain": [
       "       Unnamed: 0  IMDb-rating appropriate_for          director downloads  \\\n",
       "11875       11875          NaN             NaN               NaN     1,782   \n",
       "3033         3033          8.8             NaN   Xavier Manrique        75   \n",
       "6200         6200          6.6           TV-14      Simone Stock       763   \n",
       "3240         3240          6.0               R   Navot Papushado     1,668   \n",
       "17069       17069          7.1               R  Elegance Bratton       472   \n",
       "\n",
       "           id             industry         language   posted_date  \\\n",
       "11875  371740            Wrestling          English  13 Feb, 2023   \n",
       "3033   371744  Hollywood / English          English  13 Feb, 2023   \n",
       "6200   371877  Hollywood / English          English  15 Feb, 2023   \n",
       "3240   346905  Hollywood / English  English,Russian  15 Jul, 2021   \n",
       "17069  371991  Hollywood / English          English  17 Feb, 2023   \n",
       "\n",
       "      release_date run_time  \\\n",
       "11875  Feb 10 2023      NaN   \n",
       "3033   Feb 03 2023      101   \n",
       "6200   Feb 11 2023       88   \n",
       "3240   Jul 14 2021      114   \n",
       "17069  Dec 02 2022       95   \n",
       "\n",
       "                                               storyline  \\\n",
       "11875                                                NaN   \n",
       "3033   Follows\\r\\n a New York City family hiding out ...   \n",
       "6200   It follows Kara Robinson as she survives an ab...   \n",
       "3240   Three generations of women fight back against ...   \n",
       "17069  A\\r\\n young, gay Black man, rejected by his mo...   \n",
       "\n",
       "                                               title   views  \\\n",
       "11875                       WWE Smackdown 2023-02-10   4,811   \n",
       "3033                            Who Invited Charlie?   1,746   \n",
       "6200   The Girl Who Escaped: The Kara Robinson Story   7,587   \n",
       "3240                             Gunpowder Milkshake  11,285   \n",
       "17069                                 The Inspection   6,035   \n",
       "\n",
       "                             writer  \n",
       "11875                           NaN  \n",
       "3033                Nicholas Schutt  \n",
       "6200                   Haley Harris  \n",
       "3240   Navot Papushado, Ehud Lavski  \n",
       "17069              Elegance Bratton  "
      ]
     },
     "execution_count": 11,
     "metadata": {},
     "output_type": "execute_result"
    }
   ],
   "source": [
    "data.sample(5)"
   ]
  },
  {
   "attachments": {},
   "cell_type": "markdown",
   "metadata": {},
   "source": [
    "## **Understanding the Dataset**\n",
    "\n",
    "---"
   ]
  },
  {
   "attachments": {},
   "cell_type": "markdown",
   "metadata": {},
   "source": [
    "Before we can start describing and analyzing the Data, it's important to comprehend what variables are present in the Dataset and the values they hold. For that, we will use a simple markdown table explaining the contents of the Dataset:\n",
    "\n",
    "| Variable Name             | Variable Contents                 | Variable Importance for Analysis             | Comments About Variable                                                                        |\n",
    "|---------------------------|-----------------------------------|----------------------------------------------|------------------------------------------------------------------------------------------------|\n",
    "| **`Unnamed:0`**           | Row id native to the Dataset      | 🔴 Irrelevant                                 | Not needed since Pandas Dataframes already comes with a Id column                              |\n",
    "| **`IMDB-rating`**         | Rating of the movie on IMDB       | 🟢 High                                       | None                                                                                           |\n",
    "| **`appropriate_for`**     | Movie classification rating       | 🟡 Medium                                     | Interesting possibilities for analysis. Be careful with the amount of different rating systems |\n",
    "| **`director`**            | Name of movie director            | 🟡 Medium                                     | None                                                                                           |\n",
    "| **`dowloads`**            | Number of dowloads per movie      | 🟢 High                                       | None                                                                                           |\n",
    "| **`id`**                  | Unique Id per movie               | 🔴 Irrelevant                                 | Same motive as the first variable                                                              |\n",
    "| **`industry`**            | Industry that produced the movie  | 🟢 High                                       | None                                                                                           |\n",
    "| **`language`**            | Available languages for the movie | 🟠 Low                                         | Not much important for the analysis as a hole, but not totally irrelevant                      |\n",
    "| **`posted_date`**         | When the movie was posted on the platform | 🟢 High                                | Very important metric for the analysis                                                         |\n",
    "| **`released_date`**       | When the movie was released worldwide | 🟢 High                                    | In conjunction with the variable above, opens up lots of analytical possibilities             |\n",
    "| **`run_time`**            | Runtime of the movie (minutes)    | 🟡 Medium                                      | None                                                                                           |\n",
    "| **`storyline`**           | Movie synopsis                    | 🔴 Irrelevant                                  | For the pourposes of this analysis, the movie storyline is not needed                          |\n",
    "| **`title`**               | Movie title                       | 🟢 High                                      | Without a name, there is no movie!                                                             |\n",
    "| **`views`**               | Number of clicks per movie        | 🟢 High                                          | Very important metric alongside with downloads                                                  |\n",
    "| **`writer`**              | List of all the movie writers     | 🟠 Low                                          | None                                                                                           |\n"
   ]
  },
  {
   "attachments": {},
   "cell_type": "markdown",
   "metadata": {},
   "source": [
    "With this table, we can identify the important and the not so important variables of the Dataset, but before we can trasnform or delete this data, we will keep it to still analyse and describe it. For that, we weill begin by checking the Dataset dimensons with the **`.shape`** method:"
   ]
  },
  {
   "cell_type": "code",
   "execution_count": 25,
   "metadata": {},
   "outputs": [
    {
     "name": "stdout",
     "output_type": "stream",
     "text": [
      "Total Variables: 15\n",
      "Total Rows: 20548\n"
     ]
    }
   ],
   "source": [
    "# Checking dataset dimensions:\n",
    "print(f'Total Variables: {data.shape[1]}\\nTotal Rows: {data.shape[0]}')"
   ]
  },
  {
   "attachments": {},
   "cell_type": "markdown",
   "metadata": {},
   "source": [
    "We can see that this is a rather large Dataset, containing more than 20k registry entries. Now, lets use the **`.info()`** method to gather more detailed information about these variables:"
   ]
  },
  {
   "cell_type": "code",
   "execution_count": 26,
   "metadata": {},
   "outputs": [
    {
     "name": "stdout",
     "output_type": "stream",
     "text": [
      "<class 'pandas.core.frame.DataFrame'>\n",
      "RangeIndex: 20548 entries, 0 to 20547\n",
      "Data columns (total 15 columns):\n",
      " #   Column           Non-Null Count  Dtype  \n",
      "---  ------           --------------  -----  \n",
      " 0   Unnamed: 0       20548 non-null  int64  \n",
      " 1   IMDb-rating      19707 non-null  float64\n",
      " 2   appropriate_for  11072 non-null  object \n",
      " 3   director         18610 non-null  object \n",
      " 4   downloads        20547 non-null  object \n",
      " 5   id               20548 non-null  int64  \n",
      " 6   industry         20547 non-null  object \n",
      " 7   language         20006 non-null  object \n",
      " 8   posted_date      20547 non-null  object \n",
      " 9   release_date     20547 non-null  object \n",
      " 10  run_time         18780 non-null  object \n",
      " 11  storyline        18847 non-null  object \n",
      " 12  title            20547 non-null  object \n",
      " 13  views            20547 non-null  object \n",
      " 14  writer           18356 non-null  object \n",
      "dtypes: float64(1), int64(2), object(12)\n",
      "memory usage: 2.4+ MB\n"
     ]
    }
   ],
   "source": [
    "# Cheking general information about the Dataset:\n",
    "data.info()"
   ]
  },
  {
   "attachments": {},
   "cell_type": "markdown",
   "metadata": {},
   "source": [
    "Now we have a lot more information about the specific variables of the Dataset:\n",
    "\n",
    "**Null Values**\n",
    "\n",
    "- We have null values in all columns except the **`id`** variable.\n",
    "\n",
    "**Data Types**\n",
    "\n",
    "- In the Dataset, we have one **`float64`** variable, two **`int64`** variables and twelve **`object`** variables.\n",
    "\n",
    "**Memory Usage**\n",
    "\n",
    "- The Dataset, in it`s current form, consumes over 2.4 MB of memory.\n",
    "\n",
    "**Proposed Changes**\n",
    "\n",
    "- Make an acessement and deal with the null values;\n",
    "\n",
    "- Change most of the Data Types to boost the memory efficiency. Also this is the most important change in this case because most of the variables are not in a apropriate data format, i.e. **`posted_date`** being a object data type instead of datetime and **`runtime`** being a object type instead of float or int.\n",
    "\n",
    "Now, let`s check the exact amout of null values in each column, as well as the percentage that it represents:"
   ]
  },
  {
   "cell_type": "code",
   "execution_count": 29,
   "metadata": {},
   "outputs": [
    {
     "data": {
      "text/plain": [
       "appropriate_for    9476\n",
       "writer             2192\n",
       "director           1938\n",
       "run_time           1768\n",
       "storyline          1701\n",
       "IMDb-rating         841\n",
       "language            542\n",
       "downloads             1\n",
       "industry              1\n",
       "posted_date           1\n",
       "release_date          1\n",
       "title                 1\n",
       "views                 1\n",
       "Unnamed: 0            0\n",
       "id                    0\n",
       "dtype: int64"
      ]
     },
     "execution_count": 29,
     "metadata": {},
     "output_type": "execute_result"
    }
   ],
   "source": [
    "# Checking total null values:\n",
    "null_count = (data\n",
    "              .isna()\n",
    "              .sum()\n",
    "              .sort_values(ascending=False))\n",
    "\n",
    "null_count"
   ]
  },
  {
   "cell_type": "code",
   "execution_count": 33,
   "metadata": {},
   "outputs": [
    {
     "data": {
      "text/plain": [
       "appropriate_for    46.1164\n",
       "writer             10.6677\n",
       "director            9.4316\n",
       "run_time            8.6042\n",
       "storyline           8.2782\n",
       "IMDb-rating         4.0929\n",
       "language            2.6377\n",
       "downloads           0.0049\n",
       "industry            0.0049\n",
       "posted_date         0.0049\n",
       "release_date        0.0049\n",
       "title               0.0049\n",
       "views               0.0049\n",
       "Unnamed: 0          0.0000\n",
       "id                  0.0000\n",
       "dtype: float64"
      ]
     },
     "execution_count": 33,
     "metadata": {},
     "output_type": "execute_result"
    }
   ],
   "source": [
    "# Check percentage of total size:\n",
    "null_percentage = round((data.isna().sum()/data.shape[0]) * 100, 4)\n",
    "\n",
    "null_percentage.sort_values(ascending=False)"
   ]
  },
  {
   "attachments": {},
   "cell_type": "markdown",
   "metadata": {},
   "source": [
    "immediately we can see that the variable **`appropriate_for`** is basically useless for the analysis. With 9.476 missing values representing more than 46% of the total data size, this variable is too empty to be filled in using different methods. For that reason, it will be dropped in the cleaning step.\n",
    "\n",
    "The **`writer`** column also has a good amout of missing values, 2.192 nulls representing more than 10.5% of the total data size. As this variable was already deemed as having a low priority in the description table previously made, it will also be dropped in the cleaning phase.\n",
    "\n",
    "The same cannot be said about the **`director`** variable, as altough it also has almost the same amount of null values as the **`writer`** column, it has a substancial potencial for analysis, being labeled as High priority in the table describing the variables.\n",
    "\n",
    "The **`runtime`** and **`storyline`** variables both have a similar amout of missing values (around 8.5% of the total data). The first of them can and will be filled in using the **`mode()`** of the variable (as this metric is not much affected by the presence of outliers and should maintain the data consistency), the second variable is going to be dropped as stated in the table describing the variables.\n",
    "\n",
    "All other variables have little to none Null values and can be easily filled in or dropped (like the **`Unnamed: 0`** column).\n"
   ]
  },
  {
   "attachments": {},
   "cell_type": "markdown",
   "metadata": {},
   "source": [
    "## **Data Prep, Cleaning and Feature Engineering**\n",
    "\n",
    "---"
   ]
  }
 ],
 "metadata": {
  "kernelspec": {
   "display_name": "pirate_venv",
   "language": "python",
   "name": "python3"
  },
  "language_info": {
   "codemirror_mode": {
    "name": "ipython",
    "version": 3
   },
   "file_extension": ".py",
   "mimetype": "text/x-python",
   "name": "python",
   "nbconvert_exporter": "python",
   "pygments_lexer": "ipython3",
   "version": "3.10.9"
  },
  "orig_nbformat": 4
 },
 "nbformat": 4,
 "nbformat_minor": 2
}
