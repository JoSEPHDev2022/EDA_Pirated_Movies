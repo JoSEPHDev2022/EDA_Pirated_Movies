{
 "cells": [
  {
   "attachments": {},
   "cell_type": "markdown",
   "metadata": {},
   "source": [
    "# **General Objectives**\n",
    "\n",
    "---"
   ]
  },
  {
   "attachments": {},
   "cell_type": "markdown",
   "metadata": {},
   "source": [
    "The general objective of this project is to analyze data from a [Kaggle Dataset](https://www.kaggle.com/datasets/arsalanrehman/movies-dataset-from-piracy-website) that has been gathered from a pirated website that has a user base of around 2M visitors per month. This data contains more than 20,000+ movies from all industries such as Hollywood, Bollywood, Anime, etc. The goal is to to describe the data the best as possible, utilizing data science methods, statistical aproaches to the data and the creation of a detailed report.\n",
    "\n",
    "The steps for the creation of the report are as follows:\n",
    "\n",
    "- Collect and Understanding of the Data.\n",
    "\n",
    "- Data Prep and Transformation.\n",
    "- Univariate Analysis.\n",
    "- Multivariate Analysis.\n",
    "- Questions, Insights and Answers."
   ]
  },
  {
   "attachments": {},
   "cell_type": "markdown",
   "metadata": {},
   "source": [
    "# **Importing Packages and Collecting the Dataset**\n",
    "\n",
    "---"
   ]
  },
  {
   "cell_type": "code",
   "execution_count": 123,
   "metadata": {},
   "outputs": [
    {
     "name": "stdout",
     "output_type": "stream",
     "text": [
      "Packages collected!\n"
     ]
    }
   ],
   "source": [
    "# Importing libraries needed for the project:\n",
    "import pandas as pd\n",
    "import numpy as np\n",
    "import seaborn as sns\n",
    "import warnings\n",
    "import matplotlib.pyplot as plt\n",
    "from matplotlib.pyplot import MaxNLocator, FuncFormatter\n",
    "from matplotlib.font_manager import FontProperties\n",
    "\n",
    "# Setting seaborn plot parameters:\n",
    "sns.set_theme(context='notebook', style='darkgrid')\n",
    "\n",
    "# Filtering out warnings:\n",
    "warnings.filterwarnings('ignore')\n",
    "\n",
    "# Setting pandas dataframe visualization parameters:\n",
    "pd.set_option('display.max_columns', 100)\n",
    "\n",
    "print('Packages collected!')"
   ]
  },
  {
   "cell_type": "code",
   "execution_count": 124,
   "metadata": {},
   "outputs": [],
   "source": [
    "# Creating the Dataframe with original data:\n",
    "data = pd.read_csv('data\\movies_dataset.csv', sep=',')"
   ]
  },
  {
   "attachments": {},
   "cell_type": "markdown",
   "metadata": {},
   "source": [
    "- First rows:"
   ]
  },
  {
   "cell_type": "code",
   "execution_count": 125,
   "metadata": {},
   "outputs": [
    {
     "data": {
      "text/html": [
       "<div>\n",
       "<style scoped>\n",
       "    .dataframe tbody tr th:only-of-type {\n",
       "        vertical-align: middle;\n",
       "    }\n",
       "\n",
       "    .dataframe tbody tr th {\n",
       "        vertical-align: top;\n",
       "    }\n",
       "\n",
       "    .dataframe thead th {\n",
       "        text-align: right;\n",
       "    }\n",
       "</style>\n",
       "<table border=\"1\" class=\"dataframe\">\n",
       "  <thead>\n",
       "    <tr style=\"text-align: right;\">\n",
       "      <th></th>\n",
       "      <th>Unnamed: 0</th>\n",
       "      <th>IMDb-rating</th>\n",
       "      <th>appropriate_for</th>\n",
       "      <th>director</th>\n",
       "      <th>downloads</th>\n",
       "      <th>id</th>\n",
       "      <th>industry</th>\n",
       "      <th>language</th>\n",
       "      <th>posted_date</th>\n",
       "      <th>release_date</th>\n",
       "      <th>run_time</th>\n",
       "      <th>storyline</th>\n",
       "      <th>title</th>\n",
       "      <th>views</th>\n",
       "      <th>writer</th>\n",
       "    </tr>\n",
       "  </thead>\n",
       "  <tbody>\n",
       "    <tr>\n",
       "      <th>0</th>\n",
       "      <td>0</td>\n",
       "      <td>4.8</td>\n",
       "      <td>R</td>\n",
       "      <td>John Swab</td>\n",
       "      <td>304</td>\n",
       "      <td>372092</td>\n",
       "      <td>Hollywood / English</td>\n",
       "      <td>English</td>\n",
       "      <td>20 Feb, 2023</td>\n",
       "      <td>Jan 28 2023</td>\n",
       "      <td>105</td>\n",
       "      <td>Doc\\r\\n facilitates a fragile truce between th...</td>\n",
       "      <td>Little Dixie</td>\n",
       "      <td>2,794</td>\n",
       "      <td>John Swab</td>\n",
       "    </tr>\n",
       "    <tr>\n",
       "      <th>1</th>\n",
       "      <td>1</td>\n",
       "      <td>6.4</td>\n",
       "      <td>TV-PG</td>\n",
       "      <td>Paul Ziller</td>\n",
       "      <td>73</td>\n",
       "      <td>372091</td>\n",
       "      <td>Hollywood / English</td>\n",
       "      <td>English</td>\n",
       "      <td>20 Feb, 2023</td>\n",
       "      <td>Feb 05 2023</td>\n",
       "      <td>84</td>\n",
       "      <td>Caterer\\r\\n Goldy Berry reunites with detectiv...</td>\n",
       "      <td>Grilling Season: A Curious Caterer Mystery</td>\n",
       "      <td>1,002</td>\n",
       "      <td>John Christian Plummer</td>\n",
       "    </tr>\n",
       "    <tr>\n",
       "      <th>2</th>\n",
       "      <td>2</td>\n",
       "      <td>5.2</td>\n",
       "      <td>R</td>\n",
       "      <td>Ben Wheatley</td>\n",
       "      <td>1,427</td>\n",
       "      <td>343381</td>\n",
       "      <td>Hollywood / English</td>\n",
       "      <td>English,Hindi</td>\n",
       "      <td>20 Apr, 2021</td>\n",
       "      <td>Jun 18 2021</td>\n",
       "      <td>1h 47min</td>\n",
       "      <td>As the world searches for a cure to a disastro...</td>\n",
       "      <td>In the Earth</td>\n",
       "      <td>14,419</td>\n",
       "      <td>Ben Wheatley</td>\n",
       "    </tr>\n",
       "    <tr>\n",
       "      <th>3</th>\n",
       "      <td>3</td>\n",
       "      <td>8.1</td>\n",
       "      <td>NaN</td>\n",
       "      <td>Venky Atluri</td>\n",
       "      <td>1,549</td>\n",
       "      <td>372090</td>\n",
       "      <td>Tollywood</td>\n",
       "      <td>Hindi</td>\n",
       "      <td>20 Feb, 2023</td>\n",
       "      <td>Feb 17 2023</td>\n",
       "      <td>139</td>\n",
       "      <td>The life of a young man and his struggles agai...</td>\n",
       "      <td>Vaathi</td>\n",
       "      <td>4,878</td>\n",
       "      <td>Venky Atluri</td>\n",
       "    </tr>\n",
       "    <tr>\n",
       "      <th>4</th>\n",
       "      <td>4</td>\n",
       "      <td>4.6</td>\n",
       "      <td>NaN</td>\n",
       "      <td>Shaji Kailas</td>\n",
       "      <td>657</td>\n",
       "      <td>372089</td>\n",
       "      <td>Tollywood</td>\n",
       "      <td>Hindi</td>\n",
       "      <td>20 Feb, 2023</td>\n",
       "      <td>Jan 26 2023</td>\n",
       "      <td>122</td>\n",
       "      <td>A man named Kalidas gets stranded due to the p...</td>\n",
       "      <td>Alone</td>\n",
       "      <td>2,438</td>\n",
       "      <td>Rajesh Jayaraman</td>\n",
       "    </tr>\n",
       "  </tbody>\n",
       "</table>\n",
       "</div>"
      ],
      "text/plain": [
       "   Unnamed: 0  IMDb-rating appropriate_for      director downloads      id  \\\n",
       "0           0          4.8               R     John Swab       304  372092   \n",
       "1           1          6.4           TV-PG   Paul Ziller        73  372091   \n",
       "2           2          5.2               R  Ben Wheatley     1,427  343381   \n",
       "3           3          8.1             NaN  Venky Atluri     1,549  372090   \n",
       "4           4          4.6             NaN  Shaji Kailas       657  372089   \n",
       "\n",
       "              industry       language   posted_date release_date  run_time  \\\n",
       "0  Hollywood / English        English  20 Feb, 2023  Jan 28 2023       105   \n",
       "1  Hollywood / English        English  20 Feb, 2023  Feb 05 2023        84   \n",
       "2  Hollywood / English  English,Hindi  20 Apr, 2021  Jun 18 2021  1h 47min   \n",
       "3            Tollywood          Hindi  20 Feb, 2023  Feb 17 2023       139   \n",
       "4            Tollywood          Hindi  20 Feb, 2023  Jan 26 2023       122   \n",
       "\n",
       "                                           storyline  \\\n",
       "0  Doc\\r\\n facilitates a fragile truce between th...   \n",
       "1  Caterer\\r\\n Goldy Berry reunites with detectiv...   \n",
       "2  As the world searches for a cure to a disastro...   \n",
       "3  The life of a young man and his struggles agai...   \n",
       "4  A man named Kalidas gets stranded due to the p...   \n",
       "\n",
       "                                        title   views                  writer  \n",
       "0                                Little Dixie   2,794               John Swab  \n",
       "1  Grilling Season: A Curious Caterer Mystery   1,002  John Christian Plummer  \n",
       "2                                In the Earth  14,419            Ben Wheatley  \n",
       "3                                      Vaathi   4,878            Venky Atluri  \n",
       "4                                       Alone   2,438        Rajesh Jayaraman  "
      ]
     },
     "execution_count": 125,
     "metadata": {},
     "output_type": "execute_result"
    }
   ],
   "source": [
    "data.head()"
   ]
  },
  {
   "attachments": {},
   "cell_type": "markdown",
   "metadata": {},
   "source": [
    "- Sample rows:"
   ]
  },
  {
   "cell_type": "code",
   "execution_count": 126,
   "metadata": {},
   "outputs": [
    {
     "data": {
      "text/html": [
       "<div>\n",
       "<style scoped>\n",
       "    .dataframe tbody tr th:only-of-type {\n",
       "        vertical-align: middle;\n",
       "    }\n",
       "\n",
       "    .dataframe tbody tr th {\n",
       "        vertical-align: top;\n",
       "    }\n",
       "\n",
       "    .dataframe thead th {\n",
       "        text-align: right;\n",
       "    }\n",
       "</style>\n",
       "<table border=\"1\" class=\"dataframe\">\n",
       "  <thead>\n",
       "    <tr style=\"text-align: right;\">\n",
       "      <th></th>\n",
       "      <th>Unnamed: 0</th>\n",
       "      <th>IMDb-rating</th>\n",
       "      <th>appropriate_for</th>\n",
       "      <th>director</th>\n",
       "      <th>downloads</th>\n",
       "      <th>id</th>\n",
       "      <th>industry</th>\n",
       "      <th>language</th>\n",
       "      <th>posted_date</th>\n",
       "      <th>release_date</th>\n",
       "      <th>run_time</th>\n",
       "      <th>storyline</th>\n",
       "      <th>title</th>\n",
       "      <th>views</th>\n",
       "      <th>writer</th>\n",
       "    </tr>\n",
       "  </thead>\n",
       "  <tbody>\n",
       "    <tr>\n",
       "      <th>17066</th>\n",
       "      <td>17066</td>\n",
       "      <td>5.5</td>\n",
       "      <td>NaN</td>\n",
       "      <td>Nadira Amrani</td>\n",
       "      <td>378</td>\n",
       "      <td>371671</td>\n",
       "      <td>Hollywood / English</td>\n",
       "      <td>English</td>\n",
       "      <td>10 Feb, 2023</td>\n",
       "      <td>Feb 07 2023</td>\n",
       "      <td>NaN</td>\n",
       "      <td>Bold\\r\\n and authentic drama set at an elite s...</td>\n",
       "      <td>Consent</td>\n",
       "      <td>4,459</td>\n",
       "      <td>Emma Dennis-Edwards</td>\n",
       "    </tr>\n",
       "    <tr>\n",
       "      <th>9717</th>\n",
       "      <td>9717</td>\n",
       "      <td>8.1</td>\n",
       "      <td>NaN</td>\n",
       "      <td>Venky Atluri</td>\n",
       "      <td>1,987</td>\n",
       "      <td>372090</td>\n",
       "      <td>Tollywood</td>\n",
       "      <td>Hindi</td>\n",
       "      <td>20 Feb, 2023</td>\n",
       "      <td>Feb 17 2023</td>\n",
       "      <td>139</td>\n",
       "      <td>The life of a young man and his struggles agai...</td>\n",
       "      <td>Vaathi</td>\n",
       "      <td>6,511</td>\n",
       "      <td>Venky Atluri</td>\n",
       "    </tr>\n",
       "    <tr>\n",
       "      <th>4622</th>\n",
       "      <td>4622</td>\n",
       "      <td>3.7</td>\n",
       "      <td>NaN</td>\n",
       "      <td>David Liban</td>\n",
       "      <td>525</td>\n",
       "      <td>334120</td>\n",
       "      <td>Hollywood / English</td>\n",
       "      <td>English</td>\n",
       "      <td>30 Sep, 2020</td>\n",
       "      <td>Sep 22 2020</td>\n",
       "      <td>104</td>\n",
       "      <td>An orphaned boy in a post-apocalyptic world, m...</td>\n",
       "      <td>A Feral World</td>\n",
       "      <td>7,351</td>\n",
       "      <td>David Liban</td>\n",
       "    </tr>\n",
       "    <tr>\n",
       "      <th>16319</th>\n",
       "      <td>16319</td>\n",
       "      <td>NaN</td>\n",
       "      <td>NaN</td>\n",
       "      <td>NaN</td>\n",
       "      <td>1,782</td>\n",
       "      <td>371740</td>\n",
       "      <td>Wrestling</td>\n",
       "      <td>English</td>\n",
       "      <td>13 Feb, 2023</td>\n",
       "      <td>Feb 10 2023</td>\n",
       "      <td>NaN</td>\n",
       "      <td>NaN</td>\n",
       "      <td>WWE Smackdown 2023-02-10</td>\n",
       "      <td>4,912</td>\n",
       "      <td>NaN</td>\n",
       "    </tr>\n",
       "    <tr>\n",
       "      <th>11368</th>\n",
       "      <td>11368</td>\n",
       "      <td>6.2</td>\n",
       "      <td>R</td>\n",
       "      <td>Brian DeCubellis</td>\n",
       "      <td>6,213</td>\n",
       "      <td>178448</td>\n",
       "      <td>Hollywood / English</td>\n",
       "      <td>English</td>\n",
       "      <td>21 May, 2016</td>\n",
       "      <td>May 20 2016</td>\n",
       "      <td>1h 53min</td>\n",
       "      <td>Based on Colin Harrison's acclaimed novel Manh...</td>\n",
       "      <td>Manhattan Nocturne (Manhattan Night)</td>\n",
       "      <td>25,774</td>\n",
       "      <td>Brian DeCubellis, Colin Harrison</td>\n",
       "    </tr>\n",
       "  </tbody>\n",
       "</table>\n",
       "</div>"
      ],
      "text/plain": [
       "       Unnamed: 0  IMDb-rating appropriate_for          director downloads  \\\n",
       "17066       17066          5.5             NaN     Nadira Amrani       378   \n",
       "9717         9717          8.1             NaN      Venky Atluri     1,987   \n",
       "4622         4622          3.7             NaN       David Liban       525   \n",
       "16319       16319          NaN             NaN               NaN     1,782   \n",
       "11368       11368          6.2               R  Brian DeCubellis     6,213   \n",
       "\n",
       "           id             industry language   posted_date release_date  \\\n",
       "17066  371671  Hollywood / English  English  10 Feb, 2023  Feb 07 2023   \n",
       "9717   372090            Tollywood    Hindi  20 Feb, 2023  Feb 17 2023   \n",
       "4622   334120  Hollywood / English  English  30 Sep, 2020  Sep 22 2020   \n",
       "16319  371740            Wrestling  English  13 Feb, 2023  Feb 10 2023   \n",
       "11368  178448  Hollywood / English  English  21 May, 2016  May 20 2016   \n",
       "\n",
       "       run_time                                          storyline  \\\n",
       "17066       NaN  Bold\\r\\n and authentic drama set at an elite s...   \n",
       "9717        139  The life of a young man and his struggles agai...   \n",
       "4622        104  An orphaned boy in a post-apocalyptic world, m...   \n",
       "16319       NaN                                                NaN   \n",
       "11368  1h 53min  Based on Colin Harrison's acclaimed novel Manh...   \n",
       "\n",
       "                                      title   views  \\\n",
       "17066                               Consent   4,459   \n",
       "9717                                 Vaathi   6,511   \n",
       "4622                          A Feral World   7,351   \n",
       "16319              WWE Smackdown 2023-02-10   4,912   \n",
       "11368  Manhattan Nocturne (Manhattan Night)  25,774   \n",
       "\n",
       "                                 writer  \n",
       "17066               Emma Dennis-Edwards  \n",
       "9717                       Venky Atluri  \n",
       "4622                        David Liban  \n",
       "16319                               NaN  \n",
       "11368  Brian DeCubellis, Colin Harrison  "
      ]
     },
     "execution_count": 126,
     "metadata": {},
     "output_type": "execute_result"
    }
   ],
   "source": [
    "data.sample(5)"
   ]
  },
  {
   "attachments": {},
   "cell_type": "markdown",
   "metadata": {},
   "source": [
    "# **Understanding the Dataset**\n",
    "\n",
    "---"
   ]
  },
  {
   "attachments": {},
   "cell_type": "markdown",
   "metadata": {},
   "source": [
    "Before we can start describing and analyzing the Data, it's important to comprehend what variables are present in the Dataset and the values they hold. For that, we will use a simple markdown table explaining the contents of the Dataset:\n",
    "\n",
    "**Table 1.1: Variable Dictionary and Analysis**\n",
    "\n",
    "| Variable Name             | Variable Contents                 | Variable Importance for Analysis             | Comments About Variable                                                                        |\n",
    "|---------------------------|-----------------------------------|----------------------------------------------|------------------------------------------------------------------------------------------------|\n",
    "| **`Unnamed:0`**           | Row id native to the Dataset      | 🔴 Irrelevant                                 | Not needed since Pandas Dataframes already comes with a Id column                              |\n",
    "| **`IMDB-rating`**         | Rating of the movie on IMDB       | 🟢 High                                       | None                                                                                           |\n",
    "| **`appropriate_for`**     | Movie classification rating       | 🟡 Medium                                     | Interesting possibilities for analysis. Be careful with the amount of different rating systems |\n",
    "| **`director`**            | Name of movie director            | 🟡 Medium                                     | None                                                                                           |\n",
    "| **`dowloads`**            | Number of dowloads per movie      | 🟢 High                                       | None                                                                                           |\n",
    "| **`id`**                  | Unique Id per movie               | 🔴 Irrelevant                                 | Same motive as the first variable                                                              |\n",
    "| **`industry`**            | Industry that produced the movie  | 🟢 High                                       | None                                                                                           |\n",
    "| **`language`**            | Available languages for the movie | 🟠 Low                                         | Not much important for the analysis as a hole, but not totally irrelevant                      |\n",
    "| **`posted_date`**         | When the movie was posted on the platform | 🟢 High                                | Very important metric for the analysis                                                         |\n",
    "| **`released_date`**       | When the movie was released worldwide | 🟢 High                                    | In conjunction with the variable above, opens up lots of analytical possibilities             |\n",
    "| **`run_time`**            | Runtime of the movie (minutes)    | 🟡 Medium                                      | None                                                                                           |\n",
    "| **`storyline`**           | Movie synopsis                    | 🔴 Irrelevant                                  | For the pourposes of this analysis, the movie storyline is not needed                          |\n",
    "| **`title`**               | Movie title                       | 🟢 High                                      | Without a name, there is no movie!                                                             |\n",
    "| **`views`**               | Number of clicks per movie        | 🟢 High                                          | Very important metric alongside with downloads                                                  |\n",
    "| **`writer`**              | List of all the movie writers     | 🟠 Low                                          | None                                                                                           |\n"
   ]
  },
  {
   "attachments": {},
   "cell_type": "markdown",
   "metadata": {},
   "source": [
    "With this table, we can identify the important and the not so important variables of the Dataset, but before we can trasnform or delete this data, we will keep it to still analyse and describe it. For that, we weill begin by checking the Dataset dimensons with the **`.shape`** method:"
   ]
  },
  {
   "cell_type": "code",
   "execution_count": 127,
   "metadata": {},
   "outputs": [
    {
     "name": "stdout",
     "output_type": "stream",
     "text": [
      "Total Variables: 15\n",
      "Total Rows: 20548\n"
     ]
    }
   ],
   "source": [
    "# Checking dataset dimensions:\n",
    "print(f'Total Variables: {data.shape[1]}\\nTotal Rows: {data.shape[0]}')"
   ]
  },
  {
   "attachments": {},
   "cell_type": "markdown",
   "metadata": {},
   "source": [
    "We can see that this is a rather large Dataset, containing more than 20k registry entries. Now, lets use the **`.info()`** method to gather more detailed information about these variables:"
   ]
  },
  {
   "cell_type": "code",
   "execution_count": 128,
   "metadata": {},
   "outputs": [
    {
     "name": "stdout",
     "output_type": "stream",
     "text": [
      "<class 'pandas.core.frame.DataFrame'>\n",
      "RangeIndex: 20548 entries, 0 to 20547\n",
      "Data columns (total 15 columns):\n",
      " #   Column           Non-Null Count  Dtype  \n",
      "---  ------           --------------  -----  \n",
      " 0   Unnamed: 0       20548 non-null  int64  \n",
      " 1   IMDb-rating      19707 non-null  float64\n",
      " 2   appropriate_for  11072 non-null  object \n",
      " 3   director         18610 non-null  object \n",
      " 4   downloads        20547 non-null  object \n",
      " 5   id               20548 non-null  int64  \n",
      " 6   industry         20547 non-null  object \n",
      " 7   language         20006 non-null  object \n",
      " 8   posted_date      20547 non-null  object \n",
      " 9   release_date     20547 non-null  object \n",
      " 10  run_time         18780 non-null  object \n",
      " 11  storyline        18847 non-null  object \n",
      " 12  title            20547 non-null  object \n",
      " 13  views            20547 non-null  object \n",
      " 14  writer           18356 non-null  object \n",
      "dtypes: float64(1), int64(2), object(12)\n",
      "memory usage: 2.4+ MB\n"
     ]
    }
   ],
   "source": [
    "# Cheking general information about the Dataset:\n",
    "data.info()"
   ]
  },
  {
   "attachments": {},
   "cell_type": "markdown",
   "metadata": {},
   "source": [
    "Now we have a lot more information about the specific variables of the Dataset:\n",
    "\n",
    "**Null Values**\n",
    "\n",
    "- We have null values in all columns except the **`id`** variable.\n",
    "\n",
    "**Data Types**\n",
    "\n",
    "- In the Dataset, we have one **`float64`** variable, two **`int64`** variables and twelve **`object`** variables.\n",
    "\n",
    "**Memory Usage**\n",
    "\n",
    "- The Dataset, in it`s current form, consumes over 2.4 MB of memory.\n",
    "\n",
    "**Proposed Changes**\n",
    "\n",
    "- Make an acessement and deal with the null values;\n",
    "\n",
    "- Change most of the Data Types to boost the memory efficiency. Also this is the most important change in this case because most of the variables are not in a apropriate data format, i.e. **`posted_date`** being a object data type instead of datetime and **`runtime`** being a object type instead of float or int.\n",
    "\n",
    "Now, let`s check the exact amout of null values in each column, as well as the percentage that it represents:"
   ]
  },
  {
   "cell_type": "code",
   "execution_count": 129,
   "metadata": {},
   "outputs": [
    {
     "data": {
      "text/plain": [
       "appropriate_for    9476\n",
       "writer             2192\n",
       "director           1938\n",
       "run_time           1768\n",
       "storyline          1701\n",
       "IMDb-rating         841\n",
       "language            542\n",
       "downloads             1\n",
       "industry              1\n",
       "posted_date           1\n",
       "release_date          1\n",
       "title                 1\n",
       "views                 1\n",
       "Unnamed: 0            0\n",
       "id                    0\n",
       "dtype: int64"
      ]
     },
     "execution_count": 129,
     "metadata": {},
     "output_type": "execute_result"
    }
   ],
   "source": [
    "# Checking total null values:\n",
    "null_count = (data\n",
    "              .isna()\n",
    "              .sum()\n",
    "              .sort_values(ascending=False))\n",
    "\n",
    "null_count"
   ]
  },
  {
   "cell_type": "code",
   "execution_count": 130,
   "metadata": {},
   "outputs": [
    {
     "data": {
      "text/plain": [
       "appropriate_for    46.1164\n",
       "writer             10.6677\n",
       "director            9.4316\n",
       "run_time            8.6042\n",
       "storyline           8.2782\n",
       "IMDb-rating         4.0929\n",
       "language            2.6377\n",
       "downloads           0.0049\n",
       "industry            0.0049\n",
       "posted_date         0.0049\n",
       "release_date        0.0049\n",
       "title               0.0049\n",
       "views               0.0049\n",
       "Unnamed: 0          0.0000\n",
       "id                  0.0000\n",
       "dtype: float64"
      ]
     },
     "execution_count": 130,
     "metadata": {},
     "output_type": "execute_result"
    }
   ],
   "source": [
    "# Check percentage of total size:\n",
    "null_percentage = round((data.isna().sum()/data.shape[0]) * 100, 4)\n",
    "\n",
    "null_percentage.sort_values(ascending=False)"
   ]
  },
  {
   "attachments": {},
   "cell_type": "markdown",
   "metadata": {},
   "source": [
    "immediately we can see that the variable **`appropriate_for`** is basically useless for the analysis. With 9.476 missing values representing more than 46% of the total data size, this variable is too empty to be filled in using different methods. For that reason, it will be dropped in the cleaning step.\n",
    "\n",
    "The **`writer`** column also has a good amout of missing values, 2.192 nulls representing more than 10.5% of the total data size. As this variable was already deemed as having a low priority in Table 1.1 previously made, it will also be dropped in the cleaning phase.\n",
    "\n",
    "The same cannot be said about the **`director`** variable, as altough it also has almost the same amount of null values as the **`writer`** column, it has a substancial potencial for analysis, being labeled as High priority in Table 1.1.\n",
    "\n",
    "The **`runtime`** and **`storyline`** variables both have a similar amout of missing values (around 8.5% of the total data). The first of them can and will be filled in using the **`mode()`** of the variable (as this metric is not much affected by the presence of outliers and should maintain the data consistency), the second variable is going to be dropped as stated in Table 1.1.\n",
    "\n",
    "All other variables have little to none Null values and can be easily filled in or dropped (like the **`Unnamed: 0`** column).\n"
   ]
  },
  {
   "attachments": {},
   "cell_type": "markdown",
   "metadata": {},
   "source": [
    "# **Data Prep, Cleaning and Feature Engineering**\n",
    "\n",
    "---"
   ]
  },
  {
   "attachments": {},
   "cell_type": "markdown",
   "metadata": {},
   "source": [
    "Here we will make all of the changes that are needed in the dataset, all of them being described in the section above. For a detailed view of what exactly we will be doing here:\n",
    "\n",
    "- Drop useless or undesirable variables;\n",
    "\n",
    "- Rename the variables if necessary;\n",
    "\n",
    "- Handle missing (null) values;\n",
    "\n",
    "- Change data types;\n",
    "\n",
    "- Handle duplicates, and\n",
    "\n",
    "- Adding new features to the dataset (feature engineering).\n",
    "\n",
    "Let's begin with the dropping of useless variables."
   ]
  },
  {
   "attachments": {},
   "cell_type": "markdown",
   "metadata": {},
   "source": [
    "## **_Dropping Variables_**"
   ]
  },
  {
   "attachments": {},
   "cell_type": "markdown",
   "metadata": {},
   "source": [
    "As indicated by Table 1.1 and our subsequent analysis of null values, we have some variables that will be dropped and some that can be filled to use in the analysis. The following are the variables that will be deleted from the dataset:\n",
    "\n",
    "**Variables to Drop**\n",
    "\n",
    "- **`Unnamed: 0`**\n",
    "\n",
    "- **`id`**\n",
    "\n",
    "- **`storyline`**\n",
    "\n",
    "- **`writer`**\n",
    "\n",
    "- **`appropriate_for`**\n",
    "\n",
    "For the manipulation of the dataset, we will create a copy of the Dataframe:"
   ]
  },
  {
   "cell_type": "code",
   "execution_count": 131,
   "metadata": {},
   "outputs": [],
   "source": [
    "# Creating manipulation copy:\n",
    "pirated_films = data.copy()"
   ]
  },
  {
   "attachments": {},
   "cell_type": "markdown",
   "metadata": {},
   "source": [
    "Now, we can drop the undesirable variables:"
   ]
  },
  {
   "cell_type": "code",
   "execution_count": 132,
   "metadata": {},
   "outputs": [],
   "source": [
    "# Dropping variables:\n",
    "pirated_films = (pirated_films\n",
    "                 .drop(['Unnamed: 0', 'id', 'storyline', 'writer', 'appropriate_for'], \n",
    "                       axis=1))"
   ]
  },
  {
   "cell_type": "code",
   "execution_count": 133,
   "metadata": {},
   "outputs": [
    {
     "data": {
      "text/html": [
       "<div>\n",
       "<style scoped>\n",
       "    .dataframe tbody tr th:only-of-type {\n",
       "        vertical-align: middle;\n",
       "    }\n",
       "\n",
       "    .dataframe tbody tr th {\n",
       "        vertical-align: top;\n",
       "    }\n",
       "\n",
       "    .dataframe thead th {\n",
       "        text-align: right;\n",
       "    }\n",
       "</style>\n",
       "<table border=\"1\" class=\"dataframe\">\n",
       "  <thead>\n",
       "    <tr style=\"text-align: right;\">\n",
       "      <th></th>\n",
       "      <th>IMDb-rating</th>\n",
       "      <th>director</th>\n",
       "      <th>downloads</th>\n",
       "      <th>industry</th>\n",
       "      <th>language</th>\n",
       "      <th>posted_date</th>\n",
       "      <th>release_date</th>\n",
       "      <th>run_time</th>\n",
       "      <th>title</th>\n",
       "      <th>views</th>\n",
       "    </tr>\n",
       "  </thead>\n",
       "  <tbody>\n",
       "    <tr>\n",
       "      <th>0</th>\n",
       "      <td>4.8</td>\n",
       "      <td>John Swab</td>\n",
       "      <td>304</td>\n",
       "      <td>Hollywood / English</td>\n",
       "      <td>English</td>\n",
       "      <td>20 Feb, 2023</td>\n",
       "      <td>Jan 28 2023</td>\n",
       "      <td>105</td>\n",
       "      <td>Little Dixie</td>\n",
       "      <td>2,794</td>\n",
       "    </tr>\n",
       "    <tr>\n",
       "      <th>1</th>\n",
       "      <td>6.4</td>\n",
       "      <td>Paul Ziller</td>\n",
       "      <td>73</td>\n",
       "      <td>Hollywood / English</td>\n",
       "      <td>English</td>\n",
       "      <td>20 Feb, 2023</td>\n",
       "      <td>Feb 05 2023</td>\n",
       "      <td>84</td>\n",
       "      <td>Grilling Season: A Curious Caterer Mystery</td>\n",
       "      <td>1,002</td>\n",
       "    </tr>\n",
       "    <tr>\n",
       "      <th>2</th>\n",
       "      <td>5.2</td>\n",
       "      <td>Ben Wheatley</td>\n",
       "      <td>1,427</td>\n",
       "      <td>Hollywood / English</td>\n",
       "      <td>English,Hindi</td>\n",
       "      <td>20 Apr, 2021</td>\n",
       "      <td>Jun 18 2021</td>\n",
       "      <td>1h 47min</td>\n",
       "      <td>In the Earth</td>\n",
       "      <td>14,419</td>\n",
       "    </tr>\n",
       "    <tr>\n",
       "      <th>3</th>\n",
       "      <td>8.1</td>\n",
       "      <td>Venky Atluri</td>\n",
       "      <td>1,549</td>\n",
       "      <td>Tollywood</td>\n",
       "      <td>Hindi</td>\n",
       "      <td>20 Feb, 2023</td>\n",
       "      <td>Feb 17 2023</td>\n",
       "      <td>139</td>\n",
       "      <td>Vaathi</td>\n",
       "      <td>4,878</td>\n",
       "    </tr>\n",
       "    <tr>\n",
       "      <th>4</th>\n",
       "      <td>4.6</td>\n",
       "      <td>Shaji Kailas</td>\n",
       "      <td>657</td>\n",
       "      <td>Tollywood</td>\n",
       "      <td>Hindi</td>\n",
       "      <td>20 Feb, 2023</td>\n",
       "      <td>Jan 26 2023</td>\n",
       "      <td>122</td>\n",
       "      <td>Alone</td>\n",
       "      <td>2,438</td>\n",
       "    </tr>\n",
       "  </tbody>\n",
       "</table>\n",
       "</div>"
      ],
      "text/plain": [
       "   IMDb-rating      director downloads             industry       language  \\\n",
       "0          4.8     John Swab       304  Hollywood / English        English   \n",
       "1          6.4   Paul Ziller        73  Hollywood / English        English   \n",
       "2          5.2  Ben Wheatley     1,427  Hollywood / English  English,Hindi   \n",
       "3          8.1  Venky Atluri     1,549            Tollywood          Hindi   \n",
       "4          4.6  Shaji Kailas       657            Tollywood          Hindi   \n",
       "\n",
       "    posted_date release_date  run_time  \\\n",
       "0  20 Feb, 2023  Jan 28 2023       105   \n",
       "1  20 Feb, 2023  Feb 05 2023        84   \n",
       "2  20 Apr, 2021  Jun 18 2021  1h 47min   \n",
       "3  20 Feb, 2023  Feb 17 2023       139   \n",
       "4  20 Feb, 2023  Jan 26 2023       122   \n",
       "\n",
       "                                        title   views  \n",
       "0                                Little Dixie   2,794  \n",
       "1  Grilling Season: A Curious Caterer Mystery   1,002  \n",
       "2                                In the Earth  14,419  \n",
       "3                                      Vaathi   4,878  \n",
       "4                                       Alone   2,438  "
      ]
     },
     "execution_count": 133,
     "metadata": {},
     "output_type": "execute_result"
    }
   ],
   "source": [
    "# Cheking new data:\n",
    "pirated_films.head()"
   ]
  },
  {
   "attachments": {},
   "cell_type": "markdown",
   "metadata": {},
   "source": [
    "## **_Renaming Variables_**"
   ]
  },
  {
   "attachments": {},
   "cell_type": "markdown",
   "metadata": {},
   "source": [
    "With only the variables that we want in the dataset, we will change some variable names for the pourpose of standardizing the dataset and to have the best naming convention possible (short and descriptive)."
   ]
  },
  {
   "cell_type": "code",
   "execution_count": 134,
   "metadata": {},
   "outputs": [
    {
     "data": {
      "text/html": [
       "<div>\n",
       "<style scoped>\n",
       "    .dataframe tbody tr th:only-of-type {\n",
       "        vertical-align: middle;\n",
       "    }\n",
       "\n",
       "    .dataframe tbody tr th {\n",
       "        vertical-align: top;\n",
       "    }\n",
       "\n",
       "    .dataframe thead th {\n",
       "        text-align: right;\n",
       "    }\n",
       "</style>\n",
       "<table border=\"1\" class=\"dataframe\">\n",
       "  <thead>\n",
       "    <tr style=\"text-align: right;\">\n",
       "      <th></th>\n",
       "      <th>imdb_user_rating</th>\n",
       "      <th>film_director</th>\n",
       "      <th>downloads</th>\n",
       "      <th>industry</th>\n",
       "      <th>available_langs</th>\n",
       "      <th>platform_post_date</th>\n",
       "      <th>worldwide_release</th>\n",
       "      <th>run_time_min</th>\n",
       "      <th>movie_title</th>\n",
       "      <th>total_views</th>\n",
       "    </tr>\n",
       "  </thead>\n",
       "  <tbody>\n",
       "    <tr>\n",
       "      <th>0</th>\n",
       "      <td>4.8</td>\n",
       "      <td>John Swab</td>\n",
       "      <td>304</td>\n",
       "      <td>Hollywood / English</td>\n",
       "      <td>English</td>\n",
       "      <td>20 Feb, 2023</td>\n",
       "      <td>Jan 28 2023</td>\n",
       "      <td>105</td>\n",
       "      <td>Little Dixie</td>\n",
       "      <td>2,794</td>\n",
       "    </tr>\n",
       "    <tr>\n",
       "      <th>1</th>\n",
       "      <td>6.4</td>\n",
       "      <td>Paul Ziller</td>\n",
       "      <td>73</td>\n",
       "      <td>Hollywood / English</td>\n",
       "      <td>English</td>\n",
       "      <td>20 Feb, 2023</td>\n",
       "      <td>Feb 05 2023</td>\n",
       "      <td>84</td>\n",
       "      <td>Grilling Season: A Curious Caterer Mystery</td>\n",
       "      <td>1,002</td>\n",
       "    </tr>\n",
       "    <tr>\n",
       "      <th>2</th>\n",
       "      <td>5.2</td>\n",
       "      <td>Ben Wheatley</td>\n",
       "      <td>1,427</td>\n",
       "      <td>Hollywood / English</td>\n",
       "      <td>English,Hindi</td>\n",
       "      <td>20 Apr, 2021</td>\n",
       "      <td>Jun 18 2021</td>\n",
       "      <td>1h 47min</td>\n",
       "      <td>In the Earth</td>\n",
       "      <td>14,419</td>\n",
       "    </tr>\n",
       "    <tr>\n",
       "      <th>3</th>\n",
       "      <td>8.1</td>\n",
       "      <td>Venky Atluri</td>\n",
       "      <td>1,549</td>\n",
       "      <td>Tollywood</td>\n",
       "      <td>Hindi</td>\n",
       "      <td>20 Feb, 2023</td>\n",
       "      <td>Feb 17 2023</td>\n",
       "      <td>139</td>\n",
       "      <td>Vaathi</td>\n",
       "      <td>4,878</td>\n",
       "    </tr>\n",
       "    <tr>\n",
       "      <th>4</th>\n",
       "      <td>4.6</td>\n",
       "      <td>Shaji Kailas</td>\n",
       "      <td>657</td>\n",
       "      <td>Tollywood</td>\n",
       "      <td>Hindi</td>\n",
       "      <td>20 Feb, 2023</td>\n",
       "      <td>Jan 26 2023</td>\n",
       "      <td>122</td>\n",
       "      <td>Alone</td>\n",
       "      <td>2,438</td>\n",
       "    </tr>\n",
       "  </tbody>\n",
       "</table>\n",
       "</div>"
      ],
      "text/plain": [
       "   imdb_user_rating film_director downloads             industry  \\\n",
       "0               4.8     John Swab       304  Hollywood / English   \n",
       "1               6.4   Paul Ziller        73  Hollywood / English   \n",
       "2               5.2  Ben Wheatley     1,427  Hollywood / English   \n",
       "3               8.1  Venky Atluri     1,549            Tollywood   \n",
       "4               4.6  Shaji Kailas       657            Tollywood   \n",
       "\n",
       "  available_langs platform_post_date worldwide_release run_time_min  \\\n",
       "0         English       20 Feb, 2023       Jan 28 2023          105   \n",
       "1         English       20 Feb, 2023       Feb 05 2023           84   \n",
       "2   English,Hindi       20 Apr, 2021       Jun 18 2021     1h 47min   \n",
       "3           Hindi       20 Feb, 2023       Feb 17 2023          139   \n",
       "4           Hindi       20 Feb, 2023       Jan 26 2023          122   \n",
       "\n",
       "                                  movie_title total_views  \n",
       "0                                Little Dixie       2,794  \n",
       "1  Grilling Season: A Curious Caterer Mystery       1,002  \n",
       "2                                In the Earth      14,419  \n",
       "3                                      Vaathi       4,878  \n",
       "4                                       Alone       2,438  "
      ]
     },
     "execution_count": 134,
     "metadata": {},
     "output_type": "execute_result"
    }
   ],
   "source": [
    "# Renaming variables:\n",
    "pirated_films = pirated_films.rename(columns={'IMDb-rating': 'imdb_user_rating',\n",
    "                                              'director': 'film_director',\n",
    "                                              'language': 'available_langs',\n",
    "                                              'posted_date': 'platform_post_date',\n",
    "                                              'release_date': 'worldwide_release',\n",
    "                                              'run_time': 'run_time_min',\n",
    "                                              'title': 'movie_title',\n",
    "                                              'views': 'total_views'})\n",
    "\n",
    "# Cheking data:\n",
    "pirated_films.head()"
   ]
  },
  {
   "attachments": {},
   "cell_type": "markdown",
   "metadata": {},
   "source": [
    "## **_Handling Null Values_**"
   ]
  },
  {
   "attachments": {},
   "cell_type": "markdown",
   "metadata": {},
   "source": [
    "Before we can determine the best practices for dealing with null values, let's check the null values of the variables still present in the dataset."
   ]
  },
  {
   "cell_type": "code",
   "execution_count": 135,
   "metadata": {},
   "outputs": [
    {
     "data": {
      "text/plain": [
       "imdb_user_rating      4.0929\n",
       "film_director         9.4316\n",
       "downloads             0.0049\n",
       "industry              0.0049\n",
       "available_langs       2.6377\n",
       "platform_post_date    0.0049\n",
       "worldwide_release     0.0049\n",
       "run_time_min          8.6042\n",
       "movie_title           0.0049\n",
       "total_views           0.0049\n",
       "dtype: float64"
      ]
     },
     "execution_count": 135,
     "metadata": {},
     "output_type": "execute_result"
    }
   ],
   "source": [
    "# Checking null values:\n",
    "round((pirated_films.isna().sum()/pirated_films.shape[0]) * 100, 4)"
   ]
  },
  {
   "attachments": {},
   "cell_type": "markdown",
   "metadata": {},
   "source": [
    "With that information, let's deal with these values, one variable at a time."
   ]
  },
  {
   "attachments": {},
   "cell_type": "markdown",
   "metadata": {},
   "source": [
    "### **`imdb_user_rating`**"
   ]
  },
  {
   "attachments": {},
   "cell_type": "markdown",
   "metadata": {},
   "source": [
    "Let's get a better look at this variable:"
   ]
  },
  {
   "cell_type": "code",
   "execution_count": 136,
   "metadata": {},
   "outputs": [
    {
     "data": {
      "text/plain": [
       "count    19707.000000\n",
       "mean         5.762151\n",
       "std          1.374041\n",
       "min          1.100000\n",
       "25%          4.800000\n",
       "50%          5.700000\n",
       "75%          6.600000\n",
       "max          9.900000\n",
       "Name: imdb_user_rating, dtype: float64"
      ]
     },
     "execution_count": 136,
     "metadata": {},
     "output_type": "execute_result"
    }
   ],
   "source": [
    "pirated_films['imdb_user_rating'].describe()"
   ]
  },
  {
   "attachments": {},
   "cell_type": "markdown",
   "metadata": {},
   "source": [
    "For the fill method, we will use the mean of the total values of the variable:"
   ]
  },
  {
   "cell_type": "code",
   "execution_count": 137,
   "metadata": {},
   "outputs": [
    {
     "data": {
      "text/plain": [
       "5.8"
      ]
     },
     "execution_count": 137,
     "metadata": {},
     "output_type": "execute_result"
    }
   ],
   "source": [
    "# Defining mean:\n",
    "mean_ratings = pirated_films['imdb_user_rating'].mean().round(1)\n",
    "\n",
    "mean_ratings"
   ]
  },
  {
   "cell_type": "code",
   "execution_count": 138,
   "metadata": {},
   "outputs": [
    {
     "data": {
      "text/plain": [
       "0"
      ]
     },
     "execution_count": 138,
     "metadata": {},
     "output_type": "execute_result"
    }
   ],
   "source": [
    "# Placing mean in all null values at the variable:\n",
    "pirated_films['imdb_user_rating'] = (pirated_films['imdb_user_rating']\n",
    "                                     .fillna(mean_ratings))\n",
    "\n",
    "pirated_films['imdb_user_rating'].isna().sum()"
   ]
  },
  {
   "cell_type": "code",
   "execution_count": 139,
   "metadata": {},
   "outputs": [
    {
     "data": {
      "text/plain": [
       "count    20548.000000\n",
       "mean         5.763700\n",
       "std          1.345648\n",
       "min          1.100000\n",
       "25%          4.900000\n",
       "50%          5.800000\n",
       "75%          6.600000\n",
       "max          9.900000\n",
       "Name: imdb_user_rating, dtype: float64"
      ]
     },
     "execution_count": 139,
     "metadata": {},
     "output_type": "execute_result"
    }
   ],
   "source": [
    "# Checking statistics:\n",
    "pirated_films['imdb_user_rating'].describe()"
   ]
  },
  {
   "attachments": {},
   "cell_type": "markdown",
   "metadata": {},
   "source": [
    "### **`film_director`**"
   ]
  },
  {
   "cell_type": "markdown",
   "metadata": {},
   "source": []
  }
 ],
 "metadata": {
  "kernelspec": {
   "display_name": "pirate_venv",
   "language": "python",
   "name": "python3"
  },
  "language_info": {
   "codemirror_mode": {
    "name": "ipython",
    "version": 3
   },
   "file_extension": ".py",
   "mimetype": "text/x-python",
   "name": "python",
   "nbconvert_exporter": "python",
   "pygments_lexer": "ipython3",
   "version": "3.10.9"
  },
  "orig_nbformat": 4
 },
 "nbformat": 4,
 "nbformat_minor": 2
}
