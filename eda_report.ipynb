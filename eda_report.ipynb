{
 "cells": [
  {
   "attachments": {},
   "cell_type": "markdown",
   "metadata": {},
   "source": [
    "# **General Objectives**\n",
    "\n",
    "---"
   ]
  },
  {
   "attachments": {},
   "cell_type": "markdown",
   "metadata": {},
   "source": [
    "The general objective of this project is to analyze data from a [Kaggle Dataset](https://www.kaggle.com/datasets/arsalanrehman/movies-dataset-from-piracy-website) that has been gathered from a pirated website that has a user base of around 2M visitors per month. This data contains more than 20,000+ movies from all industries such as Hollywood, Bollywood, Anime, etc. The goal is to to describe the data the best as possible, utilizing data science methods, statistical aproaches to the data and the creation of a detailed report.\n",
    "\n",
    "The steps for the creation of the report are as follows:\n",
    "\n",
    "- Collect and Understanding of the Data.\n",
    "\n",
    "- Data Prep and Transformation.\n",
    "- Univariate Analysis.\n",
    "- Multivariate Analysis.\n",
    "- Questions, Insights and Answers."
   ]
  },
  {
   "attachments": {},
   "cell_type": "markdown",
   "metadata": {},
   "source": [
    "# **Importing Packages and Collecting the Dataset**\n",
    "\n",
    "---"
   ]
  },
  {
   "cell_type": "code",
   "execution_count": 478,
   "metadata": {},
   "outputs": [
    {
     "name": "stdout",
     "output_type": "stream",
     "text": [
      "Packages collected!\n"
     ]
    }
   ],
   "source": [
    "# Importing libraries needed for the project:\n",
    "import pandas as pd\n",
    "import numpy as np\n",
    "import seaborn as sns\n",
    "import warnings\n",
    "import matplotlib.pyplot as plt\n",
    "import re\n",
    "from matplotlib.pyplot import MaxNLocator, FuncFormatter\n",
    "from matplotlib.font_manager import FontProperties\n",
    "\n",
    "# Setting seaborn plot parameters:\n",
    "sns.set_theme(context='notebook', style='darkgrid')\n",
    "\n",
    "# Filtering out warnings:\n",
    "warnings.filterwarnings('ignore')\n",
    "\n",
    "# Setting pandas dataframe visualization parameters:\n",
    "pd.set_option('display.max_columns', 100)\n",
    "\n",
    "print('Packages collected!')"
   ]
  },
  {
   "cell_type": "code",
   "execution_count": 479,
   "metadata": {},
   "outputs": [],
   "source": [
    "# Creating the Dataframe with original data:\n",
    "data = pd.read_csv('data\\movies_dataset.csv', sep=',')"
   ]
  },
  {
   "attachments": {},
   "cell_type": "markdown",
   "metadata": {},
   "source": [
    "- First rows:"
   ]
  },
  {
   "cell_type": "code",
   "execution_count": 480,
   "metadata": {},
   "outputs": [
    {
     "data": {
      "text/html": [
       "<div>\n",
       "<style scoped>\n",
       "    .dataframe tbody tr th:only-of-type {\n",
       "        vertical-align: middle;\n",
       "    }\n",
       "\n",
       "    .dataframe tbody tr th {\n",
       "        vertical-align: top;\n",
       "    }\n",
       "\n",
       "    .dataframe thead th {\n",
       "        text-align: right;\n",
       "    }\n",
       "</style>\n",
       "<table border=\"1\" class=\"dataframe\">\n",
       "  <thead>\n",
       "    <tr style=\"text-align: right;\">\n",
       "      <th></th>\n",
       "      <th>Unnamed: 0</th>\n",
       "      <th>IMDb-rating</th>\n",
       "      <th>appropriate_for</th>\n",
       "      <th>director</th>\n",
       "      <th>downloads</th>\n",
       "      <th>id</th>\n",
       "      <th>industry</th>\n",
       "      <th>language</th>\n",
       "      <th>posted_date</th>\n",
       "      <th>release_date</th>\n",
       "      <th>run_time</th>\n",
       "      <th>storyline</th>\n",
       "      <th>title</th>\n",
       "      <th>views</th>\n",
       "      <th>writer</th>\n",
       "    </tr>\n",
       "  </thead>\n",
       "  <tbody>\n",
       "    <tr>\n",
       "      <th>0</th>\n",
       "      <td>0</td>\n",
       "      <td>4.8</td>\n",
       "      <td>R</td>\n",
       "      <td>John Swab</td>\n",
       "      <td>304</td>\n",
       "      <td>372092</td>\n",
       "      <td>Hollywood / English</td>\n",
       "      <td>English</td>\n",
       "      <td>20 Feb, 2023</td>\n",
       "      <td>Jan 28 2023</td>\n",
       "      <td>105</td>\n",
       "      <td>Doc\\r\\n facilitates a fragile truce between th...</td>\n",
       "      <td>Little Dixie</td>\n",
       "      <td>2,794</td>\n",
       "      <td>John Swab</td>\n",
       "    </tr>\n",
       "    <tr>\n",
       "      <th>1</th>\n",
       "      <td>1</td>\n",
       "      <td>6.4</td>\n",
       "      <td>TV-PG</td>\n",
       "      <td>Paul Ziller</td>\n",
       "      <td>73</td>\n",
       "      <td>372091</td>\n",
       "      <td>Hollywood / English</td>\n",
       "      <td>English</td>\n",
       "      <td>20 Feb, 2023</td>\n",
       "      <td>Feb 05 2023</td>\n",
       "      <td>84</td>\n",
       "      <td>Caterer\\r\\n Goldy Berry reunites with detectiv...</td>\n",
       "      <td>Grilling Season: A Curious Caterer Mystery</td>\n",
       "      <td>1,002</td>\n",
       "      <td>John Christian Plummer</td>\n",
       "    </tr>\n",
       "    <tr>\n",
       "      <th>2</th>\n",
       "      <td>2</td>\n",
       "      <td>5.2</td>\n",
       "      <td>R</td>\n",
       "      <td>Ben Wheatley</td>\n",
       "      <td>1,427</td>\n",
       "      <td>343381</td>\n",
       "      <td>Hollywood / English</td>\n",
       "      <td>English,Hindi</td>\n",
       "      <td>20 Apr, 2021</td>\n",
       "      <td>Jun 18 2021</td>\n",
       "      <td>1h 47min</td>\n",
       "      <td>As the world searches for a cure to a disastro...</td>\n",
       "      <td>In the Earth</td>\n",
       "      <td>14,419</td>\n",
       "      <td>Ben Wheatley</td>\n",
       "    </tr>\n",
       "    <tr>\n",
       "      <th>3</th>\n",
       "      <td>3</td>\n",
       "      <td>8.1</td>\n",
       "      <td>NaN</td>\n",
       "      <td>Venky Atluri</td>\n",
       "      <td>1,549</td>\n",
       "      <td>372090</td>\n",
       "      <td>Tollywood</td>\n",
       "      <td>Hindi</td>\n",
       "      <td>20 Feb, 2023</td>\n",
       "      <td>Feb 17 2023</td>\n",
       "      <td>139</td>\n",
       "      <td>The life of a young man and his struggles agai...</td>\n",
       "      <td>Vaathi</td>\n",
       "      <td>4,878</td>\n",
       "      <td>Venky Atluri</td>\n",
       "    </tr>\n",
       "    <tr>\n",
       "      <th>4</th>\n",
       "      <td>4</td>\n",
       "      <td>4.6</td>\n",
       "      <td>NaN</td>\n",
       "      <td>Shaji Kailas</td>\n",
       "      <td>657</td>\n",
       "      <td>372089</td>\n",
       "      <td>Tollywood</td>\n",
       "      <td>Hindi</td>\n",
       "      <td>20 Feb, 2023</td>\n",
       "      <td>Jan 26 2023</td>\n",
       "      <td>122</td>\n",
       "      <td>A man named Kalidas gets stranded due to the p...</td>\n",
       "      <td>Alone</td>\n",
       "      <td>2,438</td>\n",
       "      <td>Rajesh Jayaraman</td>\n",
       "    </tr>\n",
       "  </tbody>\n",
       "</table>\n",
       "</div>"
      ],
      "text/plain": [
       "   Unnamed: 0  IMDb-rating appropriate_for      director downloads      id  \\\n",
       "0           0          4.8               R     John Swab       304  372092   \n",
       "1           1          6.4           TV-PG   Paul Ziller        73  372091   \n",
       "2           2          5.2               R  Ben Wheatley     1,427  343381   \n",
       "3           3          8.1             NaN  Venky Atluri     1,549  372090   \n",
       "4           4          4.6             NaN  Shaji Kailas       657  372089   \n",
       "\n",
       "              industry       language   posted_date release_date  run_time  \\\n",
       "0  Hollywood / English        English  20 Feb, 2023  Jan 28 2023       105   \n",
       "1  Hollywood / English        English  20 Feb, 2023  Feb 05 2023        84   \n",
       "2  Hollywood / English  English,Hindi  20 Apr, 2021  Jun 18 2021  1h 47min   \n",
       "3            Tollywood          Hindi  20 Feb, 2023  Feb 17 2023       139   \n",
       "4            Tollywood          Hindi  20 Feb, 2023  Jan 26 2023       122   \n",
       "\n",
       "                                           storyline  \\\n",
       "0  Doc\\r\\n facilitates a fragile truce between th...   \n",
       "1  Caterer\\r\\n Goldy Berry reunites with detectiv...   \n",
       "2  As the world searches for a cure to a disastro...   \n",
       "3  The life of a young man and his struggles agai...   \n",
       "4  A man named Kalidas gets stranded due to the p...   \n",
       "\n",
       "                                        title   views                  writer  \n",
       "0                                Little Dixie   2,794               John Swab  \n",
       "1  Grilling Season: A Curious Caterer Mystery   1,002  John Christian Plummer  \n",
       "2                                In the Earth  14,419            Ben Wheatley  \n",
       "3                                      Vaathi   4,878            Venky Atluri  \n",
       "4                                       Alone   2,438        Rajesh Jayaraman  "
      ]
     },
     "execution_count": 480,
     "metadata": {},
     "output_type": "execute_result"
    }
   ],
   "source": [
    "data.head()"
   ]
  },
  {
   "attachments": {},
   "cell_type": "markdown",
   "metadata": {},
   "source": [
    "- Sample rows:"
   ]
  },
  {
   "cell_type": "code",
   "execution_count": 481,
   "metadata": {},
   "outputs": [
    {
     "data": {
      "text/html": [
       "<div>\n",
       "<style scoped>\n",
       "    .dataframe tbody tr th:only-of-type {\n",
       "        vertical-align: middle;\n",
       "    }\n",
       "\n",
       "    .dataframe tbody tr th {\n",
       "        vertical-align: top;\n",
       "    }\n",
       "\n",
       "    .dataframe thead th {\n",
       "        text-align: right;\n",
       "    }\n",
       "</style>\n",
       "<table border=\"1\" class=\"dataframe\">\n",
       "  <thead>\n",
       "    <tr style=\"text-align: right;\">\n",
       "      <th></th>\n",
       "      <th>Unnamed: 0</th>\n",
       "      <th>IMDb-rating</th>\n",
       "      <th>appropriate_for</th>\n",
       "      <th>director</th>\n",
       "      <th>downloads</th>\n",
       "      <th>id</th>\n",
       "      <th>industry</th>\n",
       "      <th>language</th>\n",
       "      <th>posted_date</th>\n",
       "      <th>release_date</th>\n",
       "      <th>run_time</th>\n",
       "      <th>storyline</th>\n",
       "      <th>title</th>\n",
       "      <th>views</th>\n",
       "      <th>writer</th>\n",
       "    </tr>\n",
       "  </thead>\n",
       "  <tbody>\n",
       "    <tr>\n",
       "      <th>10894</th>\n",
       "      <td>10894</td>\n",
       "      <td>6.1</td>\n",
       "      <td>Not Rated</td>\n",
       "      <td>Pa. Ranjith</td>\n",
       "      <td>70,098</td>\n",
       "      <td>187564</td>\n",
       "      <td>Tollywood</td>\n",
       "      <td>Tamil,Telugu,Hindi,English,Malayalam,Mandarin,...</td>\n",
       "      <td>25 Jul, 2016</td>\n",
       "      <td>Jul 22 2016</td>\n",
       "      <td>153</td>\n",
       "      <td>Kabaleeswaran, a revolutionary who fights for ...</td>\n",
       "      <td>Kabali</td>\n",
       "      <td>163,892</td>\n",
       "      <td>Mohan Nair, Pa. Ranjith</td>\n",
       "    </tr>\n",
       "    <tr>\n",
       "      <th>10579</th>\n",
       "      <td>10579</td>\n",
       "      <td>4.9</td>\n",
       "      <td>NaN</td>\n",
       "      <td>Chris Cordone</td>\n",
       "      <td>894</td>\n",
       "      <td>210147</td>\n",
       "      <td>Hollywood / English</td>\n",
       "      <td>English</td>\n",
       "      <td>13 Jan, 2017</td>\n",
       "      <td>Feb 25 2016</td>\n",
       "      <td>1h 59min</td>\n",
       "      <td>STEVIE D is a humorous crime drama about a Los...</td>\n",
       "      <td>Stevie D</td>\n",
       "      <td>6,407</td>\n",
       "      <td>Chris Cordone, Chris Cordone</td>\n",
       "    </tr>\n",
       "    <tr>\n",
       "      <th>13410</th>\n",
       "      <td>13410</td>\n",
       "      <td>6.7</td>\n",
       "      <td>R</td>\n",
       "      <td>NaN</td>\n",
       "      <td>4,908</td>\n",
       "      <td>117203</td>\n",
       "      <td>Hollywood / English</td>\n",
       "      <td>English,Japanese</td>\n",
       "      <td>10 Jan, 2015</td>\n",
       "      <td>Jan 09 2015</td>\n",
       "      <td>2h 28min</td>\n",
       "      <td>During the psychedelic 60s and 70s Larry \"Doc\"...</td>\n",
       "      <td>Inherent Vice</td>\n",
       "      <td>23,315</td>\n",
       "      <td>NaN</td>\n",
       "    </tr>\n",
       "    <tr>\n",
       "      <th>704</th>\n",
       "      <td>704</td>\n",
       "      <td>4.8</td>\n",
       "      <td>NaN</td>\n",
       "      <td>Adam Leader, Richard Oakes</td>\n",
       "      <td>573</td>\n",
       "      <td>367001</td>\n",
       "      <td>Hollywood / English</td>\n",
       "      <td>English</td>\n",
       "      <td>31 Oct, 2022</td>\n",
       "      <td>Oct 22 2022</td>\n",
       "      <td>96</td>\n",
       "      <td>Following\\r\\n the death of his wife, a broken ...</td>\n",
       "      <td>Feed Me</td>\n",
       "      <td>9,248</td>\n",
       "      <td>Adam Leader, Richard Oakes</td>\n",
       "    </tr>\n",
       "    <tr>\n",
       "      <th>13639</th>\n",
       "      <td>13639</td>\n",
       "      <td>8.8</td>\n",
       "      <td>NaN</td>\n",
       "      <td>Xavier Manrique</td>\n",
       "      <td>75</td>\n",
       "      <td>371744</td>\n",
       "      <td>Hollywood / English</td>\n",
       "      <td>English</td>\n",
       "      <td>13 Feb, 2023</td>\n",
       "      <td>Feb 03 2023</td>\n",
       "      <td>101</td>\n",
       "      <td>Follows\\r\\n a New York City family hiding out ...</td>\n",
       "      <td>Who Invited Charlie?</td>\n",
       "      <td>1,994</td>\n",
       "      <td>Nicholas Schutt</td>\n",
       "    </tr>\n",
       "  </tbody>\n",
       "</table>\n",
       "</div>"
      ],
      "text/plain": [
       "       Unnamed: 0  IMDb-rating appropriate_for                    director  \\\n",
       "10894       10894          6.1       Not Rated                 Pa. Ranjith   \n",
       "10579       10579          4.9             NaN               Chris Cordone   \n",
       "13410       13410          6.7               R                         NaN   \n",
       "704           704          4.8             NaN  Adam Leader, Richard Oakes   \n",
       "13639       13639          8.8             NaN             Xavier Manrique   \n",
       "\n",
       "      downloads      id             industry  \\\n",
       "10894    70,098  187564            Tollywood   \n",
       "10579       894  210147  Hollywood / English   \n",
       "13410     4,908  117203  Hollywood / English   \n",
       "704         573  367001  Hollywood / English   \n",
       "13639        75  371744  Hollywood / English   \n",
       "\n",
       "                                                language   posted_date  \\\n",
       "10894  Tamil,Telugu,Hindi,English,Malayalam,Mandarin,...  25 Jul, 2016   \n",
       "10579                                            English  13 Jan, 2017   \n",
       "13410                                   English,Japanese  10 Jan, 2015   \n",
       "704                                              English  31 Oct, 2022   \n",
       "13639                                            English  13 Feb, 2023   \n",
       "\n",
       "      release_date  run_time  \\\n",
       "10894  Jul 22 2016       153   \n",
       "10579  Feb 25 2016  1h 59min   \n",
       "13410  Jan 09 2015  2h 28min   \n",
       "704    Oct 22 2022        96   \n",
       "13639  Feb 03 2023       101   \n",
       "\n",
       "                                               storyline  \\\n",
       "10894  Kabaleeswaran, a revolutionary who fights for ...   \n",
       "10579  STEVIE D is a humorous crime drama about a Los...   \n",
       "13410  During the psychedelic 60s and 70s Larry \"Doc\"...   \n",
       "704    Following\\r\\n the death of his wife, a broken ...   \n",
       "13639  Follows\\r\\n a New York City family hiding out ...   \n",
       "\n",
       "                      title    views                        writer  \n",
       "10894                Kabali  163,892       Mohan Nair, Pa. Ranjith  \n",
       "10579              Stevie D    6,407  Chris Cordone, Chris Cordone  \n",
       "13410         Inherent Vice   23,315                           NaN  \n",
       "704                 Feed Me    9,248    Adam Leader, Richard Oakes  \n",
       "13639  Who Invited Charlie?    1,994               Nicholas Schutt  "
      ]
     },
     "execution_count": 481,
     "metadata": {},
     "output_type": "execute_result"
    }
   ],
   "source": [
    "data.sample(5)"
   ]
  },
  {
   "attachments": {},
   "cell_type": "markdown",
   "metadata": {},
   "source": [
    "# **Understanding the Dataset**\n",
    "\n",
    "---"
   ]
  },
  {
   "attachments": {},
   "cell_type": "markdown",
   "metadata": {},
   "source": [
    "Before we can start describing and analyzing the Data, it's important to comprehend what variables are present in the Dataset and the values they hold. For that, we will use a simple markdown table explaining the contents of the Dataset:\n",
    "\n",
    "**Table 1.1: Variable Dictionary and Analysis**\n",
    "\n",
    "| Variable Name             | Variable Contents                 | Variable Importance for Analysis             | Comments About Variable                                                                        |\n",
    "|---------------------------|-----------------------------------|----------------------------------------------|------------------------------------------------------------------------------------------------|\n",
    "| **`Unnamed:0`**           | Row id native to the Dataset      | 🔴 Irrelevant                                 | Not needed since Pandas Dataframes already comes with a Id column                              |\n",
    "| **`IMDB-rating`**         | Rating of the movie on IMDB       | 🟢 High                                       | None                                                                                           |\n",
    "| **`appropriate_for`**     | Movie classification rating       | 🟡 Medium                                     | Interesting possibilities for analysis. Be careful with the amount of different rating systems |\n",
    "| **`director`**            | Name of movie director            | 🟡 Medium                                     | None                                                                                           |\n",
    "| **`dowloads`**            | Number of dowloads per movie      | 🟢 High                                       | None                                                                                           |\n",
    "| **`id`**                  | Unique Id per movie               | 🔴 Irrelevant                                 | Same motive as the first variable                                                              |\n",
    "| **`industry`**            | Industry that produced the movie  | 🟢 High                                       | None                                                                                           |\n",
    "| **`language`**            | Available languages for the movie | 🟠 Low                                         | Not much important for the analysis as a hole, but not totally irrelevant                      |\n",
    "| **`posted_date`**         | When the movie was posted on the platform | 🟢 High                                | Very important metric for the analysis                                                         |\n",
    "| **`released_date`**       | When the movie was released worldwide | 🟢 High                                    | In conjunction with the variable above, opens up lots of analytical possibilities             |\n",
    "| **`run_time`**            | Runtime of the movie (minutes)    | 🟡 Medium                                      | None                                                                                           |\n",
    "| **`storyline`**           | Movie synopsis                    | 🔴 Irrelevant                                  | For the pourposes of this analysis, the movie storyline is not needed                          |\n",
    "| **`title`**               | Movie title                       | 🟢 High                                      | Without a name, there is no movie!                                                             |\n",
    "| **`views`**               | Number of clicks per movie        | 🟢 High                                          | Very important metric alongside with downloads                                                  |\n",
    "| **`writer`**              | List of all the movie writers     | 🟠 Low                                          | None                                                                                           |\n"
   ]
  },
  {
   "attachments": {},
   "cell_type": "markdown",
   "metadata": {},
   "source": [
    "With this table, we can identify the important and the not so important variables of the Dataset, but before we can trasnform or delete this data, we will keep it to still analyse and describe it. For that, we weill begin by checking the Dataset dimensons with the **`.shape`** method:"
   ]
  },
  {
   "cell_type": "code",
   "execution_count": 482,
   "metadata": {},
   "outputs": [
    {
     "name": "stdout",
     "output_type": "stream",
     "text": [
      "Total Variables: 15\n",
      "Total Rows: 20548\n"
     ]
    }
   ],
   "source": [
    "# Checking dataset dimensions:\n",
    "print(f'Total Variables: {data.shape[1]}\\nTotal Rows: {data.shape[0]}')"
   ]
  },
  {
   "attachments": {},
   "cell_type": "markdown",
   "metadata": {},
   "source": [
    "We can see that this is a rather large Dataset, containing more than 20k registry entries. Now, lets use the **`.info()`** method to gather more detailed information about these variables:"
   ]
  },
  {
   "cell_type": "code",
   "execution_count": 483,
   "metadata": {},
   "outputs": [
    {
     "name": "stdout",
     "output_type": "stream",
     "text": [
      "<class 'pandas.core.frame.DataFrame'>\n",
      "RangeIndex: 20548 entries, 0 to 20547\n",
      "Data columns (total 15 columns):\n",
      " #   Column           Non-Null Count  Dtype  \n",
      "---  ------           --------------  -----  \n",
      " 0   Unnamed: 0       20548 non-null  int64  \n",
      " 1   IMDb-rating      19707 non-null  float64\n",
      " 2   appropriate_for  11072 non-null  object \n",
      " 3   director         18610 non-null  object \n",
      " 4   downloads        20547 non-null  object \n",
      " 5   id               20548 non-null  int64  \n",
      " 6   industry         20547 non-null  object \n",
      " 7   language         20006 non-null  object \n",
      " 8   posted_date      20547 non-null  object \n",
      " 9   release_date     20547 non-null  object \n",
      " 10  run_time         18780 non-null  object \n",
      " 11  storyline        18847 non-null  object \n",
      " 12  title            20547 non-null  object \n",
      " 13  views            20547 non-null  object \n",
      " 14  writer           18356 non-null  object \n",
      "dtypes: float64(1), int64(2), object(12)\n",
      "memory usage: 2.4+ MB\n"
     ]
    }
   ],
   "source": [
    "# Cheking general information about the Dataset:\n",
    "data.info()"
   ]
  },
  {
   "attachments": {},
   "cell_type": "markdown",
   "metadata": {},
   "source": [
    "Now we have a lot more information about the specific variables of the Dataset:\n",
    "\n",
    "**Null Values**\n",
    "\n",
    "- We have null values in all columns except the **`id`** variable.\n",
    "\n",
    "**Data Types**\n",
    "\n",
    "- In the Dataset, we have one **`float64`** variable, two **`int64`** variables and twelve **`object`** variables.\n",
    "\n",
    "**Memory Usage**\n",
    "\n",
    "- The Dataset, in it`s current form, consumes over 2.4 MB of memory.\n",
    "\n",
    "**Proposed Changes**\n",
    "\n",
    "- Make an acessement and deal with the null values;\n",
    "\n",
    "- Change most of the Data Types to boost the memory efficiency. Also this is the most important change in this case because most of the variables are not in a apropriate data format, i.e. **`posted_date`** being a object data type instead of datetime and **`runtime`** being a object type instead of float or int.\n",
    "\n",
    "Now, let`s check the exact amout of null values in each column, as well as the percentage that it represents:"
   ]
  },
  {
   "cell_type": "code",
   "execution_count": 484,
   "metadata": {},
   "outputs": [
    {
     "data": {
      "text/plain": [
       "appropriate_for    9476\n",
       "writer             2192\n",
       "director           1938\n",
       "run_time           1768\n",
       "storyline          1701\n",
       "IMDb-rating         841\n",
       "language            542\n",
       "downloads             1\n",
       "industry              1\n",
       "posted_date           1\n",
       "release_date          1\n",
       "title                 1\n",
       "views                 1\n",
       "Unnamed: 0            0\n",
       "id                    0\n",
       "dtype: int64"
      ]
     },
     "execution_count": 484,
     "metadata": {},
     "output_type": "execute_result"
    }
   ],
   "source": [
    "# Checking total null values:\n",
    "null_count = (data\n",
    "              .isna()\n",
    "              .sum()\n",
    "              .sort_values(ascending=False))\n",
    "\n",
    "null_count"
   ]
  },
  {
   "cell_type": "code",
   "execution_count": 485,
   "metadata": {},
   "outputs": [
    {
     "data": {
      "text/plain": [
       "appropriate_for    46.1164\n",
       "writer             10.6677\n",
       "director            9.4316\n",
       "run_time            8.6042\n",
       "storyline           8.2782\n",
       "IMDb-rating         4.0929\n",
       "language            2.6377\n",
       "downloads           0.0049\n",
       "industry            0.0049\n",
       "posted_date         0.0049\n",
       "release_date        0.0049\n",
       "title               0.0049\n",
       "views               0.0049\n",
       "Unnamed: 0          0.0000\n",
       "id                  0.0000\n",
       "dtype: float64"
      ]
     },
     "execution_count": 485,
     "metadata": {},
     "output_type": "execute_result"
    }
   ],
   "source": [
    "# Check percentage of total size:\n",
    "null_percentage = round((data.isna().sum()/data.shape[0]) * 100, 4)\n",
    "\n",
    "null_percentage.sort_values(ascending=False)"
   ]
  },
  {
   "attachments": {},
   "cell_type": "markdown",
   "metadata": {},
   "source": [
    "immediately we can see that the variable **`appropriate_for`** is basically useless for the analysis. With 9.476 missing values representing more than 46% of the total data size, this variable is too empty to be filled in using different methods. For that reason, it will be dropped in the cleaning step.\n",
    "\n",
    "The **`writer`** column also has a good amout of missing values, 2.192 nulls representing more than 10.5% of the total data size. As this variable was already deemed as having a low priority in Table 1.1 previously made, it will also be dropped in the cleaning phase.\n",
    "\n",
    "The same cannot be said about the **`director`** variable, as altough it also has almost the same amount of null values as the **`writer`** column, it has a substancial potencial for analysis, being labeled as High priority in Table 1.1.\n",
    "\n",
    "The **`runtime`** and **`storyline`** variables both have a similar amout of missing values (around 8.5% of the total data). The first of them can and will be filled in using the **`mode()`** of the variable (as this metric is not much affected by the presence of outliers and should maintain the data consistency), the second variable is going to be dropped as stated in Table 1.1.\n",
    "\n",
    "All other variables have little to none Null values and can be easily filled in or dropped (like the **`Unnamed: 0`** column).\n"
   ]
  },
  {
   "attachments": {},
   "cell_type": "markdown",
   "metadata": {},
   "source": [
    "# **Data Prep, Cleaning and Feature Engineering**\n",
    "\n",
    "---"
   ]
  },
  {
   "attachments": {},
   "cell_type": "markdown",
   "metadata": {},
   "source": [
    "Here we will make all of the changes that are needed in the dataset, all of them being described in the section above. For a detailed view of what exactly we will be doing here:\n",
    "\n",
    "- Drop useless or undesirable variables;\n",
    "\n",
    "- Rename the variables if necessary;\n",
    "\n",
    "- Handle missing (null) values;\n",
    "\n",
    "- Change data types;\n",
    "\n",
    "- Handle duplicates, and\n",
    "\n",
    "- Adding new features to the dataset (feature engineering).\n",
    "\n",
    "Let's begin with the dropping of useless variables."
   ]
  },
  {
   "attachments": {},
   "cell_type": "markdown",
   "metadata": {},
   "source": [
    "## **_Dropping Variables_**"
   ]
  },
  {
   "attachments": {},
   "cell_type": "markdown",
   "metadata": {},
   "source": [
    "As indicated by Table 1.1 and our subsequent analysis of null values, we have some variables that will be dropped and some that can be filled to use in the analysis. The following are the variables that will be deleted from the dataset:\n",
    "\n",
    "**Variables to Drop**\n",
    "\n",
    "- **`Unnamed: 0`**\n",
    "\n",
    "- **`id`**\n",
    "\n",
    "- **`storyline`**\n",
    "\n",
    "- **`writer`**\n",
    "\n",
    "- **`appropriate_for`**\n",
    "\n",
    "For the manipulation of the dataset, we will create a copy of the Dataframe:"
   ]
  },
  {
   "cell_type": "code",
   "execution_count": 486,
   "metadata": {},
   "outputs": [],
   "source": [
    "# Creating manipulation copy:\n",
    "pirated_films = data.copy()"
   ]
  },
  {
   "attachments": {},
   "cell_type": "markdown",
   "metadata": {},
   "source": [
    "Now, we can drop the undesirable variables:"
   ]
  },
  {
   "cell_type": "code",
   "execution_count": 487,
   "metadata": {},
   "outputs": [],
   "source": [
    "# Dropping variables:\n",
    "pirated_films = (pirated_films\n",
    "                 .drop(['Unnamed: 0', 'id', 'storyline', 'writer', 'appropriate_for'], \n",
    "                       axis=1))"
   ]
  },
  {
   "cell_type": "code",
   "execution_count": 488,
   "metadata": {},
   "outputs": [
    {
     "data": {
      "text/html": [
       "<div>\n",
       "<style scoped>\n",
       "    .dataframe tbody tr th:only-of-type {\n",
       "        vertical-align: middle;\n",
       "    }\n",
       "\n",
       "    .dataframe tbody tr th {\n",
       "        vertical-align: top;\n",
       "    }\n",
       "\n",
       "    .dataframe thead th {\n",
       "        text-align: right;\n",
       "    }\n",
       "</style>\n",
       "<table border=\"1\" class=\"dataframe\">\n",
       "  <thead>\n",
       "    <tr style=\"text-align: right;\">\n",
       "      <th></th>\n",
       "      <th>IMDb-rating</th>\n",
       "      <th>director</th>\n",
       "      <th>downloads</th>\n",
       "      <th>industry</th>\n",
       "      <th>language</th>\n",
       "      <th>posted_date</th>\n",
       "      <th>release_date</th>\n",
       "      <th>run_time</th>\n",
       "      <th>title</th>\n",
       "      <th>views</th>\n",
       "    </tr>\n",
       "  </thead>\n",
       "  <tbody>\n",
       "    <tr>\n",
       "      <th>0</th>\n",
       "      <td>4.8</td>\n",
       "      <td>John Swab</td>\n",
       "      <td>304</td>\n",
       "      <td>Hollywood / English</td>\n",
       "      <td>English</td>\n",
       "      <td>20 Feb, 2023</td>\n",
       "      <td>Jan 28 2023</td>\n",
       "      <td>105</td>\n",
       "      <td>Little Dixie</td>\n",
       "      <td>2,794</td>\n",
       "    </tr>\n",
       "    <tr>\n",
       "      <th>1</th>\n",
       "      <td>6.4</td>\n",
       "      <td>Paul Ziller</td>\n",
       "      <td>73</td>\n",
       "      <td>Hollywood / English</td>\n",
       "      <td>English</td>\n",
       "      <td>20 Feb, 2023</td>\n",
       "      <td>Feb 05 2023</td>\n",
       "      <td>84</td>\n",
       "      <td>Grilling Season: A Curious Caterer Mystery</td>\n",
       "      <td>1,002</td>\n",
       "    </tr>\n",
       "    <tr>\n",
       "      <th>2</th>\n",
       "      <td>5.2</td>\n",
       "      <td>Ben Wheatley</td>\n",
       "      <td>1,427</td>\n",
       "      <td>Hollywood / English</td>\n",
       "      <td>English,Hindi</td>\n",
       "      <td>20 Apr, 2021</td>\n",
       "      <td>Jun 18 2021</td>\n",
       "      <td>1h 47min</td>\n",
       "      <td>In the Earth</td>\n",
       "      <td>14,419</td>\n",
       "    </tr>\n",
       "    <tr>\n",
       "      <th>3</th>\n",
       "      <td>8.1</td>\n",
       "      <td>Venky Atluri</td>\n",
       "      <td>1,549</td>\n",
       "      <td>Tollywood</td>\n",
       "      <td>Hindi</td>\n",
       "      <td>20 Feb, 2023</td>\n",
       "      <td>Feb 17 2023</td>\n",
       "      <td>139</td>\n",
       "      <td>Vaathi</td>\n",
       "      <td>4,878</td>\n",
       "    </tr>\n",
       "    <tr>\n",
       "      <th>4</th>\n",
       "      <td>4.6</td>\n",
       "      <td>Shaji Kailas</td>\n",
       "      <td>657</td>\n",
       "      <td>Tollywood</td>\n",
       "      <td>Hindi</td>\n",
       "      <td>20 Feb, 2023</td>\n",
       "      <td>Jan 26 2023</td>\n",
       "      <td>122</td>\n",
       "      <td>Alone</td>\n",
       "      <td>2,438</td>\n",
       "    </tr>\n",
       "  </tbody>\n",
       "</table>\n",
       "</div>"
      ],
      "text/plain": [
       "   IMDb-rating      director downloads             industry       language  \\\n",
       "0          4.8     John Swab       304  Hollywood / English        English   \n",
       "1          6.4   Paul Ziller        73  Hollywood / English        English   \n",
       "2          5.2  Ben Wheatley     1,427  Hollywood / English  English,Hindi   \n",
       "3          8.1  Venky Atluri     1,549            Tollywood          Hindi   \n",
       "4          4.6  Shaji Kailas       657            Tollywood          Hindi   \n",
       "\n",
       "    posted_date release_date  run_time  \\\n",
       "0  20 Feb, 2023  Jan 28 2023       105   \n",
       "1  20 Feb, 2023  Feb 05 2023        84   \n",
       "2  20 Apr, 2021  Jun 18 2021  1h 47min   \n",
       "3  20 Feb, 2023  Feb 17 2023       139   \n",
       "4  20 Feb, 2023  Jan 26 2023       122   \n",
       "\n",
       "                                        title   views  \n",
       "0                                Little Dixie   2,794  \n",
       "1  Grilling Season: A Curious Caterer Mystery   1,002  \n",
       "2                                In the Earth  14,419  \n",
       "3                                      Vaathi   4,878  \n",
       "4                                       Alone   2,438  "
      ]
     },
     "execution_count": 488,
     "metadata": {},
     "output_type": "execute_result"
    }
   ],
   "source": [
    "# Cheking new data:\n",
    "pirated_films.head()"
   ]
  },
  {
   "attachments": {},
   "cell_type": "markdown",
   "metadata": {},
   "source": [
    "## **_Renaming Variables_**"
   ]
  },
  {
   "attachments": {},
   "cell_type": "markdown",
   "metadata": {},
   "source": [
    "With only the variables that we want in the dataset, we will change some variable names for the pourpose of standardizing the dataset and to have the best naming convention possible (short and descriptive)."
   ]
  },
  {
   "cell_type": "code",
   "execution_count": 489,
   "metadata": {},
   "outputs": [
    {
     "data": {
      "text/html": [
       "<div>\n",
       "<style scoped>\n",
       "    .dataframe tbody tr th:only-of-type {\n",
       "        vertical-align: middle;\n",
       "    }\n",
       "\n",
       "    .dataframe tbody tr th {\n",
       "        vertical-align: top;\n",
       "    }\n",
       "\n",
       "    .dataframe thead th {\n",
       "        text-align: right;\n",
       "    }\n",
       "</style>\n",
       "<table border=\"1\" class=\"dataframe\">\n",
       "  <thead>\n",
       "    <tr style=\"text-align: right;\">\n",
       "      <th></th>\n",
       "      <th>imdb_user_rating</th>\n",
       "      <th>film_director</th>\n",
       "      <th>downloads</th>\n",
       "      <th>industry</th>\n",
       "      <th>available_langs</th>\n",
       "      <th>platform_post_date</th>\n",
       "      <th>worldwide_release</th>\n",
       "      <th>run_time_min</th>\n",
       "      <th>movie_title</th>\n",
       "      <th>total_views</th>\n",
       "    </tr>\n",
       "  </thead>\n",
       "  <tbody>\n",
       "    <tr>\n",
       "      <th>0</th>\n",
       "      <td>4.8</td>\n",
       "      <td>John Swab</td>\n",
       "      <td>304</td>\n",
       "      <td>Hollywood / English</td>\n",
       "      <td>English</td>\n",
       "      <td>20 Feb, 2023</td>\n",
       "      <td>Jan 28 2023</td>\n",
       "      <td>105</td>\n",
       "      <td>Little Dixie</td>\n",
       "      <td>2,794</td>\n",
       "    </tr>\n",
       "    <tr>\n",
       "      <th>1</th>\n",
       "      <td>6.4</td>\n",
       "      <td>Paul Ziller</td>\n",
       "      <td>73</td>\n",
       "      <td>Hollywood / English</td>\n",
       "      <td>English</td>\n",
       "      <td>20 Feb, 2023</td>\n",
       "      <td>Feb 05 2023</td>\n",
       "      <td>84</td>\n",
       "      <td>Grilling Season: A Curious Caterer Mystery</td>\n",
       "      <td>1,002</td>\n",
       "    </tr>\n",
       "    <tr>\n",
       "      <th>2</th>\n",
       "      <td>5.2</td>\n",
       "      <td>Ben Wheatley</td>\n",
       "      <td>1,427</td>\n",
       "      <td>Hollywood / English</td>\n",
       "      <td>English,Hindi</td>\n",
       "      <td>20 Apr, 2021</td>\n",
       "      <td>Jun 18 2021</td>\n",
       "      <td>1h 47min</td>\n",
       "      <td>In the Earth</td>\n",
       "      <td>14,419</td>\n",
       "    </tr>\n",
       "    <tr>\n",
       "      <th>3</th>\n",
       "      <td>8.1</td>\n",
       "      <td>Venky Atluri</td>\n",
       "      <td>1,549</td>\n",
       "      <td>Tollywood</td>\n",
       "      <td>Hindi</td>\n",
       "      <td>20 Feb, 2023</td>\n",
       "      <td>Feb 17 2023</td>\n",
       "      <td>139</td>\n",
       "      <td>Vaathi</td>\n",
       "      <td>4,878</td>\n",
       "    </tr>\n",
       "    <tr>\n",
       "      <th>4</th>\n",
       "      <td>4.6</td>\n",
       "      <td>Shaji Kailas</td>\n",
       "      <td>657</td>\n",
       "      <td>Tollywood</td>\n",
       "      <td>Hindi</td>\n",
       "      <td>20 Feb, 2023</td>\n",
       "      <td>Jan 26 2023</td>\n",
       "      <td>122</td>\n",
       "      <td>Alone</td>\n",
       "      <td>2,438</td>\n",
       "    </tr>\n",
       "  </tbody>\n",
       "</table>\n",
       "</div>"
      ],
      "text/plain": [
       "   imdb_user_rating film_director downloads             industry  \\\n",
       "0               4.8     John Swab       304  Hollywood / English   \n",
       "1               6.4   Paul Ziller        73  Hollywood / English   \n",
       "2               5.2  Ben Wheatley     1,427  Hollywood / English   \n",
       "3               8.1  Venky Atluri     1,549            Tollywood   \n",
       "4               4.6  Shaji Kailas       657            Tollywood   \n",
       "\n",
       "  available_langs platform_post_date worldwide_release run_time_min  \\\n",
       "0         English       20 Feb, 2023       Jan 28 2023          105   \n",
       "1         English       20 Feb, 2023       Feb 05 2023           84   \n",
       "2   English,Hindi       20 Apr, 2021       Jun 18 2021     1h 47min   \n",
       "3           Hindi       20 Feb, 2023       Feb 17 2023          139   \n",
       "4           Hindi       20 Feb, 2023       Jan 26 2023          122   \n",
       "\n",
       "                                  movie_title total_views  \n",
       "0                                Little Dixie       2,794  \n",
       "1  Grilling Season: A Curious Caterer Mystery       1,002  \n",
       "2                                In the Earth      14,419  \n",
       "3                                      Vaathi       4,878  \n",
       "4                                       Alone       2,438  "
      ]
     },
     "execution_count": 489,
     "metadata": {},
     "output_type": "execute_result"
    }
   ],
   "source": [
    "# Renaming variables:\n",
    "pirated_films = pirated_films.rename(columns={'IMDb-rating': 'imdb_user_rating',\n",
    "                                              'director': 'film_director',\n",
    "                                              'language': 'available_langs',\n",
    "                                              'posted_date': 'platform_post_date',\n",
    "                                              'release_date': 'worldwide_release',\n",
    "                                              'run_time': 'run_time_min',\n",
    "                                              'title': 'movie_title',\n",
    "                                              'views': 'total_views'})\n",
    "\n",
    "# Cheking data:\n",
    "pirated_films.head()"
   ]
  },
  {
   "attachments": {},
   "cell_type": "markdown",
   "metadata": {},
   "source": [
    "## **_Handling Null Values_**"
   ]
  },
  {
   "attachments": {},
   "cell_type": "markdown",
   "metadata": {},
   "source": [
    "Before we can determine the best practices for dealing with null values, let's check the null values of the variables still present in the dataset."
   ]
  },
  {
   "cell_type": "code",
   "execution_count": 490,
   "metadata": {},
   "outputs": [
    {
     "data": {
      "text/plain": [
       "imdb_user_rating      4.0929\n",
       "film_director         9.4316\n",
       "downloads             0.0049\n",
       "industry              0.0049\n",
       "available_langs       2.6377\n",
       "platform_post_date    0.0049\n",
       "worldwide_release     0.0049\n",
       "run_time_min          8.6042\n",
       "movie_title           0.0049\n",
       "total_views           0.0049\n",
       "dtype: float64"
      ]
     },
     "execution_count": 490,
     "metadata": {},
     "output_type": "execute_result"
    }
   ],
   "source": [
    "# Checking null values:\n",
    "round((pirated_films.isna().sum()/pirated_films.shape[0]) * 100, 4)"
   ]
  },
  {
   "attachments": {},
   "cell_type": "markdown",
   "metadata": {},
   "source": [
    "With that information, let's deal with these values, one variable at a time."
   ]
  },
  {
   "attachments": {},
   "cell_type": "markdown",
   "metadata": {},
   "source": [
    "### **`imdb_user_rating`**"
   ]
  },
  {
   "attachments": {},
   "cell_type": "markdown",
   "metadata": {},
   "source": [
    "Let's get a better look at this variable:"
   ]
  },
  {
   "cell_type": "code",
   "execution_count": 491,
   "metadata": {},
   "outputs": [
    {
     "data": {
      "text/plain": [
       "count    19707.000000\n",
       "mean         5.762151\n",
       "std          1.374041\n",
       "min          1.100000\n",
       "25%          4.800000\n",
       "50%          5.700000\n",
       "75%          6.600000\n",
       "max          9.900000\n",
       "Name: imdb_user_rating, dtype: float64"
      ]
     },
     "execution_count": 491,
     "metadata": {},
     "output_type": "execute_result"
    }
   ],
   "source": [
    "pirated_films['imdb_user_rating'].describe()"
   ]
  },
  {
   "attachments": {},
   "cell_type": "markdown",
   "metadata": {},
   "source": [
    "For the fill method, we will use the **mean** of the total values of the variable:"
   ]
  },
  {
   "cell_type": "code",
   "execution_count": 492,
   "metadata": {},
   "outputs": [
    {
     "data": {
      "text/plain": [
       "5.8"
      ]
     },
     "execution_count": 492,
     "metadata": {},
     "output_type": "execute_result"
    }
   ],
   "source": [
    "# Defining mean:\n",
    "mean_ratings = pirated_films['imdb_user_rating'].mean().round(1)\n",
    "\n",
    "mean_ratings"
   ]
  },
  {
   "cell_type": "code",
   "execution_count": 493,
   "metadata": {},
   "outputs": [
    {
     "data": {
      "text/plain": [
       "0"
      ]
     },
     "execution_count": 493,
     "metadata": {},
     "output_type": "execute_result"
    }
   ],
   "source": [
    "# Placing mean in all null values at the variable:\n",
    "pirated_films['imdb_user_rating'] = (pirated_films['imdb_user_rating']\n",
    "                                     .fillna(mean_ratings))\n",
    "\n",
    "pirated_films['imdb_user_rating'].isna().sum()"
   ]
  },
  {
   "cell_type": "code",
   "execution_count": 494,
   "metadata": {},
   "outputs": [
    {
     "data": {
      "text/plain": [
       "count    20548.000000\n",
       "mean         5.763700\n",
       "std          1.345648\n",
       "min          1.100000\n",
       "25%          4.900000\n",
       "50%          5.800000\n",
       "75%          6.600000\n",
       "max          9.900000\n",
       "Name: imdb_user_rating, dtype: float64"
      ]
     },
     "execution_count": 494,
     "metadata": {},
     "output_type": "execute_result"
    }
   ],
   "source": [
    "# Checking statistics:\n",
    "pirated_films['imdb_user_rating'].describe()"
   ]
  },
  {
   "attachments": {},
   "cell_type": "markdown",
   "metadata": {},
   "source": [
    "### **`film_director`**"
   ]
  },
  {
   "attachments": {},
   "cell_type": "markdown",
   "metadata": {},
   "source": [
    "For this variable the procedure will be diferent, that's because it is a categorical (qualitative) variable. For these types of variables, the ideal fill method would be to use the mode of the column, the most recurring value.\n",
    "\n",
    "But this column refers to the film director, in this case, if we assign all the null films to the same director (mode) the data will not be in a good shape. So, the null values will receive a string informing that the director was not informed."
   ]
  },
  {
   "cell_type": "code",
   "execution_count": 495,
   "metadata": {},
   "outputs": [
    {
     "data": {
      "text/plain": [
       "0"
      ]
     },
     "execution_count": 495,
     "metadata": {},
     "output_type": "execute_result"
    }
   ],
   "source": [
    "# Filling nulls with custom string:\n",
    "pirated_films['film_director'] = pirated_films['film_director'].fillna('Not Assigned')\n",
    "\n",
    "pirated_films['film_director'].isna().sum()"
   ]
  },
  {
   "cell_type": "code",
   "execution_count": 496,
   "metadata": {},
   "outputs": [
    {
     "data": {
      "text/plain": [
       "count            20548\n",
       "unique            9673\n",
       "top       Not Assigned\n",
       "freq              1938\n",
       "Name: film_director, dtype: object"
      ]
     },
     "execution_count": 496,
     "metadata": {},
     "output_type": "execute_result"
    }
   ],
   "source": [
    "# Checking variable:\n",
    "pirated_films['film_director'].describe()"
   ]
  },
  {
   "attachments": {},
   "cell_type": "markdown",
   "metadata": {},
   "source": [
    "Here we can already make out a characteristic of the data, in that the majority of films present in the dataset have no Director assigned to them."
   ]
  },
  {
   "attachments": {},
   "cell_type": "markdown",
   "metadata": {},
   "source": [
    "### **`dowloads` and all other 0.0049% null variables**"
   ]
  },
  {
   "attachments": {},
   "cell_type": "markdown",
   "metadata": {},
   "source": [
    "Lets' check exactly how many null values are present in this variable, because, as the total null values check we did at the begining of this section shows, it has only 0.0049% of null values, along with other variables with the same amaout of nulls. Let's have a better look at this:"
   ]
  },
  {
   "cell_type": "code",
   "execution_count": 497,
   "metadata": {},
   "outputs": [
    {
     "data": {
      "text/plain": [
       "1"
      ]
     },
     "execution_count": 497,
     "metadata": {},
     "output_type": "execute_result"
    }
   ],
   "source": [
    "# Checking total values:\n",
    "pirated_films['downloads'].isna().sum()"
   ]
  },
  {
   "attachments": {},
   "cell_type": "markdown",
   "metadata": {},
   "source": [
    "Apparently only one entry is missing the value, so could it be that all other variables that were shown to have only 0.0049% of nulls are in fact the same resigtry? Let's test this by querying the exact entry that has the null value on the `downloads` variable and see if the other ones are empty too:"
   ]
  },
  {
   "cell_type": "code",
   "execution_count": 498,
   "metadata": {},
   "outputs": [
    {
     "data": {
      "text/html": [
       "<div>\n",
       "<style scoped>\n",
       "    .dataframe tbody tr th:only-of-type {\n",
       "        vertical-align: middle;\n",
       "    }\n",
       "\n",
       "    .dataframe tbody tr th {\n",
       "        vertical-align: top;\n",
       "    }\n",
       "\n",
       "    .dataframe thead th {\n",
       "        text-align: right;\n",
       "    }\n",
       "</style>\n",
       "<table border=\"1\" class=\"dataframe\">\n",
       "  <thead>\n",
       "    <tr style=\"text-align: right;\">\n",
       "      <th></th>\n",
       "      <th>imdb_user_rating</th>\n",
       "      <th>film_director</th>\n",
       "      <th>downloads</th>\n",
       "      <th>industry</th>\n",
       "      <th>available_langs</th>\n",
       "      <th>platform_post_date</th>\n",
       "      <th>worldwide_release</th>\n",
       "      <th>run_time_min</th>\n",
       "      <th>movie_title</th>\n",
       "      <th>total_views</th>\n",
       "    </tr>\n",
       "  </thead>\n",
       "  <tbody>\n",
       "    <tr>\n",
       "      <th>149</th>\n",
       "      <td>7.1</td>\n",
       "      <td>Not Assigned</td>\n",
       "      <td>NaN</td>\n",
       "      <td>NaN</td>\n",
       "      <td>NaN</td>\n",
       "      <td>NaN</td>\n",
       "      <td>NaN</td>\n",
       "      <td>NaN</td>\n",
       "      <td>NaN</td>\n",
       "      <td>NaN</td>\n",
       "    </tr>\n",
       "  </tbody>\n",
       "</table>\n",
       "</div>"
      ],
      "text/plain": [
       "     imdb_user_rating film_director downloads industry available_langs  \\\n",
       "149               7.1  Not Assigned       NaN      NaN             NaN   \n",
       "\n",
       "    platform_post_date worldwide_release run_time_min movie_title total_views  \n",
       "149                NaN               NaN          NaN         NaN         NaN  "
      ]
     },
     "execution_count": 498,
     "metadata": {},
     "output_type": "execute_result"
    }
   ],
   "source": [
    "# Checking the null entry:\n",
    "pirated_films.query('downloads.isna()')"
   ]
  },
  {
   "attachments": {},
   "cell_type": "markdown",
   "metadata": {},
   "source": [
    "As we suspected, all of the variables that had 0.0049% of null values are in fact only one entry. As it doesn't even have the movie name, this entry is completely useless for the analysis and it will be dropped."
   ]
  },
  {
   "cell_type": "code",
   "execution_count": 499,
   "metadata": {},
   "outputs": [],
   "source": [
    "# Grabbing the index of the null registry:\n",
    "drop_index = pirated_films.loc[(pirated_films['downloads'].isna())].index\n",
    "\n",
    "# Dropping the entry:\n",
    "pirated_films = pirated_films.drop(drop_index)"
   ]
  },
  {
   "cell_type": "code",
   "execution_count": 500,
   "metadata": {},
   "outputs": [
    {
     "data": {
      "text/html": [
       "<div>\n",
       "<style scoped>\n",
       "    .dataframe tbody tr th:only-of-type {\n",
       "        vertical-align: middle;\n",
       "    }\n",
       "\n",
       "    .dataframe tbody tr th {\n",
       "        vertical-align: top;\n",
       "    }\n",
       "\n",
       "    .dataframe thead th {\n",
       "        text-align: right;\n",
       "    }\n",
       "</style>\n",
       "<table border=\"1\" class=\"dataframe\">\n",
       "  <thead>\n",
       "    <tr style=\"text-align: right;\">\n",
       "      <th></th>\n",
       "      <th>imdb_user_rating</th>\n",
       "      <th>film_director</th>\n",
       "      <th>downloads</th>\n",
       "      <th>industry</th>\n",
       "      <th>available_langs</th>\n",
       "      <th>platform_post_date</th>\n",
       "      <th>worldwide_release</th>\n",
       "      <th>run_time_min</th>\n",
       "      <th>movie_title</th>\n",
       "      <th>total_views</th>\n",
       "    </tr>\n",
       "  </thead>\n",
       "  <tbody>\n",
       "  </tbody>\n",
       "</table>\n",
       "</div>"
      ],
      "text/plain": [
       "Empty DataFrame\n",
       "Columns: [imdb_user_rating, film_director, downloads, industry, available_langs, platform_post_date, worldwide_release, run_time_min, movie_title, total_views]\n",
       "Index: []"
      ]
     },
     "execution_count": 500,
     "metadata": {},
     "output_type": "execute_result"
    }
   ],
   "source": [
    "# Checking the null entry:\n",
    "pirated_films.query('downloads.isna()')"
   ]
  },
  {
   "attachments": {},
   "cell_type": "markdown",
   "metadata": {},
   "source": [
    "We can also check if all the other variables that had 0.0049% of null values are now at 0%:"
   ]
  },
  {
   "cell_type": "code",
   "execution_count": 501,
   "metadata": {},
   "outputs": [
    {
     "data": {
      "text/plain": [
       "imdb_user_rating      0.0000\n",
       "film_director         0.0000\n",
       "downloads             0.0000\n",
       "industry              0.0000\n",
       "available_langs       2.6330\n",
       "platform_post_date    0.0000\n",
       "worldwide_release     0.0000\n",
       "run_time_min          8.5998\n",
       "movie_title           0.0000\n",
       "total_views           0.0000\n",
       "dtype: float64"
      ]
     },
     "execution_count": 501,
     "metadata": {},
     "output_type": "execute_result"
    }
   ],
   "source": [
    "# Checking total nulls:\n",
    "round((pirated_films.isna().sum()/pirated_films.shape[0]) * 100, 4)"
   ]
  },
  {
   "attachments": {},
   "cell_type": "markdown",
   "metadata": {},
   "source": [
    "Indeed all other 0.0049% null variables are gone."
   ]
  },
  {
   "attachments": {},
   "cell_type": "markdown",
   "metadata": {},
   "source": [
    "### **`available_langs`**"
   ]
  },
  {
   "attachments": {},
   "cell_type": "markdown",
   "metadata": {},
   "source": [
    "Another variable with null values refers to the available languages of the movie. As it is a categorical (qualitative) variable, we will use the mode as the fill method, as in, the most reocurring languages. But first, let's check the variable:"
   ]
  },
  {
   "cell_type": "code",
   "execution_count": 502,
   "metadata": {},
   "outputs": [
    {
     "data": {
      "text/plain": [
       "count       20006\n",
       "unique       1168\n",
       "top       English\n",
       "freq        12657\n",
       "Name: available_langs, dtype: object"
      ]
     },
     "execution_count": 502,
     "metadata": {},
     "output_type": "execute_result"
    }
   ],
   "source": [
    "# Describing variable:\n",
    "pirated_films['available_langs'].describe()"
   ]
  },
  {
   "attachments": {},
   "cell_type": "markdown",
   "metadata": {},
   "source": [
    "As the describe method points to, the most reocurring language in the dataset in English, so this will be the value that will be placed in place of the null entries."
   ]
  },
  {
   "cell_type": "code",
   "execution_count": 503,
   "metadata": {},
   "outputs": [],
   "source": [
    "# Defining mode:\n",
    "mode_fill = pirated_films['available_langs'].mode()[0] # English\n",
    "\n",
    "# Filling the nulls:\n",
    "pirated_films['available_langs'] = pirated_films['available_langs'].fillna(mode_fill)"
   ]
  },
  {
   "cell_type": "code",
   "execution_count": 504,
   "metadata": {},
   "outputs": [
    {
     "data": {
      "text/plain": [
       "imdb_user_rating      0.0000\n",
       "film_director         0.0000\n",
       "downloads             0.0000\n",
       "industry              0.0000\n",
       "available_langs       0.0000\n",
       "platform_post_date    0.0000\n",
       "worldwide_release     0.0000\n",
       "run_time_min          8.5998\n",
       "movie_title           0.0000\n",
       "total_views           0.0000\n",
       "dtype: float64"
      ]
     },
     "execution_count": 504,
     "metadata": {},
     "output_type": "execute_result"
    }
   ],
   "source": [
    "# Checking nulls:\n",
    "round((pirated_films.isna().sum()/pirated_films.shape[0]) * 100, 4)"
   ]
  },
  {
   "attachments": {},
   "cell_type": "markdown",
   "metadata": {},
   "source": [
    "### **`run_time_min`**"
   ]
  },
  {
   "attachments": {},
   "cell_type": "markdown",
   "metadata": {},
   "source": [
    "The last variable with null values, let's get a closer look at it starting with the describe method:"
   ]
  },
  {
   "cell_type": "code",
   "execution_count": 505,
   "metadata": {},
   "outputs": [
    {
     "data": {
      "text/plain": [
       "count     18780\n",
       "unique      415\n",
       "top          93\n",
       "freq        652\n",
       "Name: run_time_min, dtype: object"
      ]
     },
     "execution_count": 505,
     "metadata": {},
     "output_type": "execute_result"
    }
   ],
   "source": [
    "# Describing variable:\n",
    "pirated_films['run_time_min'].describe()"
   ]
  },
  {
   "attachments": {},
   "cell_type": "markdown",
   "metadata": {},
   "source": [
    "This variable will require more work. The current data type is object, but it must be numbers before we can fill the nulls, so, to start let's clean the data and change the data type:"
   ]
  },
  {
   "cell_type": "code",
   "execution_count": 506,
   "metadata": {},
   "outputs": [
    {
     "data": {
      "text/plain": [
       "array(['98', '216', '94', '156', '100', '2h', '165', '1h 44min',\n",
       "       '1h 31min', '109', nan, '88', '110', '140', '86', '1h 40min',\n",
       "       '113', '93', '1h 22min', '105', '1h 27min', '1h 32min', '1h 52min',\n",
       "       '2h 25min', '1h 34min', '139'], dtype=object)"
      ]
     },
     "execution_count": 506,
     "metadata": {},
     "output_type": "execute_result"
    }
   ],
   "source": [
    "# Checking values:\n",
    "pirated_films['run_time_min'].sample(30).unique()"
   ]
  },
  {
   "attachments": {},
   "cell_type": "markdown",
   "metadata": {},
   "source": [
    "With us checking a random sample of the data, we can see that it is not in a appropriate format, as the variable name said it should be in minutes, we still have a lot of entries defining hours and, of course, the null values.\n",
    "\n",
    "To clean this variable, a more robust function to do string manipulation is necessary:"
   ]
  },
  {
   "cell_type": "code",
   "execution_count": 507,
   "metadata": {},
   "outputs": [],
   "source": [
    "# Creating function:\n",
    "\n",
    "def convert_runtime(value):\n",
    "    '''\n",
    "    Converts a movie runtime string into only minutes.\n",
    "\n",
    "    Args\n",
    "    -----\n",
    "        value (str): The movie runtime string in different formats of hours and minutes.\n",
    "\n",
    "    Returns\n",
    "    --------\n",
    "        int: The movie runtime in minutes. If the input value is not a string or\n",
    "            does not match the expected format, the original value is returned.\n",
    "\n",
    "    Example\n",
    "    --------\n",
    "        >>> convert_runtime(\"1h 47min\")\n",
    "        107\n",
    "        >>> convert_runtime(\"120 min\")\n",
    "        120\n",
    "        >>> convert_runtime(\"2h 5m\")\n",
    "        125\n",
    "        >>> convert_runtime(\"3h 25 min\")\n",
    "        205\n",
    "    '''\n",
    "    if not isinstance(value, str):\n",
    "        return value\n",
    "    \n",
    "    # Pattern 1: xxh/hours xxm/min\n",
    "    match = re.search(r'(\\d+)\\s*h(?:h|ours)?\\s*(\\d+)\\s*(?:m|min)?', value)\n",
    "    if match:\n",
    "        hours, minutes = map(int, match.groups())\n",
    "        return hours * 60 + minutes\n",
    "\n",
    "    # Pattern 2: xxh/hr xxm/min\n",
    "    match = re.search(r'(\\d+)\\s*(?:h|hr)\\s*(\\d+)\\s*(?:m|min)?', value)\n",
    "    if match:\n",
    "        hours, minutes = map(int, match.groups())\n",
    "        return hours * 60 + minutes\n",
    "\n",
    "    # Pattern 3: xxh/hr xxm\n",
    "    match = re.search(r'(\\d+)\\s*(?:h|hr)\\s*(\\d+)\\s*m', value)\n",
    "    if match:\n",
    "        hours, minutes = map(int, match.groups())\n",
    "        return hours * 60 + minutes\n",
    "\n",
    "    # Pattern 4: xxm/min\n",
    "    match = re.search(r'(\\d+)\\s*(?:m|min)', value)\n",
    "    if match:\n",
    "        return int(match.group(1))\n",
    "\n",
    "    # Pattern 5: xxh/hours\n",
    "    match = re.search(r'(\\d+)\\s*(?:h|hours)', value)\n",
    "    if match:\n",
    "        return int(match.group(1))\n",
    "\n",
    "    return value\n"
   ]
  },
  {
   "cell_type": "code",
   "execution_count": 508,
   "metadata": {},
   "outputs": [],
   "source": [
    "# Applying the function:\n",
    "pirated_films['run_time_min'] = pirated_films['run_time_min'].apply(convert_runtime)"
   ]
  },
  {
   "attachments": {},
   "cell_type": "markdown",
   "metadata": {},
   "source": [
    "Now let's do a quick random check on the variable values:"
   ]
  },
  {
   "cell_type": "code",
   "execution_count": 509,
   "metadata": {},
   "outputs": [
    {
     "data": {
      "text/plain": [
       "16272     88\n",
       "13175    122\n",
       "19049    NaN\n",
       "825      NaN\n",
       "18590    125\n",
       "20014    143\n",
       "6996      92\n",
       "11065    124\n",
       "5324     102\n",
       "12210    139\n",
       "Name: run_time_min, dtype: object"
      ]
     },
     "execution_count": 509,
     "metadata": {},
     "output_type": "execute_result"
    }
   ],
   "source": [
    "# Checking results:\n",
    "pirated_films['run_time_min'].sample(10)"
   ]
  },
  {
   "attachments": {},
   "cell_type": "markdown",
   "metadata": {},
   "source": [
    "We can see that the data has been successfully transformed, where we now have all the run times in minutes only.\n",
    "Now, we will fill the null values temporarily with 0 as a string, so we can chance the column data type to int. After that, we will fill the nulls (now the zeros) with the median of the values."
   ]
  },
  {
   "cell_type": "code",
   "execution_count": 510,
   "metadata": {},
   "outputs": [],
   "source": [
    "# Filling with zeros temporarily:\n",
    "pirated_films['run_time_min'] = pirated_films['run_time_min'].fillna('0')"
   ]
  },
  {
   "cell_type": "code",
   "execution_count": 511,
   "metadata": {},
   "outputs": [],
   "source": [
    "# Changing data type:\n",
    "pirated_films['run_time_min'] = pirated_films['run_time_min'].astype('int')"
   ]
  },
  {
   "attachments": {},
   "cell_type": "markdown",
   "metadata": {},
   "source": [
    "Now that the variable is in the right data type, let's fill the nulls (zero values in this case) with the median of the values. The median is a good option here because these data are very likely to have outliers and to be skeewd, and as the median isn't very influenced by these factors, it becomes a good filling method. "
   ]
  },
  {
   "cell_type": "code",
   "execution_count": 512,
   "metadata": {},
   "outputs": [],
   "source": [
    "# Calculating the median value of the variable (ignoring the zeros):\n",
    "median = np.median(pirated_films['run_time_min'][pirated_films['run_time_min'] != 0])\n",
    "\n",
    "# Replacing the zeros with the median value:\n",
    "pirated_films['run_time_min'][pirated_films['run_time_min'] == 0] = median"
   ]
  },
  {
   "attachments": {},
   "cell_type": "markdown",
   "metadata": {},
   "source": [
    "Finally, we can check the null quantity of our final dataset:"
   ]
  },
  {
   "cell_type": "code",
   "execution_count": 513,
   "metadata": {},
   "outputs": [
    {
     "data": {
      "text/plain": [
       "imdb_user_rating      0.0\n",
       "film_director         0.0\n",
       "downloads             0.0\n",
       "industry              0.0\n",
       "available_langs       0.0\n",
       "platform_post_date    0.0\n",
       "worldwide_release     0.0\n",
       "run_time_min          0.0\n",
       "movie_title           0.0\n",
       "total_views           0.0\n",
       "dtype: float64"
      ]
     },
     "execution_count": 513,
     "metadata": {},
     "output_type": "execute_result"
    }
   ],
   "source": [
    "round((pirated_films.isna().sum()/pirated_films.shape[0]) * 100, 4)"
   ]
  },
  {
   "attachments": {},
   "cell_type": "markdown",
   "metadata": {},
   "source": [
    "## **_Changing Data Types_**"
   ]
  },
  {
   "attachments": {},
   "cell_type": "markdown",
   "metadata": {},
   "source": [
    "With our dataset clean from null values and with only the variables we want still present, the next step is to adress the data types of the variables, to make sure they are in the best possible way for the analysis. Let's begin by checking our dtypes:"
   ]
  },
  {
   "cell_type": "code",
   "execution_count": 514,
   "metadata": {},
   "outputs": [
    {
     "name": "stdout",
     "output_type": "stream",
     "text": [
      "<class 'pandas.core.frame.DataFrame'>\n",
      "Int64Index: 20547 entries, 0 to 20547\n",
      "Data columns (total 10 columns):\n",
      " #   Column              Non-Null Count  Dtype  \n",
      "---  ------              --------------  -----  \n",
      " 0   imdb_user_rating    20547 non-null  float64\n",
      " 1   film_director       20547 non-null  object \n",
      " 2   downloads           20547 non-null  object \n",
      " 3   industry            20547 non-null  object \n",
      " 4   available_langs     20547 non-null  object \n",
      " 5   platform_post_date  20547 non-null  object \n",
      " 6   worldwide_release   20547 non-null  object \n",
      " 7   run_time_min        20547 non-null  int32  \n",
      " 8   movie_title         20547 non-null  object \n",
      " 9   total_views         20547 non-null  object \n",
      "dtypes: float64(1), int32(1), object(8)\n",
      "memory usage: 1.6+ MB\n"
     ]
    }
   ],
   "source": [
    "# Checking data types:\n",
    "pirated_films.info()"
   ]
  },
  {
   "attachments": {},
   "cell_type": "markdown",
   "metadata": {},
   "source": [
    "Things to note:\n",
    "\n",
    "**Memory Consumption**\n",
    "\n",
    "- With the current data types, the dataset uses up to 1.6 MB of memory in the system. With the changes we are going to make, this consumption should drop.\n",
    "\n",
    "**Good Data Types**\n",
    "\n",
    "We have some variables that don't require any change:\n",
    "\n",
    "- `imdb_user_rating` in **float64**\n",
    "\n",
    "- `film_director` in **object**\n",
    "\n",
    "- `industry` in **object**\n",
    "\n",
    "- `available_langs` in **object**\n",
    "\n",
    "- `run_time_min` in **int32**\n",
    "\n",
    "- `movie_title` in **object**\n",
    "\n",
    "**Wrong Data Types**\n",
    "\n",
    "For variables that need changes we have:\n",
    "\n",
    "- `downloads` from **object** to **int**\n",
    "\n",
    "- `platform_post_date` from **object** to **datetime**\n",
    "\n",
    "- `worldwide_release` from **object** to **datetime**\n",
    "\n",
    "- `total_views` from **object** to **int**\n",
    "\n",
    "First we will deal with the **datetime** columns alone, as they very straight forward. The other two variables (`downloads` and `total_views`) require a little bit more work."
   ]
  },
  {
   "attachments": {},
   "cell_type": "markdown",
   "metadata": {},
   "source": [
    "### **Altering `platform_post_date` and `worldwide_release`**"
   ]
  },
  {
   "cell_type": "code",
   "execution_count": 515,
   "metadata": {},
   "outputs": [],
   "source": [
    "# Changing Data Types:\n",
    "pirated_films['platform_post_date'] = pd.to_datetime(pirated_films['platform_post_date'])\n",
    "\n",
    "pirated_films['worldwide_release'] = pd.to_datetime(pirated_films['worldwide_release'])"
   ]
  },
  {
   "cell_type": "code",
   "execution_count": 516,
   "metadata": {},
   "outputs": [
    {
     "name": "stdout",
     "output_type": "stream",
     "text": [
      "<class 'pandas.core.frame.DataFrame'>\n",
      "Int64Index: 20547 entries, 0 to 20547\n",
      "Data columns (total 10 columns):\n",
      " #   Column              Non-Null Count  Dtype         \n",
      "---  ------              --------------  -----         \n",
      " 0   imdb_user_rating    20547 non-null  float64       \n",
      " 1   film_director       20547 non-null  object        \n",
      " 2   downloads           20547 non-null  object        \n",
      " 3   industry            20547 non-null  object        \n",
      " 4   available_langs     20547 non-null  object        \n",
      " 5   platform_post_date  20547 non-null  datetime64[ns]\n",
      " 6   worldwide_release   20547 non-null  datetime64[ns]\n",
      " 7   run_time_min        20547 non-null  int32         \n",
      " 8   movie_title         20547 non-null  object        \n",
      " 9   total_views         20547 non-null  object        \n",
      "dtypes: datetime64[ns](2), float64(1), int32(1), object(6)\n",
      "memory usage: 1.6+ MB\n"
     ]
    }
   ],
   "source": [
    "# Checking new data types:\n",
    "pirated_films.info()"
   ]
  },
  {
   "cell_type": "code",
   "execution_count": 517,
   "metadata": {},
   "outputs": [
    {
     "data": {
      "text/html": [
       "<div>\n",
       "<style scoped>\n",
       "    .dataframe tbody tr th:only-of-type {\n",
       "        vertical-align: middle;\n",
       "    }\n",
       "\n",
       "    .dataframe tbody tr th {\n",
       "        vertical-align: top;\n",
       "    }\n",
       "\n",
       "    .dataframe thead th {\n",
       "        text-align: right;\n",
       "    }\n",
       "</style>\n",
       "<table border=\"1\" class=\"dataframe\">\n",
       "  <thead>\n",
       "    <tr style=\"text-align: right;\">\n",
       "      <th></th>\n",
       "      <th>imdb_user_rating</th>\n",
       "      <th>film_director</th>\n",
       "      <th>downloads</th>\n",
       "      <th>industry</th>\n",
       "      <th>available_langs</th>\n",
       "      <th>platform_post_date</th>\n",
       "      <th>worldwide_release</th>\n",
       "      <th>run_time_min</th>\n",
       "      <th>movie_title</th>\n",
       "      <th>total_views</th>\n",
       "    </tr>\n",
       "  </thead>\n",
       "  <tbody>\n",
       "    <tr>\n",
       "      <th>0</th>\n",
       "      <td>4.8</td>\n",
       "      <td>John Swab</td>\n",
       "      <td>304</td>\n",
       "      <td>Hollywood / English</td>\n",
       "      <td>English</td>\n",
       "      <td>2023-02-20</td>\n",
       "      <td>2023-01-28</td>\n",
       "      <td>105</td>\n",
       "      <td>Little Dixie</td>\n",
       "      <td>2,794</td>\n",
       "    </tr>\n",
       "    <tr>\n",
       "      <th>1</th>\n",
       "      <td>6.4</td>\n",
       "      <td>Paul Ziller</td>\n",
       "      <td>73</td>\n",
       "      <td>Hollywood / English</td>\n",
       "      <td>English</td>\n",
       "      <td>2023-02-20</td>\n",
       "      <td>2023-02-05</td>\n",
       "      <td>84</td>\n",
       "      <td>Grilling Season: A Curious Caterer Mystery</td>\n",
       "      <td>1,002</td>\n",
       "    </tr>\n",
       "    <tr>\n",
       "      <th>2</th>\n",
       "      <td>5.2</td>\n",
       "      <td>Ben Wheatley</td>\n",
       "      <td>1,427</td>\n",
       "      <td>Hollywood / English</td>\n",
       "      <td>English,Hindi</td>\n",
       "      <td>2021-04-20</td>\n",
       "      <td>2021-06-18</td>\n",
       "      <td>107</td>\n",
       "      <td>In the Earth</td>\n",
       "      <td>14,419</td>\n",
       "    </tr>\n",
       "    <tr>\n",
       "      <th>3</th>\n",
       "      <td>8.1</td>\n",
       "      <td>Venky Atluri</td>\n",
       "      <td>1,549</td>\n",
       "      <td>Tollywood</td>\n",
       "      <td>Hindi</td>\n",
       "      <td>2023-02-20</td>\n",
       "      <td>2023-02-17</td>\n",
       "      <td>139</td>\n",
       "      <td>Vaathi</td>\n",
       "      <td>4,878</td>\n",
       "    </tr>\n",
       "    <tr>\n",
       "      <th>4</th>\n",
       "      <td>4.6</td>\n",
       "      <td>Shaji Kailas</td>\n",
       "      <td>657</td>\n",
       "      <td>Tollywood</td>\n",
       "      <td>Hindi</td>\n",
       "      <td>2023-02-20</td>\n",
       "      <td>2023-01-26</td>\n",
       "      <td>122</td>\n",
       "      <td>Alone</td>\n",
       "      <td>2,438</td>\n",
       "    </tr>\n",
       "  </tbody>\n",
       "</table>\n",
       "</div>"
      ],
      "text/plain": [
       "   imdb_user_rating film_director downloads             industry  \\\n",
       "0               4.8     John Swab       304  Hollywood / English   \n",
       "1               6.4   Paul Ziller        73  Hollywood / English   \n",
       "2               5.2  Ben Wheatley     1,427  Hollywood / English   \n",
       "3               8.1  Venky Atluri     1,549            Tollywood   \n",
       "4               4.6  Shaji Kailas       657            Tollywood   \n",
       "\n",
       "  available_langs platform_post_date worldwide_release  run_time_min  \\\n",
       "0         English         2023-02-20        2023-01-28           105   \n",
       "1         English         2023-02-20        2023-02-05            84   \n",
       "2   English,Hindi         2021-04-20        2021-06-18           107   \n",
       "3           Hindi         2023-02-20        2023-02-17           139   \n",
       "4           Hindi         2023-02-20        2023-01-26           122   \n",
       "\n",
       "                                  movie_title total_views  \n",
       "0                                Little Dixie       2,794  \n",
       "1  Grilling Season: A Curious Caterer Mystery       1,002  \n",
       "2                                In the Earth      14,419  \n",
       "3                                      Vaathi       4,878  \n",
       "4                                       Alone       2,438  "
      ]
     },
     "execution_count": 517,
     "metadata": {},
     "output_type": "execute_result"
    }
   ],
   "source": [
    "# Checking format:\n",
    "pirated_films.head()"
   ]
  },
  {
   "attachments": {},
   "cell_type": "markdown",
   "metadata": {},
   "source": [
    "### **Altering `downloads` and `total_views`**"
   ]
  },
  {
   "attachments": {},
   "cell_type": "markdown",
   "metadata": {},
   "source": [
    "Before we can change the data type of this variable, we need to clean it from any special characters like commas and dots. Let's do a quick check on them:"
   ]
  },
  {
   "cell_type": "code",
   "execution_count": 518,
   "metadata": {},
   "outputs": [
    {
     "data": {
      "text/plain": [
       "0        304\n",
       "1         73\n",
       "2      1,427\n",
       "3      1,549\n",
       "4        657\n",
       "5        746\n",
       "6      5,332\n",
       "7      1,781\n",
       "8        458\n",
       "9      1,965\n",
       "10       742\n",
       "11    12,954\n",
       "12     2,253\n",
       "13    14,867\n",
       "14       463\n",
       "Name: downloads, dtype: object"
      ]
     },
     "execution_count": 518,
     "metadata": {},
     "output_type": "execute_result"
    }
   ],
   "source": [
    "# Checking values:\n",
    "pirated_films['downloads'].head(15)"
   ]
  },
  {
   "cell_type": "code",
   "execution_count": 519,
   "metadata": {},
   "outputs": [
    {
     "data": {
      "text/plain": [
       "0      2,794\n",
       "1      1,002\n",
       "2     14,419\n",
       "3      4,878\n",
       "4      2,438\n",
       "5      2,940\n",
       "6     11,978\n",
       "7     18,225\n",
       "8      6,912\n",
       "9      9,710\n",
       "10     4,618\n",
       "11    35,831\n",
       "12     5,468\n",
       "13    39,399\n",
       "14     5,763\n",
       "Name: total_views, dtype: object"
      ]
     },
     "execution_count": 519,
     "metadata": {},
     "output_type": "execute_result"
    }
   ],
   "source": [
    "# Checking more values from the other variable:\n",
    "pirated_films['total_views'].head(15)"
   ]
  },
  {
   "attachments": {},
   "cell_type": "markdown",
   "metadata": {},
   "source": [
    "We can see that yes, both variables have special characters and require cleaning before we can change the data types. Let's create a general cleaning function that can be applied to both variables to clean them."
   ]
  },
  {
   "cell_type": "code",
   "execution_count": 520,
   "metadata": {},
   "outputs": [],
   "source": [
    "# Creating cleaning function:\n",
    "def number_extractor(data: pd.DataFrame):\n",
    "    '''\n",
    "    Applies a regular expression to remove all non-numeric characters from the 'total_views' and 'downloads'\n",
    "    columns of a given pandas DataFrame.\n",
    "\n",
    "    Parameters:\n",
    "    -----------\n",
    "    data : pandas DataFrame\n",
    "        The input DataFrame to process. The DataFrame must contain the 'total_views' and 'downloads' columns.\n",
    "\n",
    "    Returns:\n",
    "    --------\n",
    "    pandas DataFrame:\n",
    "        A copy of the input DataFrame where the 'total_views' and 'downloads' columns have been modified to\n",
    "        only contain numeric characters.\n",
    "    '''\n",
    "    chars_to_remove = r'[^0-9]+'\n",
    "\n",
    "    data['total_views'] = data['total_views'].apply(\n",
    "        lambda clean_values:\n",
    "            re.sub(chars_to_remove, '', str(clean_values))\n",
    "    )\n",
    "\n",
    "    data['downloads'] = data['downloads'].apply(\n",
    "        lambda clean_values:\n",
    "            re.sub(chars_to_remove, '', str(clean_values))\n",
    "    )\n",
    "\n",
    "    return data"
   ]
  },
  {
   "cell_type": "code",
   "execution_count": 521,
   "metadata": {},
   "outputs": [
    {
     "data": {
      "text/plain": [
       "0     2794\n",
       "1     1002\n",
       "2    14419\n",
       "3     4878\n",
       "4     2438\n",
       "Name: total_views, dtype: object"
      ]
     },
     "execution_count": 521,
     "metadata": {},
     "output_type": "execute_result"
    }
   ],
   "source": [
    "# Applying the function:\n",
    "pirated_films = number_extractor(pirated_films)\n",
    "\n",
    "# Checking results:\n",
    "pirated_films['total_views'].head()"
   ]
  },
  {
   "cell_type": "code",
   "execution_count": 522,
   "metadata": {},
   "outputs": [
    {
     "data": {
      "text/plain": [
       "0     304\n",
       "1      73\n",
       "2    1427\n",
       "3    1549\n",
       "4     657\n",
       "Name: downloads, dtype: object"
      ]
     },
     "execution_count": 522,
     "metadata": {},
     "output_type": "execute_result"
    }
   ],
   "source": [
    "# Checking results:\n",
    "pirated_films['downloads'].head()"
   ]
  },
  {
   "attachments": {},
   "cell_type": "markdown",
   "metadata": {},
   "source": [
    "With the variables clean, we can pass them to int:"
   ]
  },
  {
   "cell_type": "code",
   "execution_count": 523,
   "metadata": {},
   "outputs": [],
   "source": [
    "# Changing data types:\n",
    "pirated_films = pirated_films.astype({'downloads': 'int',\n",
    "                                      'total_views': 'int'})"
   ]
  },
  {
   "cell_type": "code",
   "execution_count": 524,
   "metadata": {},
   "outputs": [
    {
     "name": "stdout",
     "output_type": "stream",
     "text": [
      "<class 'pandas.core.frame.DataFrame'>\n",
      "Int64Index: 20547 entries, 0 to 20547\n",
      "Data columns (total 10 columns):\n",
      " #   Column              Non-Null Count  Dtype         \n",
      "---  ------              --------------  -----         \n",
      " 0   imdb_user_rating    20547 non-null  float64       \n",
      " 1   film_director       20547 non-null  object        \n",
      " 2   downloads           20547 non-null  int32         \n",
      " 3   industry            20547 non-null  object        \n",
      " 4   available_langs     20547 non-null  object        \n",
      " 5   platform_post_date  20547 non-null  datetime64[ns]\n",
      " 6   worldwide_release   20547 non-null  datetime64[ns]\n",
      " 7   run_time_min        20547 non-null  int32         \n",
      " 8   movie_title         20547 non-null  object        \n",
      " 9   total_views         20547 non-null  int32         \n",
      "dtypes: datetime64[ns](2), float64(1), int32(3), object(4)\n",
      "memory usage: 1.5+ MB\n"
     ]
    }
   ],
   "source": [
    "# Checking new data:\n",
    "pirated_films.info()"
   ]
  },
  {
   "attachments": {},
   "cell_type": "markdown",
   "metadata": {},
   "source": [
    "With all corrections needed made to the dataset, we can check for duplicates in the data:"
   ]
  },
  {
   "cell_type": "code",
   "execution_count": 525,
   "metadata": {},
   "outputs": [
    {
     "data": {
      "text/html": [
       "<div>\n",
       "<style scoped>\n",
       "    .dataframe tbody tr th:only-of-type {\n",
       "        vertical-align: middle;\n",
       "    }\n",
       "\n",
       "    .dataframe tbody tr th {\n",
       "        vertical-align: top;\n",
       "    }\n",
       "\n",
       "    .dataframe thead th {\n",
       "        text-align: right;\n",
       "    }\n",
       "</style>\n",
       "<table border=\"1\" class=\"dataframe\">\n",
       "  <thead>\n",
       "    <tr style=\"text-align: right;\">\n",
       "      <th></th>\n",
       "      <th>imdb_user_rating</th>\n",
       "      <th>film_director</th>\n",
       "      <th>downloads</th>\n",
       "      <th>industry</th>\n",
       "      <th>available_langs</th>\n",
       "      <th>platform_post_date</th>\n",
       "      <th>worldwide_release</th>\n",
       "      <th>run_time_min</th>\n",
       "      <th>movie_title</th>\n",
       "      <th>total_views</th>\n",
       "    </tr>\n",
       "  </thead>\n",
       "  <tbody>\n",
       "  </tbody>\n",
       "</table>\n",
       "</div>"
      ],
      "text/plain": [
       "Empty DataFrame\n",
       "Columns: [imdb_user_rating, film_director, downloads, industry, available_langs, platform_post_date, worldwide_release, run_time_min, movie_title, total_views]\n",
       "Index: []"
      ]
     },
     "execution_count": 525,
     "metadata": {},
     "output_type": "execute_result"
    }
   ],
   "source": [
    "# Checking duplicates:\n",
    "pirated_films[pirated_films.duplicated()]"
   ]
  },
  {
   "attachments": {},
   "cell_type": "markdown",
   "metadata": {},
   "source": [
    "We see that we don't have any duplicate values in our data. With that, we can move to our next step: Adding new features to our dataset!"
   ]
  },
  {
   "attachments": {},
   "cell_type": "markdown",
   "metadata": {},
   "source": [
    "## **_Feature Engineering_**"
   ]
  }
 ],
 "metadata": {
  "kernelspec": {
   "display_name": "pirate_venv",
   "language": "python",
   "name": "python3"
  },
  "language_info": {
   "codemirror_mode": {
    "name": "ipython",
    "version": 3
   },
   "file_extension": ".py",
   "mimetype": "text/x-python",
   "name": "python",
   "nbconvert_exporter": "python",
   "pygments_lexer": "ipython3",
   "version": "3.10.9"
  },
  "orig_nbformat": 4
 },
 "nbformat": 4,
 "nbformat_minor": 2
}
